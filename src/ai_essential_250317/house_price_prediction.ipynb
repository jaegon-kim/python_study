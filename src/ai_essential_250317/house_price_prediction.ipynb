{
  "cells": [
    {
      "cell_type": "markdown",
      "metadata": {
        "id": "view-in-github",
        "colab_type": "text"
      },
      "source": [
        "<a href=\"https://colab.research.google.com/github/jaegon-kim/python_study/blob/main/src/ai_essential_250317/house_price_prediction.ipynb\" target=\"_parent\"><img src=\"https://colab.research.google.com/assets/colab-badge.svg\" alt=\"Open In Colab\"/></a>"
      ]
    },
    {
      "cell_type": "markdown",
      "id": "C3HNZJH5LuqI",
      "metadata": {
        "id": "C3HNZJH5LuqI"
      },
      "source": [
        "# House Price Prediction\n",
        "- **목표**\n",
        "  - 이 워크샵은 주어진 데이터셋을 이용해 심층신경망 모델을 학습시켜 주택의 최종 판매 가격(SalePrice)을 예측하는 것이 최종 목표입니다.\n",
        "\n",
        "- **데이터셋 정보**\n",
        "  - 데이터셋은 총 79개의 설명 변수와 타겟 변수인 주택 가격(SalePrice)로 구성됩니다.\n",
        "  - 설명 변수는 주택의 다양한 특성(예: 건축 연도, 면적, 위치, 방 개수 등)을 포함합니다.\n",
        "  - 데이터는 판매 가격이 포함된 학습용 데이터인 `X`, `y` 와 판매 가격이 포함되지 않은 평가용 데이터인 `TEST`파일로 나뉘며, 각각 모델 학습 및 평가에 사용됩니다.\n",
        "    - 평가용 데이터 `TEST`의 판매 가격(SalePrice)를 예측 후 리더보드로 제출하여 평가합니다.\n",
        "\n",
        "- **문제 유형**\n",
        "  - 이 워크샵은 회귀 문제로 연속형 변수를 예측하는 것이 목표입니다. 모델의 성능은 `Mean Absolute Error`로 측정됩니다."
      ]
    },
    {
      "cell_type": "markdown",
      "id": "FerWbWa8ML9S",
      "metadata": {
        "id": "FerWbWa8ML9S"
      },
      "source": [
        "## 1. 환경 설정"
      ]
    },
    {
      "cell_type": "code",
      "execution_count": null,
      "id": "fbebc02c",
      "metadata": {
        "id": "fbebc02c"
      },
      "outputs": [],
      "source": [
        "%%capture\n",
        "!pip install JAEN -U"
      ]
    },
    {
      "cell_type": "code",
      "execution_count": null,
      "id": "2b192c23",
      "metadata": {
        "colab": {
          "base_uri": "https://localhost:8080/"
        },
        "id": "2b192c23",
        "outputId": "fd9b6098-5f31-4179-92f6-894bb7b2873f"
      },
      "outputs": [
        {
          "output_type": "execute_result",
          "data": {
            "text/plain": [
              "device(type='cpu')"
            ]
          },
          "metadata": {},
          "execution_count": 2
        }
      ],
      "source": [
        "# 그대로 실행하세요.\n",
        "import torch\n",
        "import torch.nn as nn\n",
        "import torch.optim as optim\n",
        "from torchinfo import summary\n",
        "\n",
        "device = torch.device(\"cuda\" if torch.cuda.is_available() else \"cpu\")\n",
        "device"
      ]
    },
    {
      "cell_type": "code",
      "execution_count": null,
      "id": "4144477e",
      "metadata": {
        "id": "4144477e"
      },
      "outputs": [],
      "source": [
        "# 사용자명을 입력하세요. (이름이 아니여도 괜찮습니다.)\n",
        "username = \"김재곤\"\n",
        "assert username, \"username 변수에 값이 설정되지 않았습니다.\""
      ]
    },
    {
      "cell_type": "code",
      "execution_count": null,
      "id": "MkvHc266MWva",
      "metadata": {
        "id": "MkvHc266MWva",
        "jupyter": {
          "outputs_hidden": true
        }
      },
      "outputs": [],
      "source": [
        "# 그대로 실행하세요.\n",
        "from JAEN.competition import Competition\n",
        "comp = Competition(\n",
        "    username=username,\n",
        "    course_name='AI Essential',\n",
        "    course_round='0317(1)',\n",
        "    competition_name='House Price Prediction'\n",
        ")"
      ]
    },
    {
      "cell_type": "markdown",
      "id": "OSiIE4tdPcSV",
      "metadata": {
        "id": "OSiIE4tdPcSV"
      },
      "source": [
        "## 2. 데이터 로드"
      ]
    },
    {
      "cell_type": "code",
      "execution_count": null,
      "id": "Cwo9d1i-ON3u",
      "metadata": {
        "colab": {
          "base_uri": "https://localhost:8080/"
        },
        "id": "Cwo9d1i-ON3u",
        "outputId": "8ce0cf32-3d9f-48aa-90f9-3bcfb370cc5e"
      },
      "outputs": [
        {
          "output_type": "execute_result",
          "data": {
            "text/plain": [
              "(torch.Size([1460, 79]), torch.Size([1460, 1]), torch.Size([1459, 79]))"
            ]
          },
          "metadata": {},
          "execution_count": 5
        }
      ],
      "source": [
        "from JAEN.datasets import load_house_price\n",
        "X, y, TEST = load_house_price()\n",
        "X.shape, y.shape, TEST.shape"
      ]
    },
    {
      "cell_type": "markdown",
      "id": "I_Vc3a22PgBm",
      "metadata": {
        "id": "I_Vc3a22PgBm"
      },
      "source": [
        "## 3. 제출 예시 코드"
      ]
    },
    {
      "cell_type": "code",
      "execution_count": null,
      "id": "933af893",
      "metadata": {
        "id": "933af893"
      },
      "outputs": [],
      "source": [
        "# TEST의 예측값 대입 (지금은 0으로 채워진 값 대입)\n",
        "#comp.prediction =  torch.zeros(1459)\n",
        "#comp.prediction"
      ]
    },
    {
      "cell_type": "code",
      "execution_count": null,
      "id": "wvkBKJUbKsW9",
      "metadata": {
        "id": "wvkBKJUbKsW9"
      },
      "outputs": [],
      "source": [
        "# 제출\n",
        "#comp.submit()"
      ]
    },
    {
      "cell_type": "markdown",
      "id": "4wNCB3ATlBe4",
      "metadata": {
        "id": "4wNCB3ATlBe4"
      },
      "source": [
        "## 4. 심층신경망 모델을 구성하고 학습하여 TEST를 예측해보세요.\n",
        "- TEST의 예측 결과는 `comp.prediction`에 대입해주세요. **torch.tensor** 형태여야합니다."
      ]
    },
    {
      "cell_type": "code",
      "execution_count": null,
      "id": "KtwmpH1EibaM",
      "metadata": {
        "id": "KtwmpH1EibaM"
      },
      "outputs": [],
      "source": [
        "# DataLoader 생성\n",
        "from torch.utils.data import DataLoader, TensorDataset\n",
        "train_loader = DataLoader(TensorDataset(X, y), batch_size=32, shuffle=True)"
      ]
    },
    {
      "cell_type": "code",
      "execution_count": null,
      "id": "-37EJXcZibcK",
      "metadata": {
        "colab": {
          "base_uri": "https://localhost:8080/"
        },
        "id": "-37EJXcZibcK",
        "outputId": "9b6f3b9b-67f0-4b89-c999-c630b8df3486"
      },
      "outputs": [
        {
          "output_type": "execute_result",
          "data": {
            "text/plain": [
              "=================================================================\n",
              "Layer (type:depth-idx)                   Param #\n",
              "=================================================================\n",
              "DNN                                      --\n",
              "├─Linear: 1-1                            10,240\n",
              "├─BatchNorm1d: 1-2                       256\n",
              "├─Linear: 1-3                            8,256\n",
              "├─Linear: 1-4                            65\n",
              "├─ReLU: 1-5                              --\n",
              "├─Dropout: 1-6                           --\n",
              "=================================================================\n",
              "Total params: 18,817\n",
              "Trainable params: 18,817\n",
              "Non-trainable params: 0\n",
              "================================================================="
            ]
          },
          "metadata": {},
          "execution_count": 18
        }
      ],
      "source": [
        "# DNN 모델 구성\n",
        "class DNN(nn.Module):\n",
        "    def __init__(self):\n",
        "        super().__init__()\n",
        "        self.fc1 = nn.Linear(79, 128)\n",
        "        self.bn1 = nn.BatchNorm1d(128)\n",
        "        self.fc2 = nn.Linear(128, 64)\n",
        "        self.fc3 = nn.Linear(64, 1)\n",
        "        self.relu = nn.ReLU()\n",
        "        self.dropout = nn.Dropout(0.3)  # 10%의 드롭아웃 적용\n",
        "\n",
        "    def forward(self, x):\n",
        "        #x = self.relu(self.fc1(x))\n",
        "        x = self.relu(self.bn1(self.fc1(x)))\n",
        "        x = self.dropout(x)\n",
        "        x = self.relu(self.fc2(x))\n",
        "        x = self.fc3(x)\n",
        "        return x\n",
        "\n",
        "model = DNN().to(device)\n",
        "summary(model)\n"
      ]
    },
    {
      "cell_type": "code",
      "execution_count": null,
      "id": "a2237784",
      "metadata": {
        "id": "a2237784"
      },
      "outputs": [],
      "source": [
        "# 손실함수 및 옵티마이저 설정\n",
        "criterion = nn.MSELoss()\n",
        "optimizer = optim.Adam(model.parameters())"
      ]
    },
    {
      "cell_type": "code",
      "execution_count": null,
      "id": "VPKYlayzU0Dt",
      "metadata": {
        "colab": {
          "base_uri": "https://localhost:8080/"
        },
        "id": "VPKYlayzU0Dt",
        "outputId": "4d39f3d8-96b1-4d55-f6fb-6c2e1d182e77"
      },
      "outputs": [
        {
          "output_type": "execute_result",
          "data": {
            "text/plain": [
              "torch.Size([1460, 79])"
            ]
          },
          "metadata": {},
          "execution_count": 11
        }
      ],
      "source": [
        "X.shape"
      ]
    },
    {
      "cell_type": "code",
      "execution_count": null,
      "id": "3e1ded1c",
      "metadata": {
        "colab": {
          "base_uri": "https://localhost:8080/"
        },
        "id": "3e1ded1c",
        "outputId": "8640c845-495b-41fe-e363-e8e1c076c579"
      },
      "outputs": [
        {
          "output_type": "stream",
          "name": "stdout",
          "text": [
            "Epoch [1/1000], Loss: 39041754156.521736\n",
            "Save model at epoch 1\n",
            "Save model at epoch 2\n",
            "Save model at epoch 4\n",
            "Save model at epoch 5\n",
            "Save model at epoch 6\n",
            "Save model at epoch 7\n",
            "Save model at epoch 8\n",
            "Save model at epoch 9\n",
            "Save model at epoch 10\n",
            "Epoch [11/1000], Loss: 36772113630.608696\n",
            "Save model at epoch 11\n",
            "Save model at epoch 12\n",
            "Save model at epoch 13\n",
            "Save model at epoch 14\n",
            "Save model at epoch 15\n",
            "Save model at epoch 16\n",
            "Save model at epoch 17\n",
            "Save model at epoch 18\n",
            "Save model at epoch 19\n",
            "Save model at epoch 20\n",
            "Epoch [21/1000], Loss: 25986431577.04348\n",
            "Save model at epoch 21\n",
            "Save model at epoch 22\n",
            "Save model at epoch 23\n",
            "Save model at epoch 24\n",
            "Save model at epoch 25\n",
            "Save model at epoch 26\n",
            "Save model at epoch 27\n",
            "Save model at epoch 28\n",
            "Save model at epoch 29\n",
            "Save model at epoch 30\n",
            "Epoch [31/1000], Loss: 12038243439.304348\n",
            "Save model at epoch 31\n",
            "Save model at epoch 32\n",
            "Save model at epoch 33\n",
            "Save model at epoch 34\n",
            "Save model at epoch 35\n",
            "Save model at epoch 36\n",
            "Save model at epoch 37\n",
            "Save model at epoch 38\n",
            "Save model at epoch 39\n",
            "Save model at epoch 40\n",
            "Epoch [41/1000], Loss: 3739988463.304348\n",
            "Save model at epoch 41\n",
            "Save model at epoch 42\n",
            "Save model at epoch 43\n",
            "Save model at epoch 44\n",
            "Save model at epoch 45\n",
            "Save model at epoch 46\n",
            "Save model at epoch 47\n",
            "Save model at epoch 49\n",
            "Save model at epoch 50\n",
            "Epoch [51/1000], Loss: 1432300167.652174\n",
            "Save model at epoch 51\n",
            "Save model at epoch 52\n",
            "Save model at epoch 53\n",
            "Save model at epoch 54\n",
            "Save model at epoch 56\n",
            "Save model at epoch 57\n",
            "Epoch [61/1000], Loss: 1105081904.0\n",
            "Save model at epoch 65\n",
            "Save model at epoch 68\n",
            "Save model at epoch 70\n",
            "Epoch [71/1000], Loss: 1185493938.0869565\n",
            "Save model at epoch 74\n",
            "Epoch [81/1000], Loss: 1112143516.5217392\n",
            "Save model at epoch 82\n",
            "Save model at epoch 87\n",
            "Epoch [91/1000], Loss: 1021865126.2608696\n",
            "Save model at epoch 97\n",
            "Save model at epoch 98\n",
            "Epoch [101/1000], Loss: 976911750.9565217\n",
            "Save model at epoch 103\n",
            "Epoch [111/1000], Loss: 873908893.9130435\n",
            "Save model at epoch 111\n",
            "Epoch [121/1000], Loss: 945089253.5652174\n",
            "Save model at epoch 124\n",
            "Epoch [131/1000], Loss: 898853739.826087\n",
            "Epoch [141/1000], Loss: 881558281.7391304\n",
            "Save model at epoch 150\n",
            "Epoch [151/1000], Loss: 918096947.826087\n",
            "Epoch [161/1000], Loss: 924176251.1304348\n",
            "Save model at epoch 168\n",
            "Epoch [171/1000], Loss: 873105847.3043479\n",
            "Epoch [181/1000], Loss: 825250272.6956521\n",
            "Epoch [191/1000], Loss: 838154584.3478261\n",
            "Epoch [201/1000], Loss: 879203278.2608696\n",
            "Epoch [211/1000], Loss: 853672606.6086956\n",
            "Epoch [221/1000], Loss: 819248882.4347826\n",
            "Save model at epoch 228\n",
            "Epoch [231/1000], Loss: 1010513875.4782609\n",
            "Epoch [241/1000], Loss: 946400961.0434783\n",
            "Save model at epoch 245\n",
            "Epoch [251/1000], Loss: 906317049.7391304\n",
            "Epoch [261/1000], Loss: 881428263.6521739\n",
            "Save model at epoch 267\n",
            "Epoch [271/1000], Loss: 732537061.5652174\n",
            "Epoch [281/1000], Loss: 771219395.1304348\n",
            "Epoch [291/1000], Loss: 900268565.9130435\n",
            "Save model at epoch 296\n",
            "Epoch [301/1000], Loss: 946191654.2608696\n",
            "Save model at epoch 305\n",
            "Epoch [311/1000], Loss: 790203181.2173913\n",
            "Epoch [321/1000], Loss: 759674274.0869565\n",
            "Epoch [331/1000], Loss: 819546137.0434783\n",
            "Epoch [341/1000], Loss: 844903672.6956521\n",
            "Save model at epoch 348\n",
            "Epoch [351/1000], Loss: 801205813.5652174\n",
            "Epoch [361/1000], Loss: 728987833.7391304\n",
            "Epoch [371/1000], Loss: 742459928.0\n",
            "Epoch [381/1000], Loss: 759285705.7391304\n",
            "Save model at epoch 383\n",
            "Epoch [391/1000], Loss: 781962790.6086956\n",
            "Epoch [401/1000], Loss: 805169985.3913044\n",
            "Save model at epoch 408\n",
            "Epoch [411/1000], Loss: 714235950.2608696\n",
            "Epoch [421/1000], Loss: 752909872.6956521\n",
            "Epoch [431/1000], Loss: 829234443.826087\n",
            "Epoch [441/1000], Loss: 748271316.5217391\n",
            "Epoch [451/1000], Loss: 773862408.6956521\n",
            "Epoch [461/1000], Loss: 764491154.7826087\n",
            "Epoch [471/1000], Loss: 747577412.8695652\n",
            "Epoch [481/1000], Loss: 757501947.826087\n",
            "Save model at epoch 489\n",
            "Epoch [491/1000], Loss: 743293872.6956521\n",
            "Epoch [501/1000], Loss: 767387121.0434783\n",
            "Epoch [511/1000], Loss: 755895529.0434783\n",
            "Epoch [521/1000], Loss: 693920331.1304348\n",
            "Epoch [531/1000], Loss: 731301851.1304348\n",
            "Epoch [541/1000], Loss: 718358631.3043479\n",
            "Epoch [551/1000], Loss: 741505758.9565217\n",
            "Epoch [561/1000], Loss: 766971974.2608696\n",
            "Epoch [571/1000], Loss: 715139828.8695652\n",
            "Save model at epoch 575\n",
            "Epoch [581/1000], Loss: 726368669.2173913\n",
            "Epoch [591/1000], Loss: 734236686.9565217\n",
            "Epoch [601/1000], Loss: 775159370.4347826\n",
            "Epoch [611/1000], Loss: 675978117.9130435\n",
            "Save model at epoch 618\n",
            "Epoch [621/1000], Loss: 672333910.2608696\n",
            "Epoch [631/1000], Loss: 691807841.3913044\n",
            "Epoch [641/1000], Loss: 649727028.8695652\n",
            "Save model at epoch 649\n",
            "Epoch [651/1000], Loss: 710959182.6086956\n",
            "Epoch [661/1000], Loss: 752310679.3043479\n",
            "Epoch [671/1000], Loss: 660151253.9130435\n",
            "Epoch [681/1000], Loss: 680811629.5652174\n",
            "Save model at epoch 683\n",
            "Epoch [691/1000], Loss: 655841130.4347826\n",
            "Epoch [701/1000], Loss: 737000466.0869565\n",
            "Epoch [711/1000], Loss: 808484386.0869565\n",
            "Epoch [721/1000], Loss: 653434829.5652174\n",
            "Epoch [731/1000], Loss: 645220192.0\n",
            "Epoch [741/1000], Loss: 703125172.8695652\n",
            "Epoch [751/1000], Loss: 717895442.7826087\n",
            "Epoch [761/1000], Loss: 681162974.6086956\n",
            "Epoch [771/1000], Loss: 666265754.7826087\n",
            "Epoch [781/1000], Loss: 597810739.826087\n",
            "Early stopping at epoch 783\n"
          ]
        },
        {
          "output_type": "execute_result",
          "data": {
            "text/plain": [
              "<All keys matched successfully>"
            ]
          },
          "metadata": {},
          "execution_count": 20
        }
      ],
      "source": [
        "# 모델 학습 과정 구현\n",
        "\n",
        "best_loss = float('inf')\n",
        "patience = 100\n",
        "counter = 0\n",
        "\n",
        "epochs = 1000\n",
        "for epoch in range(epochs):\n",
        "    running_loss = 0.0\n",
        "    model.train()\n",
        "\n",
        "    for inputs, labels in train_loader:\n",
        "        inputs = inputs.to(device)\n",
        "        labels = labels.to(device)\n",
        "\n",
        "\n",
        "        outputs = model(inputs)\n",
        "        loss = criterion(outputs, labels)\n",
        "\n",
        "        optimizer.zero_grad()\n",
        "        loss.backward()\n",
        "        optimizer.step()\n",
        "        running_loss += loss.item()\n",
        "\n",
        "    train_loss = running_loss / len(train_loader)\n",
        "\n",
        "    if epoch % 10 == 0:\n",
        "        print(f'Epoch [{epoch+1}/{epochs}], Loss: {train_loss}')\n",
        "\n",
        "    if train_loss < best_loss:\n",
        "        best_loss = train_loss\n",
        "        counter = 0\n",
        "        print(f'Save model at epoch {epoch+1}')\n",
        "        torch.save(model.state_dict(), 'best_model.pt')\n",
        "    else:\n",
        "        counter += 1\n",
        "\n",
        "    if counter >= patience:\n",
        "        print(f'Early stopping at epoch {epoch+1}')\n",
        "        break\n",
        "\n",
        "model.load_state_dict(torch.load('best_model.pt'))"
      ]
    },
    {
      "cell_type": "code",
      "execution_count": null,
      "id": "c1439106",
      "metadata": {
        "colab": {
          "base_uri": "https://localhost:8080/"
        },
        "id": "c1439106",
        "outputId": "e7dd53cf-29d3-4021-c695-a6cfb8262a68"
      },
      "outputs": [
        {
          "output_type": "execute_result",
          "data": {
            "text/plain": [
              "tensor([[114947.7891],\n",
              "        [203401.7344],\n",
              "        [179515.8750],\n",
              "        ...,\n",
              "        [167293.5000],\n",
              "        [125959.5938],\n",
              "        [242594.2812]])"
            ]
          },
          "metadata": {},
          "execution_count": 21
        }
      ],
      "source": [
        "# 학습된 모델의 TEST 예측\n",
        "model.eval()\n",
        "with torch.no_grad():\n",
        "    outputs = model(TEST)\n",
        "outputs"
      ]
    },
    {
      "cell_type": "code",
      "execution_count": null,
      "id": "8fb7b590",
      "metadata": {
        "colab": {
          "base_uri": "https://localhost:8080/"
        },
        "id": "8fb7b590",
        "outputId": "d344e0ca-1a16-4a92-da92-46eda7a58eda"
      },
      "outputs": [
        {
          "output_type": "execute_result",
          "data": {
            "text/plain": [
              "tensor([[114947.7891],\n",
              "        [203401.7344],\n",
              "        [179515.8750],\n",
              "        ...,\n",
              "        [167293.5000],\n",
              "        [125959.5938],\n",
              "        [242594.2812]])"
            ]
          },
          "metadata": {},
          "execution_count": 22
        }
      ],
      "source": [
        "# comp.prediction에 TEST 예측 결과 대입\n",
        "comp.prediction = outputs\n",
        "comp.prediction"
      ]
    },
    {
      "cell_type": "code",
      "execution_count": null,
      "id": "ddd1d918",
      "metadata": {
        "colab": {
          "base_uri": "https://localhost:8080/"
        },
        "id": "ddd1d918",
        "outputId": "95898e4b-a892-4370-da30-70b926e7f296"
      },
      "outputs": [
        {
          "output_type": "stream",
          "name": "stdout",
          "text": [
            "[House Price Prediction 평가 결과]\n",
            " AI Essential 0317(1) 과정 김재곤님의 점수는 17397.93359375 입니다."
          ]
        }
      ],
      "source": [
        "# 제출\n",
        "comp.submit()"
      ]
    }
  ],
  "metadata": {
    "colab": {
      "provenance": [],
      "include_colab_link": true
    },
    "kernelspec": {
      "display_name": "base",
      "language": "python",
      "name": "python3"
    },
    "language_info": {
      "codemirror_mode": {
        "name": "ipython",
        "version": 3
      },
      "file_extension": ".py",
      "mimetype": "text/x-python",
      "name": "python",
      "nbconvert_exporter": "python",
      "pygments_lexer": "ipython3",
      "version": "3.11.7"
    }
  },
  "nbformat": 4,
  "nbformat_minor": 5
}