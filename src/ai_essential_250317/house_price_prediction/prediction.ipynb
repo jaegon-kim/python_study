{
  "cells": [
    {
      "cell_type": "markdown",
      "metadata": {
        "colab_type": "text",
        "id": "view-in-github"
      },
      "source": [
        "<a href=\"https://colab.research.google.com/github/jaegon-kim/python_study/blob/main/src/ai_essential_250317/house_price_prediction/prediction.ipynb\" target=\"_parent\"><img src=\"https://colab.research.google.com/assets/colab-badge.svg\" alt=\"Open In Colab\"/></a>"
      ]
    },
    {
      "cell_type": "markdown",
      "id": "C3HNZJH5LuqI",
      "metadata": {
        "id": "C3HNZJH5LuqI"
      },
      "source": [
        "# House Price Prediction\n",
        "- **목표**\n",
        "  - 이 워크샵은 주어진 데이터셋을 이용해 심층신경망 모델을 학습시켜 주택의 최종 판매 가격(SalePrice)을 예측하는 것이 최종 목표입니다.\n",
        "\n",
        "- **데이터셋 정보**\n",
        "  - 데이터셋은 총 79개의 설명 변수와 타겟 변수인 주택 가격(SalePrice)로 구성됩니다.\n",
        "  - 설명 변수는 주택의 다양한 특성(예: 건축 연도, 면적, 위치, 방 개수 등)을 포함합니다.\n",
        "  - 데이터는 판매 가격이 포함된 학습용 데이터인 `X`, `y` 와 판매 가격이 포함되지 않은 평가용 데이터인 `TEST`파일로 나뉘며, 각각 모델 학습 및 평가에 사용됩니다.\n",
        "    - 평가용 데이터 `TEST`의 판매 가격(SalePrice)를 예측 후 리더보드로 제출하여 평가합니다.\n",
        "\n",
        "- **문제 유형**\n",
        "  - 이 워크샵은 회귀 문제로 연속형 변수를 예측하는 것이 목표입니다. 모델의 성능은 `Mean Absolute Error`로 측정됩니다."
      ]
    },
    {
      "cell_type": "markdown",
      "id": "FerWbWa8ML9S",
      "metadata": {
        "id": "FerWbWa8ML9S"
      },
      "source": [
        "## 1. 환경 설정"
      ]
    },
    {
      "cell_type": "code",
      "execution_count": 1,
      "id": "fbebc02c",
      "metadata": {
        "id": "fbebc02c"
      },
      "outputs": [],
      "source": [
        "%%capture\n",
        "!pip install JAEN -U"
      ]
    },
    {
      "cell_type": "code",
      "execution_count": 23,
      "id": "2b192c23",
      "metadata": {
        "colab": {
          "base_uri": "https://localhost:8080/"
        },
        "id": "2b192c23",
        "outputId": "4d7d85a0-4ae8-4aec-dd08-7a677faecb84"
      },
      "outputs": [
        {
          "data": {
            "text/plain": [
              "device(type='cuda')"
            ]
          },
          "execution_count": 23,
          "metadata": {},
          "output_type": "execute_result"
        }
      ],
      "source": [
        "# 그대로 실행하세요.\n",
        "import torch\n",
        "import torch.nn as nn\n",
        "import torch.optim as optim\n",
        "from torchinfo import summary\n",
        "from JAEN.utils import plot_training_results\n",
        "\n",
        "\n",
        "device = torch.device(\"cuda\" if torch.cuda.is_available() else \"cpu\")\n",
        "device"
      ]
    },
    {
      "cell_type": "markdown",
      "id": "OSiIE4tdPcSV",
      "metadata": {
        "id": "OSiIE4tdPcSV"
      },
      "source": [
        "## 2. 데이터 로드"
      ]
    },
    {
      "cell_type": "code",
      "execution_count": 3,
      "id": "Cwo9d1i-ON3u",
      "metadata": {
        "colab": {
          "base_uri": "https://localhost:8080/"
        },
        "id": "Cwo9d1i-ON3u",
        "outputId": "60b066db-5119-4811-e120-1b936e725692"
      },
      "outputs": [
        {
          "data": {
            "text/plain": [
              "(torch.Size([1460, 79]), torch.Size([1460, 1]), torch.Size([1459, 79]))"
            ]
          },
          "execution_count": 3,
          "metadata": {},
          "output_type": "execute_result"
        }
      ],
      "source": [
        "from JAEN.datasets import load_house_price\n",
        "X, y, TEST = load_house_price()\n",
        "X.shape, y.shape, TEST.shape"
      ]
    },
    {
      "cell_type": "code",
      "execution_count": 19,
      "id": "77cea581",
      "metadata": {},
      "outputs": [
        {
          "data": {
            "text/plain": [
              "(torch.Size([1000, 79]),\n",
              " torch.Size([1000, 1]),\n",
              " torch.Size([460, 79]),\n",
              " torch.Size([460, 1]))"
            ]
          },
          "execution_count": 19,
          "metadata": {},
          "output_type": "execute_result"
        }
      ],
      "source": [
        "train_X, train_y = X[:1000, :], y[:1000, :]\n",
        "test_X, test_y = X[1000:, :], y[1000:, :]\n",
        "\n",
        "train_X.shape, train_y.shape, test_X.shape, test_y.shape"
      ]
    },
    {
      "cell_type": "markdown",
      "id": "I_Vc3a22PgBm",
      "metadata": {
        "id": "I_Vc3a22PgBm"
      },
      "source": [
        "## 3. 제출 예시 코드"
      ]
    },
    {
      "cell_type": "markdown",
      "id": "4wNCB3ATlBe4",
      "metadata": {
        "id": "4wNCB3ATlBe4"
      },
      "source": [
        "## 4. 심층신경망 모델을 구성하고 학습하여 TEST를 예측해보세요.\n",
        "- TEST의 예측 결과는 `comp.prediction`에 대입해주세요. **torch.tensor** 형태여야합니다."
      ]
    },
    {
      "cell_type": "code",
      "execution_count": 20,
      "id": "KtwmpH1EibaM",
      "metadata": {
        "id": "KtwmpH1EibaM"
      },
      "outputs": [],
      "source": [
        "# DataLoader 생성\n",
        "from torch.utils.data import DataLoader, TensorDataset\n",
        "train_loader = DataLoader(TensorDataset(train_X, train_y), batch_size=32, shuffle=True)\n",
        "test_loader = DataLoader(TensorDataset(test_X, test_y), batch_size=32, shuffle=True)\n"
      ]
    },
    {
      "cell_type": "code",
      "execution_count": 5,
      "id": "-37EJXcZibcK",
      "metadata": {
        "colab": {
          "base_uri": "https://localhost:8080/"
        },
        "id": "-37EJXcZibcK",
        "outputId": "88c4d3be-c0d4-4770-8402-4d60c05cb577"
      },
      "outputs": [
        {
          "data": {
            "text/plain": [
              "=================================================================\n",
              "Layer (type:depth-idx)                   Param #\n",
              "=================================================================\n",
              "DNN                                      --\n",
              "├─Linear: 1-1                            10,240\n",
              "├─Linear: 1-2                            8,256\n",
              "├─Linear: 1-3                            65\n",
              "├─ReLU: 1-4                              --\n",
              "=================================================================\n",
              "Total params: 18,561\n",
              "Trainable params: 18,561\n",
              "Non-trainable params: 0\n",
              "================================================================="
            ]
          },
          "execution_count": 5,
          "metadata": {},
          "output_type": "execute_result"
        }
      ],
      "source": [
        "# DNN 모델 구성\n",
        "class DNN(nn.Module):\n",
        "    def __init__(self):\n",
        "        super().__init__()\n",
        "        self.fc1 = nn.Linear(79, 128)\n",
        "        self.fc2 = nn.Linear(128, 64)\n",
        "        self.fc3 = nn.Linear(64, 1)\n",
        "        self.relu = nn.ReLU()\n",
        "\n",
        "    def forward(self, x):\n",
        "        x = self.relu(self.fc1(x))\n",
        "        x = self.relu(self.fc2(x))\n",
        "        x = self.fc3(x)\n",
        "        return x\n",
        "\n",
        "model = DNN().to(device)\n",
        "summary(model)\n"
      ]
    },
    {
      "cell_type": "code",
      "execution_count": 12,
      "id": "f7b6fa57",
      "metadata": {},
      "outputs": [],
      "source": [
        "def train(model, train_loader, criterion, optimizer, device):\n",
        "    model.train()  # 모델을 학습 모드로 설정\n",
        "\n",
        "    running_loss = 0.0 # 미니 배치별 loss값을 누적할 변수\n",
        "\n",
        "    for data, labels in train_loader: # 미니 배치 별 파라미터 업데이트 수행\n",
        "        data, labels = data.to(device), labels.to(device) # 미니 배치별 데이터와 레이블 장치 할당\n",
        "\n",
        "        # 순전파\n",
        "        outputs = model(data)\n",
        "\n",
        "        # 손실 계산\n",
        "        loss = criterion(outputs, labels)\n",
        "\n",
        "        # 기울기 초기화\n",
        "        optimizer.zero_grad()\n",
        "\n",
        "        # 역전파\n",
        "        loss.backward()\n",
        "\n",
        "        # 파라미터 업데이트\n",
        "        optimizer.step()\n",
        "\n",
        "        # 손실 누적\n",
        "        running_loss += loss.item()\n",
        "\n",
        "    # 현재 Epoch의 평균 손실 값 계산 및 반환\n",
        "    # - len(train_loader): 평균 Loss\n",
        "    return running_loss / len(train_loader)"
      ]
    },
    {
      "cell_type": "code",
      "execution_count": 14,
      "id": "3bb36d73",
      "metadata": {},
      "outputs": [],
      "source": [
        "# 평가 함수 정의\n",
        "def evaluate(model, test_loader, criterion, device):\n",
        "    model.eval()  # 모델을 평가 모드로 설정\n",
        "\n",
        "    running_loss = 0.0 # 미니 배치별 loss값을 누적할 변수\n",
        "\n",
        "    with torch.no_grad():  # 평가 중에는 기울기 계산을 하지 않음\n",
        "        for data, labels in test_loader: # 미니 배치 별 손실 계산\n",
        "            data, labels = data.to(device), labels.to(device) # 미니 배치별 데이터와 레이블 장치 할당\n",
        "\n",
        "            # 순전파\n",
        "            outputs = model(data)\n",
        "\n",
        "            # 손실 계산\n",
        "            loss = criterion(outputs, labels)\n",
        "\n",
        "            # 손실 누적\n",
        "            running_loss += loss.item()\n",
        "\n",
        "\n",
        "    # 현재 Epoch의 평균 손실 값 계산 및 반환\n",
        "    return running_loss / len(test_loader)"
      ]
    },
    {
      "cell_type": "code",
      "execution_count": 15,
      "id": "a2237784",
      "metadata": {
        "id": "a2237784"
      },
      "outputs": [],
      "source": [
        "# 손실함수 및 옵티마이저 설정\n",
        "criterion = nn.MSELoss()\n",
        "optimizer = optim.Adam(model.parameters())"
      ]
    },
    {
      "cell_type": "code",
      "execution_count": 16,
      "id": "VPKYlayzU0Dt",
      "metadata": {
        "colab": {
          "base_uri": "https://localhost:8080/"
        },
        "id": "VPKYlayzU0Dt",
        "outputId": "2a66c25f-c795-42ae-ba99-2ce635144d53"
      },
      "outputs": [
        {
          "data": {
            "text/plain": [
              "torch.Size([1460, 79])"
            ]
          },
          "execution_count": 16,
          "metadata": {},
          "output_type": "execute_result"
        }
      ],
      "source": [
        "X.shape"
      ]
    },
    {
      "cell_type": "code",
      "execution_count": 21,
      "id": "dacebf8e",
      "metadata": {},
      "outputs": [
        {
          "name": "stdout",
          "output_type": "stream",
          "text": [
            "Epoch 1 Train Loss : 42743439.0625 Test Loss : 72136836.53333333\n",
            "Epoch 2 Train Loss : 46756731.90625 Test Loss : 48179149.266666666\n",
            "Epoch 3 Train Loss : 41897187.953125 Test Loss : 51735735.4\n",
            "Epoch 4 Train Loss : 41329447.5 Test Loss : 49565861.833333336\n",
            "Epoch 5 Train Loss : 40701812.78125 Test Loss : 50808824.4\n",
            "Epoch 6 Train Loss : 40867091.328125 Test Loss : 53003515.2\n",
            "Epoch 7 Train Loss : 40893827.875 Test Loss : 53834449.6\n",
            "Epoch 8 Train Loss : 40321190.375 Test Loss : 79992468.06666666\n",
            "Epoch 9 Train Loss : 39739404.4375 Test Loss : 79304755.6\n",
            "Epoch 10 Train Loss : 41934425.15625 Test Loss : 54463410.46666667\n",
            "Epoch 11 Train Loss : 39193932.7890625 Test Loss : 54389433.86666667\n",
            "Epoch 12 Train Loss : 39289695.828125 Test Loss : 83620837.8\n",
            "Epoch 13 Train Loss : 44141761.875 Test Loss : 59538173.666666664\n",
            "Epoch 14 Train Loss : 42109442.796875 Test Loss : 57022748.266666666\n",
            "Epoch 15 Train Loss : 39479758.40625 Test Loss : 57635239.2\n",
            "Epoch 16 Train Loss : 38577873.796875 Test Loss : 57413441.86666667\n",
            "Epoch 17 Train Loss : 37976437.359375 Test Loss : 58554173.166666664\n",
            "Epoch 18 Train Loss : 38270450.625 Test Loss : 58330659.93333333\n",
            "Epoch 19 Train Loss : 37005720.71875 Test Loss : 61276025.86666667\n",
            "Epoch 20 Train Loss : 37553060.125 Test Loss : 59387278.0\n",
            "Epoch 21 Train Loss : 38620746.1875 Test Loss : 61317423.06666667\n",
            "Epoch 22 Train Loss : 37229355.078125 Test Loss : 61035949.333333336\n",
            "Epoch 23 Train Loss : 36417463.21875 Test Loss : 60702289.93333333\n",
            "Epoch 24 Train Loss : 36314305.1875 Test Loss : 63971594.666666664\n",
            "Epoch 25 Train Loss : 36575005.90625 Test Loss : 66427657.2\n",
            "Epoch 26 Train Loss : 36586161.515625 Test Loss : 65014701.333333336\n",
            "Epoch 27 Train Loss : 36041635.578125 Test Loss : 63265368.53333333\n",
            "Epoch 28 Train Loss : 35816145.15625 Test Loss : 64486598.666666664\n",
            "Epoch 29 Train Loss : 35434501.96875 Test Loss : 63465961.666666664\n",
            "Epoch 30 Train Loss : 35687286.671875 Test Loss : 66632960.53333333\n",
            "Epoch 31 Train Loss : 35309639.234375 Test Loss : 67638576.33333333\n",
            "Epoch 32 Train Loss : 34687348.03515625 Test Loss : 67916782.46666667\n",
            "Epoch 33 Train Loss : 35300978.625 Test Loss : 93738264.6\n",
            "Epoch 34 Train Loss : 34843025.359375 Test Loss : 66059596.53333333\n",
            "Epoch 35 Train Loss : 34799150.65625 Test Loss : 65603995.53333333\n",
            "Epoch 36 Train Loss : 34006264.3046875 Test Loss : 68160732.06666666\n",
            "Epoch 37 Train Loss : 36757207.140625 Test Loss : 68892497.46666667\n",
            "Epoch 38 Train Loss : 35673851.234375 Test Loss : 68114162.06666666\n",
            "Epoch 39 Train Loss : 33770905.79296875 Test Loss : 72185249.33333333\n",
            "Epoch 40 Train Loss : 34624677.15625 Test Loss : 71059150.26666667\n",
            "Epoch 41 Train Loss : 33626503.890625 Test Loss : 71968505.46666667\n",
            "Epoch 42 Train Loss : 33173962.359375 Test Loss : 71060717.46666667\n",
            "Epoch 43 Train Loss : 33652582.90625 Test Loss : 72280886.93333334\n",
            "Epoch 44 Train Loss : 33187010.671875 Test Loss : 70595776.8\n",
            "Epoch 45 Train Loss : 33540270.203125 Test Loss : 71765226.66666667\n",
            "Epoch 46 Train Loss : 34449887.5625 Test Loss : 70347319.93333334\n",
            "Epoch 47 Train Loss : 32579044.34375 Test Loss : 74189744.4\n",
            "Epoch 48 Train Loss : 33359246.5625 Test Loss : 71046023.53333333\n",
            "Epoch 49 Train Loss : 33937251.75 Test Loss : 71619225.46666667\n",
            "Epoch 50 Train Loss : 31925127.328125 Test Loss : 74304880.53333333\n",
            "Epoch 51 Train Loss : 31801416.2265625 Test Loss : 74016281.6\n",
            "Epoch 52 Train Loss : 33180905.1015625 Test Loss : 74545504.0\n",
            "Epoch 53 Train Loss : 31533000.796875 Test Loss : 74591677.2\n",
            "Epoch 54 Train Loss : 31239803.015625 Test Loss : 73981397.4\n",
            "Epoch 55 Train Loss : 33403925.98046875 Test Loss : 74054488.4\n",
            "Epoch 56 Train Loss : 31775080.609375 Test Loss : 74472843.86666666\n",
            "Epoch 57 Train Loss : 30907178.140625 Test Loss : 77459365.33333333\n",
            "Epoch 58 Train Loss : 30912809.15625 Test Loss : 77789089.6\n",
            "Epoch 59 Train Loss : 30628268.203125 Test Loss : 79613001.33333333\n",
            "Epoch 60 Train Loss : 30321188.5 Test Loss : 76618936.53333333\n",
            "Epoch 61 Train Loss : 30768697.828125 Test Loss : 76519793.06666666\n",
            "Epoch 62 Train Loss : 30774432.21875 Test Loss : 80495990.0\n",
            "Epoch 63 Train Loss : 30111136.40625 Test Loss : 76968973.86666666\n",
            "Epoch 64 Train Loss : 29545890.21875 Test Loss : 78639494.93333334\n",
            "Epoch 65 Train Loss : 29405506.6484375 Test Loss : 81980062.2\n",
            "Epoch 66 Train Loss : 29738876.953125 Test Loss : 78443798.66666667\n",
            "Epoch 67 Train Loss : 29526308.23046875 Test Loss : 80691452.8\n",
            "Epoch 68 Train Loss : 29608232.671875 Test Loss : 80124188.13333334\n",
            "Epoch 69 Train Loss : 29116581.23828125 Test Loss : 80467320.0\n",
            "Epoch 70 Train Loss : 28979429.25 Test Loss : 81236517.06666666\n",
            "Epoch 71 Train Loss : 34762073.4765625 Test Loss : 82316916.13333334\n",
            "Epoch 72 Train Loss : 29240009.5078125 Test Loss : 85337202.4\n",
            "Epoch 73 Train Loss : 29517845.6875 Test Loss : 82312771.33333333\n",
            "Epoch 74 Train Loss : 29062257.546875 Test Loss : 81599217.86666666\n",
            "Epoch 75 Train Loss : 28134216.8125 Test Loss : 84996027.6\n",
            "Epoch 76 Train Loss : 28695223.3671875 Test Loss : 82007401.86666666\n",
            "Epoch 77 Train Loss : 33564060.8671875 Test Loss : 87541730.66666667\n",
            "Epoch 78 Train Loss : 28226616.0 Test Loss : 83431067.73333333\n",
            "Epoch 79 Train Loss : 27566284.0390625 Test Loss : 84808254.13333334\n",
            "Epoch 80 Train Loss : 28102674.484375 Test Loss : 90507557.33333333\n",
            "Epoch 81 Train Loss : 28191996.2578125 Test Loss : 84663444.4\n",
            "Epoch 82 Train Loss : 27234372.9921875 Test Loss : 90452264.8\n",
            "Epoch 83 Train Loss : 30833160.625 Test Loss : 93516509.33333333\n",
            "Epoch 84 Train Loss : 31567240.546875 Test Loss : 87543856.4\n",
            "Epoch 85 Train Loss : 27725866.0859375 Test Loss : 87521752.53333333\n",
            "Epoch 86 Train Loss : 27583639.4375 Test Loss : 90786578.4\n",
            "Epoch 87 Train Loss : 26946504.8515625 Test Loss : 86097161.06666666\n",
            "Epoch 88 Train Loss : 26713148.5234375 Test Loss : 88411861.33333333\n",
            "Epoch 89 Train Loss : 30226974.390625 Test Loss : 88870205.86666666\n",
            "Epoch 90 Train Loss : 28009360.17578125 Test Loss : 92032756.26666667\n",
            "Epoch 91 Train Loss : 26621510.796875 Test Loss : 89247859.6\n",
            "Epoch 92 Train Loss : 28189003.703125 Test Loss : 92315043.86666666\n",
            "Epoch 93 Train Loss : 25977947.23046875 Test Loss : 88653825.46666667\n",
            "Epoch 94 Train Loss : 25894167.03125 Test Loss : 89053556.66666667\n",
            "Epoch 95 Train Loss : 25615909.609375 Test Loss : 89501915.06666666\n",
            "Epoch 96 Train Loss : 29733064.33984375 Test Loss : 95632228.8\n",
            "Epoch 97 Train Loss : 25732423.7109375 Test Loss : 90521332.93333334\n",
            "Epoch 98 Train Loss : 29951743.140625 Test Loss : 96542359.46666667\n",
            "Epoch 99 Train Loss : 26449167.9375 Test Loss : 93289602.66666667\n",
            "Epoch 100 Train Loss : 24810882.5078125 Test Loss : 91390799.06666666\n"
          ]
        }
      ],
      "source": [
        "train_losses = []\n",
        "test_losses = []\n",
        "\n",
        "# 학습 횟수 만큼 반복\n",
        "for epoch in range(1000):\n",
        "\n",
        "    # 모델 학습(학습데이터)\n",
        "    train_loss = train(model, train_loader, criterion, optimizer, device)\n",
        "    train_losses.append(train_loss)\n",
        "\n",
        "    # 모델 평가 (평가데이터)\n",
        "    test_loss = evaluate(model, test_loader, criterion, device)\n",
        "    test_losses.append(test_loss)\n",
        "\n",
        "    print(f'Epoch {epoch+1} Train Loss : {train_loss} Test Loss : {test_loss}')"
      ]
    },
    {
      "cell_type": "code",
      "execution_count": 24,
      "id": "4a5d236e",
      "metadata": {},
      "outputs": [
        {
          "data": {
            "image/png": "[encoded data removed]",
            "text/plain": [
              "<Figure size 1200x500 with 1 Axes>"
            ]
          },
          "metadata": {},
          "output_type": "display_data"
        }
      ],
      "source": [
        "plot_training_results(train_losses, test_losses)"
      ]
    },
    {
      "cell_type": "code",
      "execution_count": 11,
      "id": "3e1ded1c",
      "metadata": {
        "colab": {
          "base_uri": "https://localhost:8080/"
        },
        "id": "3e1ded1c",
        "outputId": "2447aa50-c789-4970-f59b-8fa96d40fd22"
      },
      "outputs": [
        {
          "name": "stdout",
          "output_type": "stream",
          "text": [
            "Epoch [1/1000], Loss: 235577124.86956522\n",
            "Epoch [101/1000], Loss: 219218585.82608697\n",
            "Epoch [201/1000], Loss: 185219887.47826087\n",
            "Epoch [301/1000], Loss: 164444154.3478261\n",
            "Epoch [401/1000], Loss: 144690408.7826087\n",
            "Epoch [501/1000], Loss: 128119847.73913044\n",
            "Epoch [601/1000], Loss: 109276200.0\n",
            "Epoch [701/1000], Loss: 90738436.23913044\n",
            "Epoch [801/1000], Loss: 74764529.95652173\n",
            "Epoch [901/1000], Loss: 59949422.35869565\n"
          ]
        }
      ],
      "source": [
        "# 모델 학습 과정 구현\n",
        "epochs = 1000\n",
        "for epoch in range(epochs):\n",
        "    running_loss = 0.0\n",
        "    model.train()\n",
        "\n",
        "    for inputs, labels in train_loader:\n",
        "        inputs = inputs.to(device)\n",
        "        labels = labels.to(device)\n",
        "\n",
        "\n",
        "        outputs = model(inputs)\n",
        "        loss = criterion(outputs, labels)\n",
        "\n",
        "        optimizer.zero_grad()\n",
        "        loss.backward()\n",
        "        optimizer.step()\n",
        "        running_loss += loss.item()\n",
        "\n",
        "    if epoch % 100 == 0:\n",
        "        print(f'Epoch [{epoch+1}/{epochs}], Loss: {running_loss / len(train_loader)}')"
      ]
    },
    {
      "cell_type": "code",
      "execution_count": 10,
      "id": "c1439106",
      "metadata": {
        "colab": {
          "base_uri": "https://localhost:8080/"
        },
        "id": "c1439106",
        "outputId": "e3f9ec1c-2ba2-4220-db3e-2efabfbf0155"
      },
      "outputs": [
        {
          "ename": "RuntimeError",
          "evalue": "Expected all tensors to be on the same device, but found at least two devices, cuda:0 and cpu! (when checking argument for argument mat1 in method wrapper_CUDA_addmm)",
          "output_type": "error",
          "traceback": [
            "\u001b[0;31m---------------------------------------------------------------------------\u001b[0m",
            "\u001b[0;31mRuntimeError\u001b[0m                              Traceback (most recent call last)",
            "Cell \u001b[0;32mIn[10], line 4\u001b[0m\n\u001b[1;32m      2\u001b[0m model\u001b[38;5;241m.\u001b[39meval()\n\u001b[1;32m      3\u001b[0m \u001b[38;5;28;01mwith\u001b[39;00m torch\u001b[38;5;241m.\u001b[39mno_grad():\n\u001b[0;32m----> 4\u001b[0m     outputs \u001b[38;5;241m=\u001b[39m \u001b[43mmodel\u001b[49m\u001b[43m(\u001b[49m\u001b[43mTEST\u001b[49m\u001b[43m)\u001b[49m\n\u001b[1;32m      5\u001b[0m outputs\n",
            "File \u001b[0;32m~/anaconda3/envs/python311/lib/python3.11/site-packages/torch/nn/modules/module.py:1511\u001b[0m, in \u001b[0;36mModule._wrapped_call_impl\u001b[0;34m(self, *args, **kwargs)\u001b[0m\n\u001b[1;32m   1509\u001b[0m     \u001b[38;5;28;01mreturn\u001b[39;00m \u001b[38;5;28mself\u001b[39m\u001b[38;5;241m.\u001b[39m_compiled_call_impl(\u001b[38;5;241m*\u001b[39margs, \u001b[38;5;241m*\u001b[39m\u001b[38;5;241m*\u001b[39mkwargs)  \u001b[38;5;66;03m# type: ignore[misc]\u001b[39;00m\n\u001b[1;32m   1510\u001b[0m \u001b[38;5;28;01melse\u001b[39;00m:\n\u001b[0;32m-> 1511\u001b[0m     \u001b[38;5;28;01mreturn\u001b[39;00m \u001b[38;5;28;43mself\u001b[39;49m\u001b[38;5;241;43m.\u001b[39;49m\u001b[43m_call_impl\u001b[49m\u001b[43m(\u001b[49m\u001b[38;5;241;43m*\u001b[39;49m\u001b[43margs\u001b[49m\u001b[43m,\u001b[49m\u001b[43m \u001b[49m\u001b[38;5;241;43m*\u001b[39;49m\u001b[38;5;241;43m*\u001b[39;49m\u001b[43mkwargs\u001b[49m\u001b[43m)\u001b[49m\n",
            "File \u001b[0;32m~/anaconda3/envs/python311/lib/python3.11/site-packages/torch/nn/modules/module.py:1520\u001b[0m, in \u001b[0;36mModule._call_impl\u001b[0;34m(self, *args, **kwargs)\u001b[0m\n\u001b[1;32m   1515\u001b[0m \u001b[38;5;66;03m# If we don't have any hooks, we want to skip the rest of the logic in\u001b[39;00m\n\u001b[1;32m   1516\u001b[0m \u001b[38;5;66;03m# this function, and just call forward.\u001b[39;00m\n\u001b[1;32m   1517\u001b[0m \u001b[38;5;28;01mif\u001b[39;00m \u001b[38;5;129;01mnot\u001b[39;00m (\u001b[38;5;28mself\u001b[39m\u001b[38;5;241m.\u001b[39m_backward_hooks \u001b[38;5;129;01mor\u001b[39;00m \u001b[38;5;28mself\u001b[39m\u001b[38;5;241m.\u001b[39m_backward_pre_hooks \u001b[38;5;129;01mor\u001b[39;00m \u001b[38;5;28mself\u001b[39m\u001b[38;5;241m.\u001b[39m_forward_hooks \u001b[38;5;129;01mor\u001b[39;00m \u001b[38;5;28mself\u001b[39m\u001b[38;5;241m.\u001b[39m_forward_pre_hooks\n\u001b[1;32m   1518\u001b[0m         \u001b[38;5;129;01mor\u001b[39;00m _global_backward_pre_hooks \u001b[38;5;129;01mor\u001b[39;00m _global_backward_hooks\n\u001b[1;32m   1519\u001b[0m         \u001b[38;5;129;01mor\u001b[39;00m _global_forward_hooks \u001b[38;5;129;01mor\u001b[39;00m _global_forward_pre_hooks):\n\u001b[0;32m-> 1520\u001b[0m     \u001b[38;5;28;01mreturn\u001b[39;00m \u001b[43mforward_call\u001b[49m\u001b[43m(\u001b[49m\u001b[38;5;241;43m*\u001b[39;49m\u001b[43margs\u001b[49m\u001b[43m,\u001b[49m\u001b[43m \u001b[49m\u001b[38;5;241;43m*\u001b[39;49m\u001b[38;5;241;43m*\u001b[39;49m\u001b[43mkwargs\u001b[49m\u001b[43m)\u001b[49m\n\u001b[1;32m   1522\u001b[0m \u001b[38;5;28;01mtry\u001b[39;00m:\n\u001b[1;32m   1523\u001b[0m     result \u001b[38;5;241m=\u001b[39m \u001b[38;5;28;01mNone\u001b[39;00m\n",
            "Cell \u001b[0;32mIn[5], line 11\u001b[0m, in \u001b[0;36mDNN.forward\u001b[0;34m(self, x)\u001b[0m\n\u001b[1;32m     10\u001b[0m \u001b[38;5;28;01mdef\u001b[39;00m \u001b[38;5;21mforward\u001b[39m(\u001b[38;5;28mself\u001b[39m, x):\n\u001b[0;32m---> 11\u001b[0m     x \u001b[38;5;241m=\u001b[39m \u001b[38;5;28mself\u001b[39m\u001b[38;5;241m.\u001b[39mrelu(\u001b[38;5;28;43mself\u001b[39;49m\u001b[38;5;241;43m.\u001b[39;49m\u001b[43mfc1\u001b[49m\u001b[43m(\u001b[49m\u001b[43mx\u001b[49m\u001b[43m)\u001b[49m)\n\u001b[1;32m     12\u001b[0m     x \u001b[38;5;241m=\u001b[39m \u001b[38;5;28mself\u001b[39m\u001b[38;5;241m.\u001b[39mrelu(\u001b[38;5;28mself\u001b[39m\u001b[38;5;241m.\u001b[39mfc2(x))\n\u001b[1;32m     13\u001b[0m     x \u001b[38;5;241m=\u001b[39m \u001b[38;5;28mself\u001b[39m\u001b[38;5;241m.\u001b[39mfc3(x)\n",
            "File \u001b[0;32m~/anaconda3/envs/python311/lib/python3.11/site-packages/torch/nn/modules/module.py:1511\u001b[0m, in \u001b[0;36mModule._wrapped_call_impl\u001b[0;34m(self, *args, **kwargs)\u001b[0m\n\u001b[1;32m   1509\u001b[0m     \u001b[38;5;28;01mreturn\u001b[39;00m \u001b[38;5;28mself\u001b[39m\u001b[38;5;241m.\u001b[39m_compiled_call_impl(\u001b[38;5;241m*\u001b[39margs, \u001b[38;5;241m*\u001b[39m\u001b[38;5;241m*\u001b[39mkwargs)  \u001b[38;5;66;03m# type: ignore[misc]\u001b[39;00m\n\u001b[1;32m   1510\u001b[0m \u001b[38;5;28;01melse\u001b[39;00m:\n\u001b[0;32m-> 1511\u001b[0m     \u001b[38;5;28;01mreturn\u001b[39;00m \u001b[38;5;28;43mself\u001b[39;49m\u001b[38;5;241;43m.\u001b[39;49m\u001b[43m_call_impl\u001b[49m\u001b[43m(\u001b[49m\u001b[38;5;241;43m*\u001b[39;49m\u001b[43margs\u001b[49m\u001b[43m,\u001b[49m\u001b[43m \u001b[49m\u001b[38;5;241;43m*\u001b[39;49m\u001b[38;5;241;43m*\u001b[39;49m\u001b[43mkwargs\u001b[49m\u001b[43m)\u001b[49m\n",
            "File \u001b[0;32m~/anaconda3/envs/python311/lib/python3.11/site-packages/torch/nn/modules/module.py:1520\u001b[0m, in \u001b[0;36mModule._call_impl\u001b[0;34m(self, *args, **kwargs)\u001b[0m\n\u001b[1;32m   1515\u001b[0m \u001b[38;5;66;03m# If we don't have any hooks, we want to skip the rest of the logic in\u001b[39;00m\n\u001b[1;32m   1516\u001b[0m \u001b[38;5;66;03m# this function, and just call forward.\u001b[39;00m\n\u001b[1;32m   1517\u001b[0m \u001b[38;5;28;01mif\u001b[39;00m \u001b[38;5;129;01mnot\u001b[39;00m (\u001b[38;5;28mself\u001b[39m\u001b[38;5;241m.\u001b[39m_backward_hooks \u001b[38;5;129;01mor\u001b[39;00m \u001b[38;5;28mself\u001b[39m\u001b[38;5;241m.\u001b[39m_backward_pre_hooks \u001b[38;5;129;01mor\u001b[39;00m \u001b[38;5;28mself\u001b[39m\u001b[38;5;241m.\u001b[39m_forward_hooks \u001b[38;5;129;01mor\u001b[39;00m \u001b[38;5;28mself\u001b[39m\u001b[38;5;241m.\u001b[39m_forward_pre_hooks\n\u001b[1;32m   1518\u001b[0m         \u001b[38;5;129;01mor\u001b[39;00m _global_backward_pre_hooks \u001b[38;5;129;01mor\u001b[39;00m _global_backward_hooks\n\u001b[1;32m   1519\u001b[0m         \u001b[38;5;129;01mor\u001b[39;00m _global_forward_hooks \u001b[38;5;129;01mor\u001b[39;00m _global_forward_pre_hooks):\n\u001b[0;32m-> 1520\u001b[0m     \u001b[38;5;28;01mreturn\u001b[39;00m \u001b[43mforward_call\u001b[49m\u001b[43m(\u001b[49m\u001b[38;5;241;43m*\u001b[39;49m\u001b[43margs\u001b[49m\u001b[43m,\u001b[49m\u001b[43m \u001b[49m\u001b[38;5;241;43m*\u001b[39;49m\u001b[38;5;241;43m*\u001b[39;49m\u001b[43mkwargs\u001b[49m\u001b[43m)\u001b[49m\n\u001b[1;32m   1522\u001b[0m \u001b[38;5;28;01mtry\u001b[39;00m:\n\u001b[1;32m   1523\u001b[0m     result \u001b[38;5;241m=\u001b[39m \u001b[38;5;28;01mNone\u001b[39;00m\n",
            "File \u001b[0;32m~/anaconda3/envs/python311/lib/python3.11/site-packages/torch/nn/modules/linear.py:116\u001b[0m, in \u001b[0;36mLinear.forward\u001b[0;34m(self, input)\u001b[0m\n\u001b[1;32m    115\u001b[0m \u001b[38;5;28;01mdef\u001b[39;00m \u001b[38;5;21mforward\u001b[39m(\u001b[38;5;28mself\u001b[39m, \u001b[38;5;28minput\u001b[39m: Tensor) \u001b[38;5;241m-\u001b[39m\u001b[38;5;241m>\u001b[39m Tensor:\n\u001b[0;32m--> 116\u001b[0m     \u001b[38;5;28;01mreturn\u001b[39;00m \u001b[43mF\u001b[49m\u001b[38;5;241;43m.\u001b[39;49m\u001b[43mlinear\u001b[49m\u001b[43m(\u001b[49m\u001b[38;5;28;43minput\u001b[39;49m\u001b[43m,\u001b[49m\u001b[43m \u001b[49m\u001b[38;5;28;43mself\u001b[39;49m\u001b[38;5;241;43m.\u001b[39;49m\u001b[43mweight\u001b[49m\u001b[43m,\u001b[49m\u001b[43m \u001b[49m\u001b[38;5;28;43mself\u001b[39;49m\u001b[38;5;241;43m.\u001b[39;49m\u001b[43mbias\u001b[49m\u001b[43m)\u001b[49m\n",
            "\u001b[0;31mRuntimeError\u001b[0m: Expected all tensors to be on the same device, but found at least two devices, cuda:0 and cpu! (when checking argument for argument mat1 in method wrapper_CUDA_addmm)"
          ]
        }
      ],
      "source": [
        "# 학습된 모델의 TEST 예측\n",
        "model.eval()\n",
        "with torch.no_grad():\n",
        "    outputs = model(TEST)\n",
        "outputs"
      ]
    }
  ],
  "metadata": {
    "colab": {
      "include_colab_link": true,
      "provenance": []
    },
    "kernelspec": {
      "display_name": "base",
      "language": "python",
      "name": "python3"
    },
    "language_info": {
      "codemirror_mode": {
        "name": "ipython",
        "version": 3
      },
      "file_extension": ".py",
      "mimetype": "text/x-python",
      "name": "python",
      "nbconvert_exporter": "python",
      "pygments_lexer": "ipython3",
      "version": "3.11.7"
    }
  },
  "nbformat": 4,
  "nbformat_minor": 5
}
