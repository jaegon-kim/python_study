{
  "cells": [
    {
      "cell_type": "markdown",
      "metadata": {
        "colab_type": "text",
        "id": "view-in-github"
      },
      "source": [
        "<a href=\"https://colab.research.google.com/github/jaegon-kim/python_study/blob/main/src/ai_essential_250317/house_price_prediction/prediction.ipynb\" target=\"_parent\"><img src=\"https://colab.research.google.com/assets/colab-badge.svg\" alt=\"Open In Colab\"/></a>"
      ]
    },
    {
      "cell_type": "markdown",
      "id": "C3HNZJH5LuqI",
      "metadata": {
        "id": "C3HNZJH5LuqI"
      },
      "source": [
        "# House Price Prediction\n",
        "- **목표**\n",
        "  - 이 워크샵은 주어진 데이터셋을 이용해 심층신경망 모델을 학습시켜 주택의 최종 판매 가격(SalePrice)을 예측하는 것이 최종 목표입니다.\n",
        "\n",
        "- **데이터셋 정보**\n",
        "  - 데이터셋은 총 79개의 설명 변수와 타겟 변수인 주택 가격(SalePrice)로 구성됩니다.\n",
        "  - 설명 변수는 주택의 다양한 특성(예: 건축 연도, 면적, 위치, 방 개수 등)을 포함합니다.\n",
        "  - 데이터는 판매 가격이 포함된 학습용 데이터인 `X`, `y` 와 판매 가격이 포함되지 않은 평가용 데이터인 `TEST`파일로 나뉘며, 각각 모델 학습 및 평가에 사용됩니다.\n",
        "    - 평가용 데이터 `TEST`의 판매 가격(SalePrice)를 예측 후 리더보드로 제출하여 평가합니다.\n",
        "\n",
        "- **문제 유형**\n",
        "  - 이 워크샵은 회귀 문제로 연속형 변수를 예측하는 것이 목표입니다. 모델의 성능은 `Mean Absolute Error`로 측정됩니다."
      ]
    },
    {
      "cell_type": "markdown",
      "id": "FerWbWa8ML9S",
      "metadata": {
        "id": "FerWbWa8ML9S"
      },
      "source": [
        "## 1. 환경 설정"
      ]
    },
    {
      "cell_type": "code",
      "execution_count": 1,
      "id": "fbebc02c",
      "metadata": {
        "id": "fbebc02c"
      },
      "outputs": [],
      "source": [
        "%%capture\n",
        "!pip install JAEN -U"
      ]
    },
    {
      "cell_type": "code",
      "execution_count": 2,
      "id": "2b192c23",
      "metadata": {
        "colab": {
          "base_uri": "https://localhost:8080/"
        },
        "id": "2b192c23",
        "outputId": "4d7d85a0-4ae8-4aec-dd08-7a677faecb84"
      },
      "outputs": [
        {
          "name": "stderr",
          "output_type": "stream",
          "text": [
            "/home/sdn/anaconda3/envs/python311/lib/python3.11/site-packages/tqdm/auto.py:21: TqdmWarning: IProgress not found. Please update jupyter and ipywidgets. See https://ipywidgets.readthedocs.io/en/stable/user_install.html\n",
            "  from .autonotebook import tqdm as notebook_tqdm\n"
          ]
        },
        {
          "data": {
            "text/plain": [
              "device(type='cuda')"
            ]
          },
          "execution_count": 2,
          "metadata": {},
          "output_type": "execute_result"
        }
      ],
      "source": [
        "# 그대로 실행하세요.\n",
        "import torch\n",
        "import torch.nn as nn\n",
        "import torch.optim as optim\n",
        "from torchinfo import summary\n",
        "from JAEN.utils import plot_training_results\n",
        "\n",
        "\n",
        "device = torch.device(\"cuda\" if torch.cuda.is_available() else \"cpu\")\n",
        "device"
      ]
    },
    {
      "cell_type": "markdown",
      "id": "OSiIE4tdPcSV",
      "metadata": {
        "id": "OSiIE4tdPcSV"
      },
      "source": [
        "## 2. 데이터 로드"
      ]
    },
    {
      "cell_type": "code",
      "execution_count": 3,
      "id": "Cwo9d1i-ON3u",
      "metadata": {
        "colab": {
          "base_uri": "https://localhost:8080/"
        },
        "id": "Cwo9d1i-ON3u",
        "outputId": "60b066db-5119-4811-e120-1b936e725692"
      },
      "outputs": [
        {
          "data": {
            "text/plain": [
              "(torch.Size([1460, 79]), torch.Size([1460, 1]), torch.Size([1459, 79]))"
            ]
          },
          "execution_count": 3,
          "metadata": {},
          "output_type": "execute_result"
        }
      ],
      "source": [
        "from JAEN.datasets import load_house_price\n",
        "X, y, TEST = load_house_price()\n",
        "X.shape, y.shape, TEST.shape"
      ]
    },
    {
      "cell_type": "code",
      "execution_count": 4,
      "id": "77cea581",
      "metadata": {},
      "outputs": [
        {
          "data": {
            "text/plain": [
              "(torch.Size([1000, 79]),\n",
              " torch.Size([1000, 1]),\n",
              " torch.Size([460, 79]),\n",
              " torch.Size([460, 1]))"
            ]
          },
          "execution_count": 4,
          "metadata": {},
          "output_type": "execute_result"
        }
      ],
      "source": [
        "train_X, train_y = X[:1000, :], y[:1000, :]\n",
        "test_X, test_y = X[1000:, :], y[1000:, :]\n",
        "\n",
        "train_X.shape, train_y.shape, test_X.shape, test_y.shape"
      ]
    },
    {
      "cell_type": "markdown",
      "id": "I_Vc3a22PgBm",
      "metadata": {
        "id": "I_Vc3a22PgBm"
      },
      "source": [
        "## 3. 제출 예시 코드"
      ]
    },
    {
      "cell_type": "markdown",
      "id": "4wNCB3ATlBe4",
      "metadata": {
        "id": "4wNCB3ATlBe4"
      },
      "source": [
        "## 4. 심층신경망 모델을 구성하고 학습하여 TEST를 예측해보세요.\n",
        "- TEST의 예측 결과는 `comp.prediction`에 대입해주세요. **torch.tensor** 형태여야합니다."
      ]
    },
    {
      "cell_type": "code",
      "execution_count": 5,
      "id": "KtwmpH1EibaM",
      "metadata": {
        "id": "KtwmpH1EibaM"
      },
      "outputs": [],
      "source": [
        "# DataLoader 생성\n",
        "from torch.utils.data import DataLoader, TensorDataset\n",
        "train_loader = DataLoader(TensorDataset(train_X, train_y), batch_size=32, shuffle=True)\n",
        "test_loader = DataLoader(TensorDataset(test_X, test_y), batch_size=32, shuffle=True)\n"
      ]
    },
    {
      "cell_type": "code",
      "execution_count": 20,
      "id": "-37EJXcZibcK",
      "metadata": {
        "colab": {
          "base_uri": "https://localhost:8080/"
        },
        "id": "-37EJXcZibcK",
        "outputId": "88c4d3be-c0d4-4770-8402-4d60c05cb577"
      },
      "outputs": [
        {
          "data": {
            "text/plain": [
              "=================================================================\n",
              "Layer (type:depth-idx)                   Param #\n",
              "=================================================================\n",
              "DNN                                      --\n",
              "├─Linear: 1-1                            10,240\n",
              "├─BatchNorm1d: 1-2                       256\n",
              "├─Linear: 1-3                            8,256\n",
              "├─Linear: 1-4                            65\n",
              "├─ReLU: 1-5                              --\n",
              "├─Dropout: 1-6                           --\n",
              "=================================================================\n",
              "Total params: 18,817\n",
              "Trainable params: 18,817\n",
              "Non-trainable params: 0\n",
              "================================================================="
            ]
          },
          "execution_count": 20,
          "metadata": {},
          "output_type": "execute_result"
        }
      ],
      "source": [
        "# DNN 모델 구성\n",
        "class DNN(nn.Module):\n",
        "    def __init__(self):\n",
        "        super().__init__()\n",
        "        self.fc1 = nn.Linear(79, 128)\n",
        "        self.bn1 = nn.BatchNorm1d(128)\n",
        "        self.fc2 = nn.Linear(128, 64)\n",
        "        self.fc3 = nn.Linear(64, 1)\n",
        "        self.relu = nn.ReLU()\n",
        "        self.dropout = nn.Dropout(0.3)  # 10%의 드롭아웃 적용\n",
        "\n",
        "    def forward(self, x):\n",
        "        #x = self.relu(self.fc1(x))\n",
        "        x = self.relu(self.bn1(self.fc1(x)))\n",
        "        x = self.dropout(x)\n",
        "        x = self.relu(self.fc2(x))\n",
        "        x = self.fc3(x)\n",
        "        return x\n",
        "\n",
        "model = DNN().to(device)\n",
        "summary(model)\n"
      ]
    },
    {
      "cell_type": "code",
      "execution_count": 7,
      "id": "f7b6fa57",
      "metadata": {},
      "outputs": [],
      "source": [
        "def train(model, train_loader, criterion, optimizer, device):\n",
        "    model.train()  # 모델을 학습 모드로 설정\n",
        "\n",
        "    running_loss = 0.0 # 미니 배치별 loss값을 누적할 변수\n",
        "\n",
        "    for data, labels in train_loader: # 미니 배치 별 파라미터 업데이트 수행\n",
        "        data, labels = data.to(device), labels.to(device) # 미니 배치별 데이터와 레이블 장치 할당\n",
        "\n",
        "        # 순전파\n",
        "        outputs = model(data)\n",
        "\n",
        "        # 손실 계산\n",
        "        loss = criterion(outputs, labels)\n",
        "\n",
        "        # 기울기 초기화\n",
        "        optimizer.zero_grad()\n",
        "\n",
        "        # 역전파\n",
        "        loss.backward()\n",
        "\n",
        "        # 파라미터 업데이트\n",
        "        optimizer.step()\n",
        "\n",
        "        # 손실 누적\n",
        "        running_loss += loss.item()\n",
        "\n",
        "    # 현재 Epoch의 평균 손실 값 계산 및 반환\n",
        "    # - len(train_loader): 평균 Loss\n",
        "    return running_loss / len(train_loader)"
      ]
    },
    {
      "cell_type": "code",
      "execution_count": 8,
      "id": "3bb36d73",
      "metadata": {},
      "outputs": [],
      "source": [
        "# 평가 함수 정의\n",
        "def evaluate(model, test_loader, criterion, device):\n",
        "    model.eval()  # 모델을 평가 모드로 설정\n",
        "\n",
        "    running_loss = 0.0 # 미니 배치별 loss값을 누적할 변수\n",
        "\n",
        "    with torch.no_grad():  # 평가 중에는 기울기 계산을 하지 않음\n",
        "        for data, labels in test_loader: # 미니 배치 별 손실 계산\n",
        "            data, labels = data.to(device), labels.to(device) # 미니 배치별 데이터와 레이블 장치 할당\n",
        "\n",
        "            # 순전파\n",
        "            outputs = model(data)\n",
        "\n",
        "            # 손실 계산\n",
        "            loss = criterion(outputs, labels)\n",
        "\n",
        "            # 손실 누적\n",
        "            running_loss += loss.item()\n",
        "\n",
        "\n",
        "    # 현재 Epoch의 평균 손실 값 계산 및 반환\n",
        "    return running_loss / len(test_loader)"
      ]
    },
    {
      "cell_type": "code",
      "execution_count": 21,
      "id": "a2237784",
      "metadata": {
        "id": "a2237784"
      },
      "outputs": [],
      "source": [
        "# 손실함수 및 옵티마이저 설정\n",
        "criterion = nn.MSELoss()\n",
        "optimizer = optim.Adam(model.parameters())"
      ]
    },
    {
      "cell_type": "code",
      "execution_count": 22,
      "id": "dacebf8e",
      "metadata": {},
      "outputs": [
        {
          "name": "stdout",
          "output_type": "stream",
          "text": [
            "Epoch 1 Train Loss : 39426859200.0 Test Loss : 37500379409.066666\n",
            "Epoch 2 Train Loss : 39690290432.0 Test Loss : 38414669960.53333\n",
            "Epoch 3 Train Loss : 41603856320.0 Test Loss : 37214439424.0\n",
            "Epoch 4 Train Loss : 39247442944.0 Test Loss : 36821093034.666664\n",
            "Epoch 5 Train Loss : 39561227136.0 Test Loss : 37499024452.26667\n",
            "Epoch 6 Train Loss : 39387760256.0 Test Loss : 37129202892.8\n",
            "Epoch 7 Train Loss : 39122492224.0 Test Loss : 37332436309.333336\n",
            "Epoch 8 Train Loss : 39438847744.0 Test Loss : 37432919517.86667\n",
            "Epoch 9 Train Loss : 38706035904.0 Test Loss : 36807565858.13333\n",
            "Epoch 10 Train Loss : 38903217280.0 Test Loss : 36632401783.46667\n",
            "Epoch 11 Train Loss : 38723968128.0 Test Loss : 37550320981.333336\n",
            "Epoch 12 Train Loss : 38129935424.0 Test Loss : 36448763767.46667\n",
            "Epoch 13 Train Loss : 38819851712.0 Test Loss : 36263178786.13333\n",
            "Epoch 14 Train Loss : 37599453376.0 Test Loss : 36080487355.73333\n",
            "Epoch 15 Train Loss : 37636333568.0 Test Loss : 35717216392.53333\n",
            "Epoch 16 Train Loss : 37648860800.0 Test Loss : 34697710660.26667\n",
            "Epoch 17 Train Loss : 37828659072.0 Test Loss : 34623340817.066666\n",
            "Epoch 18 Train Loss : 35883965888.0 Test Loss : 34335145028.266666\n",
            "Epoch 19 Train Loss : 35999556032.0 Test Loss : 34875611136.0\n",
            "Epoch 20 Train Loss : 35088723072.0 Test Loss : 33534506598.4\n",
            "Epoch 21 Train Loss : 34227430656.0 Test Loss : 33269022993.066666\n",
            "Epoch 22 Train Loss : 33388037312.0 Test Loss : 31589448089.6\n",
            "Epoch 23 Train Loss : 32935579392.0 Test Loss : 31610279116.8\n",
            "Epoch 24 Train Loss : 31581461248.0 Test Loss : 29874356770.133335\n",
            "Epoch 25 Train Loss : 30809037376.0 Test Loss : 28491127739.733334\n",
            "Epoch 26 Train Loss : 30022606016.0 Test Loss : 29418980829.866665\n",
            "Epoch 27 Train Loss : 29122445504.0 Test Loss : 28598533324.8\n",
            "Epoch 28 Train Loss : 28068647936.0 Test Loss : 26094331221.333332\n",
            "Epoch 29 Train Loss : 27665269696.0 Test Loss : 26312368128.0\n",
            "Epoch 30 Train Loss : 26233517184.0 Test Loss : 24689548492.8\n",
            "Epoch 31 Train Loss : 25345246272.0 Test Loss : 23460515020.8\n",
            "Epoch 32 Train Loss : 24380813312.0 Test Loss : 22538564812.8\n",
            "Epoch 33 Train Loss : 23462724512.0 Test Loss : 23369888563.2\n",
            "Epoch 34 Train Loss : 21910244448.0 Test Loss : 20466568669.866665\n",
            "Epoch 35 Train Loss : 20958107904.0 Test Loss : 19203779993.6\n",
            "Epoch 36 Train Loss : 20097686976.0 Test Loss : 18618192281.6\n",
            "Epoch 37 Train Loss : 19035901216.0 Test Loss : 18407530359.466667\n",
            "Epoch 38 Train Loss : 18151841728.0 Test Loss : 18083855769.6\n",
            "Epoch 39 Train Loss : 17363160800.0 Test Loss : 16955858124.8\n",
            "Epoch 40 Train Loss : 16077160416.0 Test Loss : 16611815970.133333\n",
            "Epoch 41 Train Loss : 14949811584.0 Test Loss : 14940157747.2\n",
            "Epoch 42 Train Loss : 14000473248.0 Test Loss : 14156991761.066668\n",
            "Epoch 43 Train Loss : 13130215504.0 Test Loss : 13119237120.0\n",
            "Epoch 44 Train Loss : 12409471728.0 Test Loss : 11906030899.2\n",
            "Epoch 45 Train Loss : 11483408320.0 Test Loss : 11101036475.733334\n",
            "Epoch 46 Train Loss : 10975825184.0 Test Loss : 10953207296.0\n",
            "Epoch 47 Train Loss : 9794410656.0 Test Loss : 9921348334.933332\n",
            "Epoch 48 Train Loss : 9496052384.0 Test Loss : 10048472951.466667\n",
            "Epoch 49 Train Loss : 8567669160.0 Test Loss : 8290328064.0\n",
            "Epoch 50 Train Loss : 7932897296.0 Test Loss : 8660709922.133333\n",
            "Epoch 51 Train Loss : 7252747928.0 Test Loss : 6993067827.2\n",
            "Epoch 52 Train Loss : 6700191224.0 Test Loss : 7438096315.733334\n",
            "Epoch 53 Train Loss : 6064514552.0 Test Loss : 7266142344.533334\n",
            "Epoch 54 Train Loss : 5684751224.0 Test Loss : 6569283174.4\n",
            "Epoch 55 Train Loss : 5009738888.0 Test Loss : 5531289702.4\n",
            "Epoch 56 Train Loss : 4658525228.0 Test Loss : 4558350421.333333\n",
            "Epoch 57 Train Loss : 4165256944.0 Test Loss : 4177162350.9333334\n",
            "Epoch 58 Train Loss : 3667562484.0 Test Loss : 3835950233.6\n",
            "Epoch 59 Train Loss : 3714454084.0 Test Loss : 4148799948.8\n",
            "Epoch 60 Train Loss : 2923371272.0 Test Loss : 3140536977.0666666\n",
            "Epoch 61 Train Loss : 2812667706.0 Test Loss : 3279655330.133333\n",
            "Epoch 62 Train Loss : 2405041934.0 Test Loss : 3383344896.0\n",
            "Epoch 63 Train Loss : 2213432100.0 Test Loss : 2897018922.6666665\n",
            "Epoch 64 Train Loss : 2195331743.0 Test Loss : 2573613653.3333335\n",
            "Epoch 65 Train Loss : 1974323080.0 Test Loss : 3351760584.5333333\n",
            "Epoch 66 Train Loss : 1932849364.0 Test Loss : 2564906764.8\n",
            "Epoch 67 Train Loss : 1700556840.0 Test Loss : 2380441045.3333335\n",
            "Epoch 68 Train Loss : 1428814845.0 Test Loss : 2220699771.733333\n",
            "Epoch 69 Train Loss : 1472937486.0 Test Loss : 2107939498.6666667\n",
            "Epoch 70 Train Loss : 1457907248.0 Test Loss : 2021337578.6666667\n",
            "Epoch 71 Train Loss : 1386741830.0 Test Loss : 1961355176.5333333\n",
            "Epoch 72 Train Loss : 1314504622.0 Test Loss : 2076091353.6\n",
            "Epoch 73 Train Loss : 1306270430.0 Test Loss : 1987216136.5333333\n",
            "Epoch 74 Train Loss : 1175799913.0 Test Loss : 1941403810.1333334\n",
            "Epoch 75 Train Loss : 1138566285.0 Test Loss : 1781702205.8666666\n",
            "Epoch 76 Train Loss : 1264569814.0 Test Loss : 1863056951.4666667\n",
            "Epoch 77 Train Loss : 955664548.0 Test Loss : 1771074869.3333333\n",
            "Epoch 78 Train Loss : 1068153073.0 Test Loss : 1837008170.6666667\n",
            "Epoch 79 Train Loss : 1133102734.0 Test Loss : 1878759671.4666667\n",
            "Epoch 80 Train Loss : 1035732041.0 Test Loss : 1784140776.5333333\n",
            "Epoch 81 Train Loss : 1065744054.5 Test Loss : 3198521992.5333333\n",
            "Epoch 82 Train Loss : 1092930070.0 Test Loss : 1775372933.3333333\n",
            "Epoch 83 Train Loss : 975350088.0 Test Loss : 1826398636.8\n",
            "Epoch 84 Train Loss : 1209909268.0 Test Loss : 1809818457.6\n",
            "Epoch 85 Train Loss : 1039993947.0 Test Loss : 1797352413.8666666\n",
            "Epoch 86 Train Loss : 1056723276.0 Test Loss : 1731572364.8\n",
            "Epoch 87 Train Loss : 972353028.0 Test Loss : 1763098798.9333334\n",
            "Epoch 88 Train Loss : 1126134550.0 Test Loss : 1730365719.4666667\n",
            "Epoch 89 Train Loss : 1119082518.0 Test Loss : 1730152836.2666667\n",
            "Epoch 90 Train Loss : 1091561837.0 Test Loss : 1797327095.4666667\n",
            "Epoch 91 Train Loss : 1071065284.0 Test Loss : 1740029422.9333334\n",
            "Epoch 92 Train Loss : 965444228.0 Test Loss : 1692136130.1333334\n",
            "Epoch 93 Train Loss : 914890660.0 Test Loss : 1769397627.7333333\n",
            "Epoch 94 Train Loss : 875299731.0 Test Loss : 1732590462.9333334\n",
            "Epoch 95 Train Loss : 909845462.0 Test Loss : 1775460787.2\n",
            "Epoch 96 Train Loss : 1037328080.0 Test Loss : 1798262248.5333333\n",
            "Epoch 97 Train Loss : 988703744.0 Test Loss : 1797947424.0\n",
            "Epoch 98 Train Loss : 896246468.0 Test Loss : 1704100082.1333334\n",
            "Epoch 99 Train Loss : 1024911301.0 Test Loss : 1787127618.1333334\n",
            "Epoch 100 Train Loss : 950766659.0 Test Loss : 1699555532.8\n",
            "Epoch 101 Train Loss : 945764061.0 Test Loss : 1837149447.4666667\n",
            "Epoch 102 Train Loss : 937679522.0 Test Loss : 1729309873.0666666\n",
            "Epoch 103 Train Loss : 922077334.0 Test Loss : 3281312699.733333\n",
            "Epoch 104 Train Loss : 1201531598.0 Test Loss : 1821925755.7333333\n",
            "Epoch 105 Train Loss : 1050319882.0 Test Loss : 1737337915.7333333\n",
            "Epoch 106 Train Loss : 1247791962.0 Test Loss : 1790585529.6\n",
            "Epoch 107 Train Loss : 1083293730.0 Test Loss : 1772567223.4666667\n",
            "Epoch 108 Train Loss : 1180270786.0 Test Loss : 1776506677.3333333\n",
            "Epoch 109 Train Loss : 849440480.0 Test Loss : 1756575798.4\n",
            "Epoch 110 Train Loss : 973140816.0 Test Loss : 1796380258.1333334\n",
            "Epoch 111 Train Loss : 1158247249.0 Test Loss : 1697928652.8\n",
            "Epoch 112 Train Loss : 1059101094.0 Test Loss : 1844786084.2666667\n",
            "Epoch 113 Train Loss : 845635485.0 Test Loss : 1808626408.5333333\n",
            "Epoch 114 Train Loss : 1032244386.0 Test Loss : 1754460379.7333333\n",
            "Epoch 115 Train Loss : 1026924325.0 Test Loss : 1818313957.3333333\n",
            "Epoch 116 Train Loss : 1013343835.0 Test Loss : 1762034848.0\n",
            "Epoch 117 Train Loss : 1032981223.0 Test Loss : 1826786771.2\n",
            "Epoch 118 Train Loss : 1025940260.0 Test Loss : 1793745034.6666667\n",
            "Epoch 119 Train Loss : 895243613.0 Test Loss : 1786643099.7333333\n",
            "Epoch 120 Train Loss : 888064959.5 Test Loss : 1724558434.1333334\n",
            "Epoch 121 Train Loss : 861556902.0 Test Loss : 1804405600.0\n",
            "Epoch 122 Train Loss : 927311060.0 Test Loss : 1793914720.0\n",
            "Epoch 123 Train Loss : 866533970.0 Test Loss : 1787825655.4666667\n",
            "Epoch 124 Train Loss : 939229950.0 Test Loss : 1754222995.2\n",
            "Epoch 125 Train Loss : 1097096316.0 Test Loss : 1754551114.6666667\n",
            "Epoch 126 Train Loss : 829265056.0 Test Loss : 1815731869.8666666\n",
            "Epoch 127 Train Loss : 926893251.0 Test Loss : 1822764476.8\n",
            "Epoch 128 Train Loss : 1057834816.0 Test Loss : 1830841331.2\n",
            "Epoch 129 Train Loss : 917670498.0 Test Loss : 1810983320.5333333\n",
            "Epoch 130 Train Loss : 983319136.0 Test Loss : 1762320509.8666666\n",
            "Epoch 131 Train Loss : 990838525.0 Test Loss : 1865253459.2\n",
            "Epoch 132 Train Loss : 873935822.0 Test Loss : 1798321979.7333333\n",
            "Epoch 133 Train Loss : 930649703.0 Test Loss : 1889281740.8\n",
            "Epoch 134 Train Loss : 916940863.5 Test Loss : 1891553324.8\n",
            "Epoch 135 Train Loss : 950761731.0 Test Loss : 1775988204.8\n",
            "Epoch 136 Train Loss : 870869512.0 Test Loss : 2107432625.0666666\n",
            "Epoch 137 Train Loss : 881981574.0 Test Loss : 1802684442.6666667\n",
            "Epoch 138 Train Loss : 887252182.0 Test Loss : 1818549785.6\n",
            "Epoch 139 Train Loss : 734154195.0 Test Loss : 1839015080.5333333\n",
            "Epoch 140 Train Loss : 986614625.0 Test Loss : 1864481083.7333333\n",
            "Epoch 141 Train Loss : 929582271.0 Test Loss : 1813124561.0666666\n",
            "Epoch 142 Train Loss : 1012895798.0 Test Loss : 1816766595.2\n",
            "Epoch 143 Train Loss : 966930061.5 Test Loss : 1784778996.2666667\n",
            "Epoch 144 Train Loss : 913501226.0 Test Loss : 1848273834.6666667\n",
            "Epoch 145 Train Loss : 975154121.0 Test Loss : 1870629668.2666667\n",
            "Epoch 146 Train Loss : 858263793.5 Test Loss : 1851645603.2\n",
            "Epoch 147 Train Loss : 913797066.0 Test Loss : 1788598393.6\n",
            "Epoch 148 Train Loss : 1018778086.0 Test Loss : 1831605442.1333334\n",
            "Epoch 149 Train Loss : 919957132.0 Test Loss : 1775808140.8\n",
            "Epoch 150 Train Loss : 909679880.0 Test Loss : 1882930862.9333334\n",
            "Epoch 151 Train Loss : 942286771.0 Test Loss : 1837440233.6\n",
            "Epoch 152 Train Loss : 867121922.0 Test Loss : 1949686406.4\n",
            "Epoch 153 Train Loss : 803232492.0 Test Loss : 1942726660.2666667\n",
            "Epoch 154 Train Loss : 908003348.0 Test Loss : 1813862342.4\n",
            "Epoch 155 Train Loss : 808014752.5 Test Loss : 1921774019.2\n",
            "Epoch 156 Train Loss : 843718393.0 Test Loss : 1886199726.9333334\n",
            "Epoch 157 Train Loss : 954602850.0 Test Loss : 1953674427.7333333\n",
            "Epoch 158 Train Loss : 804285594.0 Test Loss : 1831525493.3333333\n",
            "Epoch 159 Train Loss : 779540605.0 Test Loss : 1863399008.0\n",
            "Epoch 160 Train Loss : 811923268.5 Test Loss : 1783150122.6666667\n",
            "Epoch 161 Train Loss : 938647164.0 Test Loss : 1863033684.2666667\n",
            "Epoch 162 Train Loss : 755644284.0 Test Loss : 1785143356.8\n",
            "Epoch 163 Train Loss : 850295562.0 Test Loss : 1842934951.4666667\n",
            "Epoch 164 Train Loss : 836699477.5 Test Loss : 1908662924.8\n",
            "Epoch 165 Train Loss : 812877523.0 Test Loss : 1781018208.0\n",
            "Epoch 166 Train Loss : 749043087.5 Test Loss : 1828301469.8666666\n",
            "Epoch 167 Train Loss : 964988597.0 Test Loss : 1874180985.6\n",
            "Epoch 168 Train Loss : 898917541.0 Test Loss : 1855503835.7333333\n",
            "Epoch 169 Train Loss : 1031780037.0 Test Loss : 1832356165.3333333\n",
            "Epoch 170 Train Loss : 858393903.0 Test Loss : 1896427876.2666667\n",
            "Epoch 171 Train Loss : 901637417.5 Test Loss : 1881792834.1333334\n",
            "Epoch 172 Train Loss : 845186541.0 Test Loss : 1830660198.4\n",
            "Epoch 173 Train Loss : 808326295.0 Test Loss : 1861263054.9333334\n",
            "Epoch 174 Train Loss : 930360764.0 Test Loss : 3544032166.4\n",
            "Epoch 175 Train Loss : 818016479.0 Test Loss : 1846676908.8\n",
            "Epoch 176 Train Loss : 966249150.0 Test Loss : 1912428452.2666667\n",
            "Epoch 177 Train Loss : 940032328.0 Test Loss : 1840083451.7333333\n",
            "Epoch 178 Train Loss : 946629929.0 Test Loss : 1869690552.5333333\n",
            "Epoch 179 Train Loss : 946431891.0 Test Loss : 1879572091.7333333\n",
            "Epoch 180 Train Loss : 975589677.0 Test Loss : 1874945753.6\n",
            "Epoch 181 Train Loss : 908105816.0 Test Loss : 1922528721.0666666\n",
            "Epoch 182 Train Loss : 1001325681.0 Test Loss : 1899268924.8\n",
            "Epoch 183 Train Loss : 917777467.0 Test Loss : 1870615048.5333333\n",
            "Epoch 184 Train Loss : 956311117.0 Test Loss : 1871725129.6\n",
            "Epoch 185 Train Loss : 837714346.0 Test Loss : 1859398131.2\n",
            "Epoch 186 Train Loss : 799572981.0 Test Loss : 1899367752.5333333\n",
            "Epoch 187 Train Loss : 828821271.0 Test Loss : 1844250528.0\n",
            "Epoch 188 Train Loss : 1070284252.0 Test Loss : 1903155677.8666666\n",
            "Epoch 189 Train Loss : 853626266.0 Test Loss : 1884735372.8\n",
            "Epoch 190 Train Loss : 882851198.0 Test Loss : 1885119044.2666667\n",
            "Epoch 191 Train Loss : 786268617.0 Test Loss : 1848574092.8\n",
            "Epoch 192 Train Loss : 924648170.0 Test Loss : 1938146748.8\n",
            "Early stopping trigerred at epoch 192\n"
          ]
        },
        {
          "data": {
            "text/plain": [
              "<All keys matched successfully>"
            ]
          },
          "execution_count": 22,
          "metadata": {},
          "output_type": "execute_result"
        }
      ],
      "source": [
        "train_losses = []\n",
        "test_losses = []\n",
        "\n",
        "# Early Stopping을 위한 변수 설정\n",
        "best_loss = float('inf')\n",
        "patience = 100\n",
        "counter = 0\n",
        "\n",
        "# 학습 횟수 만큼 반복\n",
        "for epoch in range(1000):\n",
        "\n",
        "    # 모델 학습(학습데이터)\n",
        "    train_loss = train(model, train_loader, criterion, optimizer, device)\n",
        "    train_losses.append(train_loss)\n",
        "\n",
        "    # 모델 평가 (평가데이터)\n",
        "    test_loss = evaluate(model, test_loader, criterion, device)\n",
        "    test_losses.append(test_loss)\n",
        "\n",
        "    print(f'Epoch {epoch+1} Train Loss : {train_loss} Test Loss : {test_loss}')\n",
        "\n",
        "    # Early Stopping 조건 체크\n",
        "    if test_loss < best_loss:\n",
        "        best_loss = test_loss\n",
        "        counter = 0\n",
        "        torch.save(model.state_dict(), 'best_model.pt')\n",
        "    else:\n",
        "        counter += 1\n",
        "\n",
        "    if counter >= patience:\n",
        "        print(f'Early stopping trigerred at epoch {epoch+1}')\n",
        "        break\n",
        "\n",
        "model.load_state_dict(torch.load('best_model.pt'))"
      ]
    },
    {
      "cell_type": "code",
      "execution_count": 23,
      "id": "4a5d236e",
      "metadata": {},
      "outputs": [
        {
          "data": {
            "image/png": "[encoded data removed]",
            "text/plain": [
              "<Figure size 1200x500 with 1 Axes>"
            ]
          },
          "metadata": {},
          "output_type": "display_data"
        }
      ],
      "source": [
        "plot_training_results(train_losses[20:50], test_losses[20:50])"
      ]
    },
    {
      "cell_type": "code",
      "execution_count": 24,
      "id": "b5af4ef1",
      "metadata": {},
      "outputs": [
        {
          "data": {
            "image/png": "[encoded data removed]",
            "text/plain": [
              "<Figure size 1200x500 with 1 Axes>"
            ]
          },
          "metadata": {},
          "output_type": "display_data"
        }
      ],
      "source": [
        "plot_training_results(train_losses, test_losses)"
      ]
    },
    {
      "cell_type": "code",
      "execution_count": 13,
      "id": "1ecf5dbd",
      "metadata": {},
      "outputs": [
        {
          "data": {
            "text/plain": [
              "tensor([[121247.6875],\n",
              "        [202987.8750],\n",
              "        [182309.3125],\n",
              "        ...,\n",
              "        [170851.1562],\n",
              "        [130731.7500],\n",
              "        [240880.2344]], device='cuda:0')"
            ]
          },
          "execution_count": 13,
          "metadata": {},
          "output_type": "execute_result"
        }
      ],
      "source": [
        "# 사용자명을 입력하세요. (이름이 아니여도 괜찮습니다.)\n",
        "username = \"김재곤\"\n",
        "assert username, \"username 변수에 값이 설정되지 않았습니다.\"\n",
        "\n",
        "# 그대로 실행하세요.\n",
        "from JAEN.competition import Competition\n",
        "comp = Competition(\n",
        "    username=username,\n",
        "    course_name='AI Essential',\n",
        "    course_round='0317(1)',\n",
        "    competition_name='House Price Prediction'\n",
        ")\n",
        "\n",
        "# 학습된 모델의 TEST 예측\n",
        "model.eval()\n",
        "TEST2 = TEST.to(device)\n",
        "with torch.no_grad():\n",
        "    outputs = model(TEST2)\n",
        "outputs\n",
        "\n",
        "# comp.prediction에 TEST 예측 결과 대입\n",
        "comp.prediction = outputs\n",
        "comp.prediction\n",
        "\n",
        "# 제출\n",
        "#comp.submit()"
      ]
    }
  ],
  "metadata": {
    "colab": {
      "include_colab_link": true,
      "provenance": []
    },
    "kernelspec": {
      "display_name": "base",
      "language": "python",
      "name": "python3"
    },
    "language_info": {
      "codemirror_mode": {
        "name": "ipython",
        "version": 3
      },
      "file_extension": ".py",
      "mimetype": "text/x-python",
      "name": "python",
      "nbconvert_exporter": "python",
      "pygments_lexer": "ipython3",
      "version": "3.11.7"
    }
  },
  "nbformat": 4,
  "nbformat_minor": 5
}
