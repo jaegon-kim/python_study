{
  "cells": [
    {
      "cell_type": "markdown",
      "metadata": {
        "id": "view-in-github",
        "colab_type": "text"
      },
      "source": [
        "<a href=\"https://colab.research.google.com/github/jaegon-kim/python_study/blob/main/src/ai_essential_250317/house_price_prediction/prediction_preprocessing.ipynb\" target=\"_parent\"><img src=\"https://colab.research.google.com/assets/colab-badge.svg\" alt=\"Open In Colab\"/></a>"
      ]
    },
    {
      "cell_type": "markdown",
      "id": "C3HNZJH5LuqI",
      "metadata": {
        "id": "C3HNZJH5LuqI"
      },
      "source": [
        "# House Price Prediction\n",
        "- **목표**\n",
        "  - 이 워크샵은 주어진 데이터셋을 이용해 심층신경망 모델을 학습시켜 주택의 최종 판매 가격(SalePrice)을 예측하는 것이 최종 목표입니다.\n",
        "\n",
        "- **데이터셋 정보**\n",
        "  - 데이터셋은 총 79개의 설명 변수와 타겟 변수인 주택 가격(SalePrice)로 구성됩니다.\n",
        "  - 설명 변수는 주택의 다양한 특성(예: 건축 연도, 면적, 위치, 방 개수 등)을 포함합니다.\n",
        "  - 데이터는 판매 가격이 포함된 학습용 데이터인 `X`, `y` 와 판매 가격이 포함되지 않은 평가용 데이터인 `TEST`파일로 나뉘며, 각각 모델 학습 및 평가에 사용됩니다.\n",
        "    - 평가용 데이터 `TEST`의 판매 가격(SalePrice)를 예측 후 리더보드로 제출하여 평가합니다.\n",
        "\n",
        "- **문제 유형**\n",
        "  - 이 워크샵은 회귀 문제로 연속형 변수를 예측하는 것이 목표입니다. 모델의 성능은 `Mean Absolute Error`로 측정됩니다."
      ]
    },
    {
      "cell_type": "markdown",
      "id": "FerWbWa8ML9S",
      "metadata": {
        "id": "FerWbWa8ML9S"
      },
      "source": [
        "## 1. 환경 설정"
      ]
    },
    {
      "cell_type": "code",
      "execution_count": 1,
      "id": "fbebc02c",
      "metadata": {
        "id": "fbebc02c"
      },
      "outputs": [],
      "source": [
        "%%capture\n",
        "!pip install JAEN -U"
      ]
    },
    {
      "cell_type": "code",
      "execution_count": 2,
      "id": "2b192c23",
      "metadata": {
        "colab": {
          "base_uri": "https://localhost:8080/"
        },
        "id": "2b192c23",
        "outputId": "466492d0-58c1-486f-b436-ff25a41a7fdf"
      },
      "outputs": [
        {
          "output_type": "execute_result",
          "data": {
            "text/plain": [
              "device(type='cuda')"
            ]
          },
          "metadata": {},
          "execution_count": 2
        }
      ],
      "source": [
        "# 그대로 실행하세요.\n",
        "import torch\n",
        "import torch.nn as nn\n",
        "import torch.optim as optim\n",
        "from torchinfo import summary\n",
        "from JAEN.utils import plot_training_results\n",
        "\n",
        "\n",
        "device = torch.device(\"cuda\" if torch.cuda.is_available() else \"cpu\")\n",
        "device"
      ]
    },
    {
      "cell_type": "markdown",
      "id": "OSiIE4tdPcSV",
      "metadata": {
        "id": "OSiIE4tdPcSV"
      },
      "source": [
        "## 2. 데이터 로드"
      ]
    },
    {
      "cell_type": "code",
      "execution_count": 3,
      "id": "Cwo9d1i-ON3u",
      "metadata": {
        "colab": {
          "base_uri": "https://localhost:8080/"
        },
        "id": "Cwo9d1i-ON3u",
        "outputId": "6d53288e-ec2d-4363-8bcd-080e19fa626d"
      },
      "outputs": [
        {
          "output_type": "execute_result",
          "data": {
            "text/plain": [
              "(torch.Size([1460, 79]), torch.Size([1460, 1]), torch.Size([1459, 79]))"
            ]
          },
          "metadata": {},
          "execution_count": 3
        }
      ],
      "source": [
        "from JAEN.datasets import load_house_price\n",
        "X, y, TEST = load_house_price()\n",
        "X.shape, y.shape, TEST.shape"
      ]
    },
    {
      "cell_type": "code",
      "execution_count": 4,
      "id": "55745e97",
      "metadata": {
        "id": "55745e97",
        "outputId": "8fd0c40b-84dc-479b-f89a-a02f543c5ed8",
        "colab": {
          "base_uri": "https://localhost:8080/"
        }
      },
      "outputs": [
        {
          "output_type": "stream",
          "name": "stdout",
          "text": [
            "Column Mean: tensor([-9.4714e-09, -7.8384e-09, -3.5926e-09,  3.2660e-10,  4.5724e-09,\n",
            "        -1.3064e-08, -1.5024e-08, -3.5273e-08, -2.6128e-09, -1.7636e-08,\n",
            "        -1.3391e-08, -9.1448e-09, -2.9067e-08,  1.0778e-08,  1.5350e-08,\n",
            "         1.6003e-08,  3.2660e-10, -1.6330e-08,  5.8788e-09,  5.2256e-09,\n",
            "         1.6983e-08, -2.1556e-08,  6.5320e-09,  1.8290e-08, -2.3515e-08,\n",
            "        -1.1104e-08, -2.7434e-08, -6.0421e-09, -1.6983e-08, -1.3064e-08,\n",
            "         9.1448e-09,  1.5677e-08,  3.9192e-09, -1.9596e-09,  1.1758e-08,\n",
            "        -3.1354e-08, -7.1852e-09,  1.3064e-09,  1.8290e-08, -4.2458e-09,\n",
            "         0.0000e+00, -7.1852e-09, -2.6128e-09,  2.0902e-08, -2.0249e-08,\n",
            "        -6.5320e-10, -1.5677e-08,  2.9394e-08,  1.5677e-08,  4.1642e-09,\n",
            "         1.2860e-08, -3.9192e-09,  0.0000e+00,  5.2256e-09,  1.3064e-08,\n",
            "         9.7980e-10,  1.3064e-08,  5.2256e-09, -5.8788e-09,  1.4370e-08,\n",
            "         1.8290e-08,  5.1440e-09, -4.3111e-08, -2.0902e-08,  2.3189e-08,\n",
            "        -7.1852e-09, -3.9192e-09, -5.8788e-09, -1.1268e-08, -2.7761e-09,\n",
            "         1.6330e-09,  1.3391e-08, -2.3515e-08,  1.8290e-08,  1.3064e-09,\n",
            "         1.3799e-08,  5.8788e-09,  1.3064e-08, -1.2411e-08]) torch.Size([79])\n",
            "Column Std: tensor([1.0003, 1.0003, 1.0003, 1.0003, 1.0003, 1.0003, 1.0003, 1.0003, 1.0003,\n",
            "        1.0003, 1.0003, 1.0003, 1.0003, 1.0003, 1.0003, 1.0003, 1.0003, 1.0003,\n",
            "        1.0003, 1.0003, 1.0003, 1.0003, 1.0003, 1.0003, 1.0003, 1.0003, 1.0003,\n",
            "        1.0003, 1.0003, 1.0003, 1.0003, 1.0003, 1.0003, 1.0003, 1.0003, 1.0003,\n",
            "        1.0003, 1.0003, 1.0003, 1.0003, 1.0003, 1.0003, 1.0003, 1.0003, 1.0003,\n",
            "        1.0003, 1.0003, 1.0003, 1.0003, 1.0003, 1.0003, 1.0003, 1.0003, 1.0003,\n",
            "        1.0003, 1.0003, 1.0003, 1.0003, 1.0003, 1.0003, 1.0003, 1.0003, 1.0003,\n",
            "        1.0003, 1.0003, 1.0003, 1.0003, 1.0003, 1.0003, 1.0003, 1.0003, 1.0003,\n",
            "        1.0003, 1.0003, 1.0003, 1.0003, 1.0003, 1.0003, 1.0003])\n"
          ]
        }
      ],
      "source": [
        "column_mean = torch.mean(X, dim=0)\n",
        "print(\"Column Mean:\", column_mean, column_mean.shape)\n",
        "\n",
        "column_std = torch.std(X, dim=0)\n",
        "print(\"Column Std:\", column_std)"
      ]
    },
    {
      "cell_type": "code",
      "execution_count": 5,
      "id": "77cea581",
      "metadata": {
        "colab": {
          "base_uri": "https://localhost:8080/"
        },
        "id": "77cea581",
        "outputId": "6e502f02-8269-40e1-fcc2-98064d41eec4"
      },
      "outputs": [
        {
          "output_type": "execute_result",
          "data": {
            "text/plain": [
              "(torch.Size([1360, 79]),\n",
              " torch.Size([1360, 1]),\n",
              " torch.Size([100, 79]),\n",
              " torch.Size([100, 1]))"
            ]
          },
          "metadata": {},
          "execution_count": 5
        }
      ],
      "source": [
        "train_X, train_y = X[:1360, :], y[:1360, :]\n",
        "test_X, test_y = X[1360:, :], y[1360:, :]\n",
        "\n",
        "train_X.shape, train_y.shape, test_X.shape, test_y.shape"
      ]
    },
    {
      "cell_type": "markdown",
      "id": "I_Vc3a22PgBm",
      "metadata": {
        "id": "I_Vc3a22PgBm"
      },
      "source": [
        "## 3. 제출 예시 코드"
      ]
    },
    {
      "cell_type": "markdown",
      "id": "4wNCB3ATlBe4",
      "metadata": {
        "id": "4wNCB3ATlBe4"
      },
      "source": [
        "## 4. 심층신경망 모델을 구성하고 학습하여 TEST를 예측해보세요.\n",
        "- TEST의 예측 결과는 `comp.prediction`에 대입해주세요. **torch.tensor** 형태여야합니다."
      ]
    },
    {
      "cell_type": "code",
      "execution_count": 6,
      "id": "KtwmpH1EibaM",
      "metadata": {
        "id": "KtwmpH1EibaM"
      },
      "outputs": [],
      "source": [
        "# DataLoader 생성\n",
        "from torch.utils.data import DataLoader, TensorDataset\n",
        "train_loader = DataLoader(TensorDataset(train_X, train_y), batch_size=32, shuffle=True)\n",
        "test_loader = DataLoader(TensorDataset(test_X, test_y), batch_size=32, shuffle=True)\n"
      ]
    },
    {
      "cell_type": "code",
      "execution_count": 7,
      "id": "f7b6fa57",
      "metadata": {
        "id": "f7b6fa57"
      },
      "outputs": [],
      "source": [
        "def train(model, train_loader, criterion, optimizer, device):\n",
        "    model.train()  # 모델을 학습 모드로 설정\n",
        "\n",
        "    running_loss = 0.0 # 미니 배치별 loss값을 누적할 변수\n",
        "\n",
        "    for data, labels in train_loader: # 미니 배치 별 파라미터 업데이트 수행\n",
        "        data, labels = data.to(device), labels.to(device) # 미니 배치별 데이터와 레이블 장치 할당\n",
        "\n",
        "        # 순전파\n",
        "        outputs = model(data)\n",
        "\n",
        "        # 손실 계산\n",
        "        loss = criterion(outputs, labels)\n",
        "\n",
        "        # 기울기 초기화\n",
        "        optimizer.zero_grad()\n",
        "\n",
        "        # 역전파\n",
        "        loss.backward()\n",
        "\n",
        "        # 파라미터 업데이트\n",
        "        optimizer.step()\n",
        "\n",
        "        # 손실 누적\n",
        "        running_loss += loss.item()\n",
        "\n",
        "    # 현재 Epoch의 평균 손실 값 계산 및 반환\n",
        "    # - len(train_loader): 평균 Loss\n",
        "    return running_loss / len(train_loader)"
      ]
    },
    {
      "cell_type": "code",
      "execution_count": 8,
      "id": "3bb36d73",
      "metadata": {
        "id": "3bb36d73"
      },
      "outputs": [],
      "source": [
        "# 평가 함수 정의\n",
        "def evaluate(model, test_loader, criterion, device):\n",
        "    model.eval()  # 모델을 평가 모드로 설정\n",
        "\n",
        "    running_loss = 0.0 # 미니 배치별 loss값을 누적할 변수\n",
        "\n",
        "    with torch.no_grad():  # 평가 중에는 기울기 계산을 하지 않음\n",
        "        for data, labels in test_loader: # 미니 배치 별 손실 계산\n",
        "            data, labels = data.to(device), labels.to(device) # 미니 배치별 데이터와 레이블 장치 할당\n",
        "\n",
        "            # 순전파\n",
        "            outputs = model(data)\n",
        "\n",
        "            # 손실 계산\n",
        "            loss = criterion(outputs, labels)\n",
        "\n",
        "            # 손실 누적\n",
        "            running_loss += loss.item()\n",
        "\n",
        "\n",
        "    # 현재 Epoch의 평균 손실 값 계산 및 반환\n",
        "    return running_loss / len(test_loader)"
      ]
    },
    {
      "cell_type": "markdown",
      "source": [
        "## Wide 구조 (1024/512/256/128/64/32/1)"
      ],
      "metadata": {
        "id": "a39I77zRW38y"
      },
      "id": "a39I77zRW38y"
    },
    {
      "cell_type": "code",
      "execution_count": 9,
      "id": "-37EJXcZibcK",
      "metadata": {
        "id": "-37EJXcZibcK",
        "outputId": "ea01b152-109b-4faa-f921-dcc839ed2aa5",
        "colab": {
          "base_uri": "https://localhost:8080/",
          "height": 157
        }
      },
      "outputs": [
        {
          "output_type": "execute_result",
          "data": {
            "text/plain": [
              "'\\nclass DNN(nn.Module):\\n    def __init__(self):\\n        super().__init__()\\n        self.fc_2 = nn.Linear(79, 1024)\\n        self.bn_2 = nn.BatchNorm1d(1024)\\n        #self.fc_1 = nn.Linear(79, 512)\\n        self.fc_1 = nn.Linear(1024, 512)\\n        self.bn_1 = nn.BatchNorm1d(512)\\n        #self.fc0 = nn.Linear(79, 256)\\n        self.fc0 = nn.Linear(512, 256)\\n        self.bn0 = nn.BatchNorm1d(256)\\n        #self.fc1 = nn.Linear(79, 128)\\n        self.fc1 = nn.Linear(256, 128)\\n        self.bn1 = nn.BatchNorm1d(128)\\n        self.fc2 = nn.Linear(128, 64)\\n        self.bn2 = nn.BatchNorm1d(64)\\n        #self.fc3 = nn.Linear(64, 1)\\n        self.fc3 = nn.Linear(64, 32)\\n        self.bn3 = nn.BatchNorm1d(32)\\n        self.fc4 = nn.Linear(32, 1)\\n\\n        self.relu = nn.ReLU()\\n        self.dropout = nn.Dropout(0.3)  # 10%의 드롭아웃 적용\\n\\n    def forward(self, x):\\n        x = self.relu(self.bn_2(self.fc_2(x)))\\n        x = self.dropout(x)\\n        x = self.relu(self.bn_1(self.fc_1(x)))\\n        x = self.dropout(x)\\n        x = self.relu(self.bn0(self.fc0(x)))\\n        x = self.dropout(x)\\n        x = self.relu(self.bn1(self.fc1(x)))\\n        x = self.dropout(x)\\n        x = self.relu(self.bn2(self.fc2(x)))\\n        x = self.dropout(x)\\n        x = self.relu(self.bn3(self.fc3(x)))\\n        x = self.dropout(x)\\n        x = self.fc4(x)\\n        return x\\nmodel = DNN().to(device)    \\n#summary(model) \\n'"
            ],
            "application/vnd.google.colaboratory.intrinsic+json": {
              "type": "string"
            }
          },
          "metadata": {},
          "execution_count": 9
        }
      ],
      "source": [
        "# DNN 모델 구성\n",
        "'''\n",
        "class DNN(nn.Module):\n",
        "    def __init__(self):\n",
        "        super().__init__()\n",
        "        self.fc_2 = nn.Linear(79, 1024)\n",
        "        self.bn_2 = nn.BatchNorm1d(1024)\n",
        "        #self.fc_1 = nn.Linear(79, 512)\n",
        "        self.fc_1 = nn.Linear(1024, 512)\n",
        "        self.bn_1 = nn.BatchNorm1d(512)\n",
        "        #self.fc0 = nn.Linear(79, 256)\n",
        "        self.fc0 = nn.Linear(512, 256)\n",
        "        self.bn0 = nn.BatchNorm1d(256)\n",
        "        #self.fc1 = nn.Linear(79, 128)\n",
        "        self.fc1 = nn.Linear(256, 128)\n",
        "        self.bn1 = nn.BatchNorm1d(128)\n",
        "        self.fc2 = nn.Linear(128, 64)\n",
        "        self.bn2 = nn.BatchNorm1d(64)\n",
        "        #self.fc3 = nn.Linear(64, 1)\n",
        "        self.fc3 = nn.Linear(64, 32)\n",
        "        self.bn3 = nn.BatchNorm1d(32)\n",
        "        self.fc4 = nn.Linear(32, 1)\n",
        "\n",
        "        self.relu = nn.ReLU()\n",
        "        self.dropout = nn.Dropout(0.3)  # 10%의 드롭아웃 적용\n",
        "\n",
        "    def forward(self, x):\n",
        "        x = self.relu(self.bn_2(self.fc_2(x)))\n",
        "        x = self.dropout(x)\n",
        "        x = self.relu(self.bn_1(self.fc_1(x)))\n",
        "        x = self.dropout(x)\n",
        "        x = self.relu(self.bn0(self.fc0(x)))\n",
        "        x = self.dropout(x)\n",
        "        x = self.relu(self.bn1(self.fc1(x)))\n",
        "        x = self.dropout(x)\n",
        "        x = self.relu(self.bn2(self.fc2(x)))\n",
        "        x = self.dropout(x)\n",
        "        x = self.relu(self.bn3(self.fc3(x)))\n",
        "        x = self.dropout(x)\n",
        "        x = self.fc4(x)\n",
        "        return x\n",
        "model = DNN().to(device)\n",
        "#summary(model)\n",
        "'''"
      ]
    },
    {
      "cell_type": "markdown",
      "source": [
        "## Wide 구조 (256/128/64/1)"
      ],
      "metadata": {
        "id": "sZQ_cNYDZ3_p"
      },
      "id": "sZQ_cNYDZ3_p"
    },
    {
      "cell_type": "code",
      "source": [
        "# DNN 모델 구성\n",
        "'''\n",
        "class DNN(nn.Module):\n",
        "    def __init__(self):\n",
        "        super().__init__()\n",
        "        self.fc0 = nn.Linear(79, 256)\n",
        "        self.bn0 = nn.BatchNorm1d(256)\n",
        "        #self.fc1 = nn.Linear(79, 128)\n",
        "        self.fc1 = nn.Linear(256, 128)\n",
        "        self.bn1 = nn.BatchNorm1d(128)\n",
        "        self.fc2 = nn.Linear(128, 64)\n",
        "        self.bn2 = nn.BatchNorm1d(64)\n",
        "        self.fc3 = nn.Linear(64, 1)\n",
        "        self.relu = nn.ReLU()\n",
        "        self.dropout = nn.Dropout(0.3)  # 10%의 드롭아웃 적용\n",
        "\n",
        "    def forward(self, x):\n",
        "        x = self.relu(self.bn0(self.fc0(x)))\n",
        "        x = self.dropout(x)\n",
        "        x = self.relu(self.bn1(self.fc1(x)))\n",
        "        x = self.dropout(x)\n",
        "        x = self.relu(self.bn2(self.fc2(x)))\n",
        "        x = self.fc3(x)\n",
        "        return x\n",
        "model = DNN().to(device)\n",
        "#summary(model)\n",
        "'''"
      ],
      "metadata": {
        "id": "ym4v_Sw1Zs_y"
      },
      "id": "ym4v_Sw1Zs_y",
      "execution_count": 10,
      "outputs": []
    },
    {
      "cell_type": "code",
      "source": [
        "## Narrow 구조 (128/64/1)"
      ],
      "metadata": {
        "id": "T82VJ0xwiAxD"
      },
      "id": "T82VJ0xwiAxD",
      "execution_count": null,
      "outputs": []
    },
    {
      "cell_type": "code",
      "source": [
        "# DNN 모델 구성\n",
        "#'''\n",
        "class DNN(nn.Module):\n",
        "    def __init__(self):\n",
        "        super().__init__()\n",
        "        self.fc1 = nn.Linear(79, 128)\n",
        "        self.bn1 = nn.BatchNorm1d(128)\n",
        "        self.fc2 = nn.Linear(128, 64)\n",
        "        self.bn2 = nn.BatchNorm1d(64)\n",
        "        self.fc3 = nn.Linear(64, 1)\n",
        "        self.relu = nn.ReLU()\n",
        "        self.dropout = nn.Dropout(0.3)  # 10%의 드롭아웃 적용\n",
        "\n",
        "    def forward(self, x):\n",
        "        x = self.relu(self.bn1(self.fc1(x)))\n",
        "        x = self.dropout(x)\n",
        "        x = self.relu(self.bn2(self.fc2(x)))\n",
        "        #x = self.relu(self.fc2(x))\n",
        "        x = self.dropout(x)\n",
        "        x = self.fc3(x)\n",
        "        return x\n",
        "model = DNN().to(device)\n",
        "#summary(model)\n",
        "#'''"
      ],
      "metadata": {
        "id": "Ozw8bwM2h-Ya"
      },
      "id": "Ozw8bwM2h-Ya",
      "execution_count": 36,
      "outputs": []
    },
    {
      "cell_type": "code",
      "execution_count": 37,
      "id": "a2237784",
      "metadata": {
        "id": "a2237784"
      },
      "outputs": [],
      "source": [
        "# 손실함수 및 옵티마이저 설정\n",
        "criterion = nn.MSELoss()\n",
        "optimizer = optim.AdamW(model.parameters(), lr=0.001, weight_decay=0.001)"
      ]
    },
    {
      "cell_type": "code",
      "execution_count": 38,
      "id": "w6_1h44eqNYs",
      "metadata": {
        "id": "w6_1h44eqNYs"
      },
      "outputs": [],
      "source": [
        "train_losses = []\n",
        "test_losses = []\n",
        "\n",
        "# Early Stopping을 위한 변수 설정\n",
        "best_loss = float('inf')\n",
        "best_epoch = 0\n",
        "patience = 500\n",
        "counter = 0"
      ]
    },
    {
      "cell_type": "code",
      "execution_count": 14,
      "id": "T5YzQt-d8PSQ",
      "metadata": {
        "id": "T5YzQt-d8PSQ",
        "outputId": "6c1cdf6b-6b94-4f1a-a593-ce43f6a176ed",
        "colab": {
          "base_uri": "https://localhost:8080/",
          "height": 52
        }
      },
      "outputs": [
        {
          "output_type": "execute_result",
          "data": {
            "text/plain": [
              "\"\\npatience = 1000\\nnew_lr = 1e-4  # 원하는 새로운 learning rate 값\\nfor param_group in optimizer.param_groups:\\n    param_group['lr'] = new_lr\\n\""
            ],
            "application/vnd.google.colaboratory.intrinsic+json": {
              "type": "string"
            }
          },
          "metadata": {},
          "execution_count": 14
        }
      ],
      "source": [
        "'''\n",
        "patience = 1000\n",
        "new_lr = 1e-4  # 원하는 새로운 learning rate 값\n",
        "for param_group in optimizer.param_groups:\n",
        "    param_group['lr'] = new_lr\n",
        "'''"
      ]
    },
    {
      "cell_type": "code",
      "execution_count": 39,
      "id": "dacebf8e",
      "metadata": {
        "colab": {
          "base_uri": "https://localhost:8080/"
        },
        "id": "dacebf8e",
        "outputId": "72c5daf5-fbc1-40eb-a195-212543c92a5d"
      },
      "outputs": [
        {
          "output_type": "stream",
          "name": "stdout",
          "text": [
            "Save model Epoch 1 Train Loss : 39,297,359,443.34884 Test Loss : 42,188,469,760.0\n",
            "Save model Epoch 2 Train Loss : 39,282,025,591.06977 Test Loss : 37,257,287,168.0\n",
            "Save model Epoch 3 Train Loss : 39,100,550,548.83721 Test Loss : 36,039,364,608.0\n",
            "Save model Epoch 5 Train Loss : 39,160,856,671.25581 Test Loss : 33,697,414,144.0\n",
            "Save model Epoch 17 Train Loss : 39,222,782,856.93023 Test Loss : 32,107,099,648.0\n",
            "Save model Epoch 53 Train Loss : 38,897,929,287.441864 Test Loss : 30,938,673,152.0\n",
            "Save model Epoch 133 Train Loss : 37,248,707,464.93023 Test Loss : 30,511,821,824.0\n",
            "Save model Epoch 152 Train Loss : 36,831,959,468.65116 Test Loss : 30,148,029,440.0\n",
            "Save model Epoch 159 Train Loss : 36,691,164,564.83721 Test Loss : 29,688,408,064.0\n",
            "Save model Epoch 178 Train Loss : 36,087,864,962.976746 Test Loss : 29,316,477,952.0\n",
            "Save model Epoch 217 Train Loss : 34,941,194,668.65116 Test Loss : 29,198,518,528.0\n",
            "Save model Epoch 231 Train Loss : 34,591,843,589.95349 Test Loss : 28,963,672,576.0\n",
            "Save model Epoch 253 Train Loss : 33,856,902,072.55814 Test Loss : 28,912,423,424.0\n",
            "Save model Epoch 262 Train Loss : 33,488,092,326.697674 Test Loss : 28,904,162,816.0\n",
            "Save model Epoch 268 Train Loss : 33,310,971,046.697674 Test Loss : 27,954,377,984.0\n",
            "Save model Epoch 269 Train Loss : 33,365,453,895.44186 Test Loss : 27,390,417,664.0\n",
            "Save model Epoch 311 Train Loss : 31,550,198,379.162792 Test Loss : 26,723,156,736.0\n",
            "Save model Epoch 330 Train Loss : 30,843,904,619.162792 Test Loss : 26,035,096,576.0\n",
            "Save model Epoch 335 Train Loss : 30,501,432,081.860466 Test Loss : 25,944,911,616.0\n",
            "Save model Epoch 342 Train Loss : 30,420,459,615.255814 Test Loss : 25,848,381,440.0\n",
            "Save model Epoch 352 Train Loss : 30,018,209,982.511627 Test Loss : 24,703,896,576.0\n",
            "Save model Epoch 373 Train Loss : 29,070,613,575.44186 Test Loss : 24,463,872,512.0\n",
            "Save model Epoch 376 Train Loss : 28,839,545,498.7907 Test Loss : 24,415,038,720.0\n",
            "Save model Epoch 382 Train Loss : 28,564,125,696.0 Test Loss : 24,041,591,296.0\n",
            "Save model Epoch 387 Train Loss : 28,396,212,795.534885 Test Loss : 23,441,546,752.0\n",
            "Save model Epoch 416 Train Loss : 27,081,757,553.11628 Test Loss : 22,731,828,480.0\n",
            "Save model Epoch 437 Train Loss : 26,268,660,331.162792 Test Loss : 22,598,157,824.0\n",
            "Save model Epoch 442 Train Loss : 25,861,827,798.32558 Test Loss : 22,377,382,912.0\n",
            "Save model Epoch 451 Train Loss : 25,416,477,719.813953 Test Loss : 22,358,203,392.0\n",
            "Save model Epoch 460 Train Loss : 25,196,159,880.930233 Test Loss : 21,301,437,952.0\n",
            "Save model Epoch 465 Train Loss : 24,831,501,740.65116 Test Loss : 21,066,902,528.0\n",
            "Save model Epoch 479 Train Loss : 24,083,082,216.186047 Test Loss : 20,822,989,568.0\n",
            "Save model Epoch 487 Train Loss : 23,789,256,656.372093 Test Loss : 20,311,001,600.0\n",
            "Save model Epoch 491 Train Loss : 23,456,579,893.581394 Test Loss : 19,466,998,272.0\n",
            "Save model Epoch 511 Train Loss : 22,489,977,189.2093 Test Loss : 19,465,126,912.0\n",
            "Save model Epoch 514 Train Loss : 22,588,065,577.67442 Test Loss : 19,188,350,464.0\n",
            "Save model Epoch 516 Train Loss : 22,497,561,338.046513 Test Loss : 18,723,852,288.0\n",
            "Save model Epoch 526 Train Loss : 21,790,315,043.720932 Test Loss : 18,059,221,504.0\n",
            "Save model Epoch 556 Train Loss : 20,343,506,253.395348 Test Loss : 17,867,593,984.0\n",
            "Save model Epoch 558 Train Loss : 20,476,923,856.372093 Test Loss : 16,519,528,448.0\n",
            "Save model Epoch 573 Train Loss : 19,509,833,942.32558 Test Loss : 15,827,633,664.0\n",
            "Save model Epoch 598 Train Loss : 18,457,944,111.627907 Test Loss : 15,686,995,328.0\n",
            "Save model Epoch 605 Train Loss : 18,190,051,518.511627 Test Loss : 15,627,841,280.0\n",
            "Save model Epoch 613 Train Loss : 17,663,104,404.837208 Test Loss : 14,752,450,048.0\n",
            "Save model Epoch 621 Train Loss : 17,334,305,410.976746 Test Loss : 14,711,847,680.0\n",
            "Save model Epoch 627 Train Loss : 16,757,257,835.16279 Test Loss : 14,655,157,760.0\n",
            "Save model Epoch 633 Train Loss : 16,697,945,992.930233 Test Loss : 14,508,005,376.0\n",
            "Save model Epoch 635 Train Loss : 16,601,185,994.418604 Test Loss : 13,901,806,848.0\n",
            "Save model Epoch 643 Train Loss : 16,296,702,821.209303 Test Loss : 13,793,739,008.0\n",
            "Save model Epoch 658 Train Loss : 15,454,924,276.093023 Test Loss : 13,391,312,384.0\n",
            "Save model Epoch 668 Train Loss : 15,056,369,652.093023 Test Loss : 13,114,703,104.0\n",
            "Save model Epoch 671 Train Loss : 14,849,991,096.55814 Test Loss : 12,999,661,824.0\n",
            "Save model Epoch 672 Train Loss : 14,688,944,342.32558 Test Loss : 12,244,697,088.0\n",
            "Save model Epoch 687 Train Loss : 14,142,921,394.60465 Test Loss : 12,005,120,384.0\n",
            "Save model Epoch 702 Train Loss : 13,480,564,438.32558 Test Loss : 11,999,216,128.0\n",
            "Save model Epoch 706 Train Loss : 13,452,256,029.767443 Test Loss : 11,731,285,504.0\n",
            "Save model Epoch 707 Train Loss : 13,346,432,607.255814 Test Loss : 11,283,233,792.0\n",
            "Save model Epoch 708 Train Loss : 13,274,519,754.418604 Test Loss : 11,238,114,432.0\n",
            "Save model Epoch 722 Train Loss : 12,630,645,033.67442 Test Loss : 11,154,665,984.0\n",
            "Save model Epoch 729 Train Loss : 12,408,814,663.44186 Test Loss : 10,598,753,152.0\n",
            "Save model Epoch 737 Train Loss : 11,854,051,458.976744 Test Loss : 10,429,556,224.0\n",
            "Save model Epoch 751 Train Loss : 11,272,581,310.511627 Test Loss : 9,881,489,664.0\n",
            "Save model Epoch 753 Train Loss : 11,342,814,279.44186 Test Loss : 9,755,481,472.0\n",
            "Save model Epoch 764 Train Loss : 11,025,123,375.627907 Test Loss : 9,720,775,680.0\n",
            "Save model Epoch 765 Train Loss : 10,699,854,228.83721 Test Loss : 9,720,226,304.0\n",
            "Save model Epoch 774 Train Loss : 10,448,722,277.209303 Test Loss : 9,637,232,512.0\n",
            "Save model Epoch 778 Train Loss : 10,237,805,365.581396 Test Loss : 8,968,265,856.0\n",
            "Save model Epoch 783 Train Loss : 10,014,666,299.534883 Test Loss : 8,760,410,624.0\n",
            "Save model Epoch 784 Train Loss : 9,941,828,465.11628 Test Loss : 8,718,988,928.0\n",
            "Save model Epoch 795 Train Loss : 9,495,022,746.790697 Test Loss : 7,917,132,416.0\n",
            "Save model Epoch 805 Train Loss : 9,154,054,894.139534 Test Loss : 7,876,763,392.0\n",
            "Save model Epoch 806 Train Loss : 9,061,928,459.906977 Test Loss : 7,691,592,704.0\n",
            "Save model Epoch 811 Train Loss : 8,969,132,079.627907 Test Loss : 7,595,971,072.0\n",
            "Save model Epoch 823 Train Loss : 8,570,502,370.232558 Test Loss : 7,232,232,064.0\n",
            "Save model Epoch 835 Train Loss : 8,139,121,747.348837 Test Loss : 6,982,213,760.0\n",
            "Save model Epoch 844 Train Loss : 7,646,154,311.44186 Test Loss : 6,232,512,512.0\n",
            "Save model Epoch 859 Train Loss : 7,280,156,296.930233 Test Loss : 5,789,057,536.0\n",
            "Save model Epoch 876 Train Loss : 6,671,531,615.255814 Test Loss : 5,514,677,376.0\n",
            "Save model Epoch 877 Train Loss : 6,794,330,957.395349 Test Loss : 5,471,639,936.0\n",
            "Save model Epoch 888 Train Loss : 6,303,375,160.55814 Test Loss : 5,423,672,320.0\n",
            "Save model Epoch 895 Train Loss : 6,154,457,010.604651 Test Loss : 5,272,190,528.0\n",
            "Save model Epoch 899 Train Loss : 5,912,536,998.697675 Test Loss : 5,163,937,664.0\n",
            "Save model Epoch 903 Train Loss : 5,918,775,581.767442 Test Loss : 5,133,606,528.0\n",
            "Save model Epoch 909 Train Loss : 5,782,602,573.395349 Test Loss : 5,026,711,104.0\n",
            "Save model Epoch 911 Train Loss : 5,838,066,021.209302 Test Loss : 4,945,429,632.0\n",
            "Save model Epoch 914 Train Loss : 5,629,749,021.767442 Test Loss : 4,814,685,632.0\n",
            "Save model Epoch 923 Train Loss : 5,518,494,416.372093 Test Loss : 4,136,446,336.0\n",
            "Save model Epoch 931 Train Loss : 5,131,799,474.604651 Test Loss : 3,887,154,560.0\n",
            "Save model Epoch 939 Train Loss : 4,795,355,898.046512 Test Loss : 3,845,865,792.0\n",
            "Save model Epoch 961 Train Loss : 4,371,327,234.976745 Test Loss : 3,553,123,712.0\n",
            "Save model Epoch 974 Train Loss : 3,895,136,544.744186 Test Loss : 3,272,586,816.0\n",
            "Save model Epoch 975 Train Loss : 4,049,152,770.976744 Test Loss : 3,185,143,776.0\n",
            "Save model Epoch 979 Train Loss : 3,899,779,467.9069767 Test Loss : 3,174,108,416.0\n",
            "Save model Epoch 987 Train Loss : 3,797,339,987.3488374 Test Loss : 3,154,833,216.0\n",
            "Save model Epoch 991 Train Loss : 3,617,683,994.7906976 Test Loss : 2,552,564,864.0\n",
            "Save model Epoch 1000 Train Loss : 3,503,551,050.418605 Test Loss : 2,468,851,008.0\n",
            "Save model Epoch 1010 Train Loss : 3,410,240,733.7674417 Test Loss : 2,278,947,328.0\n",
            "Save model Epoch 1024 Train Loss : 3,225,497,671.4418607 Test Loss : 2,085,094,016.0\n",
            "Save model Epoch 1042 Train Loss : 2,857,673,376.744186 Test Loss : 2,060,135,424.0\n",
            "Save model Epoch 1050 Train Loss : 2,617,587,451.5348835 Test Loss : 1,888,771,704.0\n",
            "Save model Epoch 1059 Train Loss : 2,362,939,042.2325583 Test Loss : 1,771,856,864.0\n",
            "Save model Epoch 1061 Train Loss : 2,286,778,702.883721 Test Loss : 1,544,451,232.0\n",
            "Save model Epoch 1072 Train Loss : 2,157,171,603.3488374 Test Loss : 1,298,793,840.0\n",
            "Save model Epoch 1081 Train Loss : 1,973,916,954.7906976 Test Loss : 1,143,298,004.0\n",
            "Save model Epoch 1101 Train Loss : 2,006,713,824.0 Test Loss : 911,411,296.0\n",
            "Save model Epoch 1107 Train Loss : 1,593,529,463.0697675 Test Loss : 900,807,352.0\n",
            "Save model Epoch 1127 Train Loss : 1,414,420,724.8372092 Test Loss : 867,144,368.0\n",
            "Save model Epoch 1130 Train Loss : 1,404,063,633.1162791 Test Loss : 858,121,024.0\n",
            "Save model Epoch 1132 Train Loss : 1,337,052,383.2558138 Test Loss : 723,374,448.0\n",
            "Save model Epoch 1155 Train Loss : 1,186,764,816.372093 Test Loss : 698,110,944.0\n",
            "Save model Epoch 1170 Train Loss : 1,137,391,682.2325583 Test Loss : 632,410,260.0\n",
            "Save model Epoch 1172 Train Loss : 1,049,481,028.0930233 Test Loss : 552,873,584.0\n",
            "Save model Epoch 1203 Train Loss : 879,347,899.5348837 Test Loss : 539,190,084.0\n",
            "Save model Epoch 1214 Train Loss : 830,297,717.5813954 Test Loss : 495,091,629.0\n",
            "Save model Epoch 1245 Train Loss : 955,178,877.7674419 Test Loss : 467,152,128.0\n",
            "Save model Epoch 1254 Train Loss : 739,030,903.0697675 Test Loss : 446,514,648.0\n",
            "Save model Epoch 1268 Train Loss : 849,483,170.9767442 Test Loss : 423,470,268.0\n",
            "Save model Epoch 1286 Train Loss : 808,607,595.1627907 Test Loss : 404,481,192.0\n",
            "Save model Epoch 1396 Train Loss : 700,525,969.1162791 Test Loss : 395,732,248.0\n",
            "Save model Epoch 1441 Train Loss : 821,357,414.6976744 Test Loss : 392,535,864.0\n",
            "Save model Epoch 1459 Train Loss : 840,886,562.2325581 Test Loss : 380,069,824.0\n",
            "Save model Epoch 1578 Train Loss : 863,636,580.8372093 Test Loss : 334,586,223.1875\n",
            "Early stopping trigerred at epoch 2078 Best Loss 334,586,223.1875\n"
          ]
        }
      ],
      "source": [
        "# 학습 횟수 만큼 반복\n",
        "for epoch in range(10000):\n",
        "\n",
        "    # 모델 학습(학습데이터)\n",
        "    train_loss = train(model, train_loader, criterion, optimizer, device)\n",
        "    train_losses.append(train_loss)\n",
        "\n",
        "    # 모델 평가 (평가데이터)\n",
        "    test_loss = evaluate(model, test_loader, criterion, device)\n",
        "    test_losses.append(test_loss)\n",
        "\n",
        "    #print(f'Epoch {epoch+1} Train Loss : {train_loss} Test Loss : {test_loss}')\n",
        "\n",
        "    # Early Stopping 조건 체크\n",
        "    if test_loss < best_loss:\n",
        "        best_loss = test_loss\n",
        "    #if train_loss < best_loss:\n",
        "    #    best_loss = train_loss\n",
        "        counter = 0\n",
        "        print(f'Save model Epoch {epoch+1} Train Loss : {train_loss:,} Test Loss : {test_loss:,}')\n",
        "        torch.save(model.state_dict(), 'best_model.pt')\n",
        "    else:\n",
        "        counter += 1\n",
        "\n",
        "    if counter >= patience:\n",
        "        print(f'Early stopping trigerred at epoch {epoch+1} Best Loss {best_loss:,}')\n",
        "        break\n",
        "\n"
      ]
    },
    {
      "cell_type": "code",
      "source": [],
      "metadata": {
        "id": "_14idJo2miQ-"
      },
      "id": "_14idJo2miQ-",
      "execution_count": null,
      "outputs": []
    },
    {
      "cell_type": "code",
      "execution_count": null,
      "id": "dlXXkLX2qW1j",
      "metadata": {
        "id": "dlXXkLX2qW1j"
      },
      "outputs": [],
      "source": [
        "#model.load_state_dict(torch.load('best_model.pt'))"
      ]
    },
    {
      "cell_type": "code",
      "execution_count": 2,
      "id": "b5af4ef1",
      "metadata": {
        "colab": {
          "base_uri": "https://localhost:8080/",
          "height": 141
        },
        "id": "b5af4ef1",
        "outputId": "8357e7f6-ed70-4df7-bc88-cf46ce3760ef"
      },
      "outputs": [
        {
          "output_type": "error",
          "ename": "NameError",
          "evalue": "name 'plot_training_results' is not defined",
          "traceback": [
            "\u001b[0;31m---------------------------------------------------------------------------\u001b[0m",
            "\u001b[0;31mNameError\u001b[0m                                 Traceback (most recent call last)",
            "\u001b[0;32m<ipython-input-2-cd9e74f39459>\u001b[0m in \u001b[0;36m<cell line: 0>\u001b[0;34m()\u001b[0m\n\u001b[0;32m----> 1\u001b[0;31m \u001b[0mplot_training_results\u001b[0m\u001b[0;34m(\u001b[0m\u001b[0mtrain_losses\u001b[0m\u001b[0;34m,\u001b[0m \u001b[0mtest_losses\u001b[0m\u001b[0;34m)\u001b[0m\u001b[0;34m\u001b[0m\u001b[0;34m\u001b[0m\u001b[0m\n\u001b[0m",
            "\u001b[0;31mNameError\u001b[0m: name 'plot_training_results' is not defined"
          ]
        }
      ],
      "source": [
        "plot_training_results(train_losses, test_losses)"
      ]
    },
    {
      "cell_type": "code",
      "execution_count": 41,
      "id": "4a5d236e",
      "metadata": {
        "colab": {
          "base_uri": "https://localhost:8080/",
          "height": 409
        },
        "id": "4a5d236e",
        "outputId": "eebb32c6-2c53-4b5d-8de0-4d7251222135"
      },
      "outputs": [
        {
          "output_type": "display_data",
          "data": {
            "text/plain": [
              "<Figure size 1200x500 with 1 Axes>"
            ],
            "image/png": "[encoded data removed]"
          },
          "metadata": {}
        }
      ],
      "source": [
        "plot_training_results(train_losses[1000:], test_losses[1000:])"
      ]
    },
    {
      "cell_type": "code",
      "source": [
        "# 학습 횟수 만큼 반복\n",
        "patience = 1000\n",
        "for epoch in range(10000):\n",
        "\n",
        "    # 모델 학습(학습데이터)\n",
        "    train_loss = train(model, train_loader, criterion, optimizer, device)\n",
        "    train_losses.append(train_loss)\n",
        "\n",
        "    # 모델 평가 (평가데이터)\n",
        "    test_loss = evaluate(model, test_loader, criterion, device)\n",
        "    test_losses.append(test_loss)\n",
        "\n",
        "    #print(f'Epoch {epoch+1} Train Loss : {train_loss} Test Loss : {test_loss}')\n",
        "\n",
        "    # Early Stopping 조건 체크\n",
        "    if test_loss < best_loss:\n",
        "        best_loss = test_loss\n",
        "    #if train_loss < best_loss:\n",
        "    #    best_loss = train_loss\n",
        "        counter = 0\n",
        "        print(f'Save model Epoch {epoch+1} Train Loss : {train_loss:,} Test Loss : {test_loss:,}')\n",
        "        torch.save(model.state_dict(), 'best_model.pt')\n",
        "    else:\n",
        "        counter += 1\n",
        "\n",
        "    if counter >= patience:\n",
        "        print(f'Early stopping trigerred at epoch {epoch+1} Best Loss {best_loss:,}')\n",
        "        break\n"
      ],
      "metadata": {
        "id": "yM-G1EWQmnbr",
        "outputId": "1182133a-1b14-4b3b-d08d-e57fc41146fb",
        "colab": {
          "base_uri": "https://localhost:8080/"
        }
      },
      "id": "yM-G1EWQmnbr",
      "execution_count": 42,
      "outputs": [
        {
          "output_type": "stream",
          "name": "stdout",
          "text": [
            "Early stopping trigerred at epoch 500 Best Loss 334,586,223.1875\n"
          ]
        }
      ]
    },
    {
      "cell_type": "code",
      "execution_count": null,
      "id": "1ecf5dbd",
      "metadata": {
        "id": "1ecf5dbd"
      },
      "outputs": [],
      "source": [
        "# 사용자명을 입력하세요. (이름이 아니여도 괜찮습니다.)\n",
        "username = \"김재곤\"\n",
        "assert username, \"username 변수에 값이 설정되지 않았습니다.\"\n",
        "\n",
        "# 그대로 실행하세요.\n",
        "from JAEN.competition import Competition\n",
        "comp = Competition(\n",
        "    username=username,\n",
        "    course_name='AI Essential',\n",
        "    course_round='0317(1)',\n",
        "    competition_name='House Price Prediction'\n",
        ")\n",
        "\n",
        "# 학습된 모델의 TEST 예측\n",
        "model.eval()\n",
        "TEST2 = TEST.to(device)\n",
        "with torch.no_grad():\n",
        "    outputs = model(TEST2)\n",
        "outputs\n",
        "\n",
        "# comp.prediction에 TEST 예측 결과 대입\n",
        "comp.prediction = outputs\n",
        "comp.prediction\n",
        "\n",
        "# 제출\n",
        "#comp.submit()"
      ]
    }
  ],
  "metadata": {
    "colab": {
      "provenance": [],
      "gpuType": "T4",
      "include_colab_link": true
    },
    "kernelspec": {
      "display_name": "Python 3",
      "name": "python3"
    },
    "language_info": {
      "codemirror_mode": {
        "name": "ipython",
        "version": 3
      },
      "file_extension": ".py",
      "mimetype": "text/x-python",
      "name": "python",
      "nbconvert_exporter": "python",
      "pygments_lexer": "ipython3",
      "version": "3.11.7"
    },
    "accelerator": "GPU"
  },
  "nbformat": 4,
  "nbformat_minor": 5
}