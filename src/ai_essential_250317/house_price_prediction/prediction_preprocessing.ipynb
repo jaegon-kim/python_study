{
  "cells": [
    {
      "cell_type": "markdown",
      "metadata": {
        "id": "view-in-github",
        "colab_type": "text"
      },
      "source": [
        "<a href=\"https://colab.research.google.com/github/jaegon-kim/python_study/blob/main/src/ai_essential_250317/house_price_prediction/prediction_preprocessing.ipynb\" target=\"_parent\"><img src=\"https://colab.research.google.com/assets/colab-badge.svg\" alt=\"Open In Colab\"/></a>"
      ]
    },
    {
      "cell_type": "markdown",
      "id": "C3HNZJH5LuqI",
      "metadata": {
        "id": "C3HNZJH5LuqI"
      },
      "source": [
        "# House Price Prediction\n",
        "- **목표**\n",
        "  - 이 워크샵은 주어진 데이터셋을 이용해 심층신경망 모델을 학습시켜 주택의 최종 판매 가격(SalePrice)을 예측하는 것이 최종 목표입니다.\n",
        "\n",
        "- **데이터셋 정보**\n",
        "  - 데이터셋은 총 79개의 설명 변수와 타겟 변수인 주택 가격(SalePrice)로 구성됩니다.\n",
        "  - 설명 변수는 주택의 다양한 특성(예: 건축 연도, 면적, 위치, 방 개수 등)을 포함합니다.\n",
        "  - 데이터는 판매 가격이 포함된 학습용 데이터인 `X`, `y` 와 판매 가격이 포함되지 않은 평가용 데이터인 `TEST`파일로 나뉘며, 각각 모델 학습 및 평가에 사용됩니다.\n",
        "    - 평가용 데이터 `TEST`의 판매 가격(SalePrice)를 예측 후 리더보드로 제출하여 평가합니다.\n",
        "\n",
        "- **문제 유형**\n",
        "  - 이 워크샵은 회귀 문제로 연속형 변수를 예측하는 것이 목표입니다. 모델의 성능은 `Mean Absolute Error`로 측정됩니다."
      ]
    },
    {
      "cell_type": "markdown",
      "id": "FerWbWa8ML9S",
      "metadata": {
        "id": "FerWbWa8ML9S"
      },
      "source": [
        "## 1. 환경 설정"
      ]
    },
    {
      "cell_type": "code",
      "execution_count": 1,
      "id": "fbebc02c",
      "metadata": {
        "id": "fbebc02c"
      },
      "outputs": [],
      "source": [
        "%%capture\n",
        "!pip install JAEN -U"
      ]
    },
    {
      "cell_type": "code",
      "execution_count": 2,
      "id": "2b192c23",
      "metadata": {
        "colab": {
          "base_uri": "https://localhost:8080/"
        },
        "id": "2b192c23",
        "outputId": "5254a45d-1ab1-472c-e691-498b75ce17b1"
      },
      "outputs": [
        {
          "output_type": "execute_result",
          "data": {
            "text/plain": [
              "device(type='cuda')"
            ]
          },
          "metadata": {},
          "execution_count": 2
        }
      ],
      "source": [
        "# 그대로 실행하세요.\n",
        "import torch\n",
        "import torch.nn as nn\n",
        "import torch.optim as optim\n",
        "from torchinfo import summary\n",
        "from JAEN.utils import plot_training_results\n",
        "\n",
        "\n",
        "device = torch.device(\"cuda\" if torch.cuda.is_available() else \"cpu\")\n",
        "device"
      ]
    },
    {
      "cell_type": "markdown",
      "id": "OSiIE4tdPcSV",
      "metadata": {
        "id": "OSiIE4tdPcSV"
      },
      "source": [
        "## 2. 데이터 로드"
      ]
    },
    {
      "cell_type": "code",
      "execution_count": 3,
      "id": "Cwo9d1i-ON3u",
      "metadata": {
        "colab": {
          "base_uri": "https://localhost:8080/"
        },
        "id": "Cwo9d1i-ON3u",
        "outputId": "7347c34e-1fbe-410f-d3c6-b65890ee792b"
      },
      "outputs": [
        {
          "output_type": "execute_result",
          "data": {
            "text/plain": [
              "(torch.Size([1460, 79]), torch.Size([1460, 1]), torch.Size([1459, 79]))"
            ]
          },
          "metadata": {},
          "execution_count": 3
        }
      ],
      "source": [
        "from JAEN.datasets import load_house_price\n",
        "X, y, TEST = load_house_price()\n",
        "X.shape, y.shape, TEST.shape"
      ]
    },
    {
      "cell_type": "code",
      "execution_count": 4,
      "id": "55745e97",
      "metadata": {
        "colab": {
          "base_uri": "https://localhost:8080/"
        },
        "id": "55745e97",
        "outputId": "66d90dd5-007b-4d18-f15d-16b39b7c179d"
      },
      "outputs": [
        {
          "output_type": "stream",
          "name": "stdout",
          "text": [
            "Column Mean: tensor([-9.4714e-09, -7.8384e-09, -3.5926e-09,  3.2660e-10,  4.5724e-09,\n",
            "        -1.3064e-08, -1.5024e-08, -3.5273e-08, -2.6128e-09, -1.7636e-08,\n",
            "        -1.3391e-08, -9.1448e-09, -2.9067e-08,  1.0778e-08,  1.5350e-08,\n",
            "         1.6003e-08,  3.2660e-10, -1.6330e-08,  5.8788e-09,  5.2256e-09,\n",
            "         1.6983e-08, -2.1556e-08,  6.5320e-09,  1.8290e-08, -2.3515e-08,\n",
            "        -1.1104e-08, -2.7434e-08, -6.0421e-09, -1.6983e-08, -1.3064e-08,\n",
            "         9.1448e-09,  1.5677e-08,  3.9192e-09, -1.9596e-09,  1.1758e-08,\n",
            "        -3.1354e-08, -7.1852e-09,  1.3064e-09,  1.8290e-08, -4.2458e-09,\n",
            "         0.0000e+00, -7.1852e-09, -2.6128e-09,  2.0902e-08, -2.0249e-08,\n",
            "        -6.5320e-10, -1.5677e-08,  2.9394e-08,  1.5677e-08,  4.1642e-09,\n",
            "         1.2860e-08, -3.9192e-09,  0.0000e+00,  5.2256e-09,  1.3064e-08,\n",
            "         9.7980e-10,  1.3064e-08,  5.2256e-09, -5.8788e-09,  1.4370e-08,\n",
            "         1.8290e-08,  5.1440e-09, -4.3111e-08, -2.0902e-08,  2.3189e-08,\n",
            "        -7.1852e-09, -3.9192e-09, -5.8788e-09, -1.1268e-08, -2.7761e-09,\n",
            "         1.6330e-09,  1.3391e-08, -2.3515e-08,  1.8290e-08,  1.3064e-09,\n",
            "         1.3799e-08,  5.8788e-09,  1.3064e-08, -1.2411e-08]) torch.Size([79])\n",
            "Column Std: tensor([1.0003, 1.0003, 1.0003, 1.0003, 1.0003, 1.0003, 1.0003, 1.0003, 1.0003,\n",
            "        1.0003, 1.0003, 1.0003, 1.0003, 1.0003, 1.0003, 1.0003, 1.0003, 1.0003,\n",
            "        1.0003, 1.0003, 1.0003, 1.0003, 1.0003, 1.0003, 1.0003, 1.0003, 1.0003,\n",
            "        1.0003, 1.0003, 1.0003, 1.0003, 1.0003, 1.0003, 1.0003, 1.0003, 1.0003,\n",
            "        1.0003, 1.0003, 1.0003, 1.0003, 1.0003, 1.0003, 1.0003, 1.0003, 1.0003,\n",
            "        1.0003, 1.0003, 1.0003, 1.0003, 1.0003, 1.0003, 1.0003, 1.0003, 1.0003,\n",
            "        1.0003, 1.0003, 1.0003, 1.0003, 1.0003, 1.0003, 1.0003, 1.0003, 1.0003,\n",
            "        1.0003, 1.0003, 1.0003, 1.0003, 1.0003, 1.0003, 1.0003, 1.0003, 1.0003,\n",
            "        1.0003, 1.0003, 1.0003, 1.0003, 1.0003, 1.0003, 1.0003])\n"
          ]
        }
      ],
      "source": [
        "column_mean = torch.mean(X, dim=0)\n",
        "print(\"Column Mean:\", column_mean, column_mean.shape)\n",
        "\n",
        "column_std = torch.std(X, dim=0)\n",
        "print(\"Column Std:\", column_std)"
      ]
    },
    {
      "cell_type": "code",
      "execution_count": 5,
      "id": "77cea581",
      "metadata": {
        "colab": {
          "base_uri": "https://localhost:8080/"
        },
        "id": "77cea581",
        "outputId": "da4e269a-05ac-4eb1-ca1d-3c2a44f73055"
      },
      "outputs": [
        {
          "output_type": "execute_result",
          "data": {
            "text/plain": [
              "(torch.Size([1360, 79]),\n",
              " torch.Size([1360, 1]),\n",
              " torch.Size([100, 79]),\n",
              " torch.Size([100, 1]))"
            ]
          },
          "metadata": {},
          "execution_count": 5
        }
      ],
      "source": [
        "train_X, train_y = X[:1360, :], y[:1360, :]\n",
        "test_X, test_y = X[1360:, :], y[1360:, :]\n",
        "\n",
        "train_X.shape, train_y.shape, test_X.shape, test_y.shape"
      ]
    },
    {
      "cell_type": "markdown",
      "id": "I_Vc3a22PgBm",
      "metadata": {
        "id": "I_Vc3a22PgBm"
      },
      "source": [
        "## 3. 제출 예시 코드"
      ]
    },
    {
      "cell_type": "markdown",
      "id": "4wNCB3ATlBe4",
      "metadata": {
        "id": "4wNCB3ATlBe4"
      },
      "source": [
        "## 4. 심층신경망 모델을 구성하고 학습하여 TEST를 예측해보세요.\n",
        "- TEST의 예측 결과는 `comp.prediction`에 대입해주세요. **torch.tensor** 형태여야합니다."
      ]
    },
    {
      "cell_type": "code",
      "execution_count": 6,
      "id": "KtwmpH1EibaM",
      "metadata": {
        "id": "KtwmpH1EibaM"
      },
      "outputs": [],
      "source": [
        "# DataLoader 생성\n",
        "from torch.utils.data import DataLoader, TensorDataset\n",
        "train_loader = DataLoader(TensorDataset(train_X, train_y), batch_size=32, shuffle=True)\n",
        "test_loader = DataLoader(TensorDataset(test_X, test_y), batch_size=32, shuffle=True)\n"
      ]
    },
    {
      "cell_type": "code",
      "execution_count": 7,
      "id": "f7b6fa57",
      "metadata": {
        "id": "f7b6fa57"
      },
      "outputs": [],
      "source": [
        "def train(model, train_loader, criterion, optimizer, device):\n",
        "    model.train()  # 모델을 학습 모드로 설정\n",
        "\n",
        "    running_loss = 0.0 # 미니 배치별 loss값을 누적할 변수\n",
        "\n",
        "    for data, labels in train_loader: # 미니 배치 별 파라미터 업데이트 수행\n",
        "        data, labels = data.to(device), labels.to(device) # 미니 배치별 데이터와 레이블 장치 할당\n",
        "\n",
        "        # 순전파\n",
        "        outputs = model(data)\n",
        "\n",
        "        # 손실 계산\n",
        "        loss = criterion(outputs, labels)\n",
        "\n",
        "        # 기울기 초기화\n",
        "        optimizer.zero_grad()\n",
        "\n",
        "        # 역전파\n",
        "        loss.backward()\n",
        "\n",
        "        # 파라미터 업데이트\n",
        "        optimizer.step()\n",
        "\n",
        "        # 손실 누적\n",
        "        running_loss += loss.item()\n",
        "\n",
        "    # 현재 Epoch의 평균 손실 값 계산 및 반환\n",
        "    # - len(train_loader): 평균 Loss\n",
        "    return running_loss / len(train_loader)"
      ]
    },
    {
      "cell_type": "code",
      "execution_count": 8,
      "id": "3bb36d73",
      "metadata": {
        "id": "3bb36d73"
      },
      "outputs": [],
      "source": [
        "# 평가 함수 정의\n",
        "def evaluate(model, test_loader, criterion, device):\n",
        "    model.eval()  # 모델을 평가 모드로 설정\n",
        "\n",
        "    running_loss = 0.0 # 미니 배치별 loss값을 누적할 변수\n",
        "\n",
        "    with torch.no_grad():  # 평가 중에는 기울기 계산을 하지 않음\n",
        "        for data, labels in test_loader: # 미니 배치 별 손실 계산\n",
        "            data, labels = data.to(device), labels.to(device) # 미니 배치별 데이터와 레이블 장치 할당\n",
        "\n",
        "            # 순전파\n",
        "            outputs = model(data)\n",
        "\n",
        "            # 손실 계산\n",
        "            loss = criterion(outputs, labels)\n",
        "\n",
        "            # 손실 누적\n",
        "            running_loss += loss.item()\n",
        "\n",
        "\n",
        "    # 현재 Epoch의 평균 손실 값 계산 및 반환\n",
        "    return running_loss / len(test_loader)"
      ]
    },
    {
      "cell_type": "markdown",
      "source": [
        "## Wide 구조 (1024/512/256/128/64/32/1)"
      ],
      "metadata": {
        "id": "a39I77zRW38y"
      },
      "id": "a39I77zRW38y"
    },
    {
      "cell_type": "code",
      "execution_count": 9,
      "id": "-37EJXcZibcK",
      "metadata": {
        "id": "-37EJXcZibcK"
      },
      "outputs": [],
      "source": [
        "# DNN 모델 구성\n",
        "#'''\n",
        "class DNN(nn.Module):\n",
        "    def __init__(self):\n",
        "        super().__init__()\n",
        "        self.fc_2 = nn.Linear(79, 1024)\n",
        "        self.bn_2 = nn.BatchNorm1d(1024)\n",
        "        #self.fc_1 = nn.Linear(79, 512)\n",
        "        self.fc_1 = nn.Linear(1024, 512)\n",
        "        self.bn_1 = nn.BatchNorm1d(512)\n",
        "        #self.fc0 = nn.Linear(79, 256)\n",
        "        self.fc0 = nn.Linear(512, 256)\n",
        "        self.bn0 = nn.BatchNorm1d(256)\n",
        "        #self.fc1 = nn.Linear(79, 128)\n",
        "        self.fc1 = nn.Linear(256, 128)\n",
        "        self.bn1 = nn.BatchNorm1d(128)\n",
        "        self.fc2 = nn.Linear(128, 64)\n",
        "        self.bn2 = nn.BatchNorm1d(64)\n",
        "        self.fc3 = nn.Linear(64, 1)\n",
        "        self.relu = nn.ReLU()\n",
        "        self.dropout = nn.Dropout(0.3)  # 10%의 드롭아웃 적용\n",
        "\n",
        "    def forward(self, x):\n",
        "        #x = self.relu(self.fc1(x))\n",
        "        x = self.relu(self.bn_2(self.fc_2(x)))\n",
        "        x = self.dropout(x)\n",
        "        x = self.relu(self.bn_1(self.fc_1(x)))\n",
        "        x = self.dropout(x)\n",
        "        x = self.relu(self.bn0(self.fc0(x)))\n",
        "        x = self.dropout(x)\n",
        "        x = self.relu(self.bn1(self.fc1(x)))\n",
        "        x = self.dropout(x)\n",
        "        x = self.relu(self.bn2(self.fc2(x)))\n",
        "        x = self.fc3(x)\n",
        "        return x\n",
        "\n",
        "model = DNN().to(device)\n",
        "#summary(model)\n",
        "#'''"
      ]
    },
    {
      "cell_type": "markdown",
      "source": [
        "## Wide 구조 (256/128/64/1)"
      ],
      "metadata": {
        "id": "sZQ_cNYDZ3_p"
      },
      "id": "sZQ_cNYDZ3_p"
    },
    {
      "cell_type": "code",
      "source": [
        "# DNN 모델 구성\n",
        "'''\n",
        "class DNN(nn.Module):\n",
        "    def __init__(self):\n",
        "        super().__init__()\n",
        "        self.fc0 = nn.Linear(79, 256)\n",
        "        self.bn0 = nn.BatchNorm1d(256)\n",
        "        #self.fc1 = nn.Linear(79, 128)\n",
        "        self.fc1 = nn.Linear(256, 128)\n",
        "        self.bn1 = nn.BatchNorm1d(128)\n",
        "        self.fc2 = nn.Linear(128, 64)\n",
        "        self.bn2 = nn.BatchNorm1d(64)\n",
        "        self.fc3 = nn.Linear(64, 1)\n",
        "        self.relu = nn.ReLU()\n",
        "        self.dropout = nn.Dropout(0.3)  # 10%의 드롭아웃 적용\n",
        "\n",
        "    def forward(self, x):\n",
        "        x = self.relu(self.bn0(self.fc0(x)))\n",
        "        x = self.dropout(x)\n",
        "        x = self.relu(self.bn1(self.fc1(x)))\n",
        "        x = self.dropout(x)\n",
        "        x = self.relu(self.bn2(self.fc2(x)))\n",
        "        x = self.dropout(x)\n",
        "        x = self.fc3(x)\n",
        "        return x\n",
        "model = DNN().to(device)\n",
        "#summary(model)\n",
        "'''"
      ],
      "metadata": {
        "colab": {
          "base_uri": "https://localhost:8080/",
          "height": 139
        },
        "id": "ym4v_Sw1Zs_y",
        "outputId": "efe6987a-c604-4c8c-deb3-65cd5bc9d67c"
      },
      "id": "ym4v_Sw1Zs_y",
      "execution_count": 10,
      "outputs": [
        {
          "output_type": "execute_result",
          "data": {
            "text/plain": [
              "'\\nclass DNN(nn.Module):\\n    def __init__(self):\\n        super().__init__()\\n        self.fc0 = nn.Linear(79, 256)\\n        self.bn0 = nn.BatchNorm1d(256)\\n        #self.fc1 = nn.Linear(79, 128)\\n        self.fc1 = nn.Linear(256, 128)\\n        self.bn1 = nn.BatchNorm1d(128)\\n        self.fc2 = nn.Linear(128, 64)\\n        self.bn2 = nn.BatchNorm1d(64)\\n        self.fc3 = nn.Linear(64, 1)\\n        self.relu = nn.ReLU()\\n        self.dropout = nn.Dropout(0.3)  # 10%의 드롭아웃 적용\\n\\n    def forward(self, x):\\n        x = self.relu(self.bn0(self.fc0(x)))\\n        x = self.dropout(x)\\n        x = self.relu(self.bn1(self.fc1(x)))\\n        x = self.dropout(x)\\n        x = self.relu(self.bn2(self.fc2(x)))\\n        x = self.dropout(x)\\n        x = self.fc3(x)\\n        return x\\nmodel = DNN().to(device)    \\n#summary(model)\\n'"
            ],
            "application/vnd.google.colaboratory.intrinsic+json": {
              "type": "string"
            }
          },
          "metadata": {},
          "execution_count": 10
        }
      ]
    },
    {
      "cell_type": "code",
      "source": [
        "## Narrow 구조 (128/64/1)"
      ],
      "metadata": {
        "id": "T82VJ0xwiAxD"
      },
      "id": "T82VJ0xwiAxD",
      "execution_count": 11,
      "outputs": []
    },
    {
      "cell_type": "code",
      "source": [
        "# DNN 모델 구성\n",
        "'''\n",
        "class DNN(nn.Module):\n",
        "    def __init__(self):\n",
        "        super().__init__()\n",
        "        self.fc1 = nn.Linear(79, 128)\n",
        "        self.bn1 = nn.BatchNorm1d(128)\n",
        "        self.fc2 = nn.Linear(128, 64)\n",
        "        self.bn2 = nn.BatchNorm1d(64)\n",
        "        self.fc3 = nn.Linear(64, 1)\n",
        "        self.relu = nn.ReLU()\n",
        "        self.dropout = nn.Dropout(0.3)  # 10%의 드롭아웃 적용\n",
        "\n",
        "    def forward(self, x):\n",
        "        x = self.relu(self.bn1(self.fc1(x)))\n",
        "        x = self.dropout(x)\n",
        "        x = self.relu(self.bn2(self.fc2(x)))\n",
        "        #x = self.relu(self.fc2(x))\n",
        "        x = self.dropout(x)\n",
        "        x = self.fc3(x)\n",
        "        return x\n",
        "model = DNN().to(device)\n",
        "#summary(model)\n",
        "'''"
      ],
      "metadata": {
        "colab": {
          "base_uri": "https://localhost:8080/",
          "height": 104
        },
        "id": "Ozw8bwM2h-Ya",
        "outputId": "4968735f-b7ed-4917-c378-7c0027dcea0a"
      },
      "id": "Ozw8bwM2h-Ya",
      "execution_count": 12,
      "outputs": [
        {
          "output_type": "execute_result",
          "data": {
            "text/plain": [
              "'\\nclass DNN(nn.Module):\\n    def __init__(self):\\n        super().__init__()\\n        self.fc1 = nn.Linear(79, 128)\\n        self.bn1 = nn.BatchNorm1d(128)\\n        self.fc2 = nn.Linear(128, 64)\\n        self.bn2 = nn.BatchNorm1d(64)\\n        self.fc3 = nn.Linear(64, 1)\\n        self.relu = nn.ReLU()\\n        self.dropout = nn.Dropout(0.3)  # 10%의 드롭아웃 적용\\n\\n    def forward(self, x):\\n        x = self.relu(self.bn1(self.fc1(x)))\\n        x = self.dropout(x)\\n        x = self.relu(self.bn2(self.fc2(x)))\\n        #x = self.relu(self.fc2(x))\\n        x = self.dropout(x)\\n        x = self.fc3(x)\\n        return x\\nmodel = DNN().to(device)    \\n#summary(model)\\n'"
            ],
            "application/vnd.google.colaboratory.intrinsic+json": {
              "type": "string"
            }
          },
          "metadata": {},
          "execution_count": 12
        }
      ]
    },
    {
      "cell_type": "code",
      "execution_count": 13,
      "id": "a2237784",
      "metadata": {
        "id": "a2237784"
      },
      "outputs": [],
      "source": [
        "# 손실함수 및 옵티마이저 설정\n",
        "criterion = nn.MSELoss()\n",
        "optimizer = optim.AdamW(model.parameters(), lr=0.001, weight_decay=0.001)"
      ]
    },
    {
      "cell_type": "code",
      "execution_count": 14,
      "id": "w6_1h44eqNYs",
      "metadata": {
        "id": "w6_1h44eqNYs"
      },
      "outputs": [],
      "source": [
        "train_losses = []\n",
        "test_losses = []\n",
        "\n",
        "# Early Stopping을 위한 변수 설정\n",
        "best_loss = float('inf')\n",
        "best_epoch = 0\n",
        "patience = 1000\n",
        "counter = 0"
      ]
    },
    {
      "cell_type": "code",
      "execution_count": 15,
      "id": "T5YzQt-d8PSQ",
      "metadata": {
        "id": "T5YzQt-d8PSQ",
        "colab": {
          "base_uri": "https://localhost:8080/",
          "height": 52
        },
        "outputId": "be83a7ad-a3e2-4f4b-ab2f-2a4b4a9c61f7"
      },
      "outputs": [
        {
          "output_type": "execute_result",
          "data": {
            "text/plain": [
              "\"\\npatience = 1000\\nnew_lr = 1e-4  # 원하는 새로운 learning rate 값\\nfor param_group in optimizer.param_groups:\\n    param_group['lr'] = new_lr\\n\""
            ],
            "application/vnd.google.colaboratory.intrinsic+json": {
              "type": "string"
            }
          },
          "metadata": {},
          "execution_count": 15
        }
      ],
      "source": [
        "'''\n",
        "patience = 1000\n",
        "new_lr = 1e-4  # 원하는 새로운 learning rate 값\n",
        "for param_group in optimizer.param_groups:\n",
        "    param_group['lr'] = new_lr\n",
        "'''"
      ]
    },
    {
      "cell_type": "code",
      "execution_count": 16,
      "id": "dacebf8e",
      "metadata": {
        "colab": {
          "base_uri": "https://localhost:8080/"
        },
        "id": "dacebf8e",
        "outputId": "6408ac59-513b-4ef7-b1e2-3b1171f30925"
      },
      "outputs": [
        {
          "output_type": "stream",
          "name": "stdout",
          "text": [
            "Save model Epoch 1 Train Loss : 39,237,344,756.093025 Test Loss : 42,291,252,224.0\n",
            "Save model Epoch 2 Train Loss : 39,077,015,552.0 Test Loss : 31,675,322,880.0\n",
            "Save model Epoch 22 Train Loss : 39,075,485,267.34884 Test Loss : 31,669,172,224.0\n",
            "Save model Epoch 63 Train Loss : 38,618,555,653.95349 Test Loss : 31,267,151,616.0\n",
            "Save model Epoch 113 Train Loss : 37,758,160,657.860466 Test Loss : 31,092,223,488.0\n",
            "Save model Epoch 120 Train Loss : 37,524,138,746.04651 Test Loss : 30,833,761,280.0\n",
            "Save model Epoch 122 Train Loss : 37,384,892,939.906975 Test Loss : 30,832,396,800.0\n",
            "Save model Epoch 162 Train Loss : 36,536,997,697.48837 Test Loss : 30,064,110,592.0\n",
            "Save model Epoch 188 Train Loss : 35,675,399,810.976746 Test Loss : 29,896,109,056.0\n",
            "Save model Epoch 225 Train Loss : 34,607,940,060.27907 Test Loss : 29,354,910,976.0\n",
            "Save model Epoch 235 Train Loss : 34,089,738,382.88372 Test Loss : 29,142,379,008.0\n",
            "Save model Epoch 236 Train Loss : 34,179,988,075.162792 Test Loss : 29,134,450,688.0\n",
            "Save model Epoch 243 Train Loss : 33,840,445,821.023254 Test Loss : 28,646,352,896.0\n",
            "Save model Epoch 247 Train Loss : 33,692,431,383.813953 Test Loss : 28,287,937,024.0\n",
            "Save model Epoch 250 Train Loss : 33,864,888,558.139534 Test Loss : 27,828,062,720.0\n",
            "Save model Epoch 254 Train Loss : 33,752,182,164.837208 Test Loss : 27,364,427,264.0\n",
            "Save model Epoch 290 Train Loss : 32,020,506,433.488373 Test Loss : 27,101,670,400.0\n",
            "Save model Epoch 295 Train Loss : 31,881,044,063.255814 Test Loss : 27,032,376,576.0\n",
            "Save model Epoch 312 Train Loss : 31,261,902,848.0 Test Loss : 26,963,777,024.0\n",
            "Save model Epoch 318 Train Loss : 30,988,236,276.09302 Test Loss : 26,268,464,640.0\n",
            "Save model Epoch 319 Train Loss : 31,017,772,579.720932 Test Loss : 25,878,612,992.0\n",
            "Save model Epoch 331 Train Loss : 30,480,396,954.7907 Test Loss : 25,619,617,792.0\n",
            "Save model Epoch 352 Train Loss : 29,610,346,686.511627 Test Loss : 24,876,635,904.0\n",
            "Save model Epoch 360 Train Loss : 29,178,140,100.465115 Test Loss : 24,062,810,112.0\n",
            "Save model Epoch 380 Train Loss : 28,181,574,155.90698 Test Loss : 23,455,237,376.0\n",
            "Save model Epoch 386 Train Loss : 28,168,774,108.279068 Test Loss : 23,260,614,144.0\n",
            "Save model Epoch 397 Train Loss : 27,427,900,535.069767 Test Loss : 23,047,290,624.0\n",
            "Save model Epoch 402 Train Loss : 27,160,739,530.418606 Test Loss : 22,645,299,456.0\n",
            "Save model Epoch 417 Train Loss : 26,460,170,716.279068 Test Loss : 21,733,065,728.0\n",
            "Save model Epoch 430 Train Loss : 25,892,539,987.34884 Test Loss : 20,793,733,888.0\n",
            "Save model Epoch 470 Train Loss : 23,829,172,366.88372 Test Loss : 20,652,452,864.0\n",
            "Save model Epoch 484 Train Loss : 23,260,462,032.372093 Test Loss : 20,388,184,320.0\n",
            "Save model Epoch 490 Train Loss : 22,880,102,828.65116 Test Loss : 20,086,668,032.0\n",
            "Save model Epoch 491 Train Loss : 22,904,963,595.90698 Test Loss : 19,347,540,736.0\n",
            "Save model Epoch 515 Train Loss : 21,631,170,750.511627 Test Loss : 19,330,926,080.0\n",
            "Save model Epoch 518 Train Loss : 21,578,458,469.2093 Test Loss : 18,651,181,056.0\n",
            "Save model Epoch 519 Train Loss : 21,366,938,695.44186 Test Loss : 18,261,279,232.0\n",
            "Save model Epoch 532 Train Loss : 20,879,910,507.162792 Test Loss : 18,252,816,384.0\n",
            "Save model Epoch 537 Train Loss : 20,578,695,882.418606 Test Loss : 18,235,866,880.0\n",
            "Save model Epoch 541 Train Loss : 20,388,759,766.32558 Test Loss : 17,530,004,480.0\n",
            "Save model Epoch 549 Train Loss : 20,006,567,483.534885 Test Loss : 17,279,553,536.0\n",
            "Save model Epoch 550 Train Loss : 19,958,378,448.372093 Test Loss : 16,831,903,232.0\n",
            "Save model Epoch 554 Train Loss : 19,834,396,624.372093 Test Loss : 16,780,731,392.0\n",
            "Save model Epoch 560 Train Loss : 19,354,552,605.76744 Test Loss : 16,740,201,984.0\n",
            "Save model Epoch 562 Train Loss : 19,301,605,566.511627 Test Loss : 16,141,244,928.0\n",
            "Save model Epoch 577 Train Loss : 18,681,367,147.162792 Test Loss : 15,830,618,624.0\n",
            "Save model Epoch 581 Train Loss : 18,416,420,816.372093 Test Loss : 15,749,861,120.0\n",
            "Save model Epoch 582 Train Loss : 18,309,304,891.534885 Test Loss : 14,948,427,264.0\n",
            "Save model Epoch 603 Train Loss : 17,339,126,164.837208 Test Loss : 14,743,014,144.0\n",
            "Save model Epoch 618 Train Loss : 16,581,159,650.232557 Test Loss : 14,507,842,816.0\n",
            "Save model Epoch 622 Train Loss : 16,370,576,717.39535 Test Loss : 14,077,710,976.0\n",
            "Save model Epoch 636 Train Loss : 15,669,257,144.55814 Test Loss : 13,826,638,080.0\n",
            "Save model Epoch 638 Train Loss : 15,549,645,609.67442 Test Loss : 13,504,274,816.0\n",
            "Save model Epoch 642 Train Loss : 15,398,555,243.16279 Test Loss : 13,482,721,792.0\n",
            "Save model Epoch 645 Train Loss : 15,201,195,936.744186 Test Loss : 13,327,831,040.0\n",
            "Save model Epoch 646 Train Loss : 15,078,327,557.95349 Test Loss : 13,263,658,752.0\n",
            "Save model Epoch 650 Train Loss : 14,921,645,579.906977 Test Loss : 12,380,161,408.0\n",
            "Save model Epoch 667 Train Loss : 14,154,901,920.744186 Test Loss : 12,123,448,704.0\n",
            "Save model Epoch 674 Train Loss : 13,851,868,374.32558 Test Loss : 12,095,396,224.0\n",
            "Save model Epoch 681 Train Loss : 13,594,820,929.488373 Test Loss : 11,997,717,120.0\n",
            "Save model Epoch 692 Train Loss : 13,038,885,888.0 Test Loss : 11,324,827,520.0\n",
            "Save model Epoch 693 Train Loss : 12,953,228,418.976744 Test Loss : 11,015,462,912.0\n",
            "Save model Epoch 696 Train Loss : 12,809,061,268.83721 Test Loss : 10,864,926,976.0\n",
            "Save model Epoch 700 Train Loss : 12,668,629,206.32558 Test Loss : 10,512,948,992.0\n",
            "Save model Epoch 702 Train Loss : 12,623,549,273.302326 Test Loss : 10,217,629,184.0\n",
            "Save model Epoch 718 Train Loss : 11,790,462,249.67442 Test Loss : 10,070,897,920.0\n",
            "Save model Epoch 723 Train Loss : 11,528,236,776.186047 Test Loss : 9,919,961,088.0\n",
            "Save model Epoch 729 Train Loss : 11,335,982,568.186047 Test Loss : 9,691,224,576.0\n",
            "Save model Epoch 733 Train Loss : 11,213,347,441.11628 Test Loss : 8,886,059,520.0\n",
            "Save model Epoch 738 Train Loss : 10,845,216,744.186047 Test Loss : 8,669,471,616.0\n",
            "Save model Epoch 765 Train Loss : 9,842,867,866.790697 Test Loss : 8,289,550,336.0\n",
            "Save model Epoch 780 Train Loss : 9,218,496,654.88372 Test Loss : 8,177,253,376.0\n",
            "Save model Epoch 784 Train Loss : 9,049,921,553.860466 Test Loss : 8,042,357,248.0\n",
            "Save model Epoch 785 Train Loss : 8,990,575,782.697674 Test Loss : 7,628,626,560.0\n",
            "Save model Epoch 804 Train Loss : 8,185,745,884.27907 Test Loss : 7,489,700,608.0\n",
            "Save model Epoch 806 Train Loss : 8,209,176,808.186047 Test Loss : 7,168,636,160.0\n",
            "Save model Epoch 814 Train Loss : 7,846,322,682.046512 Test Loss : 6,645,438,848.0\n",
            "Save model Epoch 823 Train Loss : 7,518,533,155.72093 Test Loss : 6,498,474,496.0\n",
            "Save model Epoch 826 Train Loss : 7,392,924,225.488372 Test Loss : 6,458,036,352.0\n",
            "Save model Epoch 835 Train Loss : 7,068,771,953.116279 Test Loss : 6,330,990,208.0\n",
            "Save model Epoch 840 Train Loss : 6,936,880,955.5348835 Test Loss : 6,150,734,720.0\n",
            "Save model Epoch 848 Train Loss : 6,588,473,760.744186 Test Loss : 5,786,894,208.0\n",
            "Save model Epoch 855 Train Loss : 6,491,294,136.55814 Test Loss : 5,651,849,472.0\n",
            "Save model Epoch 860 Train Loss : 6,264,585,561.302325 Test Loss : 5,523,493,120.0\n",
            "Save model Epoch 867 Train Loss : 5,937,997,999.627907 Test Loss : 5,140,296,704.0\n",
            "Save model Epoch 868 Train Loss : 6,036,343,849.674418 Test Loss : 5,101,361,184.0\n",
            "Save model Epoch 873 Train Loss : 5,784,649,335.069767 Test Loss : 4,899,082,432.0\n",
            "Save model Epoch 879 Train Loss : 5,575,712,172.651163 Test Loss : 4,597,936,128.0\n",
            "Save model Epoch 896 Train Loss : 5,076,430,627.72093 Test Loss : 4,257,863,872.0\n",
            "Save model Epoch 902 Train Loss : 4,897,231,461.209302 Test Loss : 4,250,574,848.0\n",
            "Save model Epoch 904 Train Loss : 4,829,048,552.186047 Test Loss : 4,053,513,920.0\n",
            "Save model Epoch 912 Train Loss : 4,570,502,599.44186 Test Loss : 3,893,635,584.0\n",
            "Save model Epoch 916 Train Loss : 4,580,345,534.511628 Test Loss : 3,522,854,720.0\n",
            "Save model Epoch 919 Train Loss : 4,541,729,759.255814 Test Loss : 3,471,410,048.0\n",
            "Save model Epoch 926 Train Loss : 4,251,574,416.372093 Test Loss : 3,324,175,040.0\n",
            "Save model Epoch 937 Train Loss : 3,889,222,117.2093024 Test Loss : 3,265,126,016.0\n",
            "Save model Epoch 939 Train Loss : 3,901,629,270.3255816 Test Loss : 3,153,665,984.0\n",
            "Save model Epoch 942 Train Loss : 3,946,975,220.0930233 Test Loss : 3,145,040,064.0\n",
            "Save model Epoch 953 Train Loss : 3,526,181,009.860465 Test Loss : 2,858,164,720.0\n",
            "Save model Epoch 966 Train Loss : 3,257,657,998.883721 Test Loss : 2,147,447,000.0\n",
            "Save model Epoch 1014 Train Loss : 2,397,125,514.418605 Test Loss : 1,873,617,984.0\n",
            "Save model Epoch 1021 Train Loss : 2,264,849,265.116279 Test Loss : 1,585,592,432.0\n",
            "Save model Epoch 1035 Train Loss : 2,064,967,549.0232558 Test Loss : 1,553,845,072.0\n",
            "Save model Epoch 1057 Train Loss : 1,774,784,973.3953488 Test Loss : 1,231,078,880.0\n",
            "Save model Epoch 1067 Train Loss : 1,693,834,018.9767442 Test Loss : 1,135,120,904.0\n",
            "Save model Epoch 1075 Train Loss : 1,653,796,632.5581396 Test Loss : 1,110,851,016.0\n",
            "Save model Epoch 1109 Train Loss : 1,354,311,796.8372092 Test Loss : 931,754,642.0\n",
            "Save model Epoch 1120 Train Loss : 1,282,511,296.372093 Test Loss : 853,057,800.0\n",
            "Save model Epoch 1125 Train Loss : 1,175,491,140.4651163 Test Loss : 776,475,084.0\n",
            "Save model Epoch 1140 Train Loss : 1,028,674,964.8372093 Test Loss : 701,523,770.0\n",
            "Save model Epoch 1152 Train Loss : 966,785,733.9534883 Test Loss : 643,016,340.0\n",
            "Save model Epoch 1215 Train Loss : 989,998,765.3953488 Test Loss : 603,764,975.0\n",
            "Save model Epoch 1270 Train Loss : 842,776,229.9534883 Test Loss : 593,213,652.0\n",
            "Save model Epoch 1333 Train Loss : 728,588,341.5813954 Test Loss : 526,560,116.0\n",
            "Save model Epoch 1334 Train Loss : 669,794,521.3023256 Test Loss : 487,471,868.0\n",
            "Save model Epoch 1433 Train Loss : 680,428,646.6976744 Test Loss : 467,474,674.0\n",
            "Save model Epoch 1682 Train Loss : 537,589,520.744186 Test Loss : 451,761,946.0\n",
            "Save model Epoch 1698 Train Loss : 392,360,935.25581396 Test Loss : 446,905,520.0\n",
            "Save model Epoch 1702 Train Loss : 488,115,296.8372093 Test Loss : 443,628,153.0\n",
            "Save model Epoch 1722 Train Loss : 446,135,396.2790698 Test Loss : 426,473,796.0\n",
            "Save model Epoch 1723 Train Loss : 553,391,206.5116279 Test Loss : 412,559,092.0\n",
            "Save model Epoch 2593 Train Loss : 311,119,870.04651165 Test Loss : 409,269,398.0\n",
            "Save model Epoch 3130 Train Loss : 297,677,163.25581396 Test Loss : 402,082,380.0\n",
            "Save model Epoch 3502 Train Loss : 298,308,251.0697674 Test Loss : 377,967,002.0\n",
            "Early stopping trigerred at epoch 4502 Best Loss 377,967,002.0\n"
          ]
        }
      ],
      "source": [
        "# 학습 횟수 만큼 반복\n",
        "for epoch in range(10000):\n",
        "\n",
        "    # 모델 학습(학습데이터)\n",
        "    train_loss = train(model, train_loader, criterion, optimizer, device)\n",
        "    train_losses.append(train_loss)\n",
        "\n",
        "    # 모델 평가 (평가데이터)\n",
        "    test_loss = evaluate(model, test_loader, criterion, device)\n",
        "    test_losses.append(test_loss)\n",
        "\n",
        "    #print(f'Epoch {epoch+1} Train Loss : {train_loss} Test Loss : {test_loss}')\n",
        "\n",
        "    # Early Stopping 조건 체크\n",
        "    if test_loss < best_loss:\n",
        "        best_loss = test_loss\n",
        "    #if train_loss < best_loss:\n",
        "    #    best_loss = train_loss\n",
        "        counter = 0\n",
        "        print(f'Save model Epoch {epoch+1} Train Loss : {train_loss:,} Test Loss : {test_loss:,}')\n",
        "        torch.save(model.state_dict(), 'best_model.pt')\n",
        "    else:\n",
        "        counter += 1\n",
        "\n",
        "    if counter >= patience:\n",
        "        print(f'Early stopping trigerred at epoch {epoch+1} Best Loss {best_loss:,}')\n",
        "        break\n",
        "\n"
      ]
    },
    {
      "cell_type": "markdown",
      "source": [
        "* 1024/5 Layer: SSave model Epoch 3502 Train Loss : 298,308,251.0697674 Test Loss : 377,967,002.0 (B/N laster layer)\n",
        "\n",
        "* 1024/5 Layer: Save model Epoch 257 Train Loss : 549,502,091.9069767 Test Loss : 341,054,487.0\n",
        "\n",
        "* 256/3 Layer: Save model Epoch 2231 Train Loss : 716,036,235.9069767 Test Loss : 376,949,934.0\n",
        "\n",
        "* 128/3 Layer: Save model Epoch 1578 Train Loss : 863,636,580.8372093 Test Loss : 334,586,223.1875"
      ],
      "metadata": {
        "id": "KWXAXfO2HXPE"
      },
      "id": "KWXAXfO2HXPE"
    },
    {
      "cell_type": "code",
      "execution_count": 17,
      "id": "dlXXkLX2qW1j",
      "metadata": {
        "id": "dlXXkLX2qW1j"
      },
      "outputs": [],
      "source": [
        "#model.load_state_dict(torch.load('best_model.pt'))"
      ]
    },
    {
      "cell_type": "code",
      "execution_count": 18,
      "id": "b5af4ef1",
      "metadata": {
        "colab": {
          "base_uri": "https://localhost:8080/",
          "height": 409
        },
        "id": "b5af4ef1",
        "outputId": "2a5c2fe3-1828-44f6-ec64-e7eaf26c6545"
      },
      "outputs": [
        {
          "output_type": "display_data",
          "data": {
            "text/plain": [
              "<Figure size 1200x500 with 1 Axes>"
            ],
            "image/png": "[encoded data removed]"
          },
          "metadata": {}
        }
      ],
      "source": [
        "plot_training_results(train_losses, test_losses)"
      ]
    },
    {
      "cell_type": "code",
      "execution_count": 19,
      "id": "4a5d236e",
      "metadata": {
        "colab": {
          "base_uri": "https://localhost:8080/",
          "height": 409
        },
        "id": "4a5d236e",
        "outputId": "17798d19-baa5-4c9f-e909-8d02d9dabc3c"
      },
      "outputs": [
        {
          "output_type": "display_data",
          "data": {
            "text/plain": [
              "<Figure size 1200x500 with 1 Axes>"
            ],
            "image/png": "[encoded data removed]"
          },
          "metadata": {}
        }
      ],
      "source": [
        "plot_training_results(train_losses[2000:], test_losses[2000:])"
      ]
    },
    {
      "cell_type": "code",
      "execution_count": 20,
      "id": "1ecf5dbd",
      "metadata": {
        "colab": {
          "base_uri": "https://localhost:8080/"
        },
        "id": "1ecf5dbd",
        "outputId": "322f637e-f626-4a1a-bbed-346e5190aa09"
      },
      "outputs": [
        {
          "output_type": "execute_result",
          "data": {
            "text/plain": [
              "tensor([[123173.7344],\n",
              "        [155067.1875],\n",
              "        [179542.6562],\n",
              "        ...,\n",
              "        [158407.4844],\n",
              "        [123101.6016],\n",
              "        [220261.4375]], device='cuda:0')"
            ]
          },
          "metadata": {},
          "execution_count": 20
        }
      ],
      "source": [
        "# 사용자명을 입력하세요. (이름이 아니여도 괜찮습니다.)\n",
        "username = \"김재곤\"\n",
        "assert username, \"username 변수에 값이 설정되지 않았습니다.\"\n",
        "\n",
        "# 그대로 실행하세요.\n",
        "from JAEN.competition import Competition\n",
        "comp = Competition(\n",
        "    username=username,\n",
        "    course_name='AI Essential',\n",
        "    course_round='0317(1)',\n",
        "    competition_name='House Price Prediction'\n",
        ")\n",
        "\n",
        "# 학습된 모델의 TEST 예측\n",
        "model.eval()\n",
        "TEST2 = TEST.to(device)\n",
        "with torch.no_grad():\n",
        "    outputs = model(TEST2)\n",
        "outputs\n",
        "\n",
        "# comp.prediction에 TEST 예측 결과 대입\n",
        "comp.prediction = outputs\n",
        "comp.prediction\n",
        "\n",
        "# 제출\n",
        "#comp.submit()"
      ]
    }
  ],
  "metadata": {
    "colab": {
      "provenance": [],
      "gpuType": "T4",
      "include_colab_link": true
    },
    "kernelspec": {
      "display_name": "Python 3",
      "name": "python3"
    },
    "language_info": {
      "codemirror_mode": {
        "name": "ipython",
        "version": 3
      },
      "file_extension": ".py",
      "mimetype": "text/x-python",
      "name": "python",
      "nbconvert_exporter": "python",
      "pygments_lexer": "ipython3",
      "version": "3.11.7"
    },
    "accelerator": "GPU"
  },
  "nbformat": 4,
  "nbformat_minor": 5
}