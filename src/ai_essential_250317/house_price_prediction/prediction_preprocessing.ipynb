{
  "cells": [
    {
      "cell_type": "markdown",
      "metadata": {
        "id": "view-in-github",
        "colab_type": "text"
      },
      "source": [
        "<a href=\"https://colab.research.google.com/github/jaegon-kim/python_study/blob/main/src/ai_essential_250317/house_price_prediction/prediction_preprocessing.ipynb\" target=\"_parent\"><img src=\"https://colab.research.google.com/assets/colab-badge.svg\" alt=\"Open In Colab\"/></a>"
      ]
    },
    {
      "cell_type": "markdown",
      "id": "C3HNZJH5LuqI",
      "metadata": {
        "id": "C3HNZJH5LuqI"
      },
      "source": [
        "# House Price Prediction\n",
        "- **목표**\n",
        "  - 이 워크샵은 주어진 데이터셋을 이용해 심층신경망 모델을 학습시켜 주택의 최종 판매 가격(SalePrice)을 예측하는 것이 최종 목표입니다.\n",
        "\n",
        "- **데이터셋 정보**\n",
        "  - 데이터셋은 총 79개의 설명 변수와 타겟 변수인 주택 가격(SalePrice)로 구성됩니다.\n",
        "  - 설명 변수는 주택의 다양한 특성(예: 건축 연도, 면적, 위치, 방 개수 등)을 포함합니다.\n",
        "  - 데이터는 판매 가격이 포함된 학습용 데이터인 `X`, `y` 와 판매 가격이 포함되지 않은 평가용 데이터인 `TEST`파일로 나뉘며, 각각 모델 학습 및 평가에 사용됩니다.\n",
        "    - 평가용 데이터 `TEST`의 판매 가격(SalePrice)를 예측 후 리더보드로 제출하여 평가합니다.\n",
        "\n",
        "- **문제 유형**\n",
        "  - 이 워크샵은 회귀 문제로 연속형 변수를 예측하는 것이 목표입니다. 모델의 성능은 `Mean Absolute Error`로 측정됩니다."
      ]
    },
    {
      "cell_type": "markdown",
      "id": "FerWbWa8ML9S",
      "metadata": {
        "id": "FerWbWa8ML9S"
      },
      "source": [
        "## 1. 환경 설정"
      ]
    },
    {
      "cell_type": "code",
      "execution_count": 1,
      "id": "fbebc02c",
      "metadata": {
        "id": "fbebc02c"
      },
      "outputs": [],
      "source": [
        "%%capture\n",
        "!pip install JAEN -U"
      ]
    },
    {
      "cell_type": "code",
      "execution_count": 2,
      "id": "2b192c23",
      "metadata": {
        "colab": {
          "base_uri": "https://localhost:8080/"
        },
        "id": "2b192c23",
        "outputId": "f3df1494-7533-4772-ca62-71a809cce506"
      },
      "outputs": [
        {
          "output_type": "execute_result",
          "data": {
            "text/plain": [
              "device(type='cuda')"
            ]
          },
          "metadata": {},
          "execution_count": 2
        }
      ],
      "source": [
        "# 그대로 실행하세요.\n",
        "import torch\n",
        "import torch.nn as nn\n",
        "import torch.optim as optim\n",
        "from torchinfo import summary\n",
        "from JAEN.utils import plot_training_results\n",
        "\n",
        "\n",
        "device = torch.device(\"cuda\" if torch.cuda.is_available() else \"cpu\")\n",
        "device"
      ]
    },
    {
      "cell_type": "markdown",
      "id": "OSiIE4tdPcSV",
      "metadata": {
        "id": "OSiIE4tdPcSV"
      },
      "source": [
        "## 2. 데이터 로드"
      ]
    },
    {
      "cell_type": "code",
      "execution_count": 3,
      "id": "Cwo9d1i-ON3u",
      "metadata": {
        "colab": {
          "base_uri": "https://localhost:8080/"
        },
        "id": "Cwo9d1i-ON3u",
        "outputId": "42eb092b-d6c0-454b-8784-fc7c9abc8bf5"
      },
      "outputs": [
        {
          "output_type": "execute_result",
          "data": {
            "text/plain": [
              "(torch.Size([1460, 79]), torch.Size([1460, 1]), torch.Size([1459, 79]))"
            ]
          },
          "metadata": {},
          "execution_count": 3
        }
      ],
      "source": [
        "from JAEN.datasets import load_house_price\n",
        "X, y, TEST = load_house_price()\n",
        "X.shape, y.shape, TEST.shape"
      ]
    },
    {
      "cell_type": "code",
      "execution_count": 4,
      "id": "55745e97",
      "metadata": {
        "colab": {
          "base_uri": "https://localhost:8080/"
        },
        "id": "55745e97",
        "outputId": "e5b6a6b5-d6a1-44f1-f1b7-ca22a61450fc"
      },
      "outputs": [
        {
          "output_type": "stream",
          "name": "stdout",
          "text": [
            "Column Mean: tensor([-9.4714e-09, -7.8384e-09, -3.5926e-09,  3.2660e-10,  4.5724e-09,\n",
            "        -1.3064e-08, -1.5024e-08, -3.5273e-08, -2.6128e-09, -1.7636e-08,\n",
            "        -1.3391e-08, -9.1448e-09, -2.9067e-08,  1.0778e-08,  1.5350e-08,\n",
            "         1.6003e-08,  3.2660e-10, -1.6330e-08,  5.8788e-09,  5.2256e-09,\n",
            "         1.6983e-08, -2.1556e-08,  6.5320e-09,  1.8290e-08, -2.3515e-08,\n",
            "        -1.1104e-08, -2.7434e-08, -6.0421e-09, -1.6983e-08, -1.3064e-08,\n",
            "         9.1448e-09,  1.5677e-08,  3.9192e-09, -1.9596e-09,  1.1758e-08,\n",
            "        -3.1354e-08, -7.1852e-09,  1.3064e-09,  1.8290e-08, -4.2458e-09,\n",
            "         0.0000e+00, -7.1852e-09, -2.6128e-09,  2.0902e-08, -2.0249e-08,\n",
            "        -6.5320e-10, -1.5677e-08,  2.9394e-08,  1.5677e-08,  4.1642e-09,\n",
            "         1.2860e-08, -3.9192e-09,  0.0000e+00,  5.2256e-09,  1.3064e-08,\n",
            "         9.7980e-10,  1.3064e-08,  5.2256e-09, -5.8788e-09,  1.4370e-08,\n",
            "         1.8290e-08,  5.1440e-09, -4.3111e-08, -2.0902e-08,  2.3189e-08,\n",
            "        -7.1852e-09, -3.9192e-09, -5.8788e-09, -1.1268e-08, -2.7761e-09,\n",
            "         1.6330e-09,  1.3391e-08, -2.3515e-08,  1.8290e-08,  1.3064e-09,\n",
            "         1.3799e-08,  5.8788e-09,  1.3064e-08, -1.2411e-08]) torch.Size([79])\n",
            "Column Std: tensor([1.0003, 1.0003, 1.0003, 1.0003, 1.0003, 1.0003, 1.0003, 1.0003, 1.0003,\n",
            "        1.0003, 1.0003, 1.0003, 1.0003, 1.0003, 1.0003, 1.0003, 1.0003, 1.0003,\n",
            "        1.0003, 1.0003, 1.0003, 1.0003, 1.0003, 1.0003, 1.0003, 1.0003, 1.0003,\n",
            "        1.0003, 1.0003, 1.0003, 1.0003, 1.0003, 1.0003, 1.0003, 1.0003, 1.0003,\n",
            "        1.0003, 1.0003, 1.0003, 1.0003, 1.0003, 1.0003, 1.0003, 1.0003, 1.0003,\n",
            "        1.0003, 1.0003, 1.0003, 1.0003, 1.0003, 1.0003, 1.0003, 1.0003, 1.0003,\n",
            "        1.0003, 1.0003, 1.0003, 1.0003, 1.0003, 1.0003, 1.0003, 1.0003, 1.0003,\n",
            "        1.0003, 1.0003, 1.0003, 1.0003, 1.0003, 1.0003, 1.0003, 1.0003, 1.0003,\n",
            "        1.0003, 1.0003, 1.0003, 1.0003, 1.0003, 1.0003, 1.0003])\n"
          ]
        }
      ],
      "source": [
        "column_mean = torch.mean(X, dim=0)\n",
        "print(\"Column Mean:\", column_mean, column_mean.shape)\n",
        "\n",
        "column_std = torch.std(X, dim=0)\n",
        "print(\"Column Std:\", column_std)"
      ]
    },
    {
      "cell_type": "code",
      "execution_count": 5,
      "id": "77cea581",
      "metadata": {
        "colab": {
          "base_uri": "https://localhost:8080/"
        },
        "id": "77cea581",
        "outputId": "f15b7e4f-82e3-4970-e4ef-54b858dead77"
      },
      "outputs": [
        {
          "output_type": "execute_result",
          "data": {
            "text/plain": [
              "(torch.Size([1360, 79]),\n",
              " torch.Size([1360, 1]),\n",
              " torch.Size([100, 79]),\n",
              " torch.Size([100, 1]))"
            ]
          },
          "metadata": {},
          "execution_count": 5
        }
      ],
      "source": [
        "train_X, train_y = X[:1360, :], y[:1360, :]\n",
        "test_X, test_y = X[1360:, :], y[1360:, :]\n",
        "\n",
        "train_X.shape, train_y.shape, test_X.shape, test_y.shape"
      ]
    },
    {
      "cell_type": "markdown",
      "id": "I_Vc3a22PgBm",
      "metadata": {
        "id": "I_Vc3a22PgBm"
      },
      "source": [
        "## 3. 제출 예시 코드"
      ]
    },
    {
      "cell_type": "markdown",
      "id": "4wNCB3ATlBe4",
      "metadata": {
        "id": "4wNCB3ATlBe4"
      },
      "source": [
        "## 4. 심층신경망 모델을 구성하고 학습하여 TEST를 예측해보세요.\n",
        "- TEST의 예측 결과는 `comp.prediction`에 대입해주세요. **torch.tensor** 형태여야합니다."
      ]
    },
    {
      "cell_type": "code",
      "execution_count": 6,
      "id": "KtwmpH1EibaM",
      "metadata": {
        "id": "KtwmpH1EibaM"
      },
      "outputs": [],
      "source": [
        "# DataLoader 생성\n",
        "from torch.utils.data import DataLoader, TensorDataset\n",
        "train_loader = DataLoader(TensorDataset(train_X, train_y), batch_size=32, shuffle=True)\n",
        "test_loader = DataLoader(TensorDataset(test_X, test_y), batch_size=32, shuffle=True)\n"
      ]
    },
    {
      "cell_type": "code",
      "execution_count": 7,
      "id": "f7b6fa57",
      "metadata": {
        "id": "f7b6fa57"
      },
      "outputs": [],
      "source": [
        "def train(model, train_loader, criterion, optimizer, device):\n",
        "    model.train()  # 모델을 학습 모드로 설정\n",
        "\n",
        "    running_loss = 0.0 # 미니 배치별 loss값을 누적할 변수\n",
        "\n",
        "    for data, labels in train_loader: # 미니 배치 별 파라미터 업데이트 수행\n",
        "        data, labels = data.to(device), labels.to(device) # 미니 배치별 데이터와 레이블 장치 할당\n",
        "\n",
        "        # 순전파\n",
        "        outputs = model(data)\n",
        "\n",
        "        # 손실 계산\n",
        "        loss = criterion(outputs, labels)\n",
        "\n",
        "        # 기울기 초기화\n",
        "        optimizer.zero_grad()\n",
        "\n",
        "        # 역전파\n",
        "        loss.backward()\n",
        "\n",
        "        # 파라미터 업데이트\n",
        "        optimizer.step()\n",
        "\n",
        "        # 손실 누적\n",
        "        running_loss += loss.item()\n",
        "\n",
        "    # 현재 Epoch의 평균 손실 값 계산 및 반환\n",
        "    # - len(train_loader): 평균 Loss\n",
        "    return running_loss / len(train_loader)"
      ]
    },
    {
      "cell_type": "code",
      "execution_count": 8,
      "id": "3bb36d73",
      "metadata": {
        "id": "3bb36d73"
      },
      "outputs": [],
      "source": [
        "# 평가 함수 정의\n",
        "def evaluate(model, test_loader, criterion, device):\n",
        "    model.eval()  # 모델을 평가 모드로 설정\n",
        "\n",
        "    running_loss = 0.0 # 미니 배치별 loss값을 누적할 변수\n",
        "\n",
        "    with torch.no_grad():  # 평가 중에는 기울기 계산을 하지 않음\n",
        "        for data, labels in test_loader: # 미니 배치 별 손실 계산\n",
        "            data, labels = data.to(device), labels.to(device) # 미니 배치별 데이터와 레이블 장치 할당\n",
        "\n",
        "            # 순전파\n",
        "            outputs = model(data)\n",
        "\n",
        "            # 손실 계산\n",
        "            loss = criterion(outputs, labels)\n",
        "\n",
        "            # 손실 누적\n",
        "            running_loss += loss.item()\n",
        "\n",
        "\n",
        "    # 현재 Epoch의 평균 손실 값 계산 및 반환\n",
        "    return running_loss / len(test_loader)"
      ]
    },
    {
      "cell_type": "markdown",
      "source": [
        "## Wide 구조 (1024/512/256/128/64/32/1)"
      ],
      "metadata": {
        "id": "a39I77zRW38y"
      },
      "id": "a39I77zRW38y"
    },
    {
      "cell_type": "code",
      "execution_count": 9,
      "id": "-37EJXcZibcK",
      "metadata": {
        "id": "-37EJXcZibcK"
      },
      "outputs": [],
      "source": [
        "# DNN 모델 구성\n",
        "#'''\n",
        "class DNN(nn.Module):\n",
        "    def __init__(self):\n",
        "        super().__init__()\n",
        "        self.fc_2 = nn.Linear(79, 1024)\n",
        "        self.bn_2 = nn.BatchNorm1d(1024)\n",
        "        #self.fc_1 = nn.Linear(79, 512)\n",
        "        self.fc_1 = nn.Linear(1024, 512)\n",
        "        self.bn_1 = nn.BatchNorm1d(512)\n",
        "        #self.fc0 = nn.Linear(79, 256)\n",
        "        self.fc0 = nn.Linear(512, 256)\n",
        "        self.bn0 = nn.BatchNorm1d(256)\n",
        "        #self.fc1 = nn.Linear(79, 128)\n",
        "        self.fc1 = nn.Linear(256, 128)\n",
        "        self.bn1 = nn.BatchNorm1d(128)\n",
        "        self.fc2 = nn.Linear(128, 64)\n",
        "        self.fc3 = nn.Linear(64, 1)\n",
        "        self.relu = nn.ReLU()\n",
        "        self.dropout = nn.Dropout(0.3)  # 10%의 드롭아웃 적용\n",
        "\n",
        "    def forward(self, x):\n",
        "        #x = self.relu(self.fc1(x))\n",
        "        x = self.relu(self.bn_2(self.fc_2(x)))\n",
        "        x = self.dropout(x)\n",
        "        x = self.relu(self.bn_1(self.fc_1(x)))\n",
        "        x = self.dropout(x)\n",
        "        x = self.relu(self.bn0(self.fc0(x)))\n",
        "        x = self.dropout(x)\n",
        "        x = self.relu(self.bn1(self.fc1(x)))\n",
        "        x = self.dropout(x)\n",
        "        x = self.relu(self.fc2(x))\n",
        "        x = self.fc3(x)\n",
        "        return x\n",
        "\n",
        "model = DNN().to(device)\n",
        "#summary(model)\n",
        "#'''"
      ]
    },
    {
      "cell_type": "markdown",
      "source": [
        "## Wide 구조 (256/128/64/1)"
      ],
      "metadata": {
        "id": "sZQ_cNYDZ3_p"
      },
      "id": "sZQ_cNYDZ3_p"
    },
    {
      "cell_type": "code",
      "source": [
        "# DNN 모델 구성\n",
        "'''\n",
        "class DNN(nn.Module):\n",
        "    def __init__(self):\n",
        "        super().__init__()\n",
        "        self.fc0 = nn.Linear(79, 256)\n",
        "        self.bn0 = nn.BatchNorm1d(256)\n",
        "        #self.fc1 = nn.Linear(79, 128)\n",
        "        self.fc1 = nn.Linear(256, 128)\n",
        "        self.bn1 = nn.BatchNorm1d(128)\n",
        "        self.fc2 = nn.Linear(128, 64)\n",
        "        self.bn2 = nn.BatchNorm1d(64)\n",
        "        self.fc3 = nn.Linear(64, 1)\n",
        "        self.relu = nn.ReLU()\n",
        "        self.dropout = nn.Dropout(0.3)  # 10%의 드롭아웃 적용\n",
        "\n",
        "    def forward(self, x):\n",
        "        x = self.relu(self.bn0(self.fc0(x)))\n",
        "        x = self.dropout(x)\n",
        "        x = self.relu(self.bn1(self.fc1(x)))\n",
        "        x = self.dropout(x)\n",
        "        x = self.relu(self.bn2(self.fc2(x)))\n",
        "        x = self.dropout(x)\n",
        "        x = self.fc3(x)\n",
        "        return x\n",
        "model = DNN().to(device)\n",
        "#summary(model)\n",
        "'''"
      ],
      "metadata": {
        "colab": {
          "base_uri": "https://localhost:8080/",
          "height": 139
        },
        "id": "ym4v_Sw1Zs_y",
        "outputId": "81f9f605-2ae0-4d7d-d994-f1add4628dfc"
      },
      "id": "ym4v_Sw1Zs_y",
      "execution_count": 10,
      "outputs": [
        {
          "output_type": "execute_result",
          "data": {
            "text/plain": [
              "'\\nclass DNN(nn.Module):\\n    def __init__(self):\\n        super().__init__()\\n        self.fc0 = nn.Linear(79, 256)\\n        self.bn0 = nn.BatchNorm1d(256)\\n        #self.fc1 = nn.Linear(79, 128)\\n        self.fc1 = nn.Linear(256, 128)\\n        self.bn1 = nn.BatchNorm1d(128)\\n        self.fc2 = nn.Linear(128, 64)\\n        self.bn2 = nn.BatchNorm1d(64)\\n        self.fc3 = nn.Linear(64, 1)\\n        self.relu = nn.ReLU()\\n        self.dropout = nn.Dropout(0.3)  # 10%의 드롭아웃 적용\\n\\n    def forward(self, x):\\n        x = self.relu(self.bn0(self.fc0(x)))\\n        x = self.dropout(x)\\n        x = self.relu(self.bn1(self.fc1(x)))\\n        x = self.dropout(x)\\n        x = self.relu(self.bn2(self.fc2(x)))\\n        x = self.dropout(x)\\n        x = self.fc3(x)\\n        return x\\nmodel = DNN().to(device)    \\n#summary(model)\\n'"
            ],
            "application/vnd.google.colaboratory.intrinsic+json": {
              "type": "string"
            }
          },
          "metadata": {},
          "execution_count": 10
        }
      ]
    },
    {
      "cell_type": "code",
      "source": [
        "## Narrow 구조 (128/64/1)"
      ],
      "metadata": {
        "id": "T82VJ0xwiAxD"
      },
      "id": "T82VJ0xwiAxD",
      "execution_count": 11,
      "outputs": []
    },
    {
      "cell_type": "code",
      "source": [
        "# DNN 모델 구성\n",
        "'''\n",
        "class DNN(nn.Module):\n",
        "    def __init__(self):\n",
        "        super().__init__()\n",
        "        self.fc1 = nn.Linear(79, 128)\n",
        "        self.bn1 = nn.BatchNorm1d(128)\n",
        "        self.fc2 = nn.Linear(128, 64)\n",
        "        self.bn2 = nn.BatchNorm1d(64)\n",
        "        self.fc3 = nn.Linear(64, 1)\n",
        "        self.relu = nn.ReLU()\n",
        "        self.dropout = nn.Dropout(0.3)  # 10%의 드롭아웃 적용\n",
        "\n",
        "    def forward(self, x):\n",
        "        x = self.relu(self.bn1(self.fc1(x)))\n",
        "        x = self.dropout(x)\n",
        "        x = self.relu(self.bn2(self.fc2(x)))\n",
        "        #x = self.relu(self.fc2(x))\n",
        "        x = self.dropout(x)\n",
        "        x = self.fc3(x)\n",
        "        return x\n",
        "model = DNN().to(device)\n",
        "#summary(model)\n",
        "'''"
      ],
      "metadata": {
        "colab": {
          "base_uri": "https://localhost:8080/",
          "height": 104
        },
        "id": "Ozw8bwM2h-Ya",
        "outputId": "b3616044-0610-4e34-9d4a-3f3fa7589f65"
      },
      "id": "Ozw8bwM2h-Ya",
      "execution_count": 12,
      "outputs": [
        {
          "output_type": "execute_result",
          "data": {
            "text/plain": [
              "'\\nclass DNN(nn.Module):\\n    def __init__(self):\\n        super().__init__()\\n        self.fc1 = nn.Linear(79, 128)\\n        self.bn1 = nn.BatchNorm1d(128)\\n        self.fc2 = nn.Linear(128, 64)\\n        self.bn2 = nn.BatchNorm1d(64)\\n        self.fc3 = nn.Linear(64, 1)\\n        self.relu = nn.ReLU()\\n        self.dropout = nn.Dropout(0.3)  # 10%의 드롭아웃 적용\\n\\n    def forward(self, x):\\n        x = self.relu(self.bn1(self.fc1(x)))\\n        x = self.dropout(x)\\n        x = self.relu(self.bn2(self.fc2(x)))\\n        #x = self.relu(self.fc2(x))\\n        x = self.dropout(x)\\n        x = self.fc3(x)\\n        return x\\nmodel = DNN().to(device)    \\n#summary(model)\\n'"
            ],
            "application/vnd.google.colaboratory.intrinsic+json": {
              "type": "string"
            }
          },
          "metadata": {},
          "execution_count": 12
        }
      ]
    },
    {
      "cell_type": "code",
      "execution_count": 13,
      "id": "a2237784",
      "metadata": {
        "id": "a2237784"
      },
      "outputs": [],
      "source": [
        "# 손실함수 및 옵티마이저 설정\n",
        "criterion = nn.MSELoss()\n",
        "optimizer = optim.AdamW(model.parameters(), lr=0.001, weight_decay=0.001)"
      ]
    },
    {
      "cell_type": "code",
      "execution_count": 14,
      "id": "w6_1h44eqNYs",
      "metadata": {
        "id": "w6_1h44eqNYs"
      },
      "outputs": [],
      "source": [
        "train_losses = []\n",
        "test_losses = []\n",
        "\n",
        "# Early Stopping을 위한 변수 설정\n",
        "best_loss = float('inf')\n",
        "best_epoch = 0\n",
        "patience = 1000\n",
        "counter = 0"
      ]
    },
    {
      "cell_type": "code",
      "execution_count": 15,
      "id": "T5YzQt-d8PSQ",
      "metadata": {
        "id": "T5YzQt-d8PSQ",
        "colab": {
          "base_uri": "https://localhost:8080/",
          "height": 52
        },
        "outputId": "25944b10-9185-4b59-b090-5fd42261b8d8"
      },
      "outputs": [
        {
          "output_type": "execute_result",
          "data": {
            "text/plain": [
              "\"\\npatience = 1000\\nnew_lr = 1e-4  # 원하는 새로운 learning rate 값\\nfor param_group in optimizer.param_groups:\\n    param_group['lr'] = new_lr\\n\""
            ],
            "application/vnd.google.colaboratory.intrinsic+json": {
              "type": "string"
            }
          },
          "metadata": {},
          "execution_count": 15
        }
      ],
      "source": [
        "'''\n",
        "patience = 1000\n",
        "new_lr = 1e-4  # 원하는 새로운 learning rate 값\n",
        "for param_group in optimizer.param_groups:\n",
        "    param_group['lr'] = new_lr\n",
        "'''"
      ]
    },
    {
      "cell_type": "code",
      "execution_count": 16,
      "id": "dacebf8e",
      "metadata": {
        "colab": {
          "base_uri": "https://localhost:8080/"
        },
        "id": "dacebf8e",
        "outputId": "26d2bf7d-a919-444d-935c-24d2d5d0f8db"
      },
      "outputs": [
        {
          "output_type": "stream",
          "name": "stdout",
          "text": [
            "Save model Epoch 1 Train Loss : 39,528,184,427.16279 Test Loss : 34,534,057,472.0\n",
            "Save model Epoch 9 Train Loss : 37,943,496,037.209305 Test Loss : 33,167,818,240.0\n",
            "Save model Epoch 11 Train Loss : 37,153,344,916.83721 Test Loss : 30,217,462,272.0\n",
            "Save model Epoch 17 Train Loss : 32,129,395,545.302326 Test Loss : 28,011,798,528.0\n",
            "Save model Epoch 20 Train Loss : 28,661,843,825.11628 Test Loss : 26,159,240,192.0\n",
            "Save model Epoch 22 Train Loss : 25,985,600,059.534885 Test Loss : 24,544,912,384.0\n",
            "Save model Epoch 23 Train Loss : 24,474,421,771.90698 Test Loss : 20,093,661,440.0\n",
            "Save model Epoch 25 Train Loss : 21,643,729,515.162792 Test Loss : 19,374,073,344.0\n",
            "Save model Epoch 26 Train Loss : 19,874,020,780.65116 Test Loss : 19,136,409,344.0\n",
            "Save model Epoch 27 Train Loss : 18,769,149,380.465115 Test Loss : 16,128,154,368.0\n",
            "Save model Epoch 28 Train Loss : 17,168,407,647.255814 Test Loss : 13,865,590,528.0\n",
            "Save model Epoch 30 Train Loss : 14,562,309,858.232557 Test Loss : 13,465,969,152.0\n",
            "Save model Epoch 31 Train Loss : 13,286,645,355.16279 Test Loss : 11,578,885,888.0\n",
            "Save model Epoch 32 Train Loss : 11,908,724,462.139534 Test Loss : 10,325,599,360.0\n",
            "Save model Epoch 34 Train Loss : 9,892,258,053.95349 Test Loss : 8,558,630,656.0\n",
            "Save model Epoch 35 Train Loss : 8,742,686,589.023256 Test Loss : 6,596,456,704.0\n",
            "Save model Epoch 36 Train Loss : 8,004,964,780.651163 Test Loss : 6,052,114,048.0\n",
            "Save model Epoch 37 Train Loss : 7,081,479,495.44186 Test Loss : 5,912,117,568.0\n",
            "Save model Epoch 38 Train Loss : 6,518,915,720.930233 Test Loss : 5,126,043,776.0\n",
            "Save model Epoch 39 Train Loss : 5,881,614,657.488372 Test Loss : 4,901,626,496.0\n",
            "Save model Epoch 40 Train Loss : 5,267,562,948.4651165 Test Loss : 4,034,225,536.0\n",
            "Save model Epoch 42 Train Loss : 4,375,697,297.860465 Test Loss : 3,635,067,328.0\n",
            "Save model Epoch 43 Train Loss : 3,895,707,868.27907 Test Loss : 3,543,819,296.0\n",
            "Save model Epoch 44 Train Loss : 3,486,758,030.883721 Test Loss : 3,308,943,104.0\n",
            "Save model Epoch 45 Train Loss : 3,298,027,889.116279 Test Loss : 2,374,228,752.0\n",
            "Save model Epoch 46 Train Loss : 3,191,708,192.744186 Test Loss : 2,177,079,328.0\n",
            "Save model Epoch 48 Train Loss : 2,806,932,267.162791 Test Loss : 1,851,304,192.0\n",
            "Save model Epoch 50 Train Loss : 2,292,355,604.837209 Test Loss : 1,398,631,596.0\n",
            "Save model Epoch 54 Train Loss : 1,673,594,024.1860466 Test Loss : 1,305,124,208.0\n",
            "Save model Epoch 55 Train Loss : 1,664,633,016.5581396 Test Loss : 1,045,697,584.0\n",
            "Save model Epoch 56 Train Loss : 1,376,354,438.6976745 Test Loss : 1,009,164,200.0\n",
            "Save model Epoch 57 Train Loss : 1,369,560,894.511628 Test Loss : 861,603,072.0\n",
            "Save model Epoch 58 Train Loss : 1,206,563,032.5581396 Test Loss : 695,968,064.0\n",
            "Save model Epoch 59 Train Loss : 1,013,464,005.2093023 Test Loss : 667,632,136.0\n",
            "Save model Epoch 63 Train Loss : 909,827,254.3255814 Test Loss : 521,184,322.0\n",
            "Save model Epoch 66 Train Loss : 885,049,642.4186046 Test Loss : 511,445,062.0\n",
            "Save model Epoch 71 Train Loss : 778,583,112.1860465 Test Loss : 453,297,728.0\n",
            "Save model Epoch 72 Train Loss : 813,722,929.1162791 Test Loss : 418,460,820.0\n",
            "Save model Epoch 126 Train Loss : 737,898,466.2325581 Test Loss : 402,027,346.0\n",
            "Save model Epoch 132 Train Loss : 721,672,308.0930233 Test Loss : 341,449,211.0\n",
            "Save model Epoch 257 Train Loss : 549,502,091.9069767 Test Loss : 341,054,487.0\n",
            "Early stopping trigerred at epoch 1257 Best Loss 341,054,487.0\n"
          ]
        }
      ],
      "source": [
        "# 학습 횟수 만큼 반복\n",
        "for epoch in range(10000):\n",
        "\n",
        "    # 모델 학습(학습데이터)\n",
        "    train_loss = train(model, train_loader, criterion, optimizer, device)\n",
        "    train_losses.append(train_loss)\n",
        "\n",
        "    # 모델 평가 (평가데이터)\n",
        "    test_loss = evaluate(model, test_loader, criterion, device)\n",
        "    test_losses.append(test_loss)\n",
        "\n",
        "    #print(f'Epoch {epoch+1} Train Loss : {train_loss} Test Loss : {test_loss}')\n",
        "\n",
        "    # Early Stopping 조건 체크\n",
        "    if test_loss < best_loss:\n",
        "        best_loss = test_loss\n",
        "    #if train_loss < best_loss:\n",
        "    #    best_loss = train_loss\n",
        "        counter = 0\n",
        "        print(f'Save model Epoch {epoch+1} Train Loss : {train_loss:,} Test Loss : {test_loss:,}')\n",
        "        torch.save(model.state_dict(), 'best_model.pt')\n",
        "    else:\n",
        "        counter += 1\n",
        "\n",
        "    if counter >= patience:\n",
        "        print(f'Early stopping trigerred at epoch {epoch+1} Best Loss {best_loss:,}')\n",
        "        break\n",
        "\n"
      ]
    },
    {
      "cell_type": "markdown",
      "source": [
        "* 1024/5 Layer: Save model Epoch 257 Train Loss : 549,502,091.9069767 Test Loss : 341,054,487.0\n",
        "\n",
        "* 256/3 Layer: Save model Epoch 2231 Train Loss : 716,036,235.9069767 Test Loss : 376,949,934.0\n",
        "\n",
        "* 128/3 Layer: Save model Epoch 1578 Train Loss : 863,636,580.8372093 Test Loss : 334,586,223.1875"
      ],
      "metadata": {
        "id": "KWXAXfO2HXPE"
      },
      "id": "KWXAXfO2HXPE"
    },
    {
      "cell_type": "code",
      "execution_count": 17,
      "id": "dlXXkLX2qW1j",
      "metadata": {
        "id": "dlXXkLX2qW1j"
      },
      "outputs": [],
      "source": [
        "#model.load_state_dict(torch.load('best_model.pt'))"
      ]
    },
    {
      "cell_type": "code",
      "execution_count": 18,
      "id": "b5af4ef1",
      "metadata": {
        "colab": {
          "base_uri": "https://localhost:8080/",
          "height": 409
        },
        "id": "b5af4ef1",
        "outputId": "b5f6377f-dfa5-4443-e160-3af2a27eb3e9"
      },
      "outputs": [
        {
          "output_type": "display_data",
          "data": {
            "text/plain": [
              "<Figure size 1200x500 with 1 Axes>"
            ],
            "image/png": "[encoded data removed]"
          },
          "metadata": {}
        }
      ],
      "source": [
        "plot_training_results(train_losses, test_losses)"
      ]
    },
    {
      "cell_type": "code",
      "execution_count": 19,
      "id": "4a5d236e",
      "metadata": {
        "colab": {
          "base_uri": "https://localhost:8080/",
          "height": 409
        },
        "id": "4a5d236e",
        "outputId": "6a7b06db-ddcf-479a-af81-d050416577e3"
      },
      "outputs": [
        {
          "output_type": "display_data",
          "data": {
            "text/plain": [
              "<Figure size 1200x500 with 1 Axes>"
            ],
            "image/png": "[encoded data removed]"
          },
          "metadata": {}
        }
      ],
      "source": [
        "plot_training_results(train_losses[2000:], test_losses[2000:])"
      ]
    },
    {
      "cell_type": "code",
      "execution_count": 20,
      "id": "1ecf5dbd",
      "metadata": {
        "colab": {
          "base_uri": "https://localhost:8080/"
        },
        "id": "1ecf5dbd",
        "outputId": "1e5cdf98-20be-45c7-dc95-bcc7a64ec5e7"
      },
      "outputs": [
        {
          "output_type": "execute_result",
          "data": {
            "text/plain": [
              "tensor([[121765.8359],\n",
              "        [158502.5312],\n",
              "        [187775.3281],\n",
              "        ...,\n",
              "        [161967.5000],\n",
              "        [123806.1484],\n",
              "        [236662.8125]], device='cuda:0')"
            ]
          },
          "metadata": {},
          "execution_count": 20
        }
      ],
      "source": [
        "# 사용자명을 입력하세요. (이름이 아니여도 괜찮습니다.)\n",
        "username = \"김재곤\"\n",
        "assert username, \"username 변수에 값이 설정되지 않았습니다.\"\n",
        "\n",
        "# 그대로 실행하세요.\n",
        "from JAEN.competition import Competition\n",
        "comp = Competition(\n",
        "    username=username,\n",
        "    course_name='AI Essential',\n",
        "    course_round='0317(1)',\n",
        "    competition_name='House Price Prediction'\n",
        ")\n",
        "\n",
        "# 학습된 모델의 TEST 예측\n",
        "model.eval()\n",
        "TEST2 = TEST.to(device)\n",
        "with torch.no_grad():\n",
        "    outputs = model(TEST2)\n",
        "outputs\n",
        "\n",
        "# comp.prediction에 TEST 예측 결과 대입\n",
        "comp.prediction = outputs\n",
        "comp.prediction\n",
        "\n",
        "# 제출\n",
        "#comp.submit()"
      ]
    }
  ],
  "metadata": {
    "colab": {
      "provenance": [],
      "gpuType": "T4",
      "include_colab_link": true
    },
    "kernelspec": {
      "display_name": "Python 3",
      "name": "python3"
    },
    "language_info": {
      "codemirror_mode": {
        "name": "ipython",
        "version": 3
      },
      "file_extension": ".py",
      "mimetype": "text/x-python",
      "name": "python",
      "nbconvert_exporter": "python",
      "pygments_lexer": "ipython3",
      "version": "3.11.7"
    },
    "accelerator": "GPU"
  },
  "nbformat": 4,
  "nbformat_minor": 5
}