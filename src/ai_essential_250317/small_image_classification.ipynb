{
  "cells": [
    {
      "cell_type": "markdown",
      "metadata": {
        "id": "view-in-github",
        "colab_type": "text"
      },
      "source": [
        "<a href=\"https://colab.research.google.com/github/jaegon-kim/python_study/blob/main/src/ai_essential_250317/small_image_classification.ipynb\" target=\"_parent\"><img src=\"https://colab.research.google.com/assets/colab-badge.svg\" alt=\"Open In Colab\"/></a>"
      ]
    },
    {
      "cell_type": "markdown",
      "id": "C3HNZJH5LuqI",
      "metadata": {
        "id": "C3HNZJH5LuqI"
      },
      "source": [
        "# 소형 이미지 분류\n",
        "- **목표**\n",
        "  - 이 워크샵의 목표는 소형 이미지 분류 데이터셋을 사용하여 합성곱 신경망 모델을 학습시키고, 다양한 클래스의 이미지를 분류하는 것입니다.\n",
        "\n",
        "- **데이터셋 정보**\n",
        "  - 데이터는 (batch, 3, 32, 32) 형태로, 여기서 `batch`는 한 번에 처리하는 이미지 수, `3`은 RGB 채널 수, `32`는 이미지의 높이와 너비를 나타냅니다.\n",
        "  - 데이터셋은 총 10개의 클래스(비행기, 자동차, 새, 고양이, 사슴, 개, 개구리, 말, 배, 트럭)로 구성되어 있습니다.\n",
        "  - 데이터는 훈련용 데이터와 테스트용 데이터로 나뉘며, 훈련 데이터는 모델 학습에 사용되고, 테스트 데이터는 학습한 모델의 성능을 평가하는 데 사용됩니다.\n",
        "\n",
        "- **문제 유형**\n",
        "  - 이 워크샵은 분류 문제로, 이미지가 어떤 클래스에 속하는지를 예측하는 것이 목표입니다. 모델의 성능은 `Accuracy`로 측정됩니다."
      ]
    },
    {
      "cell_type": "markdown",
      "id": "FerWbWa8ML9S",
      "metadata": {
        "id": "FerWbWa8ML9S"
      },
      "source": [
        "## 1. 환경 설정"
      ]
    },
    {
      "cell_type": "code",
      "execution_count": 1,
      "id": "fbebc02c",
      "metadata": {
        "id": "fbebc02c"
      },
      "outputs": [],
      "source": [
        "%%capture\n",
        "!pip install JAEN -qU"
      ]
    },
    {
      "cell_type": "code",
      "execution_count": 2,
      "id": "2b192c23",
      "metadata": {
        "colab": {
          "base_uri": "https://localhost:8080/"
        },
        "id": "2b192c23",
        "outputId": "9b4a98af-aa2c-4c41-c42e-6a9de958a12c"
      },
      "outputs": [
        {
          "output_type": "execute_result",
          "data": {
            "text/plain": [
              "device(type='cpu')"
            ]
          },
          "metadata": {},
          "execution_count": 2
        }
      ],
      "source": [
        "# 그대로 실행하세요.\n",
        "import torch\n",
        "import torch.nn as nn\n",
        "import torch.optim as optim\n",
        "from torchinfo import summary\n",
        "from torchvision import datasets, transforms\n",
        "from torch.utils.data import DataLoader, Dataset\n",
        "\n",
        "device = torch.device(\"cuda\" if torch.cuda.is_available() else \"cpu\")\n",
        "device"
      ]
    },
    {
      "cell_type": "code",
      "execution_count": 3,
      "id": "4144477e",
      "metadata": {
        "id": "4144477e"
      },
      "outputs": [],
      "source": [
        "# 사용자명을 입력하세요. (이름이 아니여도 괜찮습니다.)\n",
        "username = \"김재곤\"\n",
        "assert username, \"username 변수에 값이 설정되지 않았습니다.\""
      ]
    },
    {
      "cell_type": "code",
      "execution_count": 4,
      "id": "MkvHc266MWva",
      "metadata": {
        "id": "MkvHc266MWva",
        "jupyter": {
          "outputs_hidden": true
        }
      },
      "outputs": [],
      "source": [
        "# 그대로 실행하세요.\n",
        "from JAEN.competition import Competition\n",
        "comp = Competition(\n",
        "    username=username,\n",
        "    course_name='AI Essential',\n",
        "    course_round='0317(1)',\n",
        "    competition_name='Small Image Classification'\n",
        ")"
      ]
    },
    {
      "cell_type": "markdown",
      "id": "OSiIE4tdPcSV",
      "metadata": {
        "id": "OSiIE4tdPcSV"
      },
      "source": [
        "## 2. 데이터 로드"
      ]
    },
    {
      "cell_type": "code",
      "execution_count": 5,
      "id": "Cwo9d1i-ON3u",
      "metadata": {
        "colab": {
          "base_uri": "https://localhost:8080/"
        },
        "id": "Cwo9d1i-ON3u",
        "outputId": "487620d4-e0f5-44dd-c6df-838c9fb0d385"
      },
      "outputs": [
        {
          "output_type": "execute_result",
          "data": {
            "text/plain": [
              "(torch.Size([1000, 3, 32, 32]),\n",
              " torch.Size([1000]),\n",
              " torch.Size([500, 3, 32, 32]))"
            ]
          },
          "metadata": {},
          "execution_count": 5
        }
      ],
      "source": [
        "from JAEN.datasets import load_small_image\n",
        "X, y, TEST = load_small_image()\n",
        "X.shape, y.shape, TEST.shape"
      ]
    },
    {
      "cell_type": "markdown",
      "id": "I_Vc3a22PgBm",
      "metadata": {
        "id": "I_Vc3a22PgBm"
      },
      "source": [
        "## 3. 제출 예시 코드"
      ]
    },
    {
      "cell_type": "code",
      "execution_count": 6,
      "id": "933af893",
      "metadata": {
        "colab": {
          "base_uri": "https://localhost:8080/"
        },
        "id": "933af893",
        "outputId": "f1a07108-03e5-4135-edc2-3e2425d1df51"
      },
      "outputs": [
        {
          "output_type": "execute_result",
          "data": {
            "text/plain": [
              "tensor([0., 0., 0., 0., 0., 0., 0., 0., 0., 0., 0., 0., 0., 0., 0., 0., 0., 0., 0., 0., 0., 0., 0., 0.,\n",
              "        0., 0., 0., 0., 0., 0., 0., 0., 0., 0., 0., 0., 0., 0., 0., 0., 0., 0., 0., 0., 0., 0., 0., 0.,\n",
              "        0., 0., 0., 0., 0., 0., 0., 0., 0., 0., 0., 0., 0., 0., 0., 0., 0., 0., 0., 0., 0., 0., 0., 0.,\n",
              "        0., 0., 0., 0., 0., 0., 0., 0., 0., 0., 0., 0., 0., 0., 0., 0., 0., 0., 0., 0., 0., 0., 0., 0.,\n",
              "        0., 0., 0., 0., 0., 0., 0., 0., 0., 0., 0., 0., 0., 0., 0., 0., 0., 0., 0., 0., 0., 0., 0., 0.,\n",
              "        0., 0., 0., 0., 0., 0., 0., 0., 0., 0., 0., 0., 0., 0., 0., 0., 0., 0., 0., 0., 0., 0., 0., 0.,\n",
              "        0., 0., 0., 0., 0., 0., 0., 0., 0., 0., 0., 0., 0., 0., 0., 0., 0., 0., 0., 0., 0., 0., 0., 0.,\n",
              "        0., 0., 0., 0., 0., 0., 0., 0., 0., 0., 0., 0., 0., 0., 0., 0., 0., 0., 0., 0., 0., 0., 0., 0.,\n",
              "        0., 0., 0., 0., 0., 0., 0., 0., 0., 0., 0., 0., 0., 0., 0., 0., 0., 0., 0., 0., 0., 0., 0., 0.,\n",
              "        0., 0., 0., 0., 0., 0., 0., 0., 0., 0., 0., 0., 0., 0., 0., 0., 0., 0., 0., 0., 0., 0., 0., 0.,\n",
              "        0., 0., 0., 0., 0., 0., 0., 0., 0., 0., 0., 0., 0., 0., 0., 0., 0., 0., 0., 0., 0., 0., 0., 0.,\n",
              "        0., 0., 0., 0., 0., 0., 0., 0., 0., 0., 0., 0., 0., 0., 0., 0., 0., 0., 0., 0., 0., 0., 0., 0.,\n",
              "        0., 0., 0., 0., 0., 0., 0., 0., 0., 0., 0., 0., 0., 0., 0., 0., 0., 0., 0., 0., 0., 0., 0., 0.,\n",
              "        0., 0., 0., 0., 0., 0., 0., 0., 0., 0., 0., 0., 0., 0., 0., 0., 0., 0., 0., 0., 0., 0., 0., 0.,\n",
              "        0., 0., 0., 0., 0., 0., 0., 0., 0., 0., 0., 0., 0., 0., 0., 0., 0., 0., 0., 0., 0., 0., 0., 0.,\n",
              "        0., 0., 0., 0., 0., 0., 0., 0., 0., 0., 0., 0., 0., 0., 0., 0., 0., 0., 0., 0., 0., 0., 0., 0.,\n",
              "        0., 0., 0., 0., 0., 0., 0., 0., 0., 0., 0., 0., 0., 0., 0., 0., 0., 0., 0., 0., 0., 0., 0., 0.,\n",
              "        0., 0., 0., 0., 0., 0., 0., 0., 0., 0., 0., 0., 0., 0., 0., 0., 0., 0., 0., 0., 0., 0., 0., 0.,\n",
              "        0., 0., 0., 0., 0., 0., 0., 0., 0., 0., 0., 0., 0., 0., 0., 0., 0., 0., 0., 0., 0., 0., 0., 0.,\n",
              "        0., 0., 0., 0., 0., 0., 0., 0., 0., 0., 0., 0., 0., 0., 0., 0., 0., 0., 0., 0., 0., 0., 0., 0.,\n",
              "        0., 0., 0., 0., 0., 0., 0., 0., 0., 0., 0., 0., 0., 0., 0., 0., 0., 0., 0., 0.])"
            ]
          },
          "metadata": {},
          "execution_count": 6
        }
      ],
      "source": [
        "# TEST의 예측값 대입 (지금은 0으로 채워진 값 대입)\n",
        "comp.prediction =  torch.zeros(500)\n",
        "comp.prediction"
      ]
    },
    {
      "cell_type": "code",
      "execution_count": 7,
      "id": "wvkBKJUbKsW9",
      "metadata": {
        "colab": {
          "base_uri": "https://localhost:8080/"
        },
        "id": "wvkBKJUbKsW9",
        "outputId": "5ee85c31-7201-411c-d2bc-1c4c16c16050"
      },
      "outputs": [
        {
          "output_type": "stream",
          "name": "stdout",
          "text": [
            "[Small Image Classification 평가 결과]\n",
            " AI Essential 0317(1) 과정 김재곤님의 점수는 0.1 입니다."
          ]
        }
      ],
      "source": [
        "# 제출\n",
        "comp.submit()"
      ]
    },
    {
      "cell_type": "markdown",
      "id": "4wNCB3ATlBe4",
      "metadata": {
        "id": "4wNCB3ATlBe4"
      },
      "source": [
        "## 4. 합성곱신경망 모델을 구성하고 학습하여 TEST를 예측해보세요.\n",
        "- TEST의 예측 결과는 `comp.prediction`에 대입해주세요. **torch.tensor** 형태여야합니다."
      ]
    },
    {
      "cell_type": "code",
      "execution_count": 8,
      "id": "KtwmpH1EibaM",
      "metadata": {
        "id": "KtwmpH1EibaM"
      },
      "outputs": [],
      "source": [
        "from torch.utils.data import DataLoader, TensorDataset\n",
        "# TensorDataset을 사용하여 데이터셋 생성\n",
        "train_dataset = TensorDataset(X, y)\n",
        "test_dataset = TensorDataset(TEST)\n",
        "\n",
        "# DataLoader 생성\n",
        "batch_size = 32  # 배치 크기 설정\n",
        "train_loader = DataLoader(train_dataset, batch_size=batch_size, shuffle=True)\n",
        "test_loader = DataLoader(test_dataset, batch_size=batch_size, shuffle=False)"
      ]
    },
    {
      "cell_type": "code",
      "execution_count": 9,
      "id": "-37EJXcZibcK",
      "metadata": {
        "id": "-37EJXcZibcK",
        "outputId": "03ae3ef4-63aa-4765-ab8e-3c88db7d0271",
        "colab": {
          "base_uri": "https://localhost:8080/"
        }
      },
      "outputs": [
        {
          "output_type": "execute_result",
          "data": {
            "text/plain": [
              "=================================================================\n",
              "Layer (type:depth-idx)                   Param #\n",
              "=================================================================\n",
              "SimpleCNN                                --\n",
              "├─Conv2d: 1-1                            896\n",
              "├─MaxPool2d: 1-2                         --\n",
              "├─Conv2d: 1-3                            18,496\n",
              "├─Conv2d: 1-4                            73,856\n",
              "├─Linear: 1-5                            524,544\n",
              "├─Linear: 1-6                            2,570\n",
              "=================================================================\n",
              "Total params: 620,362\n",
              "Trainable params: 620,362\n",
              "Non-trainable params: 0\n",
              "================================================================="
            ]
          },
          "metadata": {},
          "execution_count": 9
        }
      ],
      "source": [
        "# 모델 구현\n",
        "import torch\n",
        "import torch.nn as nn\n",
        "import torch.nn.functional as F\n",
        "\n",
        "class SimpleCNN(nn.Module):\n",
        "    def __init__(self):\n",
        "        super(SimpleCNN, self).__init__()\n",
        "        # 첫 번째 합성곱 레이어\n",
        "        self.conv1 = nn.Conv2d(in_channels=3, out_channels=32, kernel_size=3, padding=1)  # 32 x 32 x 3 -> 32 x 32 x 32\n",
        "        self.pool = nn.MaxPool2d(kernel_size=2, stride=2)  # 32 x 32 x 32 -> 16 x 16 x 32\n",
        "        # 두 번째 합성곱 레이어\n",
        "        self.conv2 = nn.Conv2d(in_channels=32, out_channels=64, kernel_size=3, padding=1)  # 16 x 16 x 32 -> 16 x 16 x 64\n",
        "        # 세 번째 합성곱 레이어\n",
        "        self.conv3 = nn.Conv2d(in_channels=64, out_channels=128, kernel_size=3, padding=1)  # 16 x 16 x 64 -> 16 x 16 x 128\n",
        "\n",
        "        # 완전 연결층\n",
        "        self.fc1 = nn.Linear(128 * 4 * 4, 256)  # 4 x 4 x 128 -> 256\n",
        "        self.fc2 = nn.Linear(256, 10)  # 256 -> 10 (클래스 수)\n",
        "\n",
        "    def forward(self, x):\n",
        "        # Forward pass\n",
        "        x = self.pool(F.relu(self.conv1(x)))  # 첫 번째 레이어\n",
        "        x = self.pool(F.relu(self.conv2(x)))  # 두 번째 레이어\n",
        "        x = self.pool(F.relu(self.conv3(x)))  # 세 번째 레이어\n",
        "        x = x.view(-1, 128 * 4 * 4)  # Flatten\n",
        "        x = F.relu(self.fc1(x))  # 첫 번째 완전 연결층\n",
        "        x = self.fc2(x)  # 두 번째 완전 연결층 (출력)\n",
        "\n",
        "        # 별도의 Softmax 계층을 붙이지 않는다.\n",
        "        # 대신, Cross Entropy Loss Function에서 Log Softmax에서 확률로 변환하여 역전파 해준다.\n",
        "        # 수치의 안정성을 지원하기 위해, Log Softmax를 쓰고, Cross Entropy를 계산 하는 과정에서 계산을 생략하는 트릭을 쓸 수 있다.\n",
        "\n",
        "        return x\n",
        "\n",
        "# 모델 인스턴스 생성\n",
        "model = SimpleCNN()\n",
        "\n",
        "# 모델 요약 출력 (옵션)\n",
        "summary(model)"
      ]
    },
    {
      "cell_type": "code",
      "execution_count": 10,
      "id": "a2237784",
      "metadata": {
        "id": "a2237784"
      },
      "outputs": [],
      "source": [
        "# 손실함수 및 옵티마이저 설정\n",
        "criterion = nn.CrossEntropyLoss()  # 크로스 엔트로피 손실 함수\n",
        "optimizer = optim.Adam(model.parameters())"
      ]
    },
    {
      "cell_type": "code",
      "execution_count": 11,
      "id": "3e1ded1c",
      "metadata": {
        "id": "3e1ded1c",
        "outputId": "16de4f28-b32c-494a-f6c0-aba250e6c523",
        "colab": {
          "base_uri": "https://localhost:8080/"
        }
      },
      "outputs": [
        {
          "output_type": "stream",
          "name": "stdout",
          "text": [
            "Epoch [1/5], Loss: 2.2092576920986176\n",
            "Epoch [2/5], Loss: 1.9926981031894684\n",
            "Epoch [3/5], Loss: 1.7795875780284405\n",
            "Epoch [4/5], Loss: 1.6076294779777527\n",
            "Epoch [5/5], Loss: 1.4557635299861431\n"
          ]
        }
      ],
      "source": [
        "# 모델 학습 과정 구현\n",
        "epochs = 5\n",
        "for epoch in range(epochs):\n",
        "    running_loss = 0.0\n",
        "    model.train()\n",
        "    for inputs, labels in train_loader:\n",
        "        optimizer.zero_grad()\n",
        "        outputs = model(inputs)\n",
        "        loss = criterion(outputs, labels)\n",
        "        loss.backward()\n",
        "        optimizer.step()\n",
        "        running_loss += loss.item()\n",
        "\n",
        "    print(f'Epoch [{epoch+1}/{epochs}], Loss: {running_loss / len(train_loader)}')"
      ]
    },
    {
      "cell_type": "code",
      "execution_count": 12,
      "id": "c1439106",
      "metadata": {
        "id": "c1439106",
        "outputId": "17c34355-554a-4968-b04b-c682d2f745bd",
        "colab": {
          "base_uri": "https://localhost:8080/"
        }
      },
      "outputs": [
        {
          "output_type": "stream",
          "name": "stdout",
          "text": [
            "tensor([3, 1, 1, 8, 4, 6, 1, 6, 5, 1])\n"
          ]
        }
      ],
      "source": [
        "# 학습된 모델의 TEST 예측\n",
        "import torch.nn.functional as F\n",
        "\n",
        "# TEST 데이터에 대한 예측\n",
        "model.eval()  # 모델을 평가 모드로 설정\n",
        "all_predictions = []\n",
        "\n",
        "# DataLoader를 사용하여 배치 단위로 예측\n",
        "with torch.no_grad():\n",
        "    for inputs in test_loader:\n",
        "        outputs = model(inputs[0])  # 배치의 입력을 모델에 전달\n",
        "\n",
        "        # 소프트맥스를 사용하여 확률로 변환\n",
        "        probabilities = F.softmax(outputs, dim=1) # 이 과정은 생략할 수 있다.\n",
        "\n",
        "        # 가장 높은 확률을 가진 클래스를 선택\n",
        "        predicted_labels = torch.argmax(probabilities, dim=1)\n",
        "        all_predictions.append(predicted_labels)\n",
        "\n",
        "# 모든 배치의 예측 결과를 하나의 텐서로 결합\n",
        "all_predictions = torch.cat(all_predictions)\n",
        "\n",
        "# 예측 레이블 확인\n",
        "print(all_predictions[:10])"
      ]
    },
    {
      "cell_type": "code",
      "execution_count": 14,
      "id": "8fb7b590",
      "metadata": {
        "id": "8fb7b590",
        "outputId": "f618fe27-6f7c-47e9-9136-1ec2688576eb",
        "colab": {
          "base_uri": "https://localhost:8080/"
        }
      },
      "outputs": [
        {
          "output_type": "execute_result",
          "data": {
            "text/plain": [
              "tensor([3, 1, 1, 8, 4, 6, 1, 6, 5, 1, 0, 9, 5, 1, 1, 1, 5, 9, 8, 6, 7, 0, 0, 9,\n",
              "        2, 2, 6, 7, 9, 6, 3, 2, 5, 6, 9, 1, 4, 1, 9, 5, 1, 3, 3, 6, 9, 1, 5, 9,\n",
              "        4, 4, 9, 1, 6, 3, 8, 8, 5, 1, 6, 5, 4, 4, 1, 9, 6, 4, 1, 0, 5, 9, 4, 7,\n",
              "        8, 8, 9, 6, 9, 5, 3, 8, 8, 1, 2, 5, 4, 9, 1, 8, 9, 1, 1, 4, 8, 3, 2, 6,\n",
              "        6, 0, 6, 7, 4, 6, 3, 6, 1, 1, 1, 6, 1, 5, 6, 8, 4, 2, 1, 5, 0, 3, 4, 7,\n",
              "        8, 4, 1, 4, 0, 9, 8, 5, 3, 4, 4, 9, 1, 1, 6, 5, 9, 6, 4, 1, 4, 5, 6, 5,\n",
              "        1, 7, 3, 5, 5, 5, 1, 8, 8, 1, 0, 5, 5, 1, 5, 0, 2, 1, 9, 6, 8, 7, 8, 6,\n",
              "        9, 9, 9, 9, 1, 8, 1, 1, 4, 7, 5, 9, 9, 3, 4, 5, 7, 8, 3, 3, 7, 1, 5, 1,\n",
              "        1, 1, 7, 4, 9, 5, 3, 1, 3, 9, 0, 9, 1, 5, 8, 5, 5, 8, 5, 1, 5, 9, 9, 4,\n",
              "        9, 9, 2, 7, 5, 3, 1, 5, 3, 1, 6, 5, 4, 6, 3, 9, 9, 8, 8, 0, 2, 9, 6, 6,\n",
              "        1, 1, 9, 9, 0, 1, 0, 8, 5, 8, 4, 5, 9, 9, 4, 9, 6, 1, 9, 9, 1, 9, 3, 3,\n",
              "        1, 8, 5, 4, 7, 5, 4, 5, 6, 5, 8, 3, 1, 6, 7, 5, 1, 1, 3, 1, 9, 9, 1, 8,\n",
              "        9, 9, 1, 2, 6, 1, 5, 4, 6, 0, 0, 6, 6, 6, 3, 1, 4, 1, 1, 4, 1, 4, 8, 6,\n",
              "        0, 2, 5, 4, 5, 7, 4, 5, 5, 5, 4, 4, 9, 1, 6, 7, 1, 6, 1, 1, 4, 6, 6, 6,\n",
              "        6, 8, 0, 7, 7, 5, 2, 5, 8, 3, 7, 9, 8, 1, 9, 1, 8, 2, 5, 5, 4, 3, 1, 8,\n",
              "        9, 5, 8, 8, 9, 7, 6, 9, 0, 1, 4, 7, 9, 5, 0, 9, 8, 5, 6, 6, 6, 9, 0, 1,\n",
              "        5, 0, 9, 4, 4, 5, 1, 0, 6, 5, 7, 6, 5, 3, 8, 9, 9, 1, 7, 8, 8, 4, 0, 1,\n",
              "        6, 6, 0, 5, 6, 1, 1, 6, 9, 5, 7, 4, 5, 8, 1, 4, 1, 5, 7, 9, 6, 5, 5, 5,\n",
              "        9, 9, 7, 5, 6, 3, 1, 9, 2, 9, 5, 6, 5, 2, 2, 6, 1, 2, 5, 4, 7, 6, 3, 9,\n",
              "        5, 9, 6, 7, 6, 3, 4, 6, 3, 7, 2, 0, 5, 6, 8, 1, 1, 8, 2, 6, 3, 3, 5, 3,\n",
              "        4, 5, 9, 9, 9, 9, 1, 1, 1, 2, 4, 1, 6, 8, 5, 9, 1, 9, 1, 5])"
            ]
          },
          "metadata": {},
          "execution_count": 14
        }
      ],
      "source": [
        "# comp.prediction에 TEST 예측 결과 대입\n",
        "comp.prediction = all_predictions\n",
        "comp.prediction"
      ]
    },
    {
      "cell_type": "code",
      "execution_count": 15,
      "id": "ddd1d918",
      "metadata": {
        "id": "ddd1d918",
        "outputId": "dbb24040-2957-4859-d09e-87c72c12cb1e",
        "colab": {
          "base_uri": "https://localhost:8080/"
        }
      },
      "outputs": [
        {
          "output_type": "stream",
          "name": "stdout",
          "text": [
            "[Small Image Classification 평가 결과]\n",
            " AI Essential 0317(1) 과정 김재곤님의 점수는 0.38 입니다."
          ]
        }
      ],
      "source": [
        "# 제출\n",
        "comp.submit()"
      ]
    }
  ],
  "metadata": {
    "colab": {
      "provenance": [],
      "include_colab_link": true
    },
    "kernelspec": {
      "display_name": "ai-essential",
      "language": "python",
      "name": "python3"
    },
    "language_info": {
      "codemirror_mode": {
        "name": "ipython",
        "version": 3
      },
      "file_extension": ".py",
      "mimetype": "text/x-python",
      "name": "python",
      "nbconvert_exporter": "python",
      "pygments_lexer": "ipython3",
      "version": "3.12.7"
    }
  },
  "nbformat": 4,
  "nbformat_minor": 5
}