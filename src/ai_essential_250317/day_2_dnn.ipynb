{
  "cells": [
    {
      "cell_type": "markdown",
      "metadata": {
        "colab_type": "text",
        "id": "view-in-github"
      },
      "source": [
        "<a href=\"https://colab.research.google.com/github/jaegon-kim/python_study/blob/main/src/ai_essential_250317/day_2_dnn.ipynb\" target=\"_parent\"><img src=\"https://colab.research.google.com/assets/colab-badge.svg\" alt=\"Open In Colab\"/></a>"
      ]
    },
    {
      "cell_type": "markdown",
      "id": "f6468de1",
      "metadata": {
        "id": "f6468de1"
      },
      "source": [
        "# 04. 심층신경망(DNN)"
      ]
    },
    {
      "cell_type": "markdown",
      "id": "fa2faf71",
      "metadata": {
        "id": "fa2faf71"
      },
      "source": [
        "## 04-001 PyTorch 및 관련 모듈 임포트와 device 설정"
      ]
    },
    {
      "cell_type": "code",
      "execution_count": 1,
      "id": "f2e9fb4b",
      "metadata": {
        "id": "f2e9fb4b"
      },
      "outputs": [],
      "source": [
        "%%capture\n",
        "!pip install JAEN -qU"
      ]
    },
    {
      "cell_type": "code",
      "execution_count": 2,
      "id": "e81f8968",
      "metadata": {},
      "outputs": [
        {
          "data": {
            "text/plain": [
              "'1.0.8'"
            ]
          },
          "execution_count": 2,
          "metadata": {},
          "output_type": "execute_result"
        }
      ],
      "source": [
        "import JAEN\n",
        "JAEN.__version__"
      ]
    },
    {
      "cell_type": "code",
      "execution_count": 4,
      "id": "01d28015",
      "metadata": {
        "id": "01d28015"
      },
      "outputs": [],
      "source": [
        "import torch\n",
        "import torch.nn as nn\n",
        "import torch.optim as optim\n",
        "from torch.utils.data import DataLoader\n",
        "from torchinfo import summary\n",
        "from JAEN.utils import plot_training_results\n",
        "\n",
        "# device 설정 (GPU가 사용 가능하면 GPU로, 그렇지 않으면 CPU 사용)\n",
        "device = torch.device('cuda' if torch.cuda.is_available() else 'cpu')\n",
        "\n",
        "# 데이터 로더 정의\n",
        "from JAEN.datasets import load_titanic\n",
        "train_loader, test_loader = load_titanic()"
      ]
    },
    {
      "cell_type": "code",
      "execution_count": 7,
      "id": "ba884f0e",
      "metadata": {},
      "outputs": [
        {
          "data": {
            "text/plain": [
              "device(type='cuda')"
            ]
          },
          "execution_count": 7,
          "metadata": {},
          "output_type": "execute_result"
        }
      ],
      "source": [
        "device"
      ]
    },
    {
      "cell_type": "markdown",
      "id": "7982f7e2",
      "metadata": {
        "id": "7982f7e2"
      },
      "source": [
        "## 04-002 nn.Sequential 기반 신경망 모델 구성"
      ]
    },
    {
      "cell_type": "code",
      "execution_count": 6,
      "id": "044e211e",
      "metadata": {
        "colab": {
          "base_uri": "https://localhost:8080/"
        },
        "id": "044e211e",
        "outputId": "46e81159-67cb-4e30-c674-5b9c7889704e"
      },
      "outputs": [
        {
          "data": {
            "text/plain": [
              "==========================================================================================\n",
              "Layer (type:depth-idx)                   Output Shape              Param #\n",
              "==========================================================================================\n",
              "Sequential                               [32, 1]                   --\n",
              "├─Linear: 1-1                            [32, 32]                  256\n",
              "├─ReLU: 1-2                              [32, 32]                  --\n",
              "├─Linear: 1-3                            [32, 1]                   33\n",
              "├─Sigmoid: 1-4                           [32, 1]                   --\n",
              "==========================================================================================\n",
              "Total params: 289\n",
              "Trainable params: 289\n",
              "Non-trainable params: 0\n",
              "Total mult-adds (Units.MEGABYTES): 0.01\n",
              "==========================================================================================\n",
              "Input size (MB): 0.00\n",
              "Forward/backward pass size (MB): 0.01\n",
              "Params size (MB): 0.00\n",
              "Estimated Total Size (MB): 0.01\n",
              "=========================================================================================="
            ]
          },
          "execution_count": 6,
          "metadata": {},
          "output_type": "execute_result"
        }
      ],
      "source": [
        "model = nn.Sequential(\n",
        "    nn.Linear(7, 32),\n",
        "    nn.ReLU(),\n",
        "    nn.Linear(32, 1),\n",
        "    nn.Sigmoid()\n",
        ")\n",
        "\n",
        "# 모델 인스턴스 생성\n",
        "model = model.to(device)\n",
        "summary(model, (32, 7))"
      ]
    },
    {
      "cell_type": "markdown",
      "id": "6888ad9b",
      "metadata": {
        "id": "6888ad9b"
      },
      "source": [
        "## 04-003 nn.Module 기반 신경망 모델 구성"
      ]
    },
    {
      "cell_type": "code",
      "execution_count": 9,
      "id": "95d47ec1",
      "metadata": {
        "colab": {
          "base_uri": "https://localhost:8080/"
        },
        "id": "95d47ec1",
        "outputId": "d32e3f1d-1779-4936-d6a5-0010052233ad"
      },
      "outputs": [
        {
          "data": {
            "text/plain": [
              "==========================================================================================\n",
              "Layer (type:depth-idx)                   Output Shape              Param #\n",
              "==========================================================================================\n",
              "DNN                                      [32, 1]                   --\n",
              "├─Linear: 1-1                            [32, 32]                  256\n",
              "├─ReLU: 1-2                              [32, 32]                  --\n",
              "├─Linear: 1-3                            [32, 1]                   33\n",
              "├─Sigmoid: 1-4                           [32, 1]                   --\n",
              "==========================================================================================\n",
              "Total params: 289\n",
              "Trainable params: 289\n",
              "Non-trainable params: 0\n",
              "Total mult-adds (Units.MEGABYTES): 0.01\n",
              "==========================================================================================\n",
              "Input size (MB): 0.00\n",
              "Forward/backward pass size (MB): 0.01\n",
              "Params size (MB): 0.00\n",
              "Estimated Total Size (MB): 0.01\n",
              "=========================================================================================="
            ]
          },
          "execution_count": 9,
          "metadata": {},
          "output_type": "execute_result"
        }
      ],
      "source": [
        "class DNN(nn.Module):\n",
        "    def __init__(self):\n",
        "        super().__init__()\n",
        "        self.fc1 = nn.Linear(7, 32)\n",
        "        self.fc2 = nn.Linear(32, 1)\n",
        "        self.relu = nn.ReLU()\n",
        "        self.sigmoid = nn.Sigmoid()\n",
        "\n",
        "    def forward(self, x):\n",
        "        x = self.relu(self.fc1(x))\n",
        "        x = self.fc2(x)\n",
        "        x = self.sigmoid(x)\n",
        "        return x\n",
        "\n",
        "# 모델 인스턴스 생성\n",
        "model = DNN().to(device)\n",
        "summary(model, (32, 7))"
      ]
    },
    {
      "cell_type": "markdown",
      "id": "deefe689",
      "metadata": {
        "id": "deefe689"
      },
      "source": [
        "## 연습문제-04-001 Sequential 방식으로 2차원 더미 데이터를 이용한 분류 모델 설계"
      ]
    },
    {
      "cell_type": "code",
      "execution_count": 10,
      "id": "ef1ecd2d",
      "metadata": {
        "id": "ef1ecd2d"
      },
      "outputs": [
        {
          "data": {
            "text/plain": [
              "Sequential(\n",
              "  (0): Linear(in_features=2, out_features=32, bias=True)\n",
              "  (1): ReLU()\n",
              "  (2): Linear(in_features=32, out_features=16, bias=True)\n",
              "  (3): ReLU()\n",
              "  (4): Linear(in_features=16, out_features=3, bias=True)\n",
              ")"
            ]
          },
          "metadata": {},
          "output_type": "display_data"
        },
        {
          "data": {
            "text/plain": [
              "=================================================================\n",
              "Layer (type:depth-idx)                   Param #\n",
              "=================================================================\n",
              "Sequential                               --\n",
              "├─Linear: 1-1                            96\n",
              "├─ReLU: 1-2                              --\n",
              "├─Linear: 1-3                            528\n",
              "├─ReLU: 1-4                              --\n",
              "├─Linear: 1-5                            51\n",
              "=================================================================\n",
              "Total params: 675\n",
              "Trainable params: 675\n",
              "Non-trainable params: 0\n",
              "================================================================="
            ]
          },
          "execution_count": 10,
          "metadata": {},
          "output_type": "execute_result"
        }
      ],
      "source": [
        "# nn.Sequential을 사용하여 model2 정의\n",
        "model2 = nn.Sequential(\n",
        "# 1. 첫 번째 레이어는 nn.Linear(2, 32)로 입력 차원이 2이고 출력 차원이 32인 완전연결층을 사용.\n",
        "    nn.Linear(2, 32),\n",
        "# 2. nn.ReLU()로 활성화 함수인 ReLU를 추가.\n",
        "    nn.ReLU(),\n",
        "# 3. 두 번째 레이어는 nn.Linear(32, 16)으로 입력 차원이 32, 출력 차원이 16인 완전연결층을 추가.\n",
        "    nn.Linear(32, 16),\n",
        "# 4. 다시 nn.ReLU()로 활성화 함수 추가.\n",
        "    nn.ReLU(),\n",
        "# 5. 마지막 레이어는 nn.Linear(16, 3)으로 입력 차원이 16, 출력 차원이 3인 완전연결층을 추가.\n",
        "    nn.Linear(16, 3),\n",
        ")\n",
        "display(model2)\n",
        "summary(model2)"
      ]
    },
    {
      "cell_type": "markdown",
      "id": "55fc51e3",
      "metadata": {
        "id": "55fc51e3"
      },
      "source": [
        "## 연습문제-04-002 Module 방식으로 2차원 더미 데이터를 이용한 회귀 모델 설계"
      ]
    },
    {
      "cell_type": "code",
      "execution_count": 11,
      "id": "622da1fa",
      "metadata": {
        "id": "622da1fa"
      },
      "outputs": [
        {
          "data": {
            "text/plain": [
              "DNN(\n",
              "  (fc1): Linear(in_features=2, out_features=64, bias=True)\n",
              "  (fc2): Linear(in_features=64, out_features=32, bias=True)\n",
              "  (fc3): Linear(in_features=32, out_features=1, bias=True)\n",
              "  (relu): ReLU()\n",
              ")"
            ]
          },
          "metadata": {},
          "output_type": "display_data"
        },
        {
          "data": {
            "text/plain": [
              "=================================================================\n",
              "Layer (type:depth-idx)                   Param #\n",
              "=================================================================\n",
              "DNN                                      --\n",
              "├─Linear: 1-1                            192\n",
              "├─Linear: 1-2                            2,080\n",
              "├─Linear: 1-3                            33\n",
              "├─ReLU: 1-4                              --\n",
              "=================================================================\n",
              "Total params: 2,305\n",
              "Trainable params: 2,305\n",
              "Non-trainable params: 0\n",
              "================================================================="
            ]
          },
          "execution_count": 11,
          "metadata": {},
          "output_type": "execute_result"
        }
      ],
      "source": [
        "# nn.Module을 상속받아 model3 정의\n",
        "\n",
        "class DNN(nn.Module):\n",
        "# 1. __init__ 메서드에서 세 개의 레이어(layer1, layer2, layer3)를 정의.\n",
        "#    각 레이어는 nn.Linear를 사용하여 정의되며, 첫 번째 레이어는 입력이 2차원, 출력이 64차원.\n",
        "# 2. 두 번째 레이어는 입력이 64차원, 출력이 32차원.\n",
        "# 3. 세 번째 레이어는 입력이 32차원, 출력이 1차원으로 회귀 문제에 맞게 설정.\n",
        "    def __init__(self):\n",
        "        super().__init__()\n",
        "        self.fc1 = nn.Linear(2, 64)\n",
        "        self.fc2 = nn.Linear(64, 32)\n",
        "        self.fc3 = nn.Linear(32, 1)\n",
        "        self.relu = nn.ReLU()\n",
        "\n",
        "# 4. forward 메서드에서 입력 데이터가 layer1 -> ReLU -> layer2 -> ReLU -> layer3 순으로 통과.\n",
        "#    마지막 출력은 회귀 문제이므로 활성화 함수 없이 그대로 반환.\n",
        "\n",
        "    def forward(self, x):\n",
        "        x = self.relu(self.fc1(x))\n",
        "        x = self.relu(self.fc2(x))\n",
        "        x = self.fc3(x)\n",
        "        return x\n",
        "\n",
        "model3 = DNN().to(device)\n",
        "\n",
        "display(model3)\n",
        "summary(model3)"
      ]
    },
    {
      "cell_type": "markdown",
      "id": "5da6c64b",
      "metadata": {
        "id": "5da6c64b"
      },
      "source": [
        "## 04-004 모델 학습 함수 구현"
      ]
    },
    {
      "cell_type": "code",
      "execution_count": null,
      "id": "4bec3579",
      "metadata": {
        "id": "4bec3579"
      },
      "outputs": [],
      "source": [
        "def train(model, train_loader, criterion, optimizer, device):\n",
        "    model.train()  # 모델을 학습 모드로 설정\n",
        "\n",
        "    running_loss = 0.0 # 미니 배치별 loss값을 누적할 변수\n",
        "\n",
        "    for data, labels in train_loader: # 미니 배치 별 파라미터 업데이트 수행\n",
        "        data, labels = data.to(device), labels.to(device) # 미니 배치별 데이터와 레이블 장치 할당\n",
        "\n",
        "        # 순전파\n",
        "        outputs = model(data)\n",
        "\n",
        "        # 손실 계산\n",
        "        loss = criterion(outputs, labels)\n",
        "\n",
        "        # 기울기 초기화\n",
        "        optimizer.zero_grad()\n",
        "\n",
        "        # 역전파\n",
        "        loss.backward()\n",
        "\n",
        "        # 파라미터 업데이트\n",
        "        optimizer.step()\n",
        "\n",
        "        # 손실 누적\n",
        "        running_loss += loss.item()\n",
        "\n",
        "    # 현재 Epoch의 평균 손실 값 계산 및 반환\n",
        "    # - len(train_loader): 평균 Loss\n",
        "    return running_loss / len(train_loader)"
      ]
    },
    {
      "cell_type": "markdown",
      "id": "c83df583",
      "metadata": {
        "id": "c83df583"
      },
      "source": [
        "## 04-005 모델 평가 함수 구현"
      ]
    },
    {
      "cell_type": "code",
      "execution_count": 13,
      "id": "a4309773",
      "metadata": {
        "id": "a4309773"
      },
      "outputs": [],
      "source": [
        "# 평가 함수 정의\n",
        "def evaluate(model, test_loader, criterion, device):\n",
        "    model.eval()  # 모델을 평가 모드로 설정\n",
        "\n",
        "    running_loss = 0.0 # 미니 배치별 loss값을 누적할 변수\n",
        "\n",
        "    with torch.no_grad():  # 평가 중에는 기울기 계산을 하지 않음\n",
        "        for data, labels in test_loader: # 미니 배치 별 손실 계산\n",
        "            data, labels = data.to(device), labels.to(device) # 미니 배치별 데이터와 레이블 장치 할당\n",
        "\n",
        "            # 순전파\n",
        "            outputs = model(data)\n",
        "\n",
        "            # 손실 계산\n",
        "            loss = criterion(outputs, labels)\n",
        "\n",
        "            # 손실 누적\n",
        "            running_loss += loss.item()\n",
        "\n",
        "\n",
        "    # 현재 Epoch의 평균 손실 값 계산 및 반환\n",
        "    return running_loss / len(test_loader)"
      ]
    },
    {
      "cell_type": "markdown",
      "id": "4dc0232e",
      "metadata": {
        "id": "4dc0232e"
      },
      "source": [
        "## 04-006 손실 함수 및 옵티마이저 설정과 학습 수행"
      ]
    },
    {
      "cell_type": "code",
      "execution_count": 14,
      "id": "56231e3e",
      "metadata": {
        "id": "56231e3e"
      },
      "outputs": [],
      "source": [
        "# 손실 함수와 옵티마이저 설정\n",
        "criterion = nn.BCELoss()  # 이진 분류를 위한 손실 함수\n",
        "optimizer = optim.Adam(model.parameters(), lr=0.01)  # Adam 옵티마이저"
      ]
    },
    {
      "cell_type": "code",
      "execution_count": null,
      "id": "becd8b52",
      "metadata": {},
      "outputs": [
        {
          "data": {
            "text/plain": [
              "32"
            ]
          },
          "execution_count": 21,
          "metadata": {},
          "output_type": "execute_result"
        }
      ],
      "source": [
        "# batch size\n",
        "train_loader.batch_sampler.batch_size"
      ]
    },
    {
      "cell_type": "code",
      "execution_count": null,
      "id": "1951b542",
      "metadata": {},
      "outputs": [
        {
          "data": {
            "text/plain": [
              "23"
            ]
          },
          "execution_count": 19,
          "metadata": {},
          "output_type": "execute_result"
        }
      ],
      "source": [
        "# number of the batch\n",
        "len(train_loader)"
      ]
    },
    {
      "cell_type": "markdown",
      "id": "2bb3cb2d",
      "metadata": {
        "id": "2bb3cb2d"
      },
      "source": [
        "## 04-007 학습 및 평가"
      ]
    },
    {
      "cell_type": "code",
      "execution_count": 18,
      "id": "60453f7e",
      "metadata": {
        "colab": {
          "base_uri": "https://localhost:8080/"
        },
        "id": "60453f7e",
        "outputId": "2db14d7b-af3c-4058-f878-5694a509330f"
      },
      "outputs": [
        {
          "name": "stdout",
          "output_type": "stream",
          "text": [
            "Epoch 1 Train Loss : 0.30501116391109384 Test Loss : 0.5475970009962717\n",
            "Epoch 2 Train Loss : 0.31800968232362165 Test Loss : 0.5976655781269073\n",
            "Epoch 3 Train Loss : 0.3306408634652262 Test Loss : 0.524062991142273\n",
            "Epoch 4 Train Loss : 0.3060329264920691 Test Loss : 0.5394264658292135\n",
            "Epoch 5 Train Loss : 0.3052667197973832 Test Loss : 0.531430259346962\n",
            "Epoch 6 Train Loss : 0.30950150995150855 Test Loss : 0.5464444061120352\n",
            "Epoch 7 Train Loss : 0.304244717826014 Test Loss : 0.5536732375621796\n",
            "Epoch 8 Train Loss : 0.3054889800107997 Test Loss : 0.539625679453214\n",
            "Epoch 9 Train Loss : 0.3024763490842736 Test Loss : 0.5428242186705271\n",
            "Epoch 10 Train Loss : 0.31929331629172614 Test Loss : 0.5746343036492666\n",
            "Epoch 11 Train Loss : 0.3339009343282036 Test Loss : 0.5552936494350433\n",
            "Epoch 12 Train Loss : 0.3125866943079492 Test Loss : 0.5624728749195734\n",
            "Epoch 13 Train Loss : 0.3038861511842064 Test Loss : 0.5734824140866598\n",
            "Epoch 14 Train Loss : 0.3086731777242992 Test Loss : 0.5463129977385203\n",
            "Epoch 15 Train Loss : 0.30529361898484436 Test Loss : 0.5534070829550425\n",
            "Epoch 16 Train Loss : 0.3010433988402719 Test Loss : 0.5443050066630045\n",
            "Epoch 17 Train Loss : 0.2963887469276138 Test Loss : 0.570925568540891\n",
            "Epoch 18 Train Loss : 0.3106159956558891 Test Loss : 0.5445851782957712\n",
            "Epoch 19 Train Loss : 0.30690789222717285 Test Loss : 0.5615734259287516\n",
            "Epoch 20 Train Loss : 0.3085470756758814 Test Loss : 0.565375030040741\n",
            "Epoch 21 Train Loss : 0.30948540568351746 Test Loss : 0.5767845213413239\n",
            "Epoch 22 Train Loss : 0.3119310561729514 Test Loss : 0.5566899627447128\n",
            "Epoch 23 Train Loss : 0.3008488986803138 Test Loss : 0.5612903485695521\n",
            "Epoch 24 Train Loss : 0.2947280857226123 Test Loss : 0.5606150676806768\n",
            "Epoch 25 Train Loss : 0.30820723266705224 Test Loss : 0.5770379851261774\n",
            "Epoch 26 Train Loss : 0.3174030722483345 Test Loss : 0.5705000360806783\n",
            "Epoch 27 Train Loss : 0.3075861606908881 Test Loss : 0.559904490907987\n",
            "Epoch 28 Train Loss : 0.30492476989393646 Test Loss : 0.5649634202321371\n",
            "Epoch 29 Train Loss : 0.3045598935821782 Test Loss : 0.5616610447565714\n",
            "Epoch 30 Train Loss : 0.3114576255497725 Test Loss : 0.5576281249523163\n",
            "Epoch 31 Train Loss : 0.32825658308423084 Test Loss : 0.5593223969141642\n",
            "Epoch 32 Train Loss : 0.2993378039935361 Test Loss : 0.5855204164981842\n",
            "Epoch 33 Train Loss : 0.29704438700624136 Test Loss : 0.57278544207414\n",
            "Epoch 34 Train Loss : 0.3036307426898376 Test Loss : 0.5773691982030869\n",
            "Epoch 35 Train Loss : 0.2982350720659546 Test Loss : 0.5778824637333552\n",
            "Epoch 36 Train Loss : 0.3042501321305399 Test Loss : 0.5860805710156759\n",
            "Epoch 37 Train Loss : 0.31139682298121246 Test Loss : 0.5824439078569412\n",
            "Epoch 38 Train Loss : 0.3138068431745405 Test Loss : 0.5908278524875641\n",
            "Epoch 39 Train Loss : 0.30507718739302264 Test Loss : 0.5939540316661199\n",
            "Epoch 40 Train Loss : 0.3002638434586318 Test Loss : 0.573063313961029\n",
            "Epoch 41 Train Loss : 0.30193345637425134 Test Loss : 0.5805340657631556\n",
            "Epoch 42 Train Loss : 0.29905178689438366 Test Loss : 0.5790627549091975\n",
            "Epoch 43 Train Loss : 0.2925210433161777 Test Loss : 0.5925599137941996\n",
            "Epoch 44 Train Loss : 0.29612022184807324 Test Loss : 0.5769850313663483\n",
            "Epoch 45 Train Loss : 0.3126363634415295 Test Loss : 0.5795949101448059\n",
            "Epoch 46 Train Loss : 0.3036427141531654 Test Loss : 0.5806774248679479\n",
            "Epoch 47 Train Loss : 0.30400421632372815 Test Loss : 0.5776847203572592\n",
            "Epoch 48 Train Loss : 0.2981996873150701 Test Loss : 0.5830919096867243\n",
            "Epoch 49 Train Loss : 0.3208149289307387 Test Loss : 0.5833318680524826\n",
            "Epoch 50 Train Loss : 0.2999500722988792 Test Loss : 0.5706064403057098\n",
            "Epoch 51 Train Loss : 0.3059848320225011 Test Loss : 0.5778142859538397\n",
            "Epoch 52 Train Loss : 0.2923491467600283 Test Loss : 0.6093574464321136\n",
            "Epoch 53 Train Loss : 0.2928280078846475 Test Loss : 0.6017521371444067\n",
            "Epoch 54 Train Loss : 0.3049660739691361 Test Loss : 0.5827632794777552\n",
            "Epoch 55 Train Loss : 0.2999345757391142 Test Loss : 0.5992478529612223\n",
            "Epoch 56 Train Loss : 0.30740033835172653 Test Loss : 0.599478522936503\n",
            "Epoch 57 Train Loss : 0.3081821274498235 Test Loss : 0.5868408530950546\n",
            "Epoch 58 Train Loss : 0.30450298216031946 Test Loss : 0.6006068140268326\n",
            "Epoch 59 Train Loss : 0.3085192111523255 Test Loss : 0.602103610833486\n",
            "Epoch 60 Train Loss : 0.2966820150613785 Test Loss : 0.5792581687370936\n",
            "Epoch 61 Train Loss : 0.29879285654296045 Test Loss : 0.5954147130250931\n",
            "Epoch 62 Train Loss : 0.2941971064909645 Test Loss : 0.5994490832090378\n",
            "Epoch 63 Train Loss : 0.3155965377455172 Test Loss : 0.6327619006236395\n",
            "Epoch 64 Train Loss : 0.330596220234166 Test Loss : 0.5917340914408366\n",
            "Epoch 65 Train Loss : 0.3158503207175628 Test Loss : 0.5994721005360285\n",
            "Epoch 66 Train Loss : 0.31788127513035486 Test Loss : 0.6110878189404806\n",
            "Epoch 67 Train Loss : 0.29856409845144855 Test Loss : 0.6009813249111176\n",
            "Epoch 68 Train Loss : 0.2932756420062936 Test Loss : 0.6117033114035925\n",
            "Epoch 69 Train Loss : 0.3050087910631429 Test Loss : 0.614935095111529\n",
            "Epoch 70 Train Loss : 0.3040079591066941 Test Loss : 0.6081692973772684\n",
            "Epoch 71 Train Loss : 0.30544052111065906 Test Loss : 0.6277282933394114\n",
            "Epoch 72 Train Loss : 0.30978302722391876 Test Loss : 0.6315539926290512\n",
            "Epoch 73 Train Loss : 0.29400448565897735 Test Loss : 0.6202394366264343\n",
            "Epoch 74 Train Loss : 0.2954905259868373 Test Loss : 0.6028005431095759\n",
            "Epoch 75 Train Loss : 0.30354165447794873 Test Loss : 0.6149549682935079\n",
            "Epoch 76 Train Loss : 0.29487443488577136 Test Loss : 0.6469490975141525\n",
            "Epoch 77 Train Loss : 0.3020484317903933 Test Loss : 0.6023557086785635\n",
            "Epoch 78 Train Loss : 0.3117608538140421 Test Loss : 0.597001850605011\n",
            "Epoch 79 Train Loss : 0.31247708719709644 Test Loss : 0.6297589043776194\n",
            "Epoch 80 Train Loss : 0.2982536081386649 Test Loss : 0.621336966753006\n",
            "Epoch 81 Train Loss : 0.2979653212039367 Test Loss : 0.6016782820224762\n",
            "Epoch 82 Train Loss : 0.29944044934666675 Test Loss : 0.6236389577388763\n",
            "Epoch 83 Train Loss : 0.30312165229216864 Test Loss : 0.609408418337504\n",
            "Epoch 84 Train Loss : 0.29496335011461505 Test Loss : 0.6172429223855337\n",
            "Epoch 85 Train Loss : 0.2939025649557943 Test Loss : 0.5970615446567535\n",
            "Epoch 86 Train Loss : 0.3038186877965927 Test Loss : 0.6234025855859121\n",
            "Epoch 87 Train Loss : 0.31176609513552295 Test Loss : 0.6114944318930308\n",
            "Epoch 88 Train Loss : 0.29215485116709833 Test Loss : 0.6175586630900701\n",
            "Epoch 89 Train Loss : 0.28922442832718726 Test Loss : 0.6155753036340078\n",
            "Epoch 90 Train Loss : 0.29362696279650147 Test Loss : 0.6092167695363363\n",
            "Epoch 91 Train Loss : 0.29278952984706214 Test Loss : 0.6259934802850088\n",
            "Epoch 92 Train Loss : 0.2985085974568906 Test Loss : 0.6277685860792795\n",
            "Epoch 93 Train Loss : 0.3019555308248686 Test Loss : 0.6447701553503672\n",
            "Epoch 94 Train Loss : 0.31453165865462757 Test Loss : 0.6097709039847056\n",
            "Epoch 95 Train Loss : 0.2903203322835591 Test Loss : 0.626820757985115\n",
            "Epoch 96 Train Loss : 0.2991439528439356 Test Loss : 0.6227951546510061\n",
            "Epoch 97 Train Loss : 0.28605024646157806 Test Loss : 0.6314561863740286\n",
            "Epoch 98 Train Loss : 0.28502617452455603 Test Loss : 0.6239900787671407\n",
            "Epoch 99 Train Loss : 0.2920933647648148 Test Loss : 0.6204615284999212\n",
            "Epoch 100 Train Loss : 0.29490993528262427 Test Loss : 0.6257610519727071\n"
          ]
        }
      ],
      "source": [
        "train_losses = []\n",
        "test_losses = []\n",
        "\n",
        "# 학습 횟수 만큼 반복\n",
        "for epoch in range(100):\n",
        "\n",
        "    # 모델 학습(학습데이터)\n",
        "    train_loss = train(model, train_loader, criterion, optimizer, device)\n",
        "    train_losses.append(train_loss)\n",
        "\n",
        "    # 모델 평가 (평가데이터)\n",
        "    test_loss = evaluate(model, test_loader, criterion, device)\n",
        "    test_losses.append(test_loss)\n",
        "\n",
        "    print(f'Epoch {epoch+1} Train Loss : {train_loss} Test Loss : {test_loss}')"
      ]
    },
    {
      "cell_type": "code",
      "execution_count": 16,
      "id": "1ba9b71d-0833-4f89-bf3d-31c298e9d39f",
      "metadata": {
        "colab": {
          "base_uri": "https://localhost:8080/",
          "height": 387
        },
        "id": "1ba9b71d-0833-4f89-bf3d-31c298e9d39f",
        "outputId": "73d55002-b319-4221-ae1c-86af9d45e215"
      },
      "outputs": [
        {
          "data": {
            "image/png": "[encoded data removed]",
            "text/plain": [
              "<Figure size 1200x500 with 1 Axes>"
            ]
          },
          "metadata": {},
          "output_type": "display_data"
        }
      ],
      "source": [
        "plot_training_results(train_losses, test_losses)"
      ]
    },
    {
      "cell_type": "markdown",
      "id": "98743a9d",
      "metadata": {
        "id": "98743a9d"
      },
      "source": [
        "## 04-008 드롭아웃을 포함한 모델 클래스 구현"
      ]
    },
    {
      "cell_type": "code",
      "execution_count": 25,
      "id": "50f93839",
      "metadata": {
        "colab": {
          "base_uri": "https://localhost:8080/"
        },
        "id": "50f93839",
        "outputId": "f9d0753e-54e8-4351-8b01-b370dc5eaf06"
      },
      "outputs": [
        {
          "data": {
            "text/plain": [
              "==========================================================================================\n",
              "Layer (type:depth-idx)                   Output Shape              Param #\n",
              "==========================================================================================\n",
              "DNN                                      [32, 1]                   --\n",
              "├─Linear: 1-1                            [32, 32]                  256\n",
              "├─ReLU: 1-2                              [32, 32]                  --\n",
              "├─Dropout: 1-3                           [32, 32]                  --\n",
              "├─Linear: 1-4                            [32, 1]                   33\n",
              "├─Sigmoid: 1-5                           [32, 1]                   --\n",
              "==========================================================================================\n",
              "Total params: 289\n",
              "Trainable params: 289\n",
              "Non-trainable params: 0\n",
              "Total mult-adds (Units.MEGABYTES): 0.01\n",
              "==========================================================================================\n",
              "Input size (MB): 0.00\n",
              "Forward/backward pass size (MB): 0.01\n",
              "Params size (MB): 0.00\n",
              "Estimated Total Size (MB): 0.01\n",
              "=========================================================================================="
            ]
          },
          "execution_count": 25,
          "metadata": {},
          "output_type": "execute_result"
        }
      ],
      "source": [
        "# 신경망 모델 정의 (Dropout 포함)\n",
        "class DNN(nn.Module):\n",
        "    def __init__(self):\n",
        "        super().__init__()\n",
        "        self.fc1 = nn.Linear(7, 32)\n",
        "        self.fc2 = nn.Linear(32, 1)\n",
        "        self.dropout = nn.Dropout(0.3)  # 10%의 드롭아웃 적용\n",
        "        self.relu = nn.ReLU()\n",
        "        self.sigmoid = nn.Sigmoid()\n",
        "\n",
        "    def forward(self, x):\n",
        "        x = self.relu(self.fc1(x))\n",
        "        x = self.dropout(x)  # 첫 번째 은닉층 뒤에 드롭아웃 적용\n",
        "        x = self.fc2(x)  # 출력층에는 드롭아웃을 사용하지 않음\n",
        "        x = self.sigmoid(x)\n",
        "        return x\n",
        "\n",
        "# 모델 인스턴스화\n",
        "model = DNN().to(device)\n",
        "summary(model, (32, 7))"
      ]
    },
    {
      "cell_type": "markdown",
      "id": "20ece524",
      "metadata": {
        "id": "20ece524"
      },
      "source": [
        "## 04-009 손실 함수 및 옵티마이저 설정과 학습 수행"
      ]
    },
    {
      "cell_type": "code",
      "execution_count": 26,
      "id": "d99d27db",
      "metadata": {
        "colab": {
          "base_uri": "https://localhost:8080/"
        },
        "id": "d99d27db",
        "outputId": "e6a98709-7a6b-41b9-e434-36e60bf4635e"
      },
      "outputs": [
        {
          "name": "stdout",
          "output_type": "stream",
          "text": [
            "Epoch 1 Train Loss : 0.5590002666348997 Test Loss : 0.4381660421689351\n",
            "Epoch 2 Train Loss : 0.4635419612345488 Test Loss : 0.41278183956940967\n",
            "Epoch 3 Train Loss : 0.43658305769381317 Test Loss : 0.4262667695681254\n",
            "Epoch 4 Train Loss : 0.4392566408800042 Test Loss : 0.42565544446309406\n"
          ]
        },
        {
          "name": "stdout",
          "output_type": "stream",
          "text": [
            "Epoch 5 Train Loss : 0.4328901495622552 Test Loss : 0.4201171199480693\n",
            "Epoch 6 Train Loss : 0.4245406123607055 Test Loss : 0.4197692275047302\n",
            "Epoch 7 Train Loss : 0.41946618453316065 Test Loss : 0.42758117616176605\n",
            "Epoch 8 Train Loss : 0.43813622904860455 Test Loss : 0.4228072663148244\n",
            "Epoch 9 Train Loss : 0.4364570146021636 Test Loss : 0.4331241051355998\n",
            "Epoch 10 Train Loss : 0.41076255233391473 Test Loss : 0.4296313325564067\n",
            "Epoch 11 Train Loss : 0.41216064406477887 Test Loss : 0.42779797812302905\n",
            "Epoch 12 Train Loss : 0.4191935191983762 Test Loss : 0.4359319607416789\n",
            "Epoch 13 Train Loss : 0.41011613607406616 Test Loss : 0.43370139102141064\n",
            "Epoch 14 Train Loss : 0.42344694293063617 Test Loss : 0.43125983079274494\n",
            "Epoch 15 Train Loss : 0.42285982163056085 Test Loss : 0.43477101624011993\n",
            "Epoch 16 Train Loss : 0.40745244466740155 Test Loss : 0.4293879220883052\n",
            "Epoch 17 Train Loss : 0.3979068268900332 Test Loss : 0.4281696528196335\n",
            "Epoch 18 Train Loss : 0.41182793806428497 Test Loss : 0.44011863072713214\n",
            "Epoch 19 Train Loss : 0.39920617575230805 Test Loss : 0.44188931087652844\n",
            "Epoch 20 Train Loss : 0.4054081336311672 Test Loss : 0.433377206325531\n",
            "Epoch 21 Train Loss : 0.40796917029049085 Test Loss : 0.43326277534166974\n",
            "Epoch 22 Train Loss : 0.4020846874817558 Test Loss : 0.4301769683758418\n",
            "Epoch 23 Train Loss : 0.40551250784293463 Test Loss : 0.43696245551109314\n",
            "Epoch 24 Train Loss : 0.3987574292265851 Test Loss : 0.42643197377522785\n",
            "Epoch 25 Train Loss : 0.4125811911147574 Test Loss : 0.4376316120227178\n",
            "Epoch 26 Train Loss : 0.39953285455703735 Test Loss : 0.4384055435657501\n",
            "Epoch 27 Train Loss : 0.43238840543705487 Test Loss : 0.43290019532044727\n",
            "Epoch 28 Train Loss : 0.40626922768095264 Test Loss : 0.4412728746732076\n",
            "Epoch 29 Train Loss : 0.41109497521234595 Test Loss : 0.44015684227148694\n",
            "Epoch 30 Train Loss : 0.39380573189776874 Test Loss : 0.44007915755112964\n",
            "Epoch 31 Train Loss : 0.40076855084170465 Test Loss : 0.45031582315762836\n",
            "Epoch 32 Train Loss : 0.38532250018223474 Test Loss : 0.44320712983608246\n",
            "Epoch 33 Train Loss : 0.3885872869387917 Test Loss : 0.4512752840916316\n",
            "Epoch 34 Train Loss : 0.398976092753203 Test Loss : 0.4457930127779643\n",
            "Epoch 35 Train Loss : 0.41252117312472797 Test Loss : 0.4414757986863454\n",
            "Epoch 36 Train Loss : 0.4058994378732598 Test Loss : 0.43760523696740466\n",
            "Epoch 37 Train Loss : 0.40849625027698017 Test Loss : 0.4377809762954712\n",
            "Epoch 38 Train Loss : 0.3945751598347788 Test Loss : 0.45362722873687744\n",
            "Epoch 39 Train Loss : 0.38550478090410645 Test Loss : 0.44951486090819043\n",
            "Epoch 40 Train Loss : 0.39131702547488006 Test Loss : 0.44644824663798016\n",
            "Epoch 41 Train Loss : 0.3965711813905965 Test Loss : 0.44963561991850537\n",
            "Epoch 42 Train Loss : 0.391370199944662 Test Loss : 0.44546326994895935\n",
            "Epoch 43 Train Loss : 0.3904296840014665 Test Loss : 0.4509421040614446\n",
            "Epoch 44 Train Loss : 0.38235540169736615 Test Loss : 0.4505108793576558\n",
            "Epoch 45 Train Loss : 0.3977826496829157 Test Loss : 0.4535011351108551\n",
            "Epoch 46 Train Loss : 0.3945750995822575 Test Loss : 0.44854942957560223\n",
            "Epoch 47 Train Loss : 0.40001597158286883 Test Loss : 0.4481855481863022\n",
            "Epoch 48 Train Loss : 0.39057326381621155 Test Loss : 0.4454198976357778\n",
            "Epoch 49 Train Loss : 0.39766135811805725 Test Loss : 0.4458400309085846\n",
            "Epoch 50 Train Loss : 0.4058280477057333 Test Loss : 0.4514828125635783\n",
            "Epoch 51 Train Loss : 0.3919866279415462 Test Loss : 0.44307539363702136\n",
            "Epoch 52 Train Loss : 0.4072092434634333 Test Loss : 0.43637750049432117\n",
            "Epoch 53 Train Loss : 0.3792062615570815 Test Loss : 0.4510425329208374\n",
            "Epoch 54 Train Loss : 0.4063579621522323 Test Loss : 0.45393164952596027\n",
            "Epoch 55 Train Loss : 0.39252601434355194 Test Loss : 0.44539856910705566\n",
            "Epoch 56 Train Loss : 0.3942133123460023 Test Loss : 0.44358812769254047\n",
            "Epoch 57 Train Loss : 0.3852085367493007 Test Loss : 0.43884112934271496\n",
            "Epoch 58 Train Loss : 0.3984200630498969 Test Loss : 0.44767888883749646\n",
            "Epoch 59 Train Loss : 0.38288067216458527 Test Loss : 0.44158116976420086\n",
            "Epoch 60 Train Loss : 0.38845838800720545 Test Loss : 0.4395744850238164\n",
            "Epoch 61 Train Loss : 0.3989945183629575 Test Loss : 0.4408261924982071\n",
            "Epoch 62 Train Loss : 0.39492367531942285 Test Loss : 0.43992847204208374\n",
            "Epoch 63 Train Loss : 0.3787107351033584 Test Loss : 0.4515429536501567\n",
            "Epoch 64 Train Loss : 0.38987559987151105 Test Loss : 0.4491732219854991\n",
            "Epoch 65 Train Loss : 0.38614345763040625 Test Loss : 0.4443437804778417\n",
            "Epoch 66 Train Loss : 0.39206625067669415 Test Loss : 0.4504288236300151\n",
            "Epoch 67 Train Loss : 0.3912629187107086 Test Loss : 0.44812322159608203\n",
            "Epoch 68 Train Loss : 0.3891674008058465 Test Loss : 0.45178359746932983\n",
            "Epoch 69 Train Loss : 0.3840389361848002 Test Loss : 0.4491846263408661\n",
            "Epoch 70 Train Loss : 0.38561131772787677 Test Loss : 0.4549916436274846\n",
            "Epoch 71 Train Loss : 0.4067963271037392 Test Loss : 0.45309488475322723\n",
            "Epoch 72 Train Loss : 0.387839965198351 Test Loss : 0.46440476675828296\n",
            "Epoch 73 Train Loss : 0.3750813136930051 Test Loss : 0.46288760999838513\n",
            "Epoch 74 Train Loss : 0.41672764135443646 Test Loss : 0.45833395421504974\n",
            "Epoch 75 Train Loss : 0.3867953801932542 Test Loss : 0.45934300621350604\n",
            "Epoch 76 Train Loss : 0.3840343803167343 Test Loss : 0.46231227616469067\n",
            "Epoch 77 Train Loss : 0.42373878605987714 Test Loss : 0.4581311692794164\n",
            "Epoch 78 Train Loss : 0.378863240065782 Test Loss : 0.45215454200903576\n",
            "Epoch 79 Train Loss : 0.39069209280221356 Test Loss : 0.4469986210266749\n",
            "Epoch 80 Train Loss : 0.3917060578646867 Test Loss : 0.45087089637915295\n",
            "Epoch 81 Train Loss : 0.40158525886742963 Test Loss : 0.4548108826080958\n",
            "Epoch 82 Train Loss : 0.3951521677815396 Test Loss : 0.4542909065882365\n",
            "Epoch 83 Train Loss : 0.3881285572829454 Test Loss : 0.45520027975241345\n",
            "Epoch 84 Train Loss : 0.3781566477340201 Test Loss : 0.4603223651647568\n",
            "Epoch 85 Train Loss : 0.37643153965473175 Test Loss : 0.4634918024142583\n",
            "Epoch 86 Train Loss : 0.38322817242663837 Test Loss : 0.4510371883710225\n",
            "Epoch 87 Train Loss : 0.38489257317522296 Test Loss : 0.46490028003851575\n",
            "Epoch 88 Train Loss : 0.37313894992289337 Test Loss : 0.46326032280921936\n",
            "Epoch 89 Train Loss : 0.3890429871237796 Test Loss : 0.46389341354370117\n",
            "Epoch 90 Train Loss : 0.3786097350327865 Test Loss : 0.46066585679848987\n",
            "Epoch 91 Train Loss : 0.386048273547836 Test Loss : 0.47048131624857586\n",
            "Epoch 92 Train Loss : 0.3866229640400928 Test Loss : 0.4628782123327255\n",
            "Epoch 93 Train Loss : 0.38805752927842346 Test Loss : 0.4611444224913915\n",
            "Epoch 94 Train Loss : 0.37019646297330444 Test Loss : 0.46114663779735565\n",
            "Epoch 95 Train Loss : 0.37465263125689136 Test Loss : 0.4558661878108978\n",
            "Epoch 96 Train Loss : 0.3877106108095335 Test Loss : 0.4649841586748759\n",
            "Epoch 97 Train Loss : 0.3879618832598562 Test Loss : 0.4679131656885147\n",
            "Epoch 98 Train Loss : 0.37213885136272595 Test Loss : 0.4685905377070109\n",
            "Epoch 99 Train Loss : 0.38354696268620697 Test Loss : 0.4641488840182622\n",
            "Epoch 100 Train Loss : 0.3734886788803598 Test Loss : 0.4603230357170105\n"
          ]
        }
      ],
      "source": [
        "criterion = nn.BCELoss()  # 다중 클래스 분류를 위한 손실 함수\n",
        "optimizer = optim.Adam(model.parameters(), lr=0.01)  # Adam 옵티마이저\n",
        "\n",
        "train_losses = []\n",
        "test_losses = []\n",
        "\n",
        "# 학습 횟수 만큼 반복\n",
        "for epoch in range(100):\n",
        "\n",
        "    # 모델 학습(학습데이터)\n",
        "    train_loss = train(model, train_loader, criterion, optimizer, device)\n",
        "    train_losses.append(train_loss)\n",
        "\n",
        "    # 모델 평가 (평가데이터)\n",
        "    test_loss = evaluate(model, test_loader, criterion, device)\n",
        "    test_losses.append(test_loss)\n",
        "\n",
        "    print(f'Epoch {epoch+1} Train Loss : {train_loss} Test Loss : {test_loss}')"
      ]
    },
    {
      "cell_type": "code",
      "execution_count": null,
      "id": "86af15a0-5bcf-4eb5-8d12-fdfab70865dc",
      "metadata": {
        "colab": {
          "base_uri": "https://localhost:8080/",
          "height": 387
        },
        "id": "86af15a0-5bcf-4eb5-8d12-fdfab70865dc",
        "outputId": "76259907-1a87-4420-bf9f-fc94448f9d8f"
      },
      "outputs": [
        {
          "data": {
            "image/png": "[encoded data removed]",
            "text/plain": [
              "<Figure size 1200x500 with 1 Axes>"
            ]
          },
          "metadata": {},
          "output_type": "display_data"
        }
      ],
      "source": [
        "plot_training_results(train_losses, test_losses)"
      ]
    },
    {
      "cell_type": "markdown",
      "id": "45d12769",
      "metadata": {
        "id": "45d12769"
      },
      "source": [
        "## 04-010 L2 정칙화를 위한 옵티마이저 설정"
      ]
    },
    {
      "cell_type": "code",
      "execution_count": 27,
      "id": "5ad19821",
      "metadata": {
        "id": "5ad19821"
      },
      "outputs": [],
      "source": [
        "# L2 정칙화를 위한 옵티마이저 설정 (weight_decay가 L2 정칙화)\n",
        "optimizer = torch.optim.SGD(model.parameters(), lr=0.01, weight_decay=0.001)"
      ]
    },
    {
      "cell_type": "markdown",
      "id": "4e2099f8",
      "metadata": {
        "id": "4e2099f8"
      },
      "source": [
        "## 04-011 Batch Normalization 및 Dropout 포함 모델 정의"
      ]
    },
    {
      "cell_type": "code",
      "execution_count": 30,
      "id": "5046a2ed",
      "metadata": {
        "colab": {
          "base_uri": "https://localhost:8080/"
        },
        "id": "5046a2ed",
        "outputId": "e918bcef-54a4-45aa-da9b-9c822a4250e4"
      },
      "outputs": [
        {
          "data": {
            "text/plain": [
              "==========================================================================================\n",
              "Layer (type:depth-idx)                   Output Shape              Param #\n",
              "==========================================================================================\n",
              "DNN                                      [32, 1]                   --\n",
              "├─Linear: 1-1                            [32, 32]                  256\n",
              "├─BatchNorm1d: 1-2                       [32, 32]                  64\n",
              "├─ReLU: 1-3                              [32, 32]                  --\n",
              "├─Dropout: 1-4                           [32, 32]                  --\n",
              "├─Linear: 1-5                            [32, 1]                   33\n",
              "├─Sigmoid: 1-6                           [32, 1]                   --\n",
              "==========================================================================================\n",
              "Total params: 353\n",
              "Trainable params: 353\n",
              "Non-trainable params: 0\n",
              "Total mult-adds (Units.MEGABYTES): 0.01\n",
              "==========================================================================================\n",
              "Input size (MB): 0.00\n",
              "Forward/backward pass size (MB): 0.02\n",
              "Params size (MB): 0.00\n",
              "Estimated Total Size (MB): 0.02\n",
              "=========================================================================================="
            ]
          },
          "execution_count": 30,
          "metadata": {},
          "output_type": "execute_result"
        }
      ],
      "source": [
        "# 신경망 모델 정의 (Batch Normalization 및 Dropout 포함)\n",
        "class DNN(nn.Module):\n",
        "    def __init__(self):\n",
        "        super().__init__()\n",
        "        self.fc1 = nn.Linear(7, 32)\n",
        "        self.bn1 = nn.BatchNorm1d(32)  # 첫 번째 배치 정규화 레이어\n",
        "        self.fc2 = nn.Linear(32, 1)\n",
        "        self.dropout = nn.Dropout(0.1)  # 10%의 드롭아웃 적용\n",
        "        self.relu = nn.ReLU()\n",
        "        self.sigmoid = nn.Sigmoid()\n",
        "\n",
        "    def forward(self, x):\n",
        "        x = self.relu(self.bn1(self.fc1(x)))  # 첫 번째 배치 정규화 + ReLU\n",
        "        x = self.dropout(x)  # 드롭아웃 적용\n",
        "        x = self.fc2(x)  # 출력층에는 배치 정규화 및 드롭아웃을 사용하지 않음\n",
        "        x = self.sigmoid(x)\n",
        "        return x\n",
        "\n",
        "# 모델 인스턴스화\n",
        "model = DNN().to(device)\n",
        "summary(model, (32, 7))"
      ]
    },
    {
      "cell_type": "markdown",
      "id": "f2714025",
      "metadata": {
        "id": "f2714025"
      },
      "source": [
        "## 04-012 손실 함수 및 옵티마이저 설정과 학습 수행"
      ]
    },
    {
      "cell_type": "code",
      "execution_count": 31,
      "id": "6c5076dc",
      "metadata": {
        "colab": {
          "base_uri": "https://localhost:8080/"
        },
        "id": "6c5076dc",
        "outputId": "11250c76-99f7-4a99-9b93-d0665a77797c"
      },
      "outputs": [
        {
          "name": "stdout",
          "output_type": "stream",
          "text": [
            "Epoch 1 Train Loss : 0.5433964379455732 Test Loss : 0.43276531000932056\n",
            "Epoch 2 Train Loss : 0.46198609471321106 Test Loss : 0.43159787853558856\n",
            "Epoch 3 Train Loss : 0.4474154866260031 Test Loss : 0.42637917399406433\n",
            "Epoch 4 Train Loss : 0.4234751686453819 Test Loss : 0.43578817943731946\n",
            "Epoch 5 Train Loss : 0.4270327285580013 Test Loss : 0.42998302976290387\n",
            "Epoch 6 Train Loss : 0.4203224881835606 Test Loss : 0.43960267305374146\n",
            "Epoch 7 Train Loss : 0.4106880193171294 Test Loss : 0.4240117867787679\n",
            "Epoch 8 Train Loss : 0.4234973412493001 Test Loss : 0.43279960254828137\n",
            "Epoch 9 Train Loss : 0.43519277222778485 Test Loss : 0.4293340394894282\n",
            "Epoch 10 Train Loss : 0.4211742022763128 Test Loss : 0.42541182537873584\n",
            "Epoch 11 Train Loss : 0.4062541859305423 Test Loss : 0.4254223108291626\n",
            "Epoch 12 Train Loss : 0.42949116294798645 Test Loss : 0.43628471593062085\n",
            "Epoch 13 Train Loss : 0.4285823249298593 Test Loss : 0.4362831463416417\n",
            "Epoch 14 Train Loss : 0.4174648160519807 Test Loss : 0.4302364339431127\n",
            "Epoch 15 Train Loss : 0.3996702147566754 Test Loss : 0.42900244394938153\n",
            "Epoch 16 Train Loss : 0.41182400221410004 Test Loss : 0.43764955798784894\n",
            "Epoch 17 Train Loss : 0.41624330567276996 Test Loss : 0.44603247940540314\n",
            "Epoch 18 Train Loss : 0.42140124025552167 Test Loss : 0.44139838218688965\n",
            "Epoch 19 Train Loss : 0.41195902552293695 Test Loss : 0.43361417452494305\n",
            "Epoch 20 Train Loss : 0.421742245554924 Test Loss : 0.44343168040116626\n",
            "Epoch 21 Train Loss : 0.40818961288618005 Test Loss : 0.4418568213780721\n",
            "Epoch 22 Train Loss : 0.4206068081700284 Test Loss : 0.4395452290773392\n",
            "Epoch 23 Train Loss : 0.3981712777977404 Test Loss : 0.4556223849455516\n",
            "Epoch 24 Train Loss : 0.4079829260059025 Test Loss : 0.44718101620674133\n",
            "Epoch 25 Train Loss : 0.4035659749870715 Test Loss : 0.43960367639859516\n",
            "Epoch 26 Train Loss : 0.4046460331782051 Test Loss : 0.44504452248414356\n",
            "Epoch 27 Train Loss : 0.40487891759561456 Test Loss : 0.4423552056153615\n",
            "Epoch 28 Train Loss : 0.42384313889171765 Test Loss : 0.4379594524701436\n",
            "Epoch 29 Train Loss : 0.4083752884812977 Test Loss : 0.4389285743236542\n",
            "Epoch 30 Train Loss : 0.41514644285906915 Test Loss : 0.4465318073829015\n",
            "Epoch 31 Train Loss : 0.41101199777229974 Test Loss : 0.4373621592919032\n",
            "Epoch 32 Train Loss : 0.41344852032868756 Test Loss : 0.44224857290585834\n",
            "Epoch 33 Train Loss : 0.4174552410840988 Test Loss : 0.43984069923559826\n",
            "Epoch 34 Train Loss : 0.4043641816014829 Test Loss : 0.44516313076019287\n",
            "Epoch 35 Train Loss : 0.41819734612236853 Test Loss : 0.4459114422400792\n",
            "Epoch 36 Train Loss : 0.4050879206346429 Test Loss : 0.4406171540419261\n",
            "Epoch 37 Train Loss : 0.4112568614275559 Test Loss : 0.43424084782600403\n",
            "Epoch 38 Train Loss : 0.4228447701620019 Test Loss : 0.43268807232379913\n",
            "Epoch 39 Train Loss : 0.4187200691389001 Test Loss : 0.43791312475999195\n",
            "Epoch 40 Train Loss : 0.4212787540062614 Test Loss : 0.43575015167395276\n",
            "Epoch 41 Train Loss : 0.4119307346965956 Test Loss : 0.4282318900028865\n",
            "Epoch 42 Train Loss : 0.3899217014727385 Test Loss : 0.4394819140434265\n",
            "Epoch 43 Train Loss : 0.40513754279717157 Test Loss : 0.4317929297685623\n",
            "Epoch 44 Train Loss : 0.39771889279717987 Test Loss : 0.4475300908088684\n",
            "Epoch 45 Train Loss : 0.40718542168969696 Test Loss : 0.4339076330264409\n",
            "Epoch 46 Train Loss : 0.39702523402545764 Test Loss : 0.4338097373644511\n",
            "Epoch 47 Train Loss : 0.41413471685803455 Test Loss : 0.43317105372746784\n",
            "Epoch 48 Train Loss : 0.40656516474226245 Test Loss : 0.4403863499561946\n",
            "Epoch 49 Train Loss : 0.400094088004983 Test Loss : 0.44294769565264386\n",
            "Epoch 50 Train Loss : 0.3906829447849937 Test Loss : 0.45251570641994476\n",
            "Epoch 51 Train Loss : 0.41094299114268756 Test Loss : 0.4393027573823929\n",
            "Epoch 52 Train Loss : 0.3968129767023999 Test Loss : 0.4456232984860738\n",
            "Epoch 53 Train Loss : 0.40615355385386426 Test Loss : 0.4584457327922185\n",
            "Epoch 54 Train Loss : 0.3936983586653419 Test Loss : 0.446497122446696\n",
            "Epoch 55 Train Loss : 0.40756313308425574 Test Loss : 0.4489525854587555\n",
            "Epoch 56 Train Loss : 0.3943123117737148 Test Loss : 0.44826644162336987\n",
            "Epoch 57 Train Loss : 0.39585937624392303 Test Loss : 0.45659751693407696\n",
            "Epoch 58 Train Loss : 0.3866501382511595 Test Loss : 0.45222411056359607\n",
            "Epoch 59 Train Loss : 0.38201820850372314 Test Loss : 0.44513118267059326\n",
            "Epoch 60 Train Loss : 0.3998814970254898 Test Loss : 0.4509194145600001\n",
            "Epoch 61 Train Loss : 0.37955478999925696 Test Loss : 0.44873840113480884\n",
            "Epoch 62 Train Loss : 0.3932306163984796 Test Loss : 0.4459622999032338\n",
            "Epoch 63 Train Loss : 0.38822193767713464 Test Loss : 0.4386354337135951\n",
            "Epoch 64 Train Loss : 0.3932164233663808 Test Loss : 0.46506501734256744\n",
            "Epoch 65 Train Loss : 0.413403891350912 Test Loss : 0.4548292011022568\n",
            "Epoch 66 Train Loss : 0.3950337825909905 Test Loss : 0.45632146298885345\n",
            "Epoch 67 Train Loss : 0.4033270789229352 Test Loss : 0.44315678874651593\n",
            "Epoch 68 Train Loss : 0.4100989440213079 Test Loss : 0.44607393940289813\n",
            "Epoch 69 Train Loss : 0.414589647365653 Test Loss : 0.43118326862653095\n",
            "Epoch 70 Train Loss : 0.3982786141012026 Test Loss : 0.4410908669233322\n",
            "Epoch 71 Train Loss : 0.41357003152370453 Test Loss : 0.44370845953623456\n",
            "Epoch 72 Train Loss : 0.42292161739390827 Test Loss : 0.4393396278222402\n",
            "Epoch 73 Train Loss : 0.3976392447948456 Test Loss : 0.44422225654125214\n",
            "Epoch 74 Train Loss : 0.3928456669268401 Test Loss : 0.44934506217638653\n",
            "Epoch 75 Train Loss : 0.416829381947932 Test Loss : 0.44819747904936474\n",
            "Epoch 76 Train Loss : 0.3928858164859855 Test Loss : 0.4441037178039551\n",
            "Epoch 77 Train Loss : 0.3914958355219468 Test Loss : 0.4525965303182602\n",
            "Epoch 78 Train Loss : 0.39311171679393103 Test Loss : 0.4399205694595973\n",
            "Epoch 79 Train Loss : 0.4377520861832992 Test Loss : 0.4405979613463084\n",
            "Epoch 80 Train Loss : 0.41992812960044196 Test Loss : 0.4298718372980754\n",
            "Epoch 81 Train Loss : 0.39932875270428864 Test Loss : 0.43120411535104114\n",
            "Epoch 82 Train Loss : 0.3924699561751407 Test Loss : 0.4416148116191228\n",
            "Epoch 83 Train Loss : 0.40418828440749127 Test Loss : 0.4428809980551402\n",
            "Epoch 84 Train Loss : 0.3740702190476915 Test Loss : 0.44120391209920246\n",
            "Epoch 85 Train Loss : 0.4233955475299255 Test Loss : 0.44760722915331524\n",
            "Epoch 86 Train Loss : 0.4080802124479543 Test Loss : 0.43829961617787677\n",
            "Epoch 87 Train Loss : 0.3999399950970774 Test Loss : 0.4427187194426854\n",
            "Epoch 88 Train Loss : 0.4287965673467387 Test Loss : 0.44616586963335675\n",
            "Epoch 89 Train Loss : 0.40264655001785443 Test Loss : 0.4650215158859889\n",
            "Epoch 90 Train Loss : 0.3836913905713869 Test Loss : 0.45092079043388367\n",
            "Epoch 91 Train Loss : 0.39800356393275055 Test Loss : 0.4471759994824727\n",
            "Epoch 92 Train Loss : 0.39396523716657056 Test Loss : 0.4508599539597829\n",
            "Epoch 93 Train Loss : 0.39454943071240967 Test Loss : 0.45910175144672394\n",
            "Epoch 94 Train Loss : 0.393942433854808 Test Loss : 0.4556136777003606\n",
            "Epoch 95 Train Loss : 0.3934796575618827 Test Loss : 0.4477127293745677\n",
            "Epoch 96 Train Loss : 0.42064385828764544 Test Loss : 0.46349764863650006\n",
            "Epoch 97 Train Loss : 0.39573205424391705 Test Loss : 0.4562922219435374\n",
            "Epoch 98 Train Loss : 0.3904245952549188 Test Loss : 0.46178778012593585\n",
            "Epoch 99 Train Loss : 0.40089886214422144 Test Loss : 0.46281802157560986\n",
            "Epoch 100 Train Loss : 0.3855776540611101 Test Loss : 0.45336128771305084\n"
          ]
        }
      ],
      "source": [
        "criterion = nn.BCELoss()  # 다중 클래스 분류를 위한 손실 함수\n",
        "optimizer = optim.Adam(model.parameters(), lr=0.01)  # Adam 옵티마이저\n",
        "\n",
        "train_losses = []\n",
        "test_losses = []\n",
        "\n",
        "# 학습 횟수 만큼 반복\n",
        "for epoch in range(100):\n",
        "\n",
        "    # 모델 학습(학습데이터)\n",
        "    train_loss = train(model, train_loader, criterion, optimizer, device)\n",
        "    train_losses.append(train_loss)\n",
        "\n",
        "    # 모델 평가 (평가데이터)\n",
        "    test_loss = evaluate(model, test_loader, criterion, device)\n",
        "    test_losses.append(test_loss)\n",
        "\n",
        "    print(f'Epoch {epoch+1} Train Loss : {train_loss} Test Loss : {test_loss}')"
      ]
    },
    {
      "cell_type": "code",
      "execution_count": null,
      "id": "b9723aa7-6fab-4f41-b126-7a722970f83f",
      "metadata": {
        "colab": {
          "base_uri": "https://localhost:8080/",
          "height": 387
        },
        "id": "b9723aa7-6fab-4f41-b126-7a722970f83f",
        "outputId": "fbac4740-8e0c-4f28-818b-f418fe21c5cf"
      },
      "outputs": [
        {
          "data": {
            "image/png": "[encoded data removed]",
            "text/plain": [
              "<Figure size 1200x500 with 1 Axes>"
            ]
          },
          "metadata": {},
          "output_type": "display_data"
        }
      ],
      "source": [
        "plot_training_results(train_losses, test_losses)"
      ]
    },
    {
      "cell_type": "code",
      "execution_count": 28,
      "id": "dff6fde3",
      "metadata": {
        "colab": {
          "base_uri": "https://localhost:8080/"
        },
        "id": "dff6fde3",
        "outputId": "96d575d7-3d5f-4947-8e72-c96b1cc05ac0"
      },
      "outputs": [
        {
          "name": "stdout",
          "output_type": "stream",
          "text": [
            "Epoch 1 Train Loss : 0.3866 Test Loss : 0.4640\n",
            "Epoch 2 Train Loss : 0.3918 Test Loss : 0.4732\n",
            "Epoch 3 Train Loss : 0.3981 Test Loss : 0.4578\n",
            "Epoch 4 Train Loss : 0.3933 Test Loss : 0.4580\n",
            "Epoch 5 Train Loss : 0.4039 Test Loss : 0.4631\n",
            "Epoch 6 Train Loss : 0.3808 Test Loss : 0.4649\n",
            "Epoch 7 Train Loss : 0.3885 Test Loss : 0.4629\n",
            "Epoch 8 Train Loss : 0.3792 Test Loss : 0.4618\n",
            "Epoch 9 Train Loss : 0.3869 Test Loss : 0.4655\n",
            "Epoch 10 Train Loss : 0.3796 Test Loss : 0.4556\n",
            "Epoch 11 Train Loss : 0.3644 Test Loss : 0.4756\n",
            "Epoch 12 Train Loss : 0.3794 Test Loss : 0.4769\n",
            "Epoch 13 Train Loss : 0.3767 Test Loss : 0.4748\n",
            "Epoch 14 Train Loss : 0.3846 Test Loss : 0.4740\n",
            "Epoch 15 Train Loss : 0.3891 Test Loss : 0.4715\n",
            "Epoch 16 Train Loss : 0.3843 Test Loss : 0.4695\n",
            "Epoch 17 Train Loss : 0.3821 Test Loss : 0.4801\n",
            "Epoch 18 Train Loss : 0.3780 Test Loss : 0.4660\n",
            "Epoch 19 Train Loss : 0.3984 Test Loss : 0.4640\n",
            "Epoch 20 Train Loss : 0.3722 Test Loss : 0.4783\n",
            "Early stopping triggered at epoch 20\n"
          ]
        },
        {
          "data": {
            "text/plain": [
              "<All keys matched successfully>"
            ]
          },
          "execution_count": 28,
          "metadata": {},
          "output_type": "execute_result"
        }
      ],
      "source": [
        "criterion = nn.BCELoss()  # 다중 클래스 분류를 위한 손실 함수\n",
        "optimizer = optim.Adam(model.parameters(), lr=0.01)  # Adam 옵티마이저\n",
        "\n",
        "train_losses = []\n",
        "test_losses = []\n",
        "\n",
        "# Early Stopping을 위한 변수 설정\n",
        "best_loss = float('inf')\n",
        "patience = 10\n",
        "counter = 0\n",
        "\n",
        "# 학습 횟수 만큼 반복\n",
        "for epoch in range(100):\n",
        "\n",
        "    # 모델 학습 (학습데이터)\n",
        "    train_loss = train(model, train_loader, criterion, optimizer, device)\n",
        "    train_losses.append(train_loss)\n",
        "\n",
        "    # 모델 평가 (평가데이터)\n",
        "    test_loss = evaluate(model, test_loader, criterion, device)\n",
        "    test_losses.append(test_loss)\n",
        "\n",
        "    print(f'Epoch {epoch+1} Train Loss : {train_loss:.4f} Test Loss : {test_loss:.4f}')\n",
        "\n",
        "    # Early Stopping 조건 체크\n",
        "    if test_loss < best_loss:\n",
        "        best_loss = test_loss\n",
        "        counter = 0\n",
        "        torch.save(model.state_dict(), 'best_model.pt')  # 가장 좋은 모델 저장\n",
        "    else:\n",
        "        counter += 1\n",
        "\n",
        "    if counter >= patience:\n",
        "        print(f'Early stopping triggered at epoch {epoch+1}')\n",
        "        break\n",
        "\n",
        "# Early stopping으로 종료된 후 최적의 모델 불러오기\n",
        "model.load_state_dict(torch.load('best_model.pt'))"
      ]
    },
    {
      "cell_type": "code",
      "execution_count": 29,
      "id": "51zvQHTh72rB",
      "metadata": {
        "colab": {
          "base_uri": "https://localhost:8080/"
        },
        "id": "51zvQHTh72rB",
        "outputId": "806caee8-395c-47cf-92ea-834a1c2ed129"
      },
      "outputs": [
        {
          "data": {
            "text/plain": [
              "0.45558885236581165"
            ]
          },
          "execution_count": 29,
          "metadata": {},
          "output_type": "execute_result"
        }
      ],
      "source": [
        "# 평가 손실 확인\n",
        "evaluate(model, test_loader, criterion, device)"
      ]
    },
    {
      "cell_type": "markdown",
      "id": "02a81c7d",
      "metadata": {
        "id": "02a81c7d"
      },
      "source": [
        "# 05. 합성곱신경망 (CNN)"
      ]
    },
    {
      "cell_type": "code",
      "execution_count": 32,
      "id": "2afdcbef",
      "metadata": {
        "id": "2afdcbef"
      },
      "outputs": [],
      "source": [
        "%%capture\n",
        "!pip install JAEN -qU"
      ]
    },
    {
      "cell_type": "markdown",
      "id": "2b0683cd",
      "metadata": {
        "id": "2b0683cd"
      },
      "source": [
        "## 05-001 2D 컨볼루션 출력 크기 계산 함수 구현"
      ]
    },
    {
      "cell_type": "code",
      "execution_count": null,
      "id": "0d3d16a4",
      "metadata": {
        "id": "0d3d16a4"
      },
      "outputs": [],
      "source": [
        "def conv2d_output_size(input_size, kernel_size, stride=1, padding=0):\n",
        "    height, width = input_size\n",
        "\n",
        "    # Convolution 공식 적용\n",
        "    out_height = (height + 2 * padding - kernel_size) // stride + 1\n",
        "    out_width = (width + 2 * padding - kernel_size) // stride + 1\n",
        "\n",
        "    return out_height, out_width"
      ]
    },
    {
      "cell_type": "markdown",
      "id": "121ecbc1",
      "metadata": {
        "id": "121ecbc1"
      },
      "source": [
        "## 05-002 컨볼루션 출력 크기 계산"
      ]
    },
    {
      "cell_type": "code",
      "execution_count": null,
      "id": "beb78a03",
      "metadata": {
        "colab": {
          "base_uri": "https://localhost:8080/"
        },
        "id": "beb78a03",
        "outputId": "c96fb9f1-3908-49b6-ddfb-9a4de92710d0"
      },
      "outputs": [
        {
          "name": "stdout",
          "output_type": "stream",
          "text": [
            "Output feature map size: (26, 26)\n"
          ]
        }
      ],
      "source": [
        "# 입력 크기 (Height, Width), 커널 크기, 스트라이드, 패딩\n",
        "output_size = conv2d_output_size((28, 28), 3, 1, 0)\n",
        "print(f\"Output feature map size: {output_size}\")"
      ]
    },
    {
      "cell_type": "markdown",
      "id": "a79a7c65",
      "metadata": {
        "id": "a79a7c65"
      },
      "source": [
        "## 05-003 패딩을 포함한 컨볼루션 출력 크기 계산"
      ]
    },
    {
      "cell_type": "code",
      "execution_count": null,
      "id": "208b8545",
      "metadata": {
        "colab": {
          "base_uri": "https://localhost:8080/"
        },
        "id": "208b8545",
        "outputId": "5992b186-f474-4355-836c-52b43adc7bde"
      },
      "outputs": [
        {
          "name": "stdout",
          "output_type": "stream",
          "text": [
            "Output feature map size: (28, 28)\n"
          ]
        }
      ],
      "source": [
        "# 입력 크기 (Height, Width), 커널 크기, 스트라이드, 패딩\n",
        "output_size = conv2d_output_size((28, 28), 3, 1, 1)\n",
        "print(f\"Output feature map size: {output_size}\")"
      ]
    },
    {
      "cell_type": "markdown",
      "id": "458495ac",
      "metadata": {
        "id": "458495ac"
      },
      "source": [
        "## 05-004 스트라이드를 포함한 컨볼루션 출력 크기 계산"
      ]
    },
    {
      "cell_type": "code",
      "execution_count": null,
      "id": "bd37ecf5",
      "metadata": {
        "colab": {
          "base_uri": "https://localhost:8080/"
        },
        "id": "bd37ecf5",
        "outputId": "475077eb-6ac2-4da8-94cc-c28873559a3d"
      },
      "outputs": [
        {
          "name": "stdout",
          "output_type": "stream",
          "text": [
            "Output feature map size: (13, 13)\n"
          ]
        }
      ],
      "source": [
        "# 입력 크기 (Height, Width), 커널 크기, 스트라이드, 패딩\n",
        "output_size = conv2d_output_size((28, 28), 3, 2, 0)\n",
        "print(f\"Output feature map size: {output_size}\")"
      ]
    },
    {
      "cell_type": "markdown",
      "id": "1c0e4b28",
      "metadata": {
        "id": "1c0e4b28"
      },
      "source": [
        "## 05-005 스트라이드 및 패딩을 포함한 컨볼루션 출력 크기 계산"
      ]
    },
    {
      "cell_type": "code",
      "execution_count": null,
      "id": "94bb7331",
      "metadata": {
        "colab": {
          "base_uri": "https://localhost:8080/"
        },
        "id": "94bb7331",
        "outputId": "61b47b87-5c7a-4abe-8f1f-63e0a9a11c7a"
      },
      "outputs": [
        {
          "name": "stdout",
          "output_type": "stream",
          "text": [
            "Output feature map size: (14, 14)\n"
          ]
        }
      ],
      "source": [
        "# 입력 크기 (Height, Width), 커널 크기, 스트라이드, 패딩\n",
        "output_size = conv2d_output_size((28, 28), 3, 2, 1)\n",
        "print(f\"Output feature map size: {output_size}\")"
      ]
    },
    {
      "cell_type": "markdown",
      "id": "73ea86f9",
      "metadata": {
        "id": "73ea86f9"
      },
      "source": [
        "## 05-006 PyTorch 및 관련 모듈 임포트와 device 설정"
      ]
    },
    {
      "cell_type": "code",
      "execution_count": null,
      "id": "440d2d23",
      "metadata": {
        "colab": {
          "base_uri": "https://localhost:8080/"
        },
        "id": "440d2d23",
        "outputId": "5abbb14a-51f9-4bcf-da60-e2e1fecd3fb6"
      },
      "outputs": [
        {
          "data": {
            "text/plain": [
              "device(type='cuda')"
            ]
          },
          "execution_count": 7,
          "metadata": {},
          "output_type": "execute_result"
        }
      ],
      "source": [
        "import torch\n",
        "import torch.nn as nn\n",
        "import torch.optim as optim\n",
        "from torchvision import datasets, transforms\n",
        "from torch.utils.data import DataLoader\n",
        "from torchinfo import summary\n",
        "from JAEN.utils import plot_training_results\n",
        "\n",
        "# device 설정 (GPU가 사용 가능하면 GPU로, 그렇지 않으면 CPU 사용)\n",
        "device = torch.device('cuda' if torch.cuda.is_available() else 'cpu')\n",
        "device"
      ]
    },
    {
      "cell_type": "code",
      "execution_count": null,
      "id": "kj_xPDWqnP4r",
      "metadata": {
        "id": "kj_xPDWqnP4r"
      },
      "outputs": [],
      "source": [
        "def train(model, train_loader, criterion, optimizer, device):\n",
        "    model.train()  # 모델을 학습 모드로 설정\n",
        "\n",
        "    running_loss = 0.0 # 미니 배치별 loss값을 누적할 변수\n",
        "\n",
        "    for data, labels in train_loader: # 미니 배치 별 파라미터 업데이트 수행\n",
        "        data, labels = data.to(device), labels.to(device) # 미니 배치별 데이터와 레이블 장치 할당\n",
        "\n",
        "        # 순전파\n",
        "        outputs = model(data)\n",
        "\n",
        "        # 손실 계산\n",
        "        loss = criterion(outputs, labels)\n",
        "\n",
        "        # 기울기 초기화\n",
        "        optimizer.zero_grad()\n",
        "\n",
        "        # 역전파\n",
        "        loss.backward()\n",
        "\n",
        "        # 파라미터 업데이트\n",
        "        optimizer.step()\n",
        "\n",
        "        # 손실 누적\n",
        "        running_loss += loss.item()\n",
        "\n",
        "    # 현재 Epoch의 평균 손실 값 계산 및 반환\n",
        "    return running_loss / len(train_loader)"
      ]
    },
    {
      "cell_type": "code",
      "execution_count": null,
      "id": "qL8YF7pTnSZn",
      "metadata": {
        "id": "qL8YF7pTnSZn"
      },
      "outputs": [],
      "source": [
        "# 평가 함수 정의\n",
        "def evaluate(model, test_loader, criterion, device):\n",
        "    model.eval()  # 모델을 평가 모드로 설정\n",
        "\n",
        "    running_loss = 0.0 # 미니 배치별 loss값을 누적할 변수\n",
        "\n",
        "    with torch.no_grad():  # 평가 중에는 기울기 계산을 하지 않음\n",
        "        for data, labels in test_loader: # 미니 배치 별 손실 계산\n",
        "            data, labels = data.to(device), labels.to(device) # 미니 배치별 데이터와 레이블 장치 할당\n",
        "\n",
        "            # 순전파\n",
        "            outputs = model(data)\n",
        "\n",
        "            # 손실 계산\n",
        "            loss = criterion(outputs, labels)\n",
        "\n",
        "            # 손실 누적\n",
        "            running_loss += loss.item()\n",
        "\n",
        "\n",
        "    # 현재 Epoch의 평균 손실 값 계산 및 반환\n",
        "    return running_loss / len(test_loader)"
      ]
    },
    {
      "cell_type": "markdown",
      "id": "60a22291",
      "metadata": {
        "id": "60a22291"
      },
      "source": [
        "## 05-007 FashionMNIST 데이터 변환 및 정규화"
      ]
    },
    {
      "cell_type": "code",
      "execution_count": null,
      "id": "8fbe7945",
      "metadata": {
        "id": "8fbe7945"
      },
      "outputs": [],
      "source": [
        "# FashionMNIST 데이터 변환 (이미지를 텐서로 변환하고 [0, 1] 범위로 정규화)\n",
        "transform = transforms.Compose([\n",
        "    transforms.ToTensor(),\n",
        "])"
      ]
    },
    {
      "cell_type": "markdown",
      "id": "5ba35534",
      "metadata": {
        "id": "5ba35534"
      },
      "source": [
        "## 05-008 FashionMNIST 학습 및 테스트 데이터셋 로드"
      ]
    },
    {
      "cell_type": "code",
      "execution_count": null,
      "id": "f4585d5c",
      "metadata": {
        "colab": {
          "base_uri": "https://localhost:8080/"
        },
        "id": "f4585d5c",
        "outputId": "bbbfee14-008b-49a5-b399-19e392116779"
      },
      "outputs": [
        {
          "name": "stderr",
          "output_type": "stream",
          "text": [
            "100%|██████████| 26.4M/26.4M [00:02<00:00, 11.1MB/s]\n",
            "100%|██████████| 29.5k/29.5k [00:00<00:00, 201kB/s]\n",
            "100%|██████████| 4.42M/4.42M [00:01<00:00, 3.72MB/s]\n",
            "100%|██████████| 5.15k/5.15k [00:00<00:00, 13.5MB/s]\n"
          ]
        }
      ],
      "source": [
        "# 학습 및 테스트 데이터셋 로드\n",
        "train_dataset = datasets.FashionMNIST(root='./data', train=True, transform=transform, download=True)\n",
        "test_dataset = datasets.FashionMNIST(root='./data', train=False, transform=transform, download=True)"
      ]
    },
    {
      "cell_type": "markdown",
      "id": "db281116",
      "metadata": {
        "id": "db281116"
      },
      "source": [
        "## 05-009 데이터 로더 생성"
      ]
    },
    {
      "cell_type": "code",
      "execution_count": null,
      "id": "8a3b53ff",
      "metadata": {
        "id": "8a3b53ff"
      },
      "outputs": [],
      "source": [
        "# 데이터 로더 생성\n",
        "train_loader = DataLoader(train_dataset, batch_size=64, shuffle=True, drop_last=False)\n",
        "test_loader = DataLoader(test_dataset, batch_size=64, shuffle=False, drop_last=False)"
      ]
    },
    {
      "cell_type": "markdown",
      "id": "945e3130",
      "metadata": {
        "id": "945e3130"
      },
      "source": [
        "## 05-010 CNN 모델 클래스 정의"
      ]
    },
    {
      "cell_type": "code",
      "execution_count": null,
      "id": "117282ca",
      "metadata": {
        "colab": {
          "base_uri": "https://localhost:8080/"
        },
        "id": "117282ca",
        "outputId": "3cebe507-ae4c-42b1-f516-aa0424f9ea86"
      },
      "outputs": [
        {
          "data": {
            "text/plain": [
              "==========================================================================================\n",
              "Layer (type:depth-idx)                   Output Shape              Param #\n",
              "==========================================================================================\n",
              "Sequential                               [64, 10]                  --\n",
              "├─Conv2d: 1-1                            [64, 16, 28, 28]          160\n",
              "├─ReLU: 1-2                              [64, 16, 28, 28]          --\n",
              "├─MaxPool2d: 1-3                         [64, 16, 14, 14]          --\n",
              "├─Conv2d: 1-4                            [64, 32, 14, 14]          4,640\n",
              "├─ReLU: 1-5                              [64, 32, 14, 14]          --\n",
              "├─MaxPool2d: 1-6                         [64, 32, 7, 7]            --\n",
              "├─Flatten: 1-7                           [64, 1568]                --\n",
              "├─Linear: 1-8                            [64, 128]                 200,832\n",
              "├─ReLU: 1-9                              [64, 128]                 --\n",
              "├─Linear: 1-10                           [64, 10]                  1,290\n",
              "==========================================================================================\n",
              "Total params: 206,922\n",
              "Trainable params: 206,922\n",
              "Non-trainable params: 0\n",
              "Total mult-adds (Units.MEGABYTES): 79.17\n",
              "==========================================================================================\n",
              "Input size (MB): 0.20\n",
              "Forward/backward pass size (MB): 9.70\n",
              "Params size (MB): 0.83\n",
              "Estimated Total Size (MB): 10.73\n",
              "=========================================================================================="
            ]
          },
          "execution_count": 13,
          "metadata": {},
          "output_type": "execute_result"
        }
      ],
      "source": [
        "# Sequential로 모델 정의\n",
        "model = nn.Sequential(\n",
        "    # 첫 번째 Conv + ReLU + MaxPool\n",
        "    nn.Conv2d(in_channels=1, out_channels=16, kernel_size=3, padding=1),\n",
        "    nn.ReLU(),\n",
        "    nn.MaxPool2d(kernel_size=2, stride=2),\n",
        "\n",
        "    # 두 번째 Conv + ReLU + MaxPool\n",
        "    nn.Conv2d(in_channels=16, out_channels=32, kernel_size=3, padding=1),\n",
        "    nn.ReLU(),\n",
        "    nn.MaxPool2d(kernel_size=2, stride=2),\n",
        "\n",
        "    # Flatten\n",
        "    nn.Flatten(),\n",
        "\n",
        "    # 첫 번째 Fully Connected + ReLU\n",
        "    nn.Linear(32 * 7 * 7, 128),\n",
        "    nn.ReLU(),\n",
        "\n",
        "    # 두 번째 Fully Connected (출력층)\n",
        "    nn.Linear(128, 10)\n",
        ")\n",
        "model = model.to(device)\n",
        "summary(model, input_size=(64, 1, 28, 28))"
      ]
    },
    {
      "cell_type": "code",
      "execution_count": null,
      "id": "3621a56d",
      "metadata": {
        "colab": {
          "base_uri": "https://localhost:8080/"
        },
        "id": "3621a56d",
        "outputId": "f4002258-6e70-48ea-c602-74f3a8624d8a"
      },
      "outputs": [
        {
          "data": {
            "text/plain": [
              "==========================================================================================\n",
              "Layer (type:depth-idx)                   Output Shape              Param #\n",
              "==========================================================================================\n",
              "CNN                                      [64, 10]                  --\n",
              "├─Conv2d: 1-1                            [64, 16, 28, 28]          160\n",
              "├─ReLU: 1-2                              [64, 16, 28, 28]          --\n",
              "├─MaxPool2d: 1-3                         [64, 16, 14, 14]          --\n",
              "├─Conv2d: 1-4                            [64, 32, 14, 14]          4,640\n",
              "├─ReLU: 1-5                              [64, 32, 14, 14]          --\n",
              "├─MaxPool2d: 1-6                         [64, 32, 7, 7]            --\n",
              "├─Linear: 1-7                            [64, 128]                 200,832\n",
              "├─ReLU: 1-8                              [64, 128]                 --\n",
              "├─Linear: 1-9                            [64, 10]                  1,290\n",
              "==========================================================================================\n",
              "Total params: 206,922\n",
              "Trainable params: 206,922\n",
              "Non-trainable params: 0\n",
              "Total mult-adds (Units.MEGABYTES): 79.17\n",
              "==========================================================================================\n",
              "Input size (MB): 0.20\n",
              "Forward/backward pass size (MB): 9.70\n",
              "Params size (MB): 0.83\n",
              "Estimated Total Size (MB): 10.73\n",
              "=========================================================================================="
            ]
          },
          "execution_count": 14,
          "metadata": {},
          "output_type": "execute_result"
        }
      ],
      "source": [
        "# CNN 모델 정의\n",
        "class CNN(nn.Module):\n",
        "    def __init__(self):\n",
        "        super().__init__()\n",
        "\n",
        "        # 첫 번째 컨볼루션 레이어\n",
        "        # 입력 채널: 1 (흑백 이미지), 출력 채널: 16, 커널 크기: 3x3, 패딩: 1\n",
        "        self.conv1 = nn.Conv2d(in_channels=1, out_channels=16, kernel_size=3, padding=1)\n",
        "\n",
        "        # 두 번째 컨볼루션 레이어\n",
        "        # 입력 채널: 16, 출력 채널: 32, 커널 크기: 3x3, 패딩: 1\n",
        "        self.conv2 = nn.Conv2d(in_channels=16, out_channels=32, kernel_size=3, padding=1)\n",
        "\n",
        "        # MaxPool 레이어 (다운샘플링)\n",
        "        # 커널 크기: 2x2, 스트라이드: 2\n",
        "        self.pool = nn.MaxPool2d(kernel_size=2, stride=2, padding=0)\n",
        "\n",
        "        # 첫 번째 완전 연결 (Fully Connected) 레이어\n",
        "        # 입력 크기: 32 * 7 * 7 (Conv2d 출력을 펼친 크기), 출력 크기: 128\n",
        "        self.fc1 = nn.Linear(32 * 7 * 7, 128)\n",
        "\n",
        "        # 두 번째 완전 연결 레이어\n",
        "        # 입력 크기: 128, 출력 크기: 10 (클래스 개수)\n",
        "        self.fc2 = nn.Linear(128, 10)\n",
        "\n",
        "        # 활성화 함수\n",
        "        self.relu = nn.ReLU()\n",
        "\n",
        "    def forward(self, x):\n",
        "        # 입력 데이터 크기: (batch_size, 1, 28, 28)\n",
        "\n",
        "        # 첫 번째 Conv + ReLU + MaxPool\n",
        "        # Conv 후 크기: (batch_size, 16, 28, 28)\n",
        "        # MaxPool 후 크기: (batch_size, 16, 14, 14)\n",
        "        x = self.pool(self.relu(self.conv1(x)))\n",
        "\n",
        "        # 두 번째 Conv + ReLU + MaxPool\n",
        "        # Conv 후 크기: (batch_size, 32, 14, 14)\n",
        "        # MaxPool 후 크기: (batch_size, 32, 7, 7)\n",
        "        x = self.pool(self.relu(self.conv2(x)))\n",
        "\n",
        "        # Flatten: Conv 출력을 1차원 벡터로 펼침\n",
        "        # Flatten 후 크기: (batch_size, 32 * 7 * 7)\n",
        "        x = x.reshape(-1, 32 * 7 * 7)\n",
        "\n",
        "        # 첫 번째 Fully Connected + ReLU\n",
        "        # 출력 크기: (batch_size, 128)\n",
        "        x = self.relu(self.fc1(x))\n",
        "\n",
        "        # 두 번째 Fully Connected (출력층)\n",
        "        # 출력 크기: (batch_size, 10)\n",
        "        x = self.fc2(x)\n",
        "\n",
        "        return x\n",
        "\n",
        "# 모델 요약 출력\n",
        "model = CNN().to(device)\n",
        "summary(model, input_size=(64, 1, 28, 28))"
      ]
    },
    {
      "cell_type": "markdown",
      "id": "01c45b4c",
      "metadata": {
        "id": "01c45b4c"
      },
      "source": [
        "## 05-011 손실 함수 및 옵티마이저 설정과 학습 수행"
      ]
    },
    {
      "cell_type": "code",
      "execution_count": null,
      "id": "5ba049a5",
      "metadata": {
        "colab": {
          "base_uri": "https://localhost:8080/"
        },
        "id": "5ba049a5",
        "outputId": "ca41964b-a12b-479e-b7f7-e0b8d601068d"
      },
      "outputs": [
        {
          "name": "stdout",
          "output_type": "stream",
          "text": [
            "Epoch 1 Train Loss : 0.8291877362964504 Test Loss : 0.5776508034794194\n",
            "Epoch 2 Train Loss : 0.5205058806708881 Test Loss : 0.5051010729400975\n",
            "Epoch 3 Train Loss : 0.45973725180064184 Test Loss : 0.4539314413526256\n",
            "Epoch 4 Train Loss : 0.42586389001307967 Test Loss : 0.4427627667689779\n",
            "Epoch 5 Train Loss : 0.4020696444107271 Test Loss : 0.40977107491462855\n",
            "Epoch 6 Train Loss : 0.384420536093112 Test Loss : 0.4000795608872821\n",
            "Epoch 7 Train Loss : 0.37049923552823727 Test Loss : 0.39193295303044046\n",
            "Epoch 8 Train Loss : 0.3571155436797691 Test Loss : 0.3725747744179076\n",
            "Epoch 9 Train Loss : 0.34714702505673933 Test Loss : 0.3697624223627103\n",
            "Epoch 10 Train Loss : 0.3386265140876714 Test Loss : 0.35365498625928427\n"
          ]
        }
      ],
      "source": [
        "criterion = nn.CrossEntropyLoss()  # 다중 클래스 분류를 위한 손실 함수\n",
        "optimizer = optim.Adam(model.parameters(), lr=0.0001)  # Adam 옵티마이저\n",
        "\n",
        "train_losses = []\n",
        "test_losses = []\n",
        "\n",
        "# 학습 횟수 만큼 반복\n",
        "for epoch in range(10):\n",
        "\n",
        "    # 모델 학습(학습데이터)\n",
        "    train_loss = train(model, train_loader, criterion, optimizer, device)\n",
        "    train_losses.append(train_loss)\n",
        "\n",
        "    # 모델 평가 (평가데이터)\n",
        "    test_loss = evaluate(model, test_loader, criterion, device)\n",
        "    test_losses.append(test_loss)\n",
        "\n",
        "    print(f'Epoch {epoch+1} Train Loss : {train_loss} Test Loss : {test_loss}')"
      ]
    },
    {
      "cell_type": "markdown",
      "id": "e44a193e",
      "metadata": {
        "id": "e44a193e"
      },
      "source": [
        "## 연습문제-05-001 (배치, 3, 32, 32) 입력을 받는 CNN 모델 설계 (Sequential 방식)"
      ]
    },
    {
      "cell_type": "code",
      "execution_count": null,
      "id": "729d19f6",
      "metadata": {
        "id": "729d19f6"
      },
      "outputs": [],
      "source": [
        "# 이 모델은 이미지 분류를 위한 CNN 모델로, 세 개의 합성곱층(Convolutional Layer)과 완전 연결층(Fully Connected Layer)으로 구성됩니다.\n",
        "# 입력 데이터는 (배치 크기, 3, 32, 32) 형태를 가지며, 다음과 같은 단계로 설계됩니다.\n",
        "\n",
        "# 1. 첫 번째 합성곱층:\n",
        "#    - 입력 채널: 3 (RGB 이미지)\n",
        "#    - 출력 채널: 16\n",
        "#    - 커널 크기: 3x3\n",
        "#    - 패딩: 1 (출력 크기가 입력 크기와 동일하게 유지되도록 설정)\n",
        "#    - 비선형성을 부여하기 위해 ReLU 활성화 함수 추가\n",
        "#    - 공간 해상도를 축소하기 위해 Max Pooling 레이어 추가 (커널 크기 2x2, 스트라이드 2)\n",
        "\n",
        "# 2. 두 번째 합성곱층:\n",
        "#    - 입력 채널: 16\n",
        "#    - 출력 채널: 32\n",
        "#    - 커널 크기: 3x3\n",
        "#    - 패딩: 1\n",
        "#    - 활성화 함수로 ReLU 적용\n",
        "#    - Max Pooling 레이어 추가 (커널 크기 2x2, 스트라이드 2)\n",
        "\n",
        "# 3. 세 번째 합성곱층:\n",
        "#    - 입력 채널: 32\n",
        "#    - 출력 채널: 64\n",
        "#    - 커널 크기: 3x3\n",
        "#    - 패딩: 1\n",
        "#    - ReLU 활성화 함수 적용\n",
        "#    - Max Pooling 레이어 추가 (커널 크기 2x2, 스트라이드 2)\n",
        "\n",
        "# 4. Flatten 레이어:\n",
        "#    - 다차원 텐서를 이차원 텐서로 변환\n",
        "#    - Conv 레이어와 Max Pooling을 거친 후 (배치 크기, 64, 4, 4) 형태의 텐서를 이차원 텐서로 변환 변환하여 fully connected layer에 입력\n",
        "\n",
        "# 5. 첫 번째 완전 연결층:\n",
        "#    - Conv 레이어 출력을 128차원 출력으로 변환\n",
        "#    - ReLU 활성화 함수 추가\n",
        "\n",
        "# 6. 최종 출력층:\n",
        "#    - 10개의 클래스로 분류 (활성화 함수는 분류 목적에 따라 추가 설정 가능)\n"
      ]
    },
    {
      "cell_type": "markdown",
      "id": "6295ad49",
      "metadata": {
        "id": "6295ad49"
      },
      "source": [
        "## 연습문제-05-002 (배치, 3, 224, 224) 입력을 받는 CNN 모델 설계 (Module 방식)"
      ]
    },
    {
      "cell_type": "code",
      "execution_count": null,
      "id": "694a69f7",
      "metadata": {
        "id": "694a69f7"
      },
      "outputs": [],
      "source": [
        "# CNN 모델 설계 가이드\n",
        "\n",
        "# 이 모델은 이미지 분류를 위한 CNN 모델로, 네 개의 합성곱층(Convolutional Layer)과 풀링층(Max Pooling Layer),\n",
        "# 그리고 두 개의 완전 연결층(Fully Connected Layer)으로 구성됩니다.\n",
        "# 입력 데이터는 (배치 크기, 3, 224, 224) 형태를 가지며, 다음과 같은 단계로 설계됩니다.\n",
        "\n",
        "# 1. 첫 번째 합성곱층:\n",
        "#    - 입력 채널: 3 (RGB 이미지)\n",
        "#    - 출력 채널: 256\n",
        "#    - 커널 크기: 3x3\n",
        "#    - 패딩: 1 (출력 크기를 입력 크기와 동일하게 유지)\n",
        "#    - 활성화 함수: ReLU를 사용하여 비선형성 부여\n",
        "#    - 첫 번째 풀링층: 커널 크기 2x2, 스트라이드 2를 사용하여 공간 해상도를 절반으로 줄임 (출력 크기: (112, 112))\n",
        "\n",
        "# 2. 두 번째 합성곱층:\n",
        "#    - 입력 채널: 256\n",
        "#    - 출력 채널: 128\n",
        "#    - 커널 크기: 3x3\n",
        "#    - 패딩: 1\n",
        "#    - 활성화 함수: ReLU 사용\n",
        "#    - 두 번째 풀링층: 커널 크기 2x2, 스트라이드 2를 사용하여 공간 해상도를 절반으로 줄임 (출력 크기: (56, 56))\n",
        "\n",
        "# 3. 세 번째 합성곱층:\n",
        "#    - 입력 채널: 128\n",
        "#    - 출력 채널: 64\n",
        "#    - 커널 크기: 3x3\n",
        "#    - 패딩: 1\n",
        "#    - 활성화 함수: ReLU 사용\n",
        "#    - 세 번째 풀링층: 커널 크기 2x2, 스트라이드 2를 사용하여 공간 해상도를 절반으로 줄임 (출력 크기: (28, 28))\n",
        "\n",
        "# 4. 네 번째 합성곱층:\n",
        "#    - 입력 채널: 64\n",
        "#    - 출력 채널: 32\n",
        "#    - 커널 크기: 3x3\n",
        "#    - 패딩: 1\n",
        "#    - 활성화 함수: ReLU 사용\n",
        "#    - 네 번째 풀링층: 커널 크기 2x2, 스트라이드 2를 사용하여 공간 해상도를 절반으로 줄임 (출력 크기: (14, 14))\n",
        "\n",
        "# 5. Flatten 레이어:\n",
        "#    - 네 번째 풀링 이후의 다차원 텐서를 이차원 텐서로 변환하여 fully connected layer에 입력\n",
        "#    - Conv 레이어와 풀링층을 거친 후 (32, 14, 14) 형태의 텐서를 이차원 텐서로 변환\n",
        "\n",
        "# 6. 첫 번째 완전 연결층:\n",
        "#    - Conv 레이어 출력을 낮은 차원(256)으로 줄임\n",
        "#    - 활성화 함수: ReLU 사용\n",
        "\n",
        "# 7. 두 번째 완전 연결층:\n",
        "#    - 최종적으로 두 개의 클래스로 분류\n"
      ]
    },
    {
      "cell_type": "markdown",
      "id": "15f0e9c3",
      "metadata": {
        "id": "15f0e9c3"
      },
      "source": [
        "## 05-012 JAEN 패키지에서 CNN 모델 불러오기"
      ]
    },
    {
      "cell_type": "code",
      "execution_count": null,
      "id": "af84d090",
      "metadata": {
        "colab": {
          "base_uri": "https://localhost:8080/"
        },
        "id": "af84d090",
        "outputId": "f4f16db9-d77f-436f-e009-80b4ed0c8aad"
      },
      "outputs": [
        {
          "name": "stdout",
          "output_type": "stream",
          "text": [
            "Pretrained weights loaded successfully on cuda.\n"
          ]
        },
        {
          "data": {
            "text/plain": [
              "==========================================================================================\n",
              "Layer (type:depth-idx)                   Output Shape              Param #\n",
              "==========================================================================================\n",
              "CNNModel                                 [64, 10]                  --\n",
              "├─Sequential: 1-1                        [64, 32, 7, 7]            --\n",
              "│    └─Conv2d: 2-1                       [64, 16, 28, 28]          160\n",
              "│    └─ReLU: 2-2                         [64, 16, 28, 28]          --\n",
              "│    └─Conv2d: 2-3                       [64, 16, 28, 28]          2,320\n",
              "│    └─ReLU: 2-4                         [64, 16, 28, 28]          --\n",
              "│    └─MaxPool2d: 2-5                    [64, 16, 14, 14]          --\n",
              "│    └─Conv2d: 2-6                       [64, 32, 14, 14]          4,640\n",
              "│    └─ReLU: 2-7                         [64, 32, 14, 14]          --\n",
              "│    └─Conv2d: 2-8                       [64, 32, 14, 14]          9,248\n",
              "│    └─ReLU: 2-9                         [64, 32, 14, 14]          --\n",
              "│    └─MaxPool2d: 2-10                   [64, 32, 7, 7]            --\n",
              "├─Sequential: 1-2                        [64, 10]                  --\n",
              "│    └─Linear: 2-11                      [64, 128]                 200,832\n",
              "│    └─ReLU: 2-12                        [64, 128]                 --\n",
              "│    └─Linear: 2-13                      [64, 10]                  1,290\n",
              "==========================================================================================\n",
              "Total params: 218,490\n",
              "Trainable params: 218,490\n",
              "Non-trainable params: 0\n",
              "Total mult-adds (Units.MEGABYTES): 311.58\n",
              "==========================================================================================\n",
              "Input size (MB): 0.20\n",
              "Forward/backward pass size (MB): 19.34\n",
              "Params size (MB): 0.87\n",
              "Estimated Total Size (MB): 20.41\n",
              "=========================================================================================="
            ]
          },
          "execution_count": 16,
          "metadata": {},
          "output_type": "execute_result"
        }
      ],
      "source": [
        "# JAEN 패키지에서 CNN 모델 가져오기\n",
        "from JAEN.models import CNNModel\n",
        "\n",
        "# CNN 모델 불러오기 (pretrained=True)\n",
        "model = CNNModel(pretrained=True)\n",
        "\n",
        "# 모델 정보 확인\n",
        "summary(model, (64, 1, 28, 28))"
      ]
    },
    {
      "cell_type": "markdown",
      "id": "5bca43b3",
      "metadata": {
        "id": "5bca43b3"
      },
      "source": [
        "## 05-013 기존 Conv Block 동결"
      ]
    },
    {
      "cell_type": "code",
      "execution_count": null,
      "id": "858027b5",
      "metadata": {
        "id": "858027b5"
      },
      "outputs": [],
      "source": [
        "# 기존 Conv Block 동결\n",
        "for param in model.conv_layers.parameters():\n",
        "    param.requires_grad = False"
      ]
    },
    {
      "cell_type": "markdown",
      "id": "8a780005",
      "metadata": {
        "id": "8a780005"
      },
      "source": [
        "## 05-014 새로운 Fully Connected Block 설정"
      ]
    },
    {
      "cell_type": "code",
      "execution_count": null,
      "id": "3bb39dd9",
      "metadata": {
        "colab": {
          "base_uri": "https://localhost:8080/"
        },
        "id": "3bb39dd9",
        "outputId": "7be258d2-bab5-488b-e2e8-2c3eca5e35ad"
      },
      "outputs": [
        {
          "data": {
            "text/plain": [
              "==========================================================================================\n",
              "Layer (type:depth-idx)                   Output Shape              Param #\n",
              "==========================================================================================\n",
              "CNNModel                                 [64, 10]                  --\n",
              "├─Sequential: 1-1                        [64, 32, 7, 7]            --\n",
              "│    └─Conv2d: 2-1                       [64, 16, 28, 28]          (160)\n",
              "│    └─ReLU: 2-2                         [64, 16, 28, 28]          --\n",
              "│    └─Conv2d: 2-3                       [64, 16, 28, 28]          (2,320)\n",
              "│    └─ReLU: 2-4                         [64, 16, 28, 28]          --\n",
              "│    └─MaxPool2d: 2-5                    [64, 16, 14, 14]          --\n",
              "│    └─Conv2d: 2-6                       [64, 32, 14, 14]          (4,640)\n",
              "│    └─ReLU: 2-7                         [64, 32, 14, 14]          --\n",
              "│    └─Conv2d: 2-8                       [64, 32, 14, 14]          (9,248)\n",
              "│    └─ReLU: 2-9                         [64, 32, 14, 14]          --\n",
              "│    └─MaxPool2d: 2-10                   [64, 32, 7, 7]            --\n",
              "├─Sequential: 1-2                        [64, 10]                  --\n",
              "│    └─Linear: 2-11                      [64, 64]                  100,416\n",
              "│    └─ReLU: 2-12                        [64, 64]                  --\n",
              "│    └─Dropout: 2-13                     [64, 64]                  --\n",
              "│    └─Linear: 2-14                      [64, 10]                  650\n",
              "==========================================================================================\n",
              "Total params: 117,434\n",
              "Trainable params: 101,066\n",
              "Non-trainable params: 16,368\n",
              "Total mult-adds (Units.MEGABYTES): 305.12\n",
              "==========================================================================================\n",
              "Input size (MB): 0.20\n",
              "Forward/backward pass size (MB): 19.31\n",
              "Params size (MB): 0.47\n",
              "Estimated Total Size (MB): 19.98\n",
              "=========================================================================================="
            ]
          },
          "execution_count": 18,
          "metadata": {},
          "output_type": "execute_result"
        }
      ],
      "source": [
        "# 새로운 Fully Connected Block 설정\n",
        "model.fc_layers = nn.Sequential(\n",
        "    nn.Linear(32 * 7 * 7, 64),  # 첫 번째 은닉층\n",
        "    nn.ReLU(),\n",
        "    nn.Dropout(p=0.5),           # 드롭아웃 추가\n",
        "    nn.Linear(64, 10)           # 출력층 (활성화 함수 없음)\n",
        ")\n",
        "\n",
        "# 디바이스 설정 (GPU 또는 CPU)\n",
        "model = model.to(device)\n",
        "summary(model, input_size=(64, 1, 28, 28))"
      ]
    },
    {
      "cell_type": "markdown",
      "id": "e121bd0f",
      "metadata": {
        "id": "e121bd0f"
      },
      "source": [
        "## 05-015 손실 함수 및 최적화 도구 정의와 학습 수행"
      ]
    },
    {
      "cell_type": "code",
      "execution_count": null,
      "id": "58caf05a",
      "metadata": {
        "colab": {
          "base_uri": "https://localhost:8080/"
        },
        "id": "58caf05a",
        "outputId": "dc235370-a1d9-436e-83d9-531986aacb1f"
      },
      "outputs": [
        {
          "name": "stdout",
          "output_type": "stream",
          "text": [
            "Epoch 1 Train Loss : 0.9264304595016467 Test Loss : 0.5355029176374909\n",
            "Epoch 2 Train Loss : 0.562875812750127 Test Loss : 0.45624300704640186\n",
            "Epoch 3 Train Loss : 0.4904559829405376 Test Loss : 0.41910645308767913\n",
            "Epoch 4 Train Loss : 0.4492161413912834 Test Loss : 0.3965125706545107\n",
            "Epoch 5 Train Loss : 0.4232708122303237 Test Loss : 0.38130610450437874\n",
            "Epoch 6 Train Loss : 0.4031214474170193 Test Loss : 0.3706713606407688\n",
            "Epoch 7 Train Loss : 0.3902218926276988 Test Loss : 0.3613410547470591\n",
            "Epoch 8 Train Loss : 0.37441398158891875 Test Loss : 0.35400737603758553\n",
            "Epoch 9 Train Loss : 0.3663408201831236 Test Loss : 0.34742665717935867\n",
            "Epoch 10 Train Loss : 0.3568946440209712 Test Loss : 0.34378826276511903\n"
          ]
        }
      ],
      "source": [
        "criterion = nn.CrossEntropyLoss()  # 다중 클래스 분류를 위한 손실 함수\n",
        "optimizer = optim.Adam(model.parameters(), lr=0.0001)  # Adam 옵티마이저\n",
        "\n",
        "train_losses = []\n",
        "test_losses = []\n",
        "\n",
        "# 학습 횟수 만큼 반복\n",
        "for epoch in range(10):\n",
        "\n",
        "    # 모델 학습(학습데이터)\n",
        "    train_loss = train(model, train_loader, criterion, optimizer, device)\n",
        "    train_losses.append(train_loss)\n",
        "\n",
        "    # 모델 평가 (평가데이터)\n",
        "    test_loss = evaluate(model, test_loader, criterion, device)\n",
        "    test_losses.append(test_loss)\n",
        "\n",
        "    print(f'Epoch {epoch+1} Train Loss : {train_loss} Test Loss : {test_loss}')"
      ]
    },
    {
      "cell_type": "markdown",
      "id": "08dbd6a4",
      "metadata": {
        "id": "08dbd6a4"
      },
      "source": [
        "## 05-016 마지막 두 Conv 레이어만 학습하도록 설정"
      ]
    },
    {
      "cell_type": "code",
      "execution_count": null,
      "id": "0290a98b",
      "metadata": {
        "id": "0290a98b"
      },
      "outputs": [],
      "source": [
        "# 마지막 두 Conv 레이어만 학습하도록 설정\n",
        "for name, p in model.conv_layers.named_parameters():\n",
        "    if name in ['5.weight', '5.bias', '7.weight', '7.bias']:\n",
        "        p.requires_grad = True"
      ]
    },
    {
      "cell_type": "markdown",
      "id": "45ef1f49",
      "metadata": {
        "id": "45ef1f49"
      },
      "source": [
        "## 05-017 손실 함수 및 최적화 도구 정의와 학습 수행"
      ]
    },
    {
      "cell_type": "code",
      "execution_count": null,
      "id": "1262d6de",
      "metadata": {
        "colab": {
          "base_uri": "https://localhost:8080/"
        },
        "id": "1262d6de",
        "outputId": "dd26737e-4499-46ce-9ef0-1505d3ff62b5"
      },
      "outputs": [
        {
          "name": "stdout",
          "output_type": "stream",
          "text": [
            "Epoch 1 Train Loss : 0.33772203303984744 Test Loss : 0.3254050694073841\n",
            "Epoch 2 Train Loss : 0.32173633895544357 Test Loss : 0.317656226645989\n",
            "Epoch 3 Train Loss : 0.3116905547932648 Test Loss : 0.3114010765674008\n",
            "Epoch 4 Train Loss : 0.3015111128467995 Test Loss : 0.30608715553572224\n",
            "Epoch 5 Train Loss : 0.29092938177335237 Test Loss : 0.30172576760030856\n",
            "Epoch 6 Train Loss : 0.2853822056402657 Test Loss : 0.2972324746809188\n",
            "Epoch 7 Train Loss : 0.2788739553742063 Test Loss : 0.29488168713773133\n",
            "Epoch 8 Train Loss : 0.27231431509385995 Test Loss : 0.2909704470046007\n",
            "Epoch 9 Train Loss : 0.26766905310089145 Test Loss : 0.2906973608739816\n",
            "Epoch 10 Train Loss : 0.26199333021032023 Test Loss : 0.28911208532228594\n"
          ]
        }
      ],
      "source": [
        "criterion = nn.CrossEntropyLoss()  # 다중 클래스 분류를 위한 손실 함수\n",
        "optimizer = optim.Adam(model.parameters(), lr=0.0001)  # Adam 옵티마이저\n",
        "\n",
        "train_losses = []\n",
        "test_losses = []\n",
        "\n",
        "# 학습 횟수 만큼 반복\n",
        "for epoch in range(10):\n",
        "\n",
        "    # 모델 학습(학습데이터)\n",
        "    train_loss = train(model, train_loader, criterion, optimizer, device)\n",
        "    train_losses.append(train_loss)\n",
        "\n",
        "    # 모델 평가 (평가데이터)\n",
        "    test_loss = evaluate(model, test_loader, criterion, device)\n",
        "    test_losses.append(test_loss)\n",
        "\n",
        "    print(f'Epoch {epoch+1} Train Loss : {train_loss} Test Loss : {test_loss}')"
      ]
    }
  ],
  "metadata": {
    "colab": {
      "include_colab_link": true,
      "provenance": []
    },
    "kernelspec": {
      "display_name": "python311",
      "language": "python",
      "name": "python3"
    },
    "language_info": {
      "codemirror_mode": {
        "name": "ipython",
        "version": 3
      },
      "file_extension": ".py",
      "mimetype": "text/x-python",
      "name": "python",
      "nbconvert_exporter": "python",
      "pygments_lexer": "ipython3",
      "version": "3.11.7"
    }
  },
  "nbformat": 4,
  "nbformat_minor": 5
}
