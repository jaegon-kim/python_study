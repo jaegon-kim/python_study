{
  "cells": [
    {
      "cell_type": "markdown",
      "metadata": {
        "id": "view-in-github",
        "colab_type": "text"
      },
      "source": [
        "<a href=\"https://colab.research.google.com/github/jaegon-kim/python_study/blob/main/src/ai_essential_250317/day_2_dnn.ipynb\" target=\"_parent\"><img src=\"https://colab.research.google.com/assets/colab-badge.svg\" alt=\"Open In Colab\"/></a>"
      ]
    },
    {
      "cell_type": "markdown",
      "id": "f6468de1",
      "metadata": {
        "id": "f6468de1"
      },
      "source": [
        "# 04. 심층신경망(DNN)"
      ]
    },
    {
      "cell_type": "markdown",
      "id": "fa2faf71",
      "metadata": {
        "id": "fa2faf71"
      },
      "source": [
        "## 04-001 PyTorch 및 관련 모듈 임포트와 device 설정"
      ]
    },
    {
      "cell_type": "code",
      "execution_count": null,
      "id": "f2e9fb4b",
      "metadata": {
        "id": "f2e9fb4b"
      },
      "outputs": [],
      "source": [
        "%%capture\n",
        "!pip install JAEN -qU"
      ]
    },
    {
      "cell_type": "code",
      "execution_count": null,
      "id": "01d28015",
      "metadata": {
        "id": "01d28015"
      },
      "outputs": [],
      "source": [
        "import torch\n",
        "import torch.nn as nn\n",
        "import torch.optim as optim\n",
        "from torch.utils.data import DataLoader\n",
        "from torchinfo import summary\n",
        "from JAEN.utils import plot_training_results\n",
        "\n",
        "# device 설정 (GPU가 사용 가능하면 GPU로, 그렇지 않으면 CPU 사용)\n",
        "device = torch.device('cuda' if torch.cuda.is_available() else 'cpu')\n",
        "\n",
        "# 데이터 로더 정의\n",
        "from JAEN.datasets import load_titanic\n",
        "train_loader, test_loader = load_titanic()"
      ]
    },
    {
      "cell_type": "markdown",
      "id": "7982f7e2",
      "metadata": {
        "id": "7982f7e2"
      },
      "source": [
        "## 04-002 nn.Sequential 기반 신경망 모델 구성"
      ]
    },
    {
      "cell_type": "code",
      "execution_count": null,
      "id": "044e211e",
      "metadata": {
        "colab": {
          "base_uri": "https://localhost:8080/"
        },
        "id": "044e211e",
        "outputId": "46e81159-67cb-4e30-c674-5b9c7889704e"
      },
      "outputs": [
        {
          "output_type": "execute_result",
          "data": {
            "text/plain": [
              "==========================================================================================\n",
              "Layer (type:depth-idx)                   Output Shape              Param #\n",
              "==========================================================================================\n",
              "Sequential                               [32, 1]                   --\n",
              "├─Linear: 1-1                            [32, 32]                  256\n",
              "├─ReLU: 1-2                              [32, 32]                  --\n",
              "├─Linear: 1-3                            [32, 1]                   33\n",
              "├─Sigmoid: 1-4                           [32, 1]                   --\n",
              "==========================================================================================\n",
              "Total params: 289\n",
              "Trainable params: 289\n",
              "Non-trainable params: 0\n",
              "Total mult-adds (Units.MEGABYTES): 0.01\n",
              "==========================================================================================\n",
              "Input size (MB): 0.00\n",
              "Forward/backward pass size (MB): 0.01\n",
              "Params size (MB): 0.00\n",
              "Estimated Total Size (MB): 0.01\n",
              "=========================================================================================="
            ]
          },
          "metadata": {},
          "execution_count": 3
        }
      ],
      "source": [
        "model = nn.Sequential(\n",
        "    nn.Linear(7, 32),\n",
        "    nn.ReLU(),\n",
        "    nn.Linear(32, 1),\n",
        "    nn.Sigmoid()\n",
        ")\n",
        "\n",
        "# 모델 인스턴스 생성\n",
        "model = model.to(device)\n",
        "summary(model, (32, 7))"
      ]
    },
    {
      "cell_type": "markdown",
      "id": "6888ad9b",
      "metadata": {
        "id": "6888ad9b"
      },
      "source": [
        "## 04-003 nn.Module 기반 신경망 모델 구성"
      ]
    },
    {
      "cell_type": "code",
      "execution_count": null,
      "id": "95d47ec1",
      "metadata": {
        "colab": {
          "base_uri": "https://localhost:8080/"
        },
        "id": "95d47ec1",
        "outputId": "d32e3f1d-1779-4936-d6a5-0010052233ad"
      },
      "outputs": [
        {
          "output_type": "execute_result",
          "data": {
            "text/plain": [
              "==========================================================================================\n",
              "Layer (type:depth-idx)                   Output Shape              Param #\n",
              "==========================================================================================\n",
              "DNN                                      [32, 1]                   --\n",
              "├─Linear: 1-1                            [32, 32]                  256\n",
              "├─ReLU: 1-2                              [32, 32]                  --\n",
              "├─Linear: 1-3                            [32, 1]                   33\n",
              "├─Sigmoid: 1-4                           [32, 1]                   --\n",
              "==========================================================================================\n",
              "Total params: 289\n",
              "Trainable params: 289\n",
              "Non-trainable params: 0\n",
              "Total mult-adds (Units.MEGABYTES): 0.01\n",
              "==========================================================================================\n",
              "Input size (MB): 0.00\n",
              "Forward/backward pass size (MB): 0.01\n",
              "Params size (MB): 0.00\n",
              "Estimated Total Size (MB): 0.01\n",
              "=========================================================================================="
            ]
          },
          "metadata": {},
          "execution_count": 4
        }
      ],
      "source": [
        "class DNN(nn.Module):\n",
        "    def __init__(self):\n",
        "        super().__init__()\n",
        "        self.fc1 = nn.Linear(7, 32)\n",
        "        self.fc2 = nn.Linear(32, 1)\n",
        "        self.relu = nn.ReLU()\n",
        "        self.sigmoid = nn.Sigmoid()\n",
        "\n",
        "    def forward(self, x):\n",
        "        x = self.relu(self.fc1(x))\n",
        "        x = self.fc2(x)\n",
        "        x = self.sigmoid(x)\n",
        "        return x\n",
        "\n",
        "# 모델 인스턴스 생성\n",
        "model = DNN().to(device)\n",
        "summary(model, (32, 7))"
      ]
    },
    {
      "cell_type": "markdown",
      "metadata": {
        "id": "deefe689"
      },
      "source": [
        "## 연습문제-04-001 Sequential 방식으로 2차원 더미 데이터를 이용한 분류 모델 설계"
      ],
      "id": "deefe689"
    },
    {
      "cell_type": "code",
      "execution_count": null,
      "metadata": {
        "id": "ef1ecd2d"
      },
      "outputs": [],
      "source": [
        "# nn.Sequential을 사용하여 model2 정의\n",
        "model2 = nn.Sequential(\n",
        "# 1. 첫 번째 레이어는 nn.Linear(2, 32)로 입력 차원이 2이고 출력 차원이 32인 완전연결층을 사용.\n",
        "\n",
        "# 2. nn.ReLU()로 활성화 함수인 ReLU를 추가.\n",
        "\n",
        "# 3. 두 번째 레이어는 nn.Linear(32, 16)으로 입력 차원이 32, 출력 차원이 16인 완전연결층을 추가.\n",
        "\n",
        "# 4. 다시 nn.ReLU()로 활성화 함수 추가.\n",
        "\n",
        "# 5. 마지막 레이어는 nn.Linear(16, 3)으로 입력 차원이 16, 출력 차원이 3인 완전연결층을 추가.\n",
        "\n",
        ")\n",
        "model2"
      ],
      "id": "ef1ecd2d"
    },
    {
      "cell_type": "markdown",
      "metadata": {
        "id": "55fc51e3"
      },
      "source": [
        "## 연습문제-04-002 Module 방식으로 2차원 더미 데이터를 이용한 회귀 모델 설계"
      ],
      "id": "55fc51e3"
    },
    {
      "cell_type": "code",
      "execution_count": null,
      "metadata": {
        "id": "622da1fa"
      },
      "outputs": [],
      "source": [
        "# nn.Module을 상속받아 model3 정의\n",
        "\n",
        "class DNN(nn.Module):\n",
        "# 1. __init__ 메서드에서 세 개의 레이어(layer1, layer2, layer3)를 정의.\n",
        "#    각 레이어는 nn.Linear를 사용하여 정의되며, 첫 번째 레이어는 입력이 2차원, 출력이 64차원.\n",
        "# 2. 두 번째 레이어는 입력이 64차원, 출력이 32차원.\n",
        "# 3. 세 번째 레이어는 입력이 32차원, 출력이 1차원으로 회귀 문제에 맞게 설정.\n",
        "    def __init__(self):\n",
        "        super().__init__()\n",
        "\n",
        "\n",
        "\n",
        "\n",
        "# 4. forward 메서드에서 입력 데이터가 layer1 -> ReLU -> layer2 -> ReLU -> layer3 순으로 통과.\n",
        "#    마지막 출력은 회귀 문제이므로 활성화 함수 없이 그대로 반환.\n",
        "\n",
        "    def forward(self, x):\n",
        "\n",
        "\n",
        "model3 = DNN()\n",
        "model3"
      ],
      "id": "622da1fa"
    },
    {
      "cell_type": "markdown",
      "id": "5da6c64b",
      "metadata": {
        "id": "5da6c64b"
      },
      "source": [
        "## 04-004 모델 학습 함수 구현"
      ]
    },
    {
      "cell_type": "code",
      "execution_count": null,
      "id": "4bec3579",
      "metadata": {
        "id": "4bec3579"
      },
      "outputs": [],
      "source": [
        "def train(model, train_loader, criterion, optimizer, device):\n",
        "    model.train()  # 모델을 학습 모드로 설정\n",
        "\n",
        "    running_loss = 0.0 # 미니 배치별 loss값을 누적할 변수\n",
        "\n",
        "    for data, labels in train_loader: # 미니 배치 별 파라미터 업데이트 수행\n",
        "        data, labels = data.to(device), labels.to(device) # 미니 배치별 데이터와 레이블 장치 할당\n",
        "\n",
        "        # 순전파\n",
        "        outputs = model(data)\n",
        "\n",
        "        # 손실 계산\n",
        "        loss = criterion(outputs, labels)\n",
        "\n",
        "        # 기울기 초기화\n",
        "        optimizer.zero_grad()\n",
        "\n",
        "        # 역전파\n",
        "        loss.backward()\n",
        "\n",
        "        # 파라미터 업데이트\n",
        "        optimizer.step()\n",
        "\n",
        "        # 손실 누적\n",
        "        running_loss += loss.item()\n",
        "\n",
        "    # 현재 Epoch의 평균 손실 값 계산 및 반환\n",
        "    return running_loss / len(train_loader)"
      ]
    },
    {
      "cell_type": "markdown",
      "id": "c83df583",
      "metadata": {
        "id": "c83df583"
      },
      "source": [
        "## 04-005 모델 평가 함수 구현"
      ]
    },
    {
      "cell_type": "code",
      "execution_count": null,
      "id": "a4309773",
      "metadata": {
        "id": "a4309773"
      },
      "outputs": [],
      "source": [
        "# 평가 함수 정의\n",
        "def evaluate(model, test_loader, criterion, device):\n",
        "    model.eval()  # 모델을 평가 모드로 설정\n",
        "\n",
        "    running_loss = 0.0 # 미니 배치별 loss값을 누적할 변수\n",
        "\n",
        "    with torch.no_grad():  # 평가 중에는 기울기 계산을 하지 않음\n",
        "        for data, labels in test_loader: # 미니 배치 별 손실 계산\n",
        "            data, labels = data.to(device), labels.to(device) # 미니 배치별 데이터와 레이블 장치 할당\n",
        "\n",
        "            # 순전파\n",
        "            outputs = model(data)\n",
        "\n",
        "            # 손실 계산\n",
        "            loss = criterion(outputs, labels)\n",
        "\n",
        "            # 손실 누적\n",
        "            running_loss += loss.item()\n",
        "\n",
        "\n",
        "    # 현재 Epoch의 평균 손실 값 계산 및 반환\n",
        "    return running_loss / len(test_loader)"
      ]
    },
    {
      "cell_type": "markdown",
      "id": "4dc0232e",
      "metadata": {
        "id": "4dc0232e"
      },
      "source": [
        "## 04-006 손실 함수 및 옵티마이저 설정과 학습 수행"
      ]
    },
    {
      "cell_type": "code",
      "execution_count": null,
      "id": "56231e3e",
      "metadata": {
        "id": "56231e3e"
      },
      "outputs": [],
      "source": [
        "# 손실 함수와 옵티마이저 설정\n",
        "criterion = nn.BCELoss()  # 이진 분류를 위한 손실 함수\n",
        "optimizer = optim.Adam(model.parameters(), lr=0.01)  # Adam 옵티마이저"
      ]
    },
    {
      "cell_type": "markdown",
      "id": "2bb3cb2d",
      "metadata": {
        "id": "2bb3cb2d"
      },
      "source": [
        "## 04-007 학습 및 평가"
      ]
    },
    {
      "cell_type": "code",
      "execution_count": null,
      "id": "60453f7e",
      "metadata": {
        "colab": {
          "base_uri": "https://localhost:8080/"
        },
        "id": "60453f7e",
        "outputId": "2db14d7b-af3c-4058-f878-5694a509330f"
      },
      "outputs": [
        {
          "output_type": "stream",
          "name": "stdout",
          "text": [
            "Epoch 1 Train Loss : 0.5475287502226622 Test Loss : 0.44017305473486584\n",
            "Epoch 2 Train Loss : 0.47486700830252276 Test Loss : 0.4161064922809601\n",
            "Epoch 3 Train Loss : 0.43405582723410235 Test Loss : 0.42301158607006073\n",
            "Epoch 4 Train Loss : 0.4239591787690702 Test Loss : 0.41833104689915973\n",
            "Epoch 5 Train Loss : 0.4211328807084457 Test Loss : 0.42267145216464996\n",
            "Epoch 6 Train Loss : 0.41095226484796277 Test Loss : 0.4322858303785324\n",
            "Epoch 7 Train Loss : 0.40513375919798145 Test Loss : 0.4365088889996211\n",
            "Epoch 8 Train Loss : 0.41523405132086383 Test Loss : 0.43087856471538544\n",
            "Epoch 9 Train Loss : 0.39920774620512256 Test Loss : 0.42847346762816113\n",
            "Epoch 10 Train Loss : 0.393266626674196 Test Loss : 0.4360625644524892\n",
            "Epoch 11 Train Loss : 0.3967160621415014 Test Loss : 0.43834692736466724\n",
            "Epoch 12 Train Loss : 0.3982566297054291 Test Loss : 0.430141215523084\n",
            "Epoch 13 Train Loss : 0.39054965195448504 Test Loss : 0.45014460881551105\n",
            "Epoch 14 Train Loss : 0.38892644967721857 Test Loss : 0.43911558389663696\n",
            "Epoch 15 Train Loss : 0.38273268678913946 Test Loss : 0.4432821273803711\n",
            "Epoch 16 Train Loss : 0.39365596421386884 Test Loss : 0.4454156259695689\n",
            "Epoch 17 Train Loss : 0.3844509163628454 Test Loss : 0.4464021176099777\n",
            "Epoch 18 Train Loss : 0.3935161485620167 Test Loss : 0.45026683807373047\n",
            "Epoch 19 Train Loss : 0.38503181092117145 Test Loss : 0.4520816703637441\n",
            "Epoch 20 Train Loss : 0.3868566835704057 Test Loss : 0.4461031158765157\n",
            "Epoch 21 Train Loss : 0.37843140894952026 Test Loss : 0.44771604736646015\n",
            "Epoch 22 Train Loss : 0.3861312509878822 Test Loss : 0.4449092745780945\n",
            "Epoch 23 Train Loss : 0.3799374829167905 Test Loss : 0.4434978465239207\n",
            "Epoch 24 Train Loss : 0.37100305829359137 Test Loss : 0.44507622718811035\n",
            "Epoch 25 Train Loss : 0.3686809513879859 Test Loss : 0.4540299375851949\n",
            "Epoch 26 Train Loss : 0.37532311289206793 Test Loss : 0.4432222644488017\n",
            "Epoch 27 Train Loss : 0.3687571811935176 Test Loss : 0.448498656352361\n",
            "Epoch 28 Train Loss : 0.37818539790485217 Test Loss : 0.4560403525829315\n",
            "Epoch 29 Train Loss : 0.36738069549850794 Test Loss : 0.45038147767384845\n",
            "Epoch 30 Train Loss : 0.3731722741023354 Test Loss : 0.4477656235297521\n",
            "Epoch 31 Train Loss : 0.3730013124320818 Test Loss : 0.44766731560230255\n",
            "Epoch 32 Train Loss : 0.38297597286493884 Test Loss : 0.45523305237293243\n",
            "Epoch 33 Train Loss : 0.36625619103079254 Test Loss : 0.43855521082878113\n",
            "Epoch 34 Train Loss : 0.3700650833223177 Test Loss : 0.448818638920784\n",
            "Epoch 35 Train Loss : 0.37327084657938586 Test Loss : 0.4539659519990285\n",
            "Epoch 36 Train Loss : 0.3710092675426732 Test Loss : 0.4602404187122981\n",
            "Epoch 37 Train Loss : 0.37370950825836347 Test Loss : 0.45126492778460187\n",
            "Epoch 38 Train Loss : 0.3736797422170639 Test Loss : 0.4537157068649928\n",
            "Epoch 39 Train Loss : 0.3595949502094932 Test Loss : 0.44929297765096027\n",
            "Epoch 40 Train Loss : 0.37245344338209735 Test Loss : 0.45763976375261944\n",
            "Epoch 41 Train Loss : 0.35945795735587244 Test Loss : 0.45955609281857807\n",
            "Epoch 42 Train Loss : 0.37707898215107294 Test Loss : 0.4730481803417206\n",
            "Epoch 43 Train Loss : 0.3792541169601938 Test Loss : 0.4550012946128845\n",
            "Epoch 44 Train Loss : 0.3709395333476689 Test Loss : 0.45879076917966205\n",
            "Epoch 45 Train Loss : 0.3624219369629155 Test Loss : 0.4523518681526184\n",
            "Epoch 46 Train Loss : 0.3751807329447373 Test Loss : 0.46395381291707355\n",
            "Epoch 47 Train Loss : 0.3686871463837831 Test Loss : 0.45592890679836273\n",
            "Epoch 48 Train Loss : 0.3617655641358832 Test Loss : 0.46510856846968335\n",
            "Epoch 49 Train Loss : 0.3699001792980277 Test Loss : 0.45437319080034894\n",
            "Epoch 50 Train Loss : 0.36870675501616107 Test Loss : 0.4558982203404109\n",
            "Epoch 51 Train Loss : 0.3550199479188608 Test Loss : 0.46242094536622363\n",
            "Epoch 52 Train Loss : 0.37329554557800293 Test Loss : 0.4592593510945638\n",
            "Epoch 53 Train Loss : 0.37584307141925977 Test Loss : 0.4604599078496297\n",
            "Epoch 54 Train Loss : 0.3763138859168343 Test Loss : 0.4656100422143936\n",
            "Epoch 55 Train Loss : 0.36405404106430383 Test Loss : 0.46328865985075635\n",
            "Epoch 56 Train Loss : 0.3642570136681847 Test Loss : 0.4628312587738037\n",
            "Epoch 57 Train Loss : 0.36300279783165973 Test Loss : 0.4608321289221446\n",
            "Epoch 58 Train Loss : 0.35500314637370733 Test Loss : 0.4597609390815099\n",
            "Epoch 59 Train Loss : 0.36532211886799854 Test Loss : 0.46261335412661236\n",
            "Epoch 60 Train Loss : 0.35972798907238507 Test Loss : 0.46076567471027374\n",
            "Epoch 61 Train Loss : 0.3612740279539772 Test Loss : 0.4617117295662562\n",
            "Epoch 62 Train Loss : 0.3664664742739304 Test Loss : 0.4602762113014857\n",
            "Epoch 63 Train Loss : 0.35189672721468884 Test Loss : 0.47734303772449493\n",
            "Epoch 64 Train Loss : 0.3618061179700105 Test Loss : 0.4614846259355545\n",
            "Epoch 65 Train Loss : 0.36106180950351385 Test Loss : 0.46457358201344806\n",
            "Epoch 66 Train Loss : 0.3732302065776742 Test Loss : 0.4703034857908885\n",
            "Epoch 67 Train Loss : 0.3591064998637075 Test Loss : 0.4670640379190445\n",
            "Epoch 68 Train Loss : 0.35481609598450037 Test Loss : 0.4648243139187495\n",
            "Epoch 69 Train Loss : 0.3599828216044799 Test Loss : 0.4768778781096141\n",
            "Epoch 70 Train Loss : 0.34960822890634125 Test Loss : 0.46976974606513977\n",
            "Epoch 71 Train Loss : 0.3564550416625064 Test Loss : 0.46973929305871326\n",
            "Epoch 72 Train Loss : 0.3578431379535924 Test Loss : 0.465852826833725\n",
            "Epoch 73 Train Loss : 0.3499166583237441 Test Loss : 0.4846848100423813\n",
            "Epoch 74 Train Loss : 0.36705839115640393 Test Loss : 0.47184836367766064\n",
            "Epoch 75 Train Loss : 0.3678821066151495 Test Loss : 0.481155792872111\n",
            "Epoch 76 Train Loss : 0.3543766976698585 Test Loss : 0.4765100081761678\n",
            "Epoch 77 Train Loss : 0.3736262055842773 Test Loss : 0.4585939397414525\n",
            "Epoch 78 Train Loss : 0.3779532112505125 Test Loss : 0.4718695531288783\n",
            "Epoch 79 Train Loss : 0.3573838128991749 Test Loss : 0.4615006744861603\n",
            "Epoch 80 Train Loss : 0.3626406341791153 Test Loss : 0.4578004330396652\n",
            "Epoch 81 Train Loss : 0.3444459425366443 Test Loss : 0.46442587673664093\n",
            "Epoch 82 Train Loss : 0.3575545115315396 Test Loss : 0.4709717233975728\n",
            "Epoch 83 Train Loss : 0.3460911097733871 Test Loss : 0.4673559019962947\n",
            "Epoch 84 Train Loss : 0.3649728583252948 Test Loss : 0.45688621203104657\n",
            "Epoch 85 Train Loss : 0.34751903751622076 Test Loss : 0.47452204426129657\n",
            "Epoch 86 Train Loss : 0.3508235267970873 Test Loss : 0.46912172933419544\n",
            "Epoch 87 Train Loss : 0.34741148093472357 Test Loss : 0.46813947955767315\n",
            "Epoch 88 Train Loss : 0.34177950154180115 Test Loss : 0.4663507541020711\n",
            "Epoch 89 Train Loss : 0.34810567938763165 Test Loss : 0.46095501879851025\n",
            "Epoch 90 Train Loss : 0.34321332107419555 Test Loss : 0.4776102503140767\n",
            "Epoch 91 Train Loss : 0.35241642529549805 Test Loss : 0.4656053086121877\n",
            "Epoch 92 Train Loss : 0.359809266484302 Test Loss : 0.48363564908504486\n",
            "Epoch 93 Train Loss : 0.34497786799202795 Test Loss : 0.46341821054617566\n",
            "Epoch 94 Train Loss : 0.34127896149521286 Test Loss : 0.4682127734025319\n",
            "Epoch 95 Train Loss : 0.37094744651213934 Test Loss : 0.47907596329847973\n",
            "Epoch 96 Train Loss : 0.36695774029130523 Test Loss : 0.4627145280440648\n",
            "Epoch 97 Train Loss : 0.36850103800711426 Test Loss : 0.46496622761090595\n",
            "Epoch 98 Train Loss : 0.36181202142134955 Test Loss : 0.4727822244167328\n",
            "Epoch 99 Train Loss : 0.3474954956251642 Test Loss : 0.4627468188603719\n",
            "Epoch 100 Train Loss : 0.3712445814972338 Test Loss : 0.46590758860111237\n"
          ]
        }
      ],
      "source": [
        "train_losses = []\n",
        "test_losses = []\n",
        "\n",
        "# 학습 횟수 만큼 반복\n",
        "for epoch in range(100):\n",
        "\n",
        "    # 모델 학습(학습데이터)\n",
        "    train_loss = train(model, train_loader, criterion, optimizer, device)\n",
        "    train_losses.append(train_loss)\n",
        "\n",
        "    # 모델 평가 (평가데이터)\n",
        "    test_loss = evaluate(model, test_loader, criterion, device)\n",
        "    test_losses.append(test_loss)\n",
        "\n",
        "    print(f'Epoch {epoch+1} Train Loss : {train_loss} Test Loss : {test_loss}')"
      ]
    },
    {
      "cell_type": "code",
      "execution_count": null,
      "id": "1ba9b71d-0833-4f89-bf3d-31c298e9d39f",
      "metadata": {
        "colab": {
          "base_uri": "https://localhost:8080/",
          "height": 387
        },
        "id": "1ba9b71d-0833-4f89-bf3d-31c298e9d39f",
        "outputId": "73d55002-b319-4221-ae1c-86af9d45e215"
      },
      "outputs": [
        {
          "output_type": "display_data",
          "data": {
            "text/plain": [
              "<Figure size 1200x500 with 1 Axes>"
            ],
            "image/png": "[encoded data removed]"
          },
          "metadata": {}
        }
      ],
      "source": [
        "plot_training_results(train_losses, test_losses)"
      ]
    },
    {
      "cell_type": "markdown",
      "id": "98743a9d",
      "metadata": {
        "id": "98743a9d"
      },
      "source": [
        "## 04-008 드롭아웃을 포함한 모델 클래스 구현"
      ]
    },
    {
      "cell_type": "code",
      "execution_count": null,
      "id": "50f93839",
      "metadata": {
        "colab": {
          "base_uri": "https://localhost:8080/"
        },
        "id": "50f93839",
        "outputId": "f9d0753e-54e8-4351-8b01-b370dc5eaf06"
      },
      "outputs": [
        {
          "output_type": "execute_result",
          "data": {
            "text/plain": [
              "==========================================================================================\n",
              "Layer (type:depth-idx)                   Output Shape              Param #\n",
              "==========================================================================================\n",
              "DNN                                      [32, 1]                   --\n",
              "├─Linear: 1-1                            [32, 32]                  256\n",
              "├─ReLU: 1-2                              [32, 32]                  --\n",
              "├─Dropout: 1-3                           [32, 32]                  --\n",
              "├─Linear: 1-4                            [32, 1]                   33\n",
              "├─Sigmoid: 1-5                           [32, 1]                   --\n",
              "==========================================================================================\n",
              "Total params: 289\n",
              "Trainable params: 289\n",
              "Non-trainable params: 0\n",
              "Total mult-adds (Units.MEGABYTES): 0.01\n",
              "==========================================================================================\n",
              "Input size (MB): 0.00\n",
              "Forward/backward pass size (MB): 0.01\n",
              "Params size (MB): 0.00\n",
              "Estimated Total Size (MB): 0.01\n",
              "=========================================================================================="
            ]
          },
          "metadata": {},
          "execution_count": 10
        }
      ],
      "source": [
        "# 신경망 모델 정의 (Dropout 포함)\n",
        "class DNN(nn.Module):\n",
        "    def __init__(self):\n",
        "        super().__init__()\n",
        "        self.fc1 = nn.Linear(7, 32)\n",
        "        self.fc2 = nn.Linear(32, 1)\n",
        "        self.dropout = nn.Dropout(0.1)  # 10%의 드롭아웃 적용\n",
        "        self.relu = nn.ReLU()\n",
        "        self.sigmoid = nn.Sigmoid()\n",
        "\n",
        "    def forward(self, x):\n",
        "        x = self.relu(self.fc1(x))\n",
        "        x = self.dropout(x)  # 첫 번째 은닉층 뒤에 드롭아웃 적용\n",
        "        x = self.fc2(x)  # 출력층에는 드롭아웃을 사용하지 않음\n",
        "        x = self.sigmoid(x)\n",
        "        return x\n",
        "\n",
        "# 모델 인스턴스화\n",
        "model = DNN().to(device)\n",
        "summary(model, (32, 7))"
      ]
    },
    {
      "cell_type": "markdown",
      "id": "20ece524",
      "metadata": {
        "id": "20ece524"
      },
      "source": [
        "## 04-009 손실 함수 및 옵티마이저 설정과 학습 수행"
      ]
    },
    {
      "cell_type": "code",
      "execution_count": null,
      "id": "d99d27db",
      "metadata": {
        "colab": {
          "base_uri": "https://localhost:8080/"
        },
        "id": "d99d27db",
        "outputId": "e6a98709-7a6b-41b9-e434-36e60bf4635e"
      },
      "outputs": [
        {
          "output_type": "stream",
          "name": "stdout",
          "text": [
            "Epoch 1 Train Loss : 0.5604351305443308 Test Loss : 0.45252954463164013\n",
            "Epoch 2 Train Loss : 0.4530312963154005 Test Loss : 0.4099020759264628\n",
            "Epoch 3 Train Loss : 0.4389123437197312 Test Loss : 0.4168429970741272\n",
            "Epoch 4 Train Loss : 0.43768767170284106 Test Loss : 0.41487446924050647\n",
            "Epoch 5 Train Loss : 0.4397811798945717 Test Loss : 0.4189778467019399\n",
            "Epoch 6 Train Loss : 0.41025463264921436 Test Loss : 0.42301146189371747\n",
            "Epoch 7 Train Loss : 0.4019068745167359 Test Loss : 0.4300115058819453\n",
            "Epoch 8 Train Loss : 0.4019770301554514 Test Loss : 0.4329047252734502\n",
            "Epoch 9 Train Loss : 0.39922471927559894 Test Loss : 0.4395723044872284\n",
            "Epoch 10 Train Loss : 0.39349468570688495 Test Loss : 0.435676430662473\n",
            "Epoch 11 Train Loss : 0.4178562643735305 Test Loss : 0.44030443330605823\n",
            "Epoch 12 Train Loss : 0.4020966641280962 Test Loss : 0.43735181788603467\n",
            "Epoch 13 Train Loss : 0.40459179683871893 Test Loss : 0.4359259307384491\n",
            "Epoch 14 Train Loss : 0.41546760693840357 Test Loss : 0.4462856551011403\n",
            "Epoch 15 Train Loss : 0.39482632279396057 Test Loss : 0.4523391127586365\n",
            "Epoch 16 Train Loss : 0.3877001906866613 Test Loss : 0.45266855756441754\n",
            "Epoch 17 Train Loss : 0.39895668496256287 Test Loss : 0.44779719909032184\n",
            "Epoch 18 Train Loss : 0.3878498381894568 Test Loss : 0.44914742807547253\n",
            "Epoch 19 Train Loss : 0.3936251414858777 Test Loss : 0.4471125404040019\n",
            "Epoch 20 Train Loss : 0.3990634990775067 Test Loss : 0.45291924476623535\n",
            "Epoch 21 Train Loss : 0.3942276401364285 Test Loss : 0.44905303915341693\n",
            "Epoch 22 Train Loss : 0.3955287849125655 Test Loss : 0.447664072116216\n",
            "Epoch 23 Train Loss : 0.3881316256263982 Test Loss : 0.4538685927788417\n",
            "Epoch 24 Train Loss : 0.3857488411924113 Test Loss : 0.4459763964017232\n",
            "Epoch 25 Train Loss : 0.3931889948637589 Test Loss : 0.44859710335731506\n",
            "Epoch 26 Train Loss : 0.3873557694580244 Test Loss : 0.4541826943556468\n",
            "Epoch 27 Train Loss : 0.37541884961335553 Test Loss : 0.45082879563172656\n",
            "Epoch 28 Train Loss : 0.3783225177422814 Test Loss : 0.45676620801289874\n",
            "Epoch 29 Train Loss : 0.3914708683024282 Test Loss : 0.456951101620992\n",
            "Epoch 30 Train Loss : 0.39554288594619086 Test Loss : 0.45242326458295185\n",
            "Epoch 31 Train Loss : 0.384228364928909 Test Loss : 0.4516567935546239\n",
            "Epoch 32 Train Loss : 0.36936812880246533 Test Loss : 0.4566141019264857\n",
            "Epoch 33 Train Loss : 0.379719988807388 Test Loss : 0.4527580092350642\n",
            "Epoch 34 Train Loss : 0.36915004901264026 Test Loss : 0.45302476982275647\n",
            "Epoch 35 Train Loss : 0.38070186648679816 Test Loss : 0.45486154158910114\n",
            "Epoch 36 Train Loss : 0.37578924194626184 Test Loss : 0.45400871833165485\n",
            "Epoch 37 Train Loss : 0.37466531020143756 Test Loss : 0.44745346407095593\n",
            "Epoch 38 Train Loss : 0.3861760535965795 Test Loss : 0.45371677974859875\n",
            "Epoch 39 Train Loss : 0.4089127351408419 Test Loss : 0.447753647963206\n",
            "Epoch 40 Train Loss : 0.3916031932053359 Test Loss : 0.4623454511165619\n",
            "Epoch 41 Train Loss : 0.3791891725166984 Test Loss : 0.45544781784216565\n",
            "Epoch 42 Train Loss : 0.3895765355099802 Test Loss : 0.447771891951561\n",
            "Epoch 43 Train Loss : 0.379954752066861 Test Loss : 0.44495488703250885\n",
            "Epoch 44 Train Loss : 0.37864081885503686 Test Loss : 0.45391542712847394\n",
            "Epoch 45 Train Loss : 0.38458685058614483 Test Loss : 0.45918114980061847\n",
            "Epoch 46 Train Loss : 0.37637276882710663 Test Loss : 0.46107477446397144\n",
            "Epoch 47 Train Loss : 0.3872489611739698 Test Loss : 0.4658460120360057\n",
            "Epoch 48 Train Loss : 0.3780016303062439 Test Loss : 0.4543710599342982\n",
            "Epoch 49 Train Loss : 0.3654190509215645 Test Loss : 0.4539508918921153\n",
            "Epoch 50 Train Loss : 0.3832148041414178 Test Loss : 0.4702862699826558\n",
            "Epoch 51 Train Loss : 0.37842231405817944 Test Loss : 0.4743678867816925\n",
            "Epoch 52 Train Loss : 0.3804071150396181 Test Loss : 0.46292998890082043\n",
            "Epoch 53 Train Loss : 0.37249985823164816 Test Loss : 0.47526023785273236\n",
            "Epoch 54 Train Loss : 0.36618180184260657 Test Loss : 0.4576554596424103\n",
            "Epoch 55 Train Loss : 0.3679329189269439 Test Loss : 0.4623430122931798\n",
            "Epoch 56 Train Loss : 0.37317282803680585 Test Loss : 0.46728651722272235\n",
            "Epoch 57 Train Loss : 0.380869227906932 Test Loss : 0.46459966401259106\n",
            "Epoch 58 Train Loss : 0.37355603407258575 Test Loss : 0.4645550101995468\n",
            "Epoch 59 Train Loss : 0.3884283537450044 Test Loss : 0.46556663513183594\n",
            "Epoch 60 Train Loss : 0.3758839731631072 Test Loss : 0.46579726537068683\n",
            "Epoch 61 Train Loss : 0.3737930214923361 Test Loss : 0.4598611791928609\n",
            "Epoch 62 Train Loss : 0.3720267518706944 Test Loss : 0.4623502691586812\n",
            "Epoch 63 Train Loss : 0.3740995344908341 Test Loss : 0.45974058906237286\n",
            "Epoch 64 Train Loss : 0.3668488072960273 Test Loss : 0.4603177358706792\n",
            "Epoch 65 Train Loss : 0.36247343537600146 Test Loss : 0.46527038017908734\n",
            "Epoch 66 Train Loss : 0.3754430108744165 Test Loss : 0.4643081873655319\n",
            "Epoch 67 Train Loss : 0.3595553986404253 Test Loss : 0.4661663919687271\n",
            "Epoch 68 Train Loss : 0.38198186198006506 Test Loss : 0.46775112052758533\n",
            "Epoch 69 Train Loss : 0.3694707433814588 Test Loss : 0.47588691115379333\n",
            "Epoch 70 Train Loss : 0.3601579947964005 Test Loss : 0.4705073336760203\n",
            "Epoch 71 Train Loss : 0.38384001410525775 Test Loss : 0.47120120624701184\n",
            "Epoch 72 Train Loss : 0.36726427985274274 Test Loss : 0.47353485226631165\n",
            "Epoch 73 Train Loss : 0.3613209413445514 Test Loss : 0.466215913494428\n",
            "Epoch 74 Train Loss : 0.3703005637811578 Test Loss : 0.46856073041756946\n",
            "Epoch 75 Train Loss : 0.37273356124110846 Test Loss : 0.4642876336971919\n",
            "Epoch 76 Train Loss : 0.35978433878525445 Test Loss : 0.46928203105926514\n",
            "Epoch 77 Train Loss : 0.37107361334821454 Test Loss : 0.4636834959189097\n",
            "Epoch 78 Train Loss : 0.35287073319372925 Test Loss : 0.47882036368052167\n",
            "Epoch 79 Train Loss : 0.3704515067131623 Test Loss : 0.4740751037995021\n",
            "Epoch 80 Train Loss : 0.35732721569745435 Test Loss : 0.4664534032344818\n",
            "Epoch 81 Train Loss : 0.36181652545928955 Test Loss : 0.46992553770542145\n",
            "Epoch 82 Train Loss : 0.3553599080313807 Test Loss : 0.47614317138989765\n",
            "Epoch 83 Train Loss : 0.38252216966255853 Test Loss : 0.47957027951876324\n",
            "Epoch 84 Train Loss : 0.37292312215203827 Test Loss : 0.46813219288984936\n",
            "Epoch 85 Train Loss : 0.3549536829409392 Test Loss : 0.4605390131473541\n",
            "Epoch 86 Train Loss : 0.36188988452372345 Test Loss : 0.46790847678979236\n",
            "Epoch 87 Train Loss : 0.3580562122490095 Test Loss : 0.47763173282146454\n",
            "Epoch 88 Train Loss : 0.37525884029657947 Test Loss : 0.47561412552992505\n",
            "Epoch 89 Train Loss : 0.3973642496959023 Test Loss : 0.4671572844187419\n",
            "Epoch 90 Train Loss : 0.3699801188448201 Test Loss : 0.4606502999862035\n",
            "Epoch 91 Train Loss : 0.3679555822973666 Test Loss : 0.4609273821115494\n",
            "Epoch 92 Train Loss : 0.3584372103214264 Test Loss : 0.4655540386835734\n",
            "Epoch 93 Train Loss : 0.37855223274749256 Test Loss : 0.46203796068827313\n",
            "Epoch 94 Train Loss : 0.3766776647256768 Test Loss : 0.47291270395119983\n",
            "Epoch 95 Train Loss : 0.38167886500773224 Test Loss : 0.4736637473106384\n",
            "Epoch 96 Train Loss : 0.3699464616568192 Test Loss : 0.4747675955295563\n",
            "Epoch 97 Train Loss : 0.36203759196011914 Test Loss : 0.47617291907469433\n",
            "Epoch 98 Train Loss : 0.3651202781044919 Test Loss : 0.48054549594720203\n",
            "Epoch 99 Train Loss : 0.3563439437876577 Test Loss : 0.47570235033830005\n",
            "Epoch 100 Train Loss : 0.37218378678612085 Test Loss : 0.4734615037838618\n"
          ]
        }
      ],
      "source": [
        "criterion = nn.BCELoss()  # 다중 클래스 분류를 위한 손실 함수\n",
        "optimizer = optim.Adam(model.parameters(), lr=0.01)  # Adam 옵티마이저\n",
        "\n",
        "train_losses = []\n",
        "test_losses = []\n",
        "\n",
        "# 학습 횟수 만큼 반복\n",
        "for epoch in range(100):\n",
        "\n",
        "    # 모델 학습(학습데이터)\n",
        "    train_loss = train(model, train_loader, criterion, optimizer, device)\n",
        "    train_losses.append(train_loss)\n",
        "\n",
        "    # 모델 평가 (평가데이터)\n",
        "    test_loss = evaluate(model, test_loader, criterion, device)\n",
        "    test_losses.append(test_loss)\n",
        "\n",
        "    print(f'Epoch {epoch+1} Train Loss : {train_loss} Test Loss : {test_loss}')"
      ]
    },
    {
      "cell_type": "code",
      "execution_count": null,
      "id": "86af15a0-5bcf-4eb5-8d12-fdfab70865dc",
      "metadata": {
        "colab": {
          "base_uri": "https://localhost:8080/",
          "height": 387
        },
        "id": "86af15a0-5bcf-4eb5-8d12-fdfab70865dc",
        "outputId": "76259907-1a87-4420-bf9f-fc94448f9d8f"
      },
      "outputs": [
        {
          "output_type": "display_data",
          "data": {
            "text/plain": [
              "<Figure size 1200x500 with 1 Axes>"
            ],
            "image/png": "[encoded data removed]"
          },
          "metadata": {}
        }
      ],
      "source": [
        "plot_training_results(train_losses, test_losses)"
      ]
    },
    {
      "cell_type": "markdown",
      "id": "45d12769",
      "metadata": {
        "id": "45d12769"
      },
      "source": [
        "## 04-010 L2 정칙화를 위한 옵티마이저 설정"
      ]
    },
    {
      "cell_type": "code",
      "execution_count": null,
      "id": "5ad19821",
      "metadata": {
        "id": "5ad19821"
      },
      "outputs": [],
      "source": [
        "# L2 정칙화를 위한 옵티마이저 설정 (weight_decay가 L2 정칙화)\n",
        "optimizer = torch.optim.SGD(model.parameters(), lr=0.01, weight_decay=0.001)"
      ]
    },
    {
      "cell_type": "markdown",
      "id": "4e2099f8",
      "metadata": {
        "id": "4e2099f8"
      },
      "source": [
        "## 04-011 Batch Normalization 및 Dropout 포함 모델 정의"
      ]
    },
    {
      "cell_type": "code",
      "execution_count": null,
      "id": "5046a2ed",
      "metadata": {
        "colab": {
          "base_uri": "https://localhost:8080/"
        },
        "id": "5046a2ed",
        "outputId": "e918bcef-54a4-45aa-da9b-9c822a4250e4"
      },
      "outputs": [
        {
          "output_type": "execute_result",
          "data": {
            "text/plain": [
              "==========================================================================================\n",
              "Layer (type:depth-idx)                   Output Shape              Param #\n",
              "==========================================================================================\n",
              "DNN                                      [32, 1]                   --\n",
              "├─Linear: 1-1                            [32, 32]                  256\n",
              "├─BatchNorm1d: 1-2                       [32, 32]                  64\n",
              "├─ReLU: 1-3                              [32, 32]                  --\n",
              "├─Dropout: 1-4                           [32, 32]                  --\n",
              "├─Linear: 1-5                            [32, 1]                   33\n",
              "├─Sigmoid: 1-6                           [32, 1]                   --\n",
              "==========================================================================================\n",
              "Total params: 353\n",
              "Trainable params: 353\n",
              "Non-trainable params: 0\n",
              "Total mult-adds (Units.MEGABYTES): 0.01\n",
              "==========================================================================================\n",
              "Input size (MB): 0.00\n",
              "Forward/backward pass size (MB): 0.02\n",
              "Params size (MB): 0.00\n",
              "Estimated Total Size (MB): 0.02\n",
              "=========================================================================================="
            ]
          },
          "metadata": {},
          "execution_count": 14
        }
      ],
      "source": [
        "# 신경망 모델 정의 (Batch Normalization 및 Dropout 포함)\n",
        "class DNN(nn.Module):\n",
        "    def __init__(self):\n",
        "        super().__init__()\n",
        "        self.fc1 = nn.Linear(7, 32)\n",
        "        self.bn1 = nn.BatchNorm1d(32)  # 첫 번째 배치 정규화 레이어\n",
        "        self.fc2 = nn.Linear(32, 1)\n",
        "        self.dropout = nn.Dropout(0.1)  # 10%의 드롭아웃 적용\n",
        "        self.relu = nn.ReLU()\n",
        "        self.sigmoid = nn.Sigmoid()\n",
        "\n",
        "    def forward(self, x):\n",
        "        x = self.relu(self.bn1(self.fc1(x)))  # 첫 번째 배치 정규화 + ReLU\n",
        "        x = self.dropout(x)  # 드롭아웃 적용\n",
        "        x = self.fc2(x)  # 출력층에는 배치 정규화 및 드롭아웃을 사용하지 않음\n",
        "        x = self.sigmoid(x)\n",
        "        return x\n",
        "\n",
        "# 모델 인스턴스화\n",
        "model = DNN().to(device)\n",
        "summary(model, (32, 7))"
      ]
    },
    {
      "cell_type": "markdown",
      "id": "f2714025",
      "metadata": {
        "id": "f2714025"
      },
      "source": [
        "## 04-012 손실 함수 및 옵티마이저 설정과 학습 수행"
      ]
    },
    {
      "cell_type": "code",
      "execution_count": null,
      "id": "6c5076dc",
      "metadata": {
        "colab": {
          "base_uri": "https://localhost:8080/"
        },
        "id": "6c5076dc",
        "outputId": "11250c76-99f7-4a99-9b93-d0665a77797c"
      },
      "outputs": [
        {
          "output_type": "stream",
          "name": "stdout",
          "text": [
            "Epoch 1 Train Loss : 0.5554088937199634 Test Loss : 0.4516851305961609\n",
            "Epoch 2 Train Loss : 0.4700101212314937 Test Loss : 0.4195525497198105\n",
            "Epoch 3 Train Loss : 0.44249218378377997 Test Loss : 0.42212864259878796\n",
            "Epoch 4 Train Loss : 0.433242952046187 Test Loss : 0.4157613863547643\n",
            "Epoch 5 Train Loss : 0.4185817293498827 Test Loss : 0.417694553732872\n",
            "Epoch 6 Train Loss : 0.42272668817768927 Test Loss : 0.4229264756043752\n",
            "Epoch 7 Train Loss : 0.42505497064279474 Test Loss : 0.42674070099989575\n",
            "Epoch 8 Train Loss : 0.411442624486011 Test Loss : 0.427005132039388\n",
            "Epoch 9 Train Loss : 0.43662600737550983 Test Loss : 0.4306142528851827\n",
            "Epoch 10 Train Loss : 0.4229395875464315 Test Loss : 0.4369753450155258\n",
            "Epoch 11 Train Loss : 0.4267825354700503 Test Loss : 0.4354125012954076\n",
            "Epoch 12 Train Loss : 0.4131208748921104 Test Loss : 0.4372180203596751\n",
            "Epoch 13 Train Loss : 0.44698653726474097 Test Loss : 0.4396891991297404\n",
            "Epoch 14 Train Loss : 0.41625112295150757 Test Loss : 0.4270252287387848\n",
            "Epoch 15 Train Loss : 0.41914156597593555 Test Loss : 0.42382969458897907\n",
            "Epoch 16 Train Loss : 0.445786055015481 Test Loss : 0.43808136383692425\n",
            "Epoch 17 Train Loss : 0.40170970688695495 Test Loss : 0.4416507234176\n",
            "Epoch 18 Train Loss : 0.40562031191328296 Test Loss : 0.4449949065844218\n",
            "Epoch 19 Train Loss : 0.4153546593759371 Test Loss : 0.4491946945587794\n",
            "Epoch 20 Train Loss : 0.4111237538897473 Test Loss : 0.4387025833129883\n",
            "Epoch 21 Train Loss : 0.39489034984422766 Test Loss : 0.4325367858012517\n",
            "Epoch 22 Train Loss : 0.4058966494124869 Test Loss : 0.4321793516476949\n",
            "Epoch 23 Train Loss : 0.40673443804616516 Test Loss : 0.4432690739631653\n",
            "Epoch 24 Train Loss : 0.40241951041895413 Test Loss : 0.44976089894771576\n",
            "Epoch 25 Train Loss : 0.4055469703415166 Test Loss : 0.44045662383238476\n",
            "Epoch 26 Train Loss : 0.418578274871992 Test Loss : 0.4402444312969844\n",
            "Epoch 27 Train Loss : 0.4094881570857504 Test Loss : 0.436280017097791\n",
            "Epoch 28 Train Loss : 0.4230043713165366 Test Loss : 0.432080681125323\n",
            "Epoch 29 Train Loss : 0.4192016649505366 Test Loss : 0.43935793141524\n",
            "Epoch 30 Train Loss : 0.4156787764766942 Test Loss : 0.43382897476355237\n",
            "Epoch 31 Train Loss : 0.40737629455068836 Test Loss : 0.4339212228854497\n",
            "Epoch 32 Train Loss : 0.39921076530995575 Test Loss : 0.43990814685821533\n",
            "Epoch 33 Train Loss : 0.3883349752944449 Test Loss : 0.449299822251002\n",
            "Epoch 34 Train Loss : 0.40454673767089844 Test Loss : 0.45113176107406616\n",
            "Epoch 35 Train Loss : 0.4096858015526896 Test Loss : 0.44223451614379883\n",
            "Epoch 36 Train Loss : 0.3990447741487752 Test Loss : 0.43480656544367474\n",
            "Epoch 37 Train Loss : 0.4234612156515536 Test Loss : 0.45283561448256177\n",
            "Epoch 38 Train Loss : 0.3979775782512582 Test Loss : 0.44091200828552246\n",
            "Epoch 39 Train Loss : 0.41276138437830884 Test Loss : 0.4398199220498403\n",
            "Epoch 40 Train Loss : 0.4111593028773432 Test Loss : 0.4406660149494807\n",
            "Epoch 41 Train Loss : 0.4064280377781909 Test Loss : 0.4378467599550883\n",
            "Epoch 42 Train Loss : 0.3893784951904546 Test Loss : 0.43646922210852307\n",
            "Epoch 43 Train Loss : 0.4017182789419008 Test Loss : 0.4408194025357564\n",
            "Epoch 44 Train Loss : 0.40398841059726215 Test Loss : 0.43315383791923523\n",
            "Epoch 45 Train Loss : 0.39193223935106525 Test Loss : 0.44093794127305347\n",
            "Epoch 46 Train Loss : 0.40537815119909204 Test Loss : 0.4405875851710637\n",
            "Epoch 47 Train Loss : 0.4039008743737055 Test Loss : 0.43950243790944415\n",
            "Epoch 48 Train Loss : 0.3949359681295312 Test Loss : 0.44351913034915924\n",
            "Epoch 49 Train Loss : 0.42012119163637573 Test Loss : 0.4408652037382126\n",
            "Epoch 50 Train Loss : 0.3831136835658032 Test Loss : 0.4374831865231196\n",
            "Epoch 51 Train Loss : 0.3936832404654959 Test Loss : 0.436030775308609\n",
            "Epoch 52 Train Loss : 0.4030177696891453 Test Loss : 0.43504709502061206\n",
            "Epoch 53 Train Loss : 0.4170055266307748 Test Loss : 0.4405083606640498\n",
            "Epoch 54 Train Loss : 0.3856349522652833 Test Loss : 0.44402824838956195\n",
            "Epoch 55 Train Loss : 0.4061490400977757 Test Loss : 0.43927955130736035\n",
            "Epoch 56 Train Loss : 0.3871453216542368 Test Loss : 0.44023773570855457\n",
            "Epoch 57 Train Loss : 0.38352816908255866 Test Loss : 0.4385354121526082\n",
            "Epoch 58 Train Loss : 0.40281054895857105 Test Loss : 0.4436526944239934\n",
            "Epoch 59 Train Loss : 0.4015725235576215 Test Loss : 0.4513053894042969\n",
            "Epoch 60 Train Loss : 0.39736625163451483 Test Loss : 0.4377789994080861\n",
            "Epoch 61 Train Loss : 0.4046393658803857 Test Loss : 0.43376534680525464\n",
            "Epoch 62 Train Loss : 0.40218746402989264 Test Loss : 0.44072622060775757\n",
            "Epoch 63 Train Loss : 0.4010359735592552 Test Loss : 0.43736990292867023\n",
            "Epoch 64 Train Loss : 0.4149259911931079 Test Loss : 0.4410126159588496\n",
            "Epoch 65 Train Loss : 0.40585325075232465 Test Loss : 0.4331425229708354\n",
            "Epoch 66 Train Loss : 0.3852828410656556 Test Loss : 0.43592433134714764\n",
            "Epoch 67 Train Loss : 0.3993730843067169 Test Loss : 0.42818203071753186\n",
            "Epoch 68 Train Loss : 0.40077224179454474 Test Loss : 0.4411330272754033\n",
            "Epoch 69 Train Loss : 0.42322370150814886 Test Loss : 0.44092486798763275\n",
            "Epoch 70 Train Loss : 0.3853368389865626 Test Loss : 0.44796379407246906\n",
            "Epoch 71 Train Loss : 0.39636243879795074 Test Loss : 0.44805972278118134\n",
            "Epoch 72 Train Loss : 0.4060761449129685 Test Loss : 0.44667119284470874\n",
            "Epoch 73 Train Loss : 0.40830074574636377 Test Loss : 0.4525137394666672\n",
            "Epoch 74 Train Loss : 0.4000662766073061 Test Loss : 0.4438583453496297\n",
            "Epoch 75 Train Loss : 0.41120239055675006 Test Loss : 0.4331259826819102\n",
            "Epoch 76 Train Loss : 0.39869697845500446 Test Loss : 0.43317215144634247\n",
            "Epoch 77 Train Loss : 0.39909394668496173 Test Loss : 0.43422648807366687\n",
            "Epoch 78 Train Loss : 0.40729904433955316 Test Loss : 0.42673584322134656\n",
            "Epoch 79 Train Loss : 0.41674536855324457 Test Loss : 0.4409595876932144\n",
            "Epoch 80 Train Loss : 0.39866525712220563 Test Loss : 0.4389232099056244\n",
            "Epoch 81 Train Loss : 0.3893944698831309 Test Loss : 0.43946368992328644\n",
            "Epoch 82 Train Loss : 0.39080784631812054 Test Loss : 0.444577490290006\n",
            "Epoch 83 Train Loss : 0.4109031292407409 Test Loss : 0.4211084246635437\n",
            "Epoch 84 Train Loss : 0.4121656016163204 Test Loss : 0.4352407505114873\n",
            "Epoch 85 Train Loss : 0.38218057738698047 Test Loss : 0.4253358642260234\n",
            "Epoch 86 Train Loss : 0.40037735065688257 Test Loss : 0.4382794201374054\n",
            "Epoch 87 Train Loss : 0.3898623307114062 Test Loss : 0.4385511775811513\n",
            "Epoch 88 Train Loss : 0.39337601091550745 Test Loss : 0.4325753003358841\n",
            "Epoch 89 Train Loss : 0.3907269582800243 Test Loss : 0.4369624008735021\n",
            "Epoch 90 Train Loss : 0.4098545701607414 Test Loss : 0.4400257815917333\n",
            "Epoch 91 Train Loss : 0.4036603142385897 Test Loss : 0.43781453867753345\n",
            "Epoch 92 Train Loss : 0.3880447926728622 Test Loss : 0.4389968117078145\n",
            "Epoch 93 Train Loss : 0.40207714619843854 Test Loss : 0.43075565497080487\n",
            "Epoch 94 Train Loss : 0.39927393392376276 Test Loss : 0.44575709601243335\n",
            "Epoch 95 Train Loss : 0.4196910365768101 Test Loss : 0.44299447536468506\n",
            "Epoch 96 Train Loss : 0.4196433470301006 Test Loss : 0.4374532550573349\n",
            "Epoch 97 Train Loss : 0.3973135889872261 Test Loss : 0.4367631624142329\n",
            "Epoch 98 Train Loss : 0.3712609922108443 Test Loss : 0.42216306924819946\n",
            "Epoch 99 Train Loss : 0.3859672831452411 Test Loss : 0.435171440243721\n",
            "Epoch 100 Train Loss : 0.37113775053749914 Test Loss : 0.4340682029724121\n"
          ]
        }
      ],
      "source": [
        "criterion = nn.BCELoss()  # 다중 클래스 분류를 위한 손실 함수\n",
        "optimizer = optim.Adam(model.parameters(), lr=0.01)  # Adam 옵티마이저\n",
        "\n",
        "train_losses = []\n",
        "test_losses = []\n",
        "\n",
        "# 학습 횟수 만큼 반복\n",
        "for epoch in range(100):\n",
        "\n",
        "    # 모델 학습(학습데이터)\n",
        "    train_loss = train(model, train_loader, criterion, optimizer, device)\n",
        "    train_losses.append(train_loss)\n",
        "\n",
        "    # 모델 평가 (평가데이터)\n",
        "    test_loss = evaluate(model, test_loader, criterion, device)\n",
        "    test_losses.append(test_loss)\n",
        "\n",
        "    print(f'Epoch {epoch+1} Train Loss : {train_loss} Test Loss : {test_loss}')"
      ]
    },
    {
      "cell_type": "code",
      "execution_count": null,
      "id": "b9723aa7-6fab-4f41-b126-7a722970f83f",
      "metadata": {
        "colab": {
          "base_uri": "https://localhost:8080/",
          "height": 387
        },
        "id": "b9723aa7-6fab-4f41-b126-7a722970f83f",
        "outputId": "fbac4740-8e0c-4f28-818b-f418fe21c5cf"
      },
      "outputs": [
        {
          "output_type": "display_data",
          "data": {
            "text/plain": [
              "<Figure size 1200x500 with 1 Axes>"
            ],
            "image/png": "[encoded data removed]"
          },
          "metadata": {}
        }
      ],
      "source": [
        "plot_training_results(train_losses, test_losses)"
      ]
    },
    {
      "cell_type": "code",
      "execution_count": null,
      "id": "dff6fde3",
      "metadata": {
        "colab": {
          "base_uri": "https://localhost:8080/"
        },
        "id": "dff6fde3",
        "outputId": "96d575d7-3d5f-4947-8e72-c96b1cc05ac0"
      },
      "outputs": [
        {
          "output_type": "stream",
          "name": "stdout",
          "text": [
            "Epoch 1 Train Loss : 0.4069 Test Loss : 0.4294\n",
            "Epoch 2 Train Loss : 0.4058 Test Loss : 0.4557\n",
            "Epoch 3 Train Loss : 0.3819 Test Loss : 0.4380\n",
            "Epoch 4 Train Loss : 0.3848 Test Loss : 0.4316\n",
            "Epoch 5 Train Loss : 0.4226 Test Loss : 0.4426\n",
            "Epoch 6 Train Loss : 0.3877 Test Loss : 0.4372\n",
            "Epoch 7 Train Loss : 0.4067 Test Loss : 0.4372\n",
            "Epoch 8 Train Loss : 0.3920 Test Loss : 0.4420\n",
            "Epoch 9 Train Loss : 0.4050 Test Loss : 0.4307\n",
            "Epoch 10 Train Loss : 0.3888 Test Loss : 0.4292\n",
            "Epoch 11 Train Loss : 0.3736 Test Loss : 0.4318\n",
            "Epoch 12 Train Loss : 0.3903 Test Loss : 0.4336\n",
            "Epoch 13 Train Loss : 0.3908 Test Loss : 0.4408\n",
            "Epoch 14 Train Loss : 0.4087 Test Loss : 0.4299\n",
            "Epoch 15 Train Loss : 0.3921 Test Loss : 0.4430\n",
            "Epoch 16 Train Loss : 0.3762 Test Loss : 0.4474\n",
            "Epoch 17 Train Loss : 0.3770 Test Loss : 0.4437\n",
            "Epoch 18 Train Loss : 0.4084 Test Loss : 0.4407\n",
            "Epoch 19 Train Loss : 0.3935 Test Loss : 0.4444\n",
            "Epoch 20 Train Loss : 0.3899 Test Loss : 0.4394\n",
            "Early stopping triggered at epoch 20\n"
          ]
        },
        {
          "output_type": "execute_result",
          "data": {
            "text/plain": [
              "<All keys matched successfully>"
            ]
          },
          "metadata": {},
          "execution_count": 17
        }
      ],
      "source": [
        "criterion = nn.BCELoss()  # 다중 클래스 분류를 위한 손실 함수\n",
        "optimizer = optim.Adam(model.parameters(), lr=0.01)  # Adam 옵티마이저\n",
        "\n",
        "train_losses = []\n",
        "test_losses = []\n",
        "\n",
        "# Early Stopping을 위한 변수 설정\n",
        "best_loss = float('inf')\n",
        "patience = 10\n",
        "counter = 0\n",
        "\n",
        "# 학습 횟수 만큼 반복\n",
        "for epoch in range(100):\n",
        "\n",
        "    # 모델 학습 (학습데이터)\n",
        "    train_loss = train(model, train_loader, criterion, optimizer, device)\n",
        "    train_losses.append(train_loss)\n",
        "\n",
        "    # 모델 평가 (평가데이터)\n",
        "    test_loss = evaluate(model, test_loader, criterion, device)\n",
        "    test_losses.append(test_loss)\n",
        "\n",
        "    print(f'Epoch {epoch+1} Train Loss : {train_loss:.4f} Test Loss : {test_loss:.4f}')\n",
        "\n",
        "    # Early Stopping 조건 체크\n",
        "    if test_loss < best_loss:\n",
        "        best_loss = test_loss\n",
        "        counter = 0\n",
        "        torch.save(model.state_dict(), 'best_model.pt')  # 가장 좋은 모델 저장\n",
        "    else:\n",
        "        counter += 1\n",
        "\n",
        "    if counter >= patience:\n",
        "        print(f'Early stopping triggered at epoch {epoch+1}')\n",
        "        break\n",
        "\n",
        "# Early stopping으로 종료된 후 최적의 모델 불러오기\n",
        "model.load_state_dict(torch.load('best_model.pt'))"
      ]
    },
    {
      "cell_type": "code",
      "source": [
        "# 평가 손실 확인\n",
        "evaluate(model, test_loader, criterion, device)"
      ],
      "metadata": {
        "colab": {
          "base_uri": "https://localhost:8080/"
        },
        "id": "51zvQHTh72rB",
        "outputId": "806caee8-395c-47cf-92ea-834a1c2ed129"
      },
      "id": "51zvQHTh72rB",
      "execution_count": null,
      "outputs": [
        {
          "output_type": "execute_result",
          "data": {
            "text/plain": [
              "0.4291878590981166"
            ]
          },
          "metadata": {},
          "execution_count": 18
        }
      ]
    },
    {
      "cell_type": "markdown",
      "id": "02a81c7d",
      "metadata": {
        "id": "02a81c7d"
      },
      "source": [
        "# 05. 합성곱신경망 (CNN)"
      ]
    },
    {
      "cell_type": "code",
      "execution_count": null,
      "id": "2afdcbef",
      "metadata": {
        "id": "2afdcbef"
      },
      "outputs": [],
      "source": [
        "%%capture\n",
        "!pip install JAEN -qU"
      ]
    },
    {
      "cell_type": "markdown",
      "id": "2b0683cd",
      "metadata": {
        "id": "2b0683cd"
      },
      "source": [
        "## 05-001 2D 컨볼루션 출력 크기 계산 함수 구현"
      ]
    },
    {
      "cell_type": "code",
      "execution_count": null,
      "id": "0d3d16a4",
      "metadata": {
        "id": "0d3d16a4"
      },
      "outputs": [],
      "source": [
        "def conv2d_output_size(input_size, kernel_size, stride=1, padding=0):\n",
        "    height, width = input_size\n",
        "\n",
        "    # Convolution 공식 적용\n",
        "    out_height = (height + 2 * padding - kernel_size) // stride + 1\n",
        "    out_width = (width + 2 * padding - kernel_size) // stride + 1\n",
        "\n",
        "    return out_height, out_width"
      ]
    },
    {
      "cell_type": "markdown",
      "id": "121ecbc1",
      "metadata": {
        "id": "121ecbc1"
      },
      "source": [
        "## 05-002 컨볼루션 출력 크기 계산"
      ]
    },
    {
      "cell_type": "code",
      "execution_count": null,
      "id": "beb78a03",
      "metadata": {
        "colab": {
          "base_uri": "https://localhost:8080/"
        },
        "id": "beb78a03",
        "outputId": "c96fb9f1-3908-49b6-ddfb-9a4de92710d0"
      },
      "outputs": [
        {
          "output_type": "stream",
          "name": "stdout",
          "text": [
            "Output feature map size: (26, 26)\n"
          ]
        }
      ],
      "source": [
        "# 입력 크기 (Height, Width), 커널 크기, 스트라이드, 패딩\n",
        "output_size = conv2d_output_size((28, 28), 3, 1, 0)\n",
        "print(f\"Output feature map size: {output_size}\")"
      ]
    },
    {
      "cell_type": "markdown",
      "id": "a79a7c65",
      "metadata": {
        "id": "a79a7c65"
      },
      "source": [
        "## 05-003 패딩을 포함한 컨볼루션 출력 크기 계산"
      ]
    },
    {
      "cell_type": "code",
      "execution_count": null,
      "id": "208b8545",
      "metadata": {
        "colab": {
          "base_uri": "https://localhost:8080/"
        },
        "id": "208b8545",
        "outputId": "5992b186-f474-4355-836c-52b43adc7bde"
      },
      "outputs": [
        {
          "output_type": "stream",
          "name": "stdout",
          "text": [
            "Output feature map size: (28, 28)\n"
          ]
        }
      ],
      "source": [
        "# 입력 크기 (Height, Width), 커널 크기, 스트라이드, 패딩\n",
        "output_size = conv2d_output_size((28, 28), 3, 1, 1)\n",
        "print(f\"Output feature map size: {output_size}\")"
      ]
    },
    {
      "cell_type": "markdown",
      "id": "458495ac",
      "metadata": {
        "id": "458495ac"
      },
      "source": [
        "## 05-004 스트라이드를 포함한 컨볼루션 출력 크기 계산"
      ]
    },
    {
      "cell_type": "code",
      "execution_count": null,
      "id": "bd37ecf5",
      "metadata": {
        "colab": {
          "base_uri": "https://localhost:8080/"
        },
        "id": "bd37ecf5",
        "outputId": "475077eb-6ac2-4da8-94cc-c28873559a3d"
      },
      "outputs": [
        {
          "output_type": "stream",
          "name": "stdout",
          "text": [
            "Output feature map size: (13, 13)\n"
          ]
        }
      ],
      "source": [
        "# 입력 크기 (Height, Width), 커널 크기, 스트라이드, 패딩\n",
        "output_size = conv2d_output_size((28, 28), 3, 2, 0)\n",
        "print(f\"Output feature map size: {output_size}\")"
      ]
    },
    {
      "cell_type": "markdown",
      "id": "1c0e4b28",
      "metadata": {
        "id": "1c0e4b28"
      },
      "source": [
        "## 05-005 스트라이드 및 패딩을 포함한 컨볼루션 출력 크기 계산"
      ]
    },
    {
      "cell_type": "code",
      "execution_count": null,
      "id": "94bb7331",
      "metadata": {
        "colab": {
          "base_uri": "https://localhost:8080/"
        },
        "id": "94bb7331",
        "outputId": "61b47b87-5c7a-4abe-8f1f-63e0a9a11c7a"
      },
      "outputs": [
        {
          "output_type": "stream",
          "name": "stdout",
          "text": [
            "Output feature map size: (14, 14)\n"
          ]
        }
      ],
      "source": [
        "# 입력 크기 (Height, Width), 커널 크기, 스트라이드, 패딩\n",
        "output_size = conv2d_output_size((28, 28), 3, 2, 1)\n",
        "print(f\"Output feature map size: {output_size}\")"
      ]
    },
    {
      "cell_type": "markdown",
      "id": "73ea86f9",
      "metadata": {
        "id": "73ea86f9"
      },
      "source": [
        "## 05-006 PyTorch 및 관련 모듈 임포트와 device 설정"
      ]
    },
    {
      "cell_type": "code",
      "execution_count": null,
      "id": "440d2d23",
      "metadata": {
        "colab": {
          "base_uri": "https://localhost:8080/"
        },
        "id": "440d2d23",
        "outputId": "5abbb14a-51f9-4bcf-da60-e2e1fecd3fb6"
      },
      "outputs": [
        {
          "output_type": "execute_result",
          "data": {
            "text/plain": [
              "device(type='cuda')"
            ]
          },
          "metadata": {},
          "execution_count": 7
        }
      ],
      "source": [
        "import torch\n",
        "import torch.nn as nn\n",
        "import torch.optim as optim\n",
        "from torchvision import datasets, transforms\n",
        "from torch.utils.data import DataLoader\n",
        "from torchinfo import summary\n",
        "from JAEN.utils import plot_training_results\n",
        "\n",
        "# device 설정 (GPU가 사용 가능하면 GPU로, 그렇지 않으면 CPU 사용)\n",
        "device = torch.device('cuda' if torch.cuda.is_available() else 'cpu')\n",
        "device"
      ]
    },
    {
      "cell_type": "code",
      "execution_count": null,
      "id": "kj_xPDWqnP4r",
      "metadata": {
        "id": "kj_xPDWqnP4r"
      },
      "outputs": [],
      "source": [
        "def train(model, train_loader, criterion, optimizer, device):\n",
        "    model.train()  # 모델을 학습 모드로 설정\n",
        "\n",
        "    running_loss = 0.0 # 미니 배치별 loss값을 누적할 변수\n",
        "\n",
        "    for data, labels in train_loader: # 미니 배치 별 파라미터 업데이트 수행\n",
        "        data, labels = data.to(device), labels.to(device) # 미니 배치별 데이터와 레이블 장치 할당\n",
        "\n",
        "        # 순전파\n",
        "        outputs = model(data)\n",
        "\n",
        "        # 손실 계산\n",
        "        loss = criterion(outputs, labels)\n",
        "\n",
        "        # 기울기 초기화\n",
        "        optimizer.zero_grad()\n",
        "\n",
        "        # 역전파\n",
        "        loss.backward()\n",
        "\n",
        "        # 파라미터 업데이트\n",
        "        optimizer.step()\n",
        "\n",
        "        # 손실 누적\n",
        "        running_loss += loss.item()\n",
        "\n",
        "    # 현재 Epoch의 평균 손실 값 계산 및 반환\n",
        "    return running_loss / len(train_loader)"
      ]
    },
    {
      "cell_type": "code",
      "execution_count": null,
      "id": "qL8YF7pTnSZn",
      "metadata": {
        "id": "qL8YF7pTnSZn"
      },
      "outputs": [],
      "source": [
        "# 평가 함수 정의\n",
        "def evaluate(model, test_loader, criterion, device):\n",
        "    model.eval()  # 모델을 평가 모드로 설정\n",
        "\n",
        "    running_loss = 0.0 # 미니 배치별 loss값을 누적할 변수\n",
        "\n",
        "    with torch.no_grad():  # 평가 중에는 기울기 계산을 하지 않음\n",
        "        for data, labels in test_loader: # 미니 배치 별 손실 계산\n",
        "            data, labels = data.to(device), labels.to(device) # 미니 배치별 데이터와 레이블 장치 할당\n",
        "\n",
        "            # 순전파\n",
        "            outputs = model(data)\n",
        "\n",
        "            # 손실 계산\n",
        "            loss = criterion(outputs, labels)\n",
        "\n",
        "            # 손실 누적\n",
        "            running_loss += loss.item()\n",
        "\n",
        "\n",
        "    # 현재 Epoch의 평균 손실 값 계산 및 반환\n",
        "    return running_loss / len(test_loader)"
      ]
    },
    {
      "cell_type": "markdown",
      "id": "60a22291",
      "metadata": {
        "id": "60a22291"
      },
      "source": [
        "## 05-007 FashionMNIST 데이터 변환 및 정규화"
      ]
    },
    {
      "cell_type": "code",
      "execution_count": null,
      "id": "8fbe7945",
      "metadata": {
        "id": "8fbe7945"
      },
      "outputs": [],
      "source": [
        "# FashionMNIST 데이터 변환 (이미지를 텐서로 변환하고 [0, 1] 범위로 정규화)\n",
        "transform = transforms.Compose([\n",
        "    transforms.ToTensor(),\n",
        "])"
      ]
    },
    {
      "cell_type": "markdown",
      "id": "5ba35534",
      "metadata": {
        "id": "5ba35534"
      },
      "source": [
        "## 05-008 FashionMNIST 학습 및 테스트 데이터셋 로드"
      ]
    },
    {
      "cell_type": "code",
      "execution_count": null,
      "id": "f4585d5c",
      "metadata": {
        "colab": {
          "base_uri": "https://localhost:8080/"
        },
        "id": "f4585d5c",
        "outputId": "bbbfee14-008b-49a5-b399-19e392116779"
      },
      "outputs": [
        {
          "output_type": "stream",
          "name": "stderr",
          "text": [
            "100%|██████████| 26.4M/26.4M [00:02<00:00, 11.1MB/s]\n",
            "100%|██████████| 29.5k/29.5k [00:00<00:00, 201kB/s]\n",
            "100%|██████████| 4.42M/4.42M [00:01<00:00, 3.72MB/s]\n",
            "100%|██████████| 5.15k/5.15k [00:00<00:00, 13.5MB/s]\n"
          ]
        }
      ],
      "source": [
        "# 학습 및 테스트 데이터셋 로드\n",
        "train_dataset = datasets.FashionMNIST(root='./data', train=True, transform=transform, download=True)\n",
        "test_dataset = datasets.FashionMNIST(root='./data', train=False, transform=transform, download=True)"
      ]
    },
    {
      "cell_type": "markdown",
      "id": "db281116",
      "metadata": {
        "id": "db281116"
      },
      "source": [
        "## 05-009 데이터 로더 생성"
      ]
    },
    {
      "cell_type": "code",
      "execution_count": null,
      "id": "8a3b53ff",
      "metadata": {
        "id": "8a3b53ff"
      },
      "outputs": [],
      "source": [
        "# 데이터 로더 생성\n",
        "train_loader = DataLoader(train_dataset, batch_size=64, shuffle=True, drop_last=False)\n",
        "test_loader = DataLoader(test_dataset, batch_size=64, shuffle=False, drop_last=False)"
      ]
    },
    {
      "cell_type": "markdown",
      "id": "945e3130",
      "metadata": {
        "id": "945e3130"
      },
      "source": [
        "## 05-010 CNN 모델 클래스 정의"
      ]
    },
    {
      "cell_type": "code",
      "execution_count": null,
      "id": "117282ca",
      "metadata": {
        "colab": {
          "base_uri": "https://localhost:8080/"
        },
        "id": "117282ca",
        "outputId": "3cebe507-ae4c-42b1-f516-aa0424f9ea86"
      },
      "outputs": [
        {
          "output_type": "execute_result",
          "data": {
            "text/plain": [
              "==========================================================================================\n",
              "Layer (type:depth-idx)                   Output Shape              Param #\n",
              "==========================================================================================\n",
              "Sequential                               [64, 10]                  --\n",
              "├─Conv2d: 1-1                            [64, 16, 28, 28]          160\n",
              "├─ReLU: 1-2                              [64, 16, 28, 28]          --\n",
              "├─MaxPool2d: 1-3                         [64, 16, 14, 14]          --\n",
              "├─Conv2d: 1-4                            [64, 32, 14, 14]          4,640\n",
              "├─ReLU: 1-5                              [64, 32, 14, 14]          --\n",
              "├─MaxPool2d: 1-6                         [64, 32, 7, 7]            --\n",
              "├─Flatten: 1-7                           [64, 1568]                --\n",
              "├─Linear: 1-8                            [64, 128]                 200,832\n",
              "├─ReLU: 1-9                              [64, 128]                 --\n",
              "├─Linear: 1-10                           [64, 10]                  1,290\n",
              "==========================================================================================\n",
              "Total params: 206,922\n",
              "Trainable params: 206,922\n",
              "Non-trainable params: 0\n",
              "Total mult-adds (Units.MEGABYTES): 79.17\n",
              "==========================================================================================\n",
              "Input size (MB): 0.20\n",
              "Forward/backward pass size (MB): 9.70\n",
              "Params size (MB): 0.83\n",
              "Estimated Total Size (MB): 10.73\n",
              "=========================================================================================="
            ]
          },
          "metadata": {},
          "execution_count": 13
        }
      ],
      "source": [
        "# Sequential로 모델 정의\n",
        "model = nn.Sequential(\n",
        "    # 첫 번째 Conv + ReLU + MaxPool\n",
        "    nn.Conv2d(in_channels=1, out_channels=16, kernel_size=3, padding=1),\n",
        "    nn.ReLU(),\n",
        "    nn.MaxPool2d(kernel_size=2, stride=2),\n",
        "\n",
        "    # 두 번째 Conv + ReLU + MaxPool\n",
        "    nn.Conv2d(in_channels=16, out_channels=32, kernel_size=3, padding=1),\n",
        "    nn.ReLU(),\n",
        "    nn.MaxPool2d(kernel_size=2, stride=2),\n",
        "\n",
        "    # Flatten\n",
        "    nn.Flatten(),\n",
        "\n",
        "    # 첫 번째 Fully Connected + ReLU\n",
        "    nn.Linear(32 * 7 * 7, 128),\n",
        "    nn.ReLU(),\n",
        "\n",
        "    # 두 번째 Fully Connected (출력층)\n",
        "    nn.Linear(128, 10)\n",
        ")\n",
        "model = model.to(device)\n",
        "summary(model, input_size=(64, 1, 28, 28))"
      ]
    },
    {
      "cell_type": "code",
      "execution_count": null,
      "id": "3621a56d",
      "metadata": {
        "colab": {
          "base_uri": "https://localhost:8080/"
        },
        "id": "3621a56d",
        "outputId": "f4002258-6e70-48ea-c602-74f3a8624d8a"
      },
      "outputs": [
        {
          "output_type": "execute_result",
          "data": {
            "text/plain": [
              "==========================================================================================\n",
              "Layer (type:depth-idx)                   Output Shape              Param #\n",
              "==========================================================================================\n",
              "CNN                                      [64, 10]                  --\n",
              "├─Conv2d: 1-1                            [64, 16, 28, 28]          160\n",
              "├─ReLU: 1-2                              [64, 16, 28, 28]          --\n",
              "├─MaxPool2d: 1-3                         [64, 16, 14, 14]          --\n",
              "├─Conv2d: 1-4                            [64, 32, 14, 14]          4,640\n",
              "├─ReLU: 1-5                              [64, 32, 14, 14]          --\n",
              "├─MaxPool2d: 1-6                         [64, 32, 7, 7]            --\n",
              "├─Linear: 1-7                            [64, 128]                 200,832\n",
              "├─ReLU: 1-8                              [64, 128]                 --\n",
              "├─Linear: 1-9                            [64, 10]                  1,290\n",
              "==========================================================================================\n",
              "Total params: 206,922\n",
              "Trainable params: 206,922\n",
              "Non-trainable params: 0\n",
              "Total mult-adds (Units.MEGABYTES): 79.17\n",
              "==========================================================================================\n",
              "Input size (MB): 0.20\n",
              "Forward/backward pass size (MB): 9.70\n",
              "Params size (MB): 0.83\n",
              "Estimated Total Size (MB): 10.73\n",
              "=========================================================================================="
            ]
          },
          "metadata": {},
          "execution_count": 14
        }
      ],
      "source": [
        "# CNN 모델 정의\n",
        "class CNN(nn.Module):\n",
        "    def __init__(self):\n",
        "        super().__init__()\n",
        "\n",
        "        # 첫 번째 컨볼루션 레이어\n",
        "        # 입력 채널: 1 (흑백 이미지), 출력 채널: 16, 커널 크기: 3x3, 패딩: 1\n",
        "        self.conv1 = nn.Conv2d(in_channels=1, out_channels=16, kernel_size=3, padding=1)\n",
        "\n",
        "        # 두 번째 컨볼루션 레이어\n",
        "        # 입력 채널: 16, 출력 채널: 32, 커널 크기: 3x3, 패딩: 1\n",
        "        self.conv2 = nn.Conv2d(in_channels=16, out_channels=32, kernel_size=3, padding=1)\n",
        "\n",
        "        # MaxPool 레이어 (다운샘플링)\n",
        "        # 커널 크기: 2x2, 스트라이드: 2\n",
        "        self.pool = nn.MaxPool2d(kernel_size=2, stride=2, padding=0)\n",
        "\n",
        "        # 첫 번째 완전 연결 (Fully Connected) 레이어\n",
        "        # 입력 크기: 32 * 7 * 7 (Conv2d 출력을 펼친 크기), 출력 크기: 128\n",
        "        self.fc1 = nn.Linear(32 * 7 * 7, 128)\n",
        "\n",
        "        # 두 번째 완전 연결 레이어\n",
        "        # 입력 크기: 128, 출력 크기: 10 (클래스 개수)\n",
        "        self.fc2 = nn.Linear(128, 10)\n",
        "\n",
        "        # 활성화 함수\n",
        "        self.relu = nn.ReLU()\n",
        "\n",
        "    def forward(self, x):\n",
        "        # 입력 데이터 크기: (batch_size, 1, 28, 28)\n",
        "\n",
        "        # 첫 번째 Conv + ReLU + MaxPool\n",
        "        # Conv 후 크기: (batch_size, 16, 28, 28)\n",
        "        # MaxPool 후 크기: (batch_size, 16, 14, 14)\n",
        "        x = self.pool(self.relu(self.conv1(x)))\n",
        "\n",
        "        # 두 번째 Conv + ReLU + MaxPool\n",
        "        # Conv 후 크기: (batch_size, 32, 14, 14)\n",
        "        # MaxPool 후 크기: (batch_size, 32, 7, 7)\n",
        "        x = self.pool(self.relu(self.conv2(x)))\n",
        "\n",
        "        # Flatten: Conv 출력을 1차원 벡터로 펼침\n",
        "        # Flatten 후 크기: (batch_size, 32 * 7 * 7)\n",
        "        x = x.reshape(-1, 32 * 7 * 7)\n",
        "\n",
        "        # 첫 번째 Fully Connected + ReLU\n",
        "        # 출력 크기: (batch_size, 128)\n",
        "        x = self.relu(self.fc1(x))\n",
        "\n",
        "        # 두 번째 Fully Connected (출력층)\n",
        "        # 출력 크기: (batch_size, 10)\n",
        "        x = self.fc2(x)\n",
        "\n",
        "        return x\n",
        "\n",
        "# 모델 요약 출력\n",
        "model = CNN().to(device)\n",
        "summary(model, input_size=(64, 1, 28, 28))"
      ]
    },
    {
      "cell_type": "markdown",
      "id": "01c45b4c",
      "metadata": {
        "id": "01c45b4c"
      },
      "source": [
        "## 05-011 손실 함수 및 옵티마이저 설정과 학습 수행"
      ]
    },
    {
      "cell_type": "code",
      "execution_count": null,
      "id": "5ba049a5",
      "metadata": {
        "colab": {
          "base_uri": "https://localhost:8080/"
        },
        "id": "5ba049a5",
        "outputId": "ca41964b-a12b-479e-b7f7-e0b8d601068d"
      },
      "outputs": [
        {
          "output_type": "stream",
          "name": "stdout",
          "text": [
            "Epoch 1 Train Loss : 0.8291877362964504 Test Loss : 0.5776508034794194\n",
            "Epoch 2 Train Loss : 0.5205058806708881 Test Loss : 0.5051010729400975\n",
            "Epoch 3 Train Loss : 0.45973725180064184 Test Loss : 0.4539314413526256\n",
            "Epoch 4 Train Loss : 0.42586389001307967 Test Loss : 0.4427627667689779\n",
            "Epoch 5 Train Loss : 0.4020696444107271 Test Loss : 0.40977107491462855\n",
            "Epoch 6 Train Loss : 0.384420536093112 Test Loss : 0.4000795608872821\n",
            "Epoch 7 Train Loss : 0.37049923552823727 Test Loss : 0.39193295303044046\n",
            "Epoch 8 Train Loss : 0.3571155436797691 Test Loss : 0.3725747744179076\n",
            "Epoch 9 Train Loss : 0.34714702505673933 Test Loss : 0.3697624223627103\n",
            "Epoch 10 Train Loss : 0.3386265140876714 Test Loss : 0.35365498625928427\n"
          ]
        }
      ],
      "source": [
        "criterion = nn.CrossEntropyLoss()  # 다중 클래스 분류를 위한 손실 함수\n",
        "optimizer = optim.Adam(model.parameters(), lr=0.0001)  # Adam 옵티마이저\n",
        "\n",
        "train_losses = []\n",
        "test_losses = []\n",
        "\n",
        "# 학습 횟수 만큼 반복\n",
        "for epoch in range(10):\n",
        "\n",
        "    # 모델 학습(학습데이터)\n",
        "    train_loss = train(model, train_loader, criterion, optimizer, device)\n",
        "    train_losses.append(train_loss)\n",
        "\n",
        "    # 모델 평가 (평가데이터)\n",
        "    test_loss = evaluate(model, test_loader, criterion, device)\n",
        "    test_losses.append(test_loss)\n",
        "\n",
        "    print(f'Epoch {epoch+1} Train Loss : {train_loss} Test Loss : {test_loss}')"
      ]
    },
    {
      "cell_type": "markdown",
      "id": "e44a193e",
      "metadata": {
        "id": "e44a193e"
      },
      "source": [
        "## 연습문제-05-001 (배치, 3, 32, 32) 입력을 받는 CNN 모델 설계 (Sequential 방식)"
      ]
    },
    {
      "cell_type": "code",
      "execution_count": null,
      "id": "729d19f6",
      "metadata": {
        "id": "729d19f6"
      },
      "outputs": [],
      "source": [
        "# 이 모델은 이미지 분류를 위한 CNN 모델로, 세 개의 합성곱층(Convolutional Layer)과 완전 연결층(Fully Connected Layer)으로 구성됩니다.\n",
        "# 입력 데이터는 (배치 크기, 3, 32, 32) 형태를 가지며, 다음과 같은 단계로 설계됩니다.\n",
        "\n",
        "# 1. 첫 번째 합성곱층:\n",
        "#    - 입력 채널: 3 (RGB 이미지)\n",
        "#    - 출력 채널: 16\n",
        "#    - 커널 크기: 3x3\n",
        "#    - 패딩: 1 (출력 크기가 입력 크기와 동일하게 유지되도록 설정)\n",
        "#    - 비선형성을 부여하기 위해 ReLU 활성화 함수 추가\n",
        "#    - 공간 해상도를 축소하기 위해 Max Pooling 레이어 추가 (커널 크기 2x2, 스트라이드 2)\n",
        "\n",
        "# 2. 두 번째 합성곱층:\n",
        "#    - 입력 채널: 16\n",
        "#    - 출력 채널: 32\n",
        "#    - 커널 크기: 3x3\n",
        "#    - 패딩: 1\n",
        "#    - 활성화 함수로 ReLU 적용\n",
        "#    - Max Pooling 레이어 추가 (커널 크기 2x2, 스트라이드 2)\n",
        "\n",
        "# 3. 세 번째 합성곱층:\n",
        "#    - 입력 채널: 32\n",
        "#    - 출력 채널: 64\n",
        "#    - 커널 크기: 3x3\n",
        "#    - 패딩: 1\n",
        "#    - ReLU 활성화 함수 적용\n",
        "#    - Max Pooling 레이어 추가 (커널 크기 2x2, 스트라이드 2)\n",
        "\n",
        "# 4. Flatten 레이어:\n",
        "#    - 다차원 텐서를 이차원 텐서로 변환\n",
        "#    - Conv 레이어와 Max Pooling을 거친 후 (배치 크기, 64, 4, 4) 형태의 텐서를 이차원 텐서로 변환 변환하여 fully connected layer에 입력\n",
        "\n",
        "# 5. 첫 번째 완전 연결층:\n",
        "#    - Conv 레이어 출력을 128차원 출력으로 변환\n",
        "#    - ReLU 활성화 함수 추가\n",
        "\n",
        "# 6. 최종 출력층:\n",
        "#    - 10개의 클래스로 분류 (활성화 함수는 분류 목적에 따라 추가 설정 가능)\n"
      ]
    },
    {
      "cell_type": "markdown",
      "id": "6295ad49",
      "metadata": {
        "id": "6295ad49"
      },
      "source": [
        "## 연습문제-05-002 (배치, 3, 224, 224) 입력을 받는 CNN 모델 설계 (Module 방식)"
      ]
    },
    {
      "cell_type": "code",
      "execution_count": null,
      "id": "694a69f7",
      "metadata": {
        "id": "694a69f7"
      },
      "outputs": [],
      "source": [
        "# CNN 모델 설계 가이드\n",
        "\n",
        "# 이 모델은 이미지 분류를 위한 CNN 모델로, 네 개의 합성곱층(Convolutional Layer)과 풀링층(Max Pooling Layer),\n",
        "# 그리고 두 개의 완전 연결층(Fully Connected Layer)으로 구성됩니다.\n",
        "# 입력 데이터는 (배치 크기, 3, 224, 224) 형태를 가지며, 다음과 같은 단계로 설계됩니다.\n",
        "\n",
        "# 1. 첫 번째 합성곱층:\n",
        "#    - 입력 채널: 3 (RGB 이미지)\n",
        "#    - 출력 채널: 256\n",
        "#    - 커널 크기: 3x3\n",
        "#    - 패딩: 1 (출력 크기를 입력 크기와 동일하게 유지)\n",
        "#    - 활성화 함수: ReLU를 사용하여 비선형성 부여\n",
        "#    - 첫 번째 풀링층: 커널 크기 2x2, 스트라이드 2를 사용하여 공간 해상도를 절반으로 줄임 (출력 크기: (112, 112))\n",
        "\n",
        "# 2. 두 번째 합성곱층:\n",
        "#    - 입력 채널: 256\n",
        "#    - 출력 채널: 128\n",
        "#    - 커널 크기: 3x3\n",
        "#    - 패딩: 1\n",
        "#    - 활성화 함수: ReLU 사용\n",
        "#    - 두 번째 풀링층: 커널 크기 2x2, 스트라이드 2를 사용하여 공간 해상도를 절반으로 줄임 (출력 크기: (56, 56))\n",
        "\n",
        "# 3. 세 번째 합성곱층:\n",
        "#    - 입력 채널: 128\n",
        "#    - 출력 채널: 64\n",
        "#    - 커널 크기: 3x3\n",
        "#    - 패딩: 1\n",
        "#    - 활성화 함수: ReLU 사용\n",
        "#    - 세 번째 풀링층: 커널 크기 2x2, 스트라이드 2를 사용하여 공간 해상도를 절반으로 줄임 (출력 크기: (28, 28))\n",
        "\n",
        "# 4. 네 번째 합성곱층:\n",
        "#    - 입력 채널: 64\n",
        "#    - 출력 채널: 32\n",
        "#    - 커널 크기: 3x3\n",
        "#    - 패딩: 1\n",
        "#    - 활성화 함수: ReLU 사용\n",
        "#    - 네 번째 풀링층: 커널 크기 2x2, 스트라이드 2를 사용하여 공간 해상도를 절반으로 줄임 (출력 크기: (14, 14))\n",
        "\n",
        "# 5. Flatten 레이어:\n",
        "#    - 네 번째 풀링 이후의 다차원 텐서를 이차원 텐서로 변환하여 fully connected layer에 입력\n",
        "#    - Conv 레이어와 풀링층을 거친 후 (32, 14, 14) 형태의 텐서를 이차원 텐서로 변환\n",
        "\n",
        "# 6. 첫 번째 완전 연결층:\n",
        "#    - Conv 레이어 출력을 낮은 차원(256)으로 줄임\n",
        "#    - 활성화 함수: ReLU 사용\n",
        "\n",
        "# 7. 두 번째 완전 연결층:\n",
        "#    - 최종적으로 두 개의 클래스로 분류\n"
      ]
    },
    {
      "cell_type": "markdown",
      "id": "15f0e9c3",
      "metadata": {
        "id": "15f0e9c3"
      },
      "source": [
        "## 05-012 JAEN 패키지에서 CNN 모델 불러오기"
      ]
    },
    {
      "cell_type": "code",
      "execution_count": null,
      "id": "af84d090",
      "metadata": {
        "colab": {
          "base_uri": "https://localhost:8080/"
        },
        "id": "af84d090",
        "outputId": "f4f16db9-d77f-436f-e009-80b4ed0c8aad"
      },
      "outputs": [
        {
          "output_type": "stream",
          "name": "stdout",
          "text": [
            "Pretrained weights loaded successfully on cuda.\n"
          ]
        },
        {
          "output_type": "execute_result",
          "data": {
            "text/plain": [
              "==========================================================================================\n",
              "Layer (type:depth-idx)                   Output Shape              Param #\n",
              "==========================================================================================\n",
              "CNNModel                                 [64, 10]                  --\n",
              "├─Sequential: 1-1                        [64, 32, 7, 7]            --\n",
              "│    └─Conv2d: 2-1                       [64, 16, 28, 28]          160\n",
              "│    └─ReLU: 2-2                         [64, 16, 28, 28]          --\n",
              "│    └─Conv2d: 2-3                       [64, 16, 28, 28]          2,320\n",
              "│    └─ReLU: 2-4                         [64, 16, 28, 28]          --\n",
              "│    └─MaxPool2d: 2-5                    [64, 16, 14, 14]          --\n",
              "│    └─Conv2d: 2-6                       [64, 32, 14, 14]          4,640\n",
              "│    └─ReLU: 2-7                         [64, 32, 14, 14]          --\n",
              "│    └─Conv2d: 2-8                       [64, 32, 14, 14]          9,248\n",
              "│    └─ReLU: 2-9                         [64, 32, 14, 14]          --\n",
              "│    └─MaxPool2d: 2-10                   [64, 32, 7, 7]            --\n",
              "├─Sequential: 1-2                        [64, 10]                  --\n",
              "│    └─Linear: 2-11                      [64, 128]                 200,832\n",
              "│    └─ReLU: 2-12                        [64, 128]                 --\n",
              "│    └─Linear: 2-13                      [64, 10]                  1,290\n",
              "==========================================================================================\n",
              "Total params: 218,490\n",
              "Trainable params: 218,490\n",
              "Non-trainable params: 0\n",
              "Total mult-adds (Units.MEGABYTES): 311.58\n",
              "==========================================================================================\n",
              "Input size (MB): 0.20\n",
              "Forward/backward pass size (MB): 19.34\n",
              "Params size (MB): 0.87\n",
              "Estimated Total Size (MB): 20.41\n",
              "=========================================================================================="
            ]
          },
          "metadata": {},
          "execution_count": 16
        }
      ],
      "source": [
        "# JAEN 패키지에서 CNN 모델 가져오기\n",
        "from JAEN.models import CNNModel\n",
        "\n",
        "# CNN 모델 불러오기 (pretrained=True)\n",
        "model = CNNModel(pretrained=True)\n",
        "\n",
        "# 모델 정보 확인\n",
        "summary(model, (64, 1, 28, 28))"
      ]
    },
    {
      "cell_type": "markdown",
      "id": "5bca43b3",
      "metadata": {
        "id": "5bca43b3"
      },
      "source": [
        "## 05-013 기존 Conv Block 동결"
      ]
    },
    {
      "cell_type": "code",
      "execution_count": null,
      "id": "858027b5",
      "metadata": {
        "id": "858027b5"
      },
      "outputs": [],
      "source": [
        "# 기존 Conv Block 동결\n",
        "for param in model.conv_layers.parameters():\n",
        "    param.requires_grad = False"
      ]
    },
    {
      "cell_type": "markdown",
      "id": "8a780005",
      "metadata": {
        "id": "8a780005"
      },
      "source": [
        "## 05-014 새로운 Fully Connected Block 설정"
      ]
    },
    {
      "cell_type": "code",
      "execution_count": null,
      "id": "3bb39dd9",
      "metadata": {
        "colab": {
          "base_uri": "https://localhost:8080/"
        },
        "id": "3bb39dd9",
        "outputId": "7be258d2-bab5-488b-e2e8-2c3eca5e35ad"
      },
      "outputs": [
        {
          "output_type": "execute_result",
          "data": {
            "text/plain": [
              "==========================================================================================\n",
              "Layer (type:depth-idx)                   Output Shape              Param #\n",
              "==========================================================================================\n",
              "CNNModel                                 [64, 10]                  --\n",
              "├─Sequential: 1-1                        [64, 32, 7, 7]            --\n",
              "│    └─Conv2d: 2-1                       [64, 16, 28, 28]          (160)\n",
              "│    └─ReLU: 2-2                         [64, 16, 28, 28]          --\n",
              "│    └─Conv2d: 2-3                       [64, 16, 28, 28]          (2,320)\n",
              "│    └─ReLU: 2-4                         [64, 16, 28, 28]          --\n",
              "│    └─MaxPool2d: 2-5                    [64, 16, 14, 14]          --\n",
              "│    └─Conv2d: 2-6                       [64, 32, 14, 14]          (4,640)\n",
              "│    └─ReLU: 2-7                         [64, 32, 14, 14]          --\n",
              "│    └─Conv2d: 2-8                       [64, 32, 14, 14]          (9,248)\n",
              "│    └─ReLU: 2-9                         [64, 32, 14, 14]          --\n",
              "│    └─MaxPool2d: 2-10                   [64, 32, 7, 7]            --\n",
              "├─Sequential: 1-2                        [64, 10]                  --\n",
              "│    └─Linear: 2-11                      [64, 64]                  100,416\n",
              "│    └─ReLU: 2-12                        [64, 64]                  --\n",
              "│    └─Dropout: 2-13                     [64, 64]                  --\n",
              "│    └─Linear: 2-14                      [64, 10]                  650\n",
              "==========================================================================================\n",
              "Total params: 117,434\n",
              "Trainable params: 101,066\n",
              "Non-trainable params: 16,368\n",
              "Total mult-adds (Units.MEGABYTES): 305.12\n",
              "==========================================================================================\n",
              "Input size (MB): 0.20\n",
              "Forward/backward pass size (MB): 19.31\n",
              "Params size (MB): 0.47\n",
              "Estimated Total Size (MB): 19.98\n",
              "=========================================================================================="
            ]
          },
          "metadata": {},
          "execution_count": 18
        }
      ],
      "source": [
        "# 새로운 Fully Connected Block 설정\n",
        "model.fc_layers = nn.Sequential(\n",
        "    nn.Linear(32 * 7 * 7, 64),  # 첫 번째 은닉층\n",
        "    nn.ReLU(),\n",
        "    nn.Dropout(p=0.5),           # 드롭아웃 추가\n",
        "    nn.Linear(64, 10)           # 출력층 (활성화 함수 없음)\n",
        ")\n",
        "\n",
        "# 디바이스 설정 (GPU 또는 CPU)\n",
        "model = model.to(device)\n",
        "summary(model, input_size=(64, 1, 28, 28))"
      ]
    },
    {
      "cell_type": "markdown",
      "id": "e121bd0f",
      "metadata": {
        "id": "e121bd0f"
      },
      "source": [
        "## 05-015 손실 함수 및 최적화 도구 정의와 학습 수행"
      ]
    },
    {
      "cell_type": "code",
      "execution_count": null,
      "id": "58caf05a",
      "metadata": {
        "colab": {
          "base_uri": "https://localhost:8080/"
        },
        "id": "58caf05a",
        "outputId": "dc235370-a1d9-436e-83d9-531986aacb1f"
      },
      "outputs": [
        {
          "output_type": "stream",
          "name": "stdout",
          "text": [
            "Epoch 1 Train Loss : 0.9264304595016467 Test Loss : 0.5355029176374909\n",
            "Epoch 2 Train Loss : 0.562875812750127 Test Loss : 0.45624300704640186\n",
            "Epoch 3 Train Loss : 0.4904559829405376 Test Loss : 0.41910645308767913\n",
            "Epoch 4 Train Loss : 0.4492161413912834 Test Loss : 0.3965125706545107\n",
            "Epoch 5 Train Loss : 0.4232708122303237 Test Loss : 0.38130610450437874\n",
            "Epoch 6 Train Loss : 0.4031214474170193 Test Loss : 0.3706713606407688\n",
            "Epoch 7 Train Loss : 0.3902218926276988 Test Loss : 0.3613410547470591\n",
            "Epoch 8 Train Loss : 0.37441398158891875 Test Loss : 0.35400737603758553\n",
            "Epoch 9 Train Loss : 0.3663408201831236 Test Loss : 0.34742665717935867\n",
            "Epoch 10 Train Loss : 0.3568946440209712 Test Loss : 0.34378826276511903\n"
          ]
        }
      ],
      "source": [
        "criterion = nn.CrossEntropyLoss()  # 다중 클래스 분류를 위한 손실 함수\n",
        "optimizer = optim.Adam(model.parameters(), lr=0.0001)  # Adam 옵티마이저\n",
        "\n",
        "train_losses = []\n",
        "test_losses = []\n",
        "\n",
        "# 학습 횟수 만큼 반복\n",
        "for epoch in range(10):\n",
        "\n",
        "    # 모델 학습(학습데이터)\n",
        "    train_loss = train(model, train_loader, criterion, optimizer, device)\n",
        "    train_losses.append(train_loss)\n",
        "\n",
        "    # 모델 평가 (평가데이터)\n",
        "    test_loss = evaluate(model, test_loader, criterion, device)\n",
        "    test_losses.append(test_loss)\n",
        "\n",
        "    print(f'Epoch {epoch+1} Train Loss : {train_loss} Test Loss : {test_loss}')"
      ]
    },
    {
      "cell_type": "markdown",
      "id": "08dbd6a4",
      "metadata": {
        "id": "08dbd6a4"
      },
      "source": [
        "## 05-016 마지막 두 Conv 레이어만 학습하도록 설정"
      ]
    },
    {
      "cell_type": "code",
      "execution_count": null,
      "id": "0290a98b",
      "metadata": {
        "id": "0290a98b"
      },
      "outputs": [],
      "source": [
        "# 마지막 두 Conv 레이어만 학습하도록 설정\n",
        "for name, p in model.conv_layers.named_parameters():\n",
        "    if name in ['5.weight', '5.bias', '7.weight', '7.bias']:\n",
        "        p.requires_grad = True"
      ]
    },
    {
      "cell_type": "markdown",
      "id": "45ef1f49",
      "metadata": {
        "id": "45ef1f49"
      },
      "source": [
        "## 05-017 손실 함수 및 최적화 도구 정의와 학습 수행"
      ]
    },
    {
      "cell_type": "code",
      "execution_count": null,
      "id": "1262d6de",
      "metadata": {
        "colab": {
          "base_uri": "https://localhost:8080/"
        },
        "id": "1262d6de",
        "outputId": "dd26737e-4499-46ce-9ef0-1505d3ff62b5"
      },
      "outputs": [
        {
          "output_type": "stream",
          "name": "stdout",
          "text": [
            "Epoch 1 Train Loss : 0.33772203303984744 Test Loss : 0.3254050694073841\n",
            "Epoch 2 Train Loss : 0.32173633895544357 Test Loss : 0.317656226645989\n",
            "Epoch 3 Train Loss : 0.3116905547932648 Test Loss : 0.3114010765674008\n",
            "Epoch 4 Train Loss : 0.3015111128467995 Test Loss : 0.30608715553572224\n",
            "Epoch 5 Train Loss : 0.29092938177335237 Test Loss : 0.30172576760030856\n",
            "Epoch 6 Train Loss : 0.2853822056402657 Test Loss : 0.2972324746809188\n",
            "Epoch 7 Train Loss : 0.2788739553742063 Test Loss : 0.29488168713773133\n",
            "Epoch 8 Train Loss : 0.27231431509385995 Test Loss : 0.2909704470046007\n",
            "Epoch 9 Train Loss : 0.26766905310089145 Test Loss : 0.2906973608739816\n",
            "Epoch 10 Train Loss : 0.26199333021032023 Test Loss : 0.28911208532228594\n"
          ]
        }
      ],
      "source": [
        "criterion = nn.CrossEntropyLoss()  # 다중 클래스 분류를 위한 손실 함수\n",
        "optimizer = optim.Adam(model.parameters(), lr=0.0001)  # Adam 옵티마이저\n",
        "\n",
        "train_losses = []\n",
        "test_losses = []\n",
        "\n",
        "# 학습 횟수 만큼 반복\n",
        "for epoch in range(10):\n",
        "\n",
        "    # 모델 학습(학습데이터)\n",
        "    train_loss = train(model, train_loader, criterion, optimizer, device)\n",
        "    train_losses.append(train_loss)\n",
        "\n",
        "    # 모델 평가 (평가데이터)\n",
        "    test_loss = evaluate(model, test_loader, criterion, device)\n",
        "    test_losses.append(test_loss)\n",
        "\n",
        "    print(f'Epoch {epoch+1} Train Loss : {train_loss} Test Loss : {test_loss}')"
      ]
    }
  ],
  "metadata": {
    "colab": {
      "provenance": [],
      "include_colab_link": true
    },
    "kernelspec": {
      "display_name": "Python 3",
      "name": "python3"
    },
    "language_info": {
      "codemirror_mode": {
        "name": "ipython",
        "version": 3
      },
      "file_extension": ".py",
      "mimetype": "text/x-python",
      "name": "python",
      "nbconvert_exporter": "python",
      "pygments_lexer": "ipython3",
      "version": "3.10.16"
    }
  },
  "nbformat": 4,
  "nbformat_minor": 5
}