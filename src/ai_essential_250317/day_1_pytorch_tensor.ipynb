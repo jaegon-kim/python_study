{
  "cells": [
    {
      "cell_type": "markdown",
      "metadata": {
        "id": "view-in-github",
        "colab_type": "text"
      },
      "source": [
        "<a href=\"https://colab.research.google.com/github/jaegon-kim/python_study/blob/main/src/ai_essential_250317/day_1_pytorch_tensor.ipynb\" target=\"_parent\"><img src=\"https://colab.research.google.com/assets/colab-badge.svg\" alt=\"Open In Colab\"/></a>"
      ]
    },
    {
      "cell_type": "markdown",
      "id": "693030fc",
      "metadata": {
        "id": "693030fc"
      },
      "source": [
        "# 01. Python"
      ]
    },
    {
      "cell_type": "code",
      "source": [
        "print('Helllo')"
      ],
      "metadata": {
        "colab": {
          "base_uri": "https://localhost:8080/"
        },
        "id": "ejsK27ICXd0W",
        "outputId": "e9b4a6d4-76c9-4b6d-f823-d88695150b74"
      },
      "id": "ejsK27ICXd0W",
      "execution_count": 3,
      "outputs": [
        {
          "output_type": "stream",
          "name": "stdout",
          "text": [
            "Helllo\n"
          ]
        }
      ]
    },
    {
      "cell_type": "markdown",
      "id": "4354f038",
      "metadata": {
        "id": "4354f038"
      },
      "source": [
        "## 01-001 Python 코드"
      ]
    },
    {
      "cell_type": "code",
      "execution_count": 4,
      "id": "33845045",
      "metadata": {
        "colab": {
          "base_uri": "https://localhost:8080/"
        },
        "id": "33845045",
        "outputId": "c0b9aa89-7ef0-4721-cfd8-d5e82075a327"
      },
      "outputs": [
        {
          "output_type": "stream",
          "name": "stdout",
          "text": [
            "1 is odd\n",
            "2 is even\n",
            "3 is odd\n",
            "4 is even\n",
            "5 is odd\n"
          ]
        }
      ],
      "source": [
        "# Python: 들여쓰기로 코드 블록 설정\n",
        "def check_numbers(numbers):\n",
        "    for number in numbers:\n",
        "        if number % 2 == 0:\n",
        "            print(f'{number} is even')\n",
        "        else:\n",
        "            print(f'{number} is odd')\n",
        "\n",
        "# 함수 호출\n",
        "numbers = [1, 2, 3, 4, 5]\n",
        "check_numbers(numbers)"
      ]
    },
    {
      "cell_type": "markdown",
      "id": "3aa94c4f",
      "metadata": {
        "id": "3aa94c4f"
      },
      "source": [
        "## 01-002 Python: for문을 이용한 시퀀스 순회 구조"
      ]
    },
    {
      "cell_type": "code",
      "execution_count": 5,
      "id": "753fb67e",
      "metadata": {
        "id": "753fb67e",
        "scrolled": true,
        "colab": {
          "base_uri": "https://localhost:8080/",
          "height": 110
        },
        "outputId": "b8f544b8-21c1-4a04-bbc4-62230b83406f"
      },
      "outputs": [
        {
          "output_type": "error",
          "ename": "SyntaxError",
          "evalue": "invalid syntax (<ipython-input-5-54d8c16c433b>, line 4)",
          "traceback": [
            "\u001b[0;36m  File \u001b[0;32m\"<ipython-input-5-54d8c16c433b>\"\u001b[0;36m, line \u001b[0;32m4\u001b[0m\n\u001b[0;31m    실행할 코드\u001b[0m\n\u001b[0m        ^\u001b[0m\n\u001b[0;31mSyntaxError\u001b[0m\u001b[0;31m:\u001b[0m invalid syntax\n"
          ]
        }
      ],
      "source": [
        "# for문을 이용한 시퀀스 순회 구조\n",
        "# 시퀀스의 각 요소가 변수에 순차적으로 대입되어 실행 코드가 반복 수행됨\n",
        "for 변수 in 시퀀스:\n",
        "    실행할 코드"
      ]
    },
    {
      "cell_type": "markdown",
      "id": "db87ac98",
      "metadata": {
        "id": "db87ac98"
      },
      "source": [
        "## 01-003 Python: for문을 이용한 시퀀스 순회 구조"
      ]
    },
    {
      "cell_type": "code",
      "execution_count": 6,
      "id": "a89c82eb",
      "metadata": {
        "colab": {
          "base_uri": "https://localhost:8080/"
        },
        "id": "a89c82eb",
        "outputId": "65e8992b-51dc-4471-e8b4-356cd6bca3db"
      },
      "outputs": [
        {
          "output_type": "stream",
          "name": "stdout",
          "text": [
            "0\n",
            "1\n",
            "2\n",
            "3\n",
            "4\n"
          ]
        }
      ],
      "source": [
        "numbers = [0, 1, 2, 3, 4]  # 리스트 생성\n",
        "\n",
        "for number in numbers:  # 리스트의 각 요소를 순차적으로 number 변수에 대입\n",
        "    print(number)  # number의 값을 출력"
      ]
    },
    {
      "cell_type": "markdown",
      "id": "44709f67",
      "metadata": {
        "id": "44709f67"
      },
      "source": [
        "## 01-004 Python: range() 함수를 이용한 반복"
      ]
    },
    {
      "cell_type": "code",
      "execution_count": 7,
      "id": "4f798d81",
      "metadata": {
        "colab": {
          "base_uri": "https://localhost:8080/"
        },
        "id": "4f798d81",
        "outputId": "dfd244b3-9e5d-4a03-a3fe-9304db6f6b03"
      },
      "outputs": [
        {
          "output_type": "stream",
          "name": "stdout",
          "text": [
            "0\n",
            "1\n",
            "2\n",
            "3\n",
            "4\n"
          ]
        }
      ],
      "source": [
        "# range() 함수를 사용한 반복문\n",
        "for number in range(5):  # 0부터 4까지의 숫자를 생성하여 number 변수에 대입\n",
        "    print(number)  # number의 값을 출력"
      ]
    },
    {
      "cell_type": "markdown",
      "id": "85a2407e",
      "metadata": {
        "id": "85a2407e"
      },
      "source": [
        "## 01-005 Python: 함수의 기본 구조"
      ]
    },
    {
      "cell_type": "code",
      "execution_count": null,
      "id": "5732817c",
      "metadata": {
        "id": "5732817c"
      },
      "outputs": [],
      "source": [
        "# 함수 정의 예시\n",
        "def 함수이름(매개변수1, 매개변수2):\n",
        "    # 실행할 코드\n",
        "    return 반환값  # 반환값은 선택 사항"
      ]
    },
    {
      "cell_type": "markdown",
      "id": "8f5d4be5",
      "metadata": {
        "id": "8f5d4be5"
      },
      "source": [
        "## 01-006 Python: 함수 정의 및 호출"
      ]
    },
    {
      "cell_type": "code",
      "execution_count": null,
      "id": "66eeb895",
      "metadata": {
        "colab": {
          "base_uri": "https://localhost:8080/"
        },
        "id": "66eeb895",
        "outputId": "ef92712e-0f38-42cd-9b90-5f2ddb006570"
      },
      "outputs": [
        {
          "output_type": "stream",
          "name": "stdout",
          "text": [
            "8\n"
          ]
        }
      ],
      "source": [
        "# 두 값을 더하는 함수 정의\n",
        "def add(a, b):  # a와 b라는 두 매개변수를 받음\n",
        "    return a + b  # 두 값을 더한 결과를 반환\n",
        "\n",
        "# 함수 호출 및 결과 출력\n",
        "result = add(5, 3)  # add 함수를 호출하여 5와 3을 더한 결과를 반환받음\n",
        "print(result)  # 결과값 출력 -> 8"
      ]
    },
    {
      "cell_type": "markdown",
      "id": "87219767",
      "metadata": {
        "id": "87219767"
      },
      "source": [
        "## 01-007 Python: 기본 매개변수를 사용하는 함수"
      ]
    },
    {
      "cell_type": "code",
      "execution_count": null,
      "id": "28650805",
      "metadata": {
        "colab": {
          "base_uri": "https://localhost:8080/"
        },
        "id": "28650805",
        "outputId": "33454f73-cb78-4465-8811-ff3c51c1ea10"
      },
      "outputs": [
        {
          "output_type": "stream",
          "name": "stdout",
          "text": [
            "Welcome Guest!\n",
            "Welcome to AI Essential!\n"
          ]
        }
      ],
      "source": [
        "# 기본 매개변수를 사용하는 함수 정의\n",
        "def welcome(name='Guest'):  # 기본값이 'Guest'인 매개변수 name\n",
        "    return f'Welcome {name}!'  # name 값을 사용해 환영 메시지 반환\n",
        "\n",
        "# 함수 호출 및 결과 출력\n",
        "print(welcome())  # 매개변수를 전달하지 않으면 기본값 'Guest'가 사용됨 -> 'Welcome Guest!'\n",
        "print(welcome('to AI Essential'))  # 'to AI Essential' 값을 전달 -> 'Welcome to AI Essential!'"
      ]
    },
    {
      "cell_type": "markdown",
      "id": "ce207703",
      "metadata": {
        "id": "ce207703"
      },
      "source": [
        "## 01-008 Python: 모듈 생성 및 사용"
      ]
    },
    {
      "cell_type": "code",
      "execution_count": null,
      "id": "914dee08",
      "metadata": {
        "colab": {
          "base_uri": "https://localhost:8080/"
        },
        "id": "914dee08",
        "outputId": "85a26939-5852-4e58-9f7c-03d7e73af0f8"
      },
      "outputs": [
        {
          "output_type": "stream",
          "name": "stdout",
          "text": [
            "Writing mymodule.py\n"
          ]
        }
      ],
      "source": [
        "%%writefile mymodule.py\n",
        "# mymodule.py\n",
        "def welcome(name='Guest'):\n",
        "    return f'Welcome {name}!'  # 기본값을 사용하여 환영 메시지 반환\n",
        "\n",
        "def add(a, b):\n",
        "    return a + b  # 두 값을 더한 결과를 반환"
      ]
    },
    {
      "cell_type": "markdown",
      "id": "443334b1",
      "metadata": {
        "id": "443334b1"
      },
      "source": [
        "## 01-009 Python: 모듈을 사용하여 함수 호출하기"
      ]
    },
    {
      "cell_type": "code",
      "execution_count": null,
      "id": "98747b62",
      "metadata": {
        "colab": {
          "base_uri": "https://localhost:8080/"
        },
        "id": "98747b62",
        "outputId": "d698480e-2059-40fa-e8e9-e13614c9acbf"
      },
      "outputs": [
        {
          "output_type": "stream",
          "name": "stdout",
          "text": [
            "Welcome to AI Essential!\n",
            "8\n"
          ]
        }
      ],
      "source": [
        "# mymodule 모듈을 import\n",
        "import mymodule\n",
        "\n",
        "# 모듈 내 함수 호출\n",
        "print(mymodule.welcome('to AI Essential'))  # 'Welcome to AI Essential!' 출력\n",
        "print(mymodule.add(3, 5))  # 3 + 5 = 8 출력"
      ]
    },
    {
      "cell_type": "markdown",
      "id": "d48e9a29",
      "metadata": {
        "id": "d48e9a29"
      },
      "source": [
        "## 01-010 Python: 모듈을 별칭으로 불러오기"
      ]
    },
    {
      "cell_type": "code",
      "execution_count": null,
      "id": "b4d47074",
      "metadata": {
        "colab": {
          "base_uri": "https://localhost:8080/"
        },
        "id": "b4d47074",
        "outputId": "60f27347-1c21-4e9a-91bd-c41417d984fa"
      },
      "outputs": [
        {
          "output_type": "stream",
          "name": "stdout",
          "text": [
            "Welcome to AI Essential!\n",
            "8\n"
          ]
        }
      ],
      "source": [
        "# mymodule 모듈을 별칭 'mm'으로 import\n",
        "import mymodule as mm\n",
        "\n",
        "# 모듈의 함수를 별칭을 사용하여 호출\n",
        "print(mm.welcome('to AI Essential'))  # 'Welcome to AI Essential!' 출력\n",
        "print(mm.add(3, 5))  # 3 + 5 = 8 출력"
      ]
    },
    {
      "cell_type": "markdown",
      "id": "b0bc1b04",
      "metadata": {
        "id": "b0bc1b04"
      },
      "source": [
        "## 01-011 Python: 모듈에서 특정 함수만 불러오기"
      ]
    },
    {
      "cell_type": "code",
      "execution_count": null,
      "id": "26fde30c",
      "metadata": {
        "id": "26fde30c",
        "outputId": "5764106d-a005-4aa1-8541-ec5f4a38aed5",
        "colab": {
          "base_uri": "https://localhost:8080/"
        }
      },
      "outputs": [
        {
          "output_type": "stream",
          "name": "stdout",
          "text": [
            "Welcome to AI Essential!\n",
            "8\n"
          ]
        }
      ],
      "source": [
        "# mymodule 모듈에서 특정 함수만 불러오기\n",
        "from mymodule import welcome, add\n",
        "\n",
        "# welcome 함수 호출\n",
        "print(welcome('to AI Essential'))  # 'Welcome to AI Essential!' 출력\n",
        "\n",
        "# add 함수 호출\n",
        "print(add(3, 5))  # 3 + 5 = 8 출력"
      ]
    },
    {
      "cell_type": "markdown",
      "id": "fa454d1b",
      "metadata": {
        "id": "fa454d1b"
      },
      "source": [
        "---"
      ]
    },
    {
      "cell_type": "markdown",
      "id": "d542dc1c",
      "metadata": {
        "id": "d542dc1c"
      },
      "source": [
        "# 02. PyTorch Tensor"
      ]
    },
    {
      "cell_type": "markdown",
      "id": "949d1ba9",
      "metadata": {
        "id": "949d1ba9"
      },
      "source": [
        "## 02-001 PyTorch 라이브러리 임포트"
      ]
    },
    {
      "cell_type": "code",
      "execution_count": 8,
      "id": "07b52b21",
      "metadata": {
        "id": "07b52b21"
      },
      "outputs": [],
      "source": [
        "import torch  # PyTorch 라이브러리 임포트"
      ]
    },
    {
      "cell_type": "markdown",
      "id": "b76a7af4",
      "metadata": {
        "id": "b76a7af4"
      },
      "source": [
        "## 02-002 1D 텐서 생성 및 출력"
      ]
    },
    {
      "cell_type": "code",
      "execution_count": 9,
      "id": "8d79d288",
      "metadata": {
        "colab": {
          "base_uri": "https://localhost:8080/"
        },
        "id": "8d79d288",
        "outputId": "c23060e9-0ce4-428e-f55d-04a2c99c1902"
      },
      "outputs": [
        {
          "output_type": "execute_result",
          "data": {
            "text/plain": [
              "tensor([1., 2., 3.])"
            ]
          },
          "metadata": {},
          "execution_count": 9
        }
      ],
      "source": [
        "# 1차원 텐서를 생성 (값: 1.0, 2.0, 3.0)\n",
        "tensor_1d = torch.tensor([1.0, 2.0, 3.0])\n",
        "tensor_1d\n",
        "# 생성된 텐서를 출력 -> tensor([1., 2., 3.])"
      ]
    },
    {
      "cell_type": "markdown",
      "id": "36ced722",
      "metadata": {
        "id": "36ced722"
      },
      "source": [
        "## 02-003 2D 텐서 생성 및 출력"
      ]
    },
    {
      "cell_type": "code",
      "execution_count": 10,
      "id": "10498645",
      "metadata": {
        "colab": {
          "base_uri": "https://localhost:8080/"
        },
        "id": "10498645",
        "outputId": "e181eb36-53de-44f4-acdc-49f9e76eeeba"
      },
      "outputs": [
        {
          "output_type": "execute_result",
          "data": {
            "text/plain": [
              "tensor([[1., 2.],\n",
              "        [3., 4.]])"
            ]
          },
          "metadata": {},
          "execution_count": 10
        }
      ],
      "source": [
        "# 2차원 텐서를 생성 (값: [[1.0, 2.0], [3.0, 4.0]])\n",
        "tensor_2d = torch.tensor([[1.0, 2.0],\n",
        "                          [3.0, 4.0]])\n",
        "tensor_2d\n",
        "# 생성된 텐서를 출력 ->tensor([[1., 2.],\n",
        "#                           [3., 4.]])"
      ]
    },
    {
      "cell_type": "code",
      "source": [
        "tensor_2d.shape"
      ],
      "metadata": {
        "colab": {
          "base_uri": "https://localhost:8080/"
        },
        "id": "qdUKR8Fpme3n",
        "outputId": "5dabbbf8-6c43-4e6c-9ff1-d21191adc50c"
      },
      "id": "qdUKR8Fpme3n",
      "execution_count": 11,
      "outputs": [
        {
          "output_type": "execute_result",
          "data": {
            "text/plain": [
              "torch.Size([2, 2])"
            ]
          },
          "metadata": {},
          "execution_count": 11
        }
      ]
    },
    {
      "cell_type": "code",
      "source": [
        "tensor_2d.dtype"
      ],
      "metadata": {
        "colab": {
          "base_uri": "https://localhost:8080/"
        },
        "id": "tHqDJI27nCrx",
        "outputId": "d36efeed-7273-4940-99a5-530d2e14ace9"
      },
      "id": "tHqDJI27nCrx",
      "execution_count": 12,
      "outputs": [
        {
          "output_type": "execute_result",
          "data": {
            "text/plain": [
              "torch.float32"
            ]
          },
          "metadata": {},
          "execution_count": 12
        }
      ]
    },
    {
      "cell_type": "markdown",
      "id": "ad9d68bf",
      "metadata": {
        "id": "ad9d68bf"
      },
      "source": [
        "## 02-004 텐서를 GPU로 이동"
      ]
    },
    {
      "cell_type": "code",
      "execution_count": null,
      "id": "8b9ef0ec",
      "metadata": {
        "colab": {
          "base_uri": "https://localhost:8080/"
        },
        "id": "8b9ef0ec",
        "outputId": "cadcc0d9-d903-478c-aee1-773db269369e"
      },
      "outputs": [
        {
          "output_type": "execute_result",
          "data": {
            "text/plain": [
              "device(type='cpu')"
            ]
          },
          "metadata": {},
          "execution_count": 13
        }
      ],
      "source": [
        "device = 'cuda' if torch.cuda.is_available() else 'cpu' # GPU 사용 가능 여부 확인\n",
        "tensor_1d = tensor_1d.to(device)  # 1D 텐서 GPU로 이동\n",
        "tensor_1d.device"
      ]
    },
    {
      "cell_type": "markdown",
      "id": "c51de27b",
      "metadata": {
        "id": "c51de27b"
      },
      "source": [
        "## 02-005 텐서 생성 및 dtype 지정"
      ]
    },
    {
      "cell_type": "code",
      "execution_count": null,
      "id": "c6898393",
      "metadata": {
        "colab": {
          "base_uri": "https://localhost:8080/"
        },
        "id": "c6898393",
        "outputId": "f8b92b19-68fc-45dd-d09e-94115fe63cfb"
      },
      "outputs": [
        {
          "output_type": "execute_result",
          "data": {
            "text/plain": [
              "tensor([1., 2., 3.], dtype=torch.float64)"
            ]
          },
          "metadata": {},
          "execution_count": 14
        }
      ],
      "source": [
        "tensor_1d = torch.tensor([1, 2, 3], dtype=torch.float64)  # dtype을 float64로 지정\n",
        "tensor_1d  # 텐서 출력 -> tensor([1., 2., 3.], dtype=torch.float64)"
      ]
    },
    {
      "cell_type": "code",
      "execution_count": null,
      "id": "0e3b7159",
      "metadata": {
        "colab": {
          "base_uri": "https://localhost:8080/"
        },
        "id": "0e3b7159",
        "outputId": "78e45269-aec8-49ea-8439-1ba9b55ec3ed"
      },
      "outputs": [
        {
          "output_type": "execute_result",
          "data": {
            "text/plain": [
              "tensor([1, 2, 3])"
            ]
          },
          "metadata": {},
          "execution_count": 15
        }
      ],
      "source": [
        "tensor_1d = tensor_1d.to(torch.int64)  # dtype을 int64로 지정\n",
        "tensor_1d  # 텐서 출력 -> tensor([1, 2, 3])"
      ]
    },
    {
      "cell_type": "markdown",
      "source": [
        "텐서의 재 구조화\n",
        "1. 차원 변경 4d --> 2d, 2d --> 5d\n",
        "2. 축의 크기를 변경 (10, 64, 7, 7) --> (10, 7, 7, 64)"
      ],
      "metadata": {
        "id": "tvSz1_XfrVGe"
      },
      "id": "tvSz1_XfrVGe"
    },
    {
      "cell_type": "markdown",
      "id": "cc05520f",
      "metadata": {
        "id": "cc05520f"
      },
      "source": [
        "## 02-006 4차원 텐서의 2차원 변환"
      ]
    },
    {
      "cell_type": "markdown",
      "source": [
        "randn : 표준 정규 분포(평균: 0, 표준 편차 1)인 랜덤 텐서를 생성해 준다."
      ],
      "metadata": {
        "id": "WI1S_IjGqczN"
      },
      "id": "WI1S_IjGqczN"
    },
    {
      "cell_type": "code",
      "source": [
        "# Random Seed를 고정하는 방법\n",
        "torch.manual_seed(0)"
      ],
      "metadata": {
        "id": "_vnf0bCOq3uF"
      },
      "id": "_vnf0bCOq3uF",
      "execution_count": null,
      "outputs": []
    },
    {
      "cell_type": "code",
      "execution_count": 14,
      "id": "36a8ebb0",
      "metadata": {
        "colab": {
          "base_uri": "https://localhost:8080/"
        },
        "id": "36a8ebb0",
        "outputId": "76bda56c-b3f9-4cdb-bac3-74fc50e2e062"
      },
      "outputs": [
        {
          "output_type": "execute_result",
          "data": {
            "text/plain": [
              "torch.Size([10, 64, 7, 7])"
            ]
          },
          "metadata": {},
          "execution_count": 14
        }
      ],
      "source": [
        "x = torch.randn(10, 64, 7, 7)  # 4차원 텐서 생성: (10, 64, 7, 7)\n",
        "x.shape"
      ]
    },
    {
      "cell_type": "code",
      "execution_count": 15,
      "id": "aab8fdda",
      "metadata": {
        "colab": {
          "base_uri": "https://localhost:8080/"
        },
        "id": "aab8fdda",
        "outputId": "75c5032a-531e-4204-9f7b-fc99f3c1e597"
      },
      "outputs": [
        {
          "output_type": "execute_result",
          "data": {
            "text/plain": [
              "torch.Size([10, 3136])"
            ]
          },
          "metadata": {},
          "execution_count": 15
        }
      ],
      "source": [
        "y = x.reshape(x.shape[0], -1)  # 텐서를 (10, 64 * 7 * 7)으로 변환, 즉 2차원 텐서로 변경\n",
        "# -1은 나머지 차원을 자동으로 계산하게 하여 (10, 3136)으로 변경\n",
        "y.shape  # y의 차원은 (10, 3136)"
      ]
    },
    {
      "cell_type": "code",
      "source": [
        "y = x.reshape(x.shape[0], x.shape[1], -1)\n",
        "y.shape"
      ],
      "metadata": {
        "colab": {
          "base_uri": "https://localhost:8080/"
        },
        "id": "g5UWQ2eWsQBt",
        "outputId": "1a38fa27-2ec1-4d4e-ab83-ec197f93c194"
      },
      "id": "g5UWQ2eWsQBt",
      "execution_count": 16,
      "outputs": [
        {
          "output_type": "execute_result",
          "data": {
            "text/plain": [
              "torch.Size([10, 64, 49])"
            ]
          },
          "metadata": {},
          "execution_count": 16
        }
      ]
    },
    {
      "cell_type": "code",
      "source": [
        "y = x.reshape(x.shape[0], x.shape[1], x.shape[2] * x.shape[3])\n",
        "y.shape"
      ],
      "metadata": {
        "colab": {
          "base_uri": "https://localhost:8080/"
        },
        "id": "o_Uy1Jo_uvKn",
        "outputId": "cb723099-dd0f-4d9b-a012-64cb18f4a1e3"
      },
      "id": "o_Uy1Jo_uvKn",
      "execution_count": 17,
      "outputs": [
        {
          "output_type": "execute_result",
          "data": {
            "text/plain": [
              "torch.Size([10, 64, 49])"
            ]
          },
          "metadata": {},
          "execution_count": 17
        }
      ]
    },
    {
      "cell_type": "markdown",
      "id": "a8bd9f08",
      "metadata": {
        "id": "a8bd9f08"
      },
      "source": [
        "\n",
        "## 02-007 4차원 텐서의 차원 재배열"
      ]
    },
    {
      "cell_type": "code",
      "execution_count": null,
      "id": "ab076014",
      "metadata": {
        "colab": {
          "base_uri": "https://localhost:8080/"
        },
        "id": "ab076014",
        "outputId": "8be130aa-3144-4fdf-ee72-c3fd132a76aa"
      },
      "outputs": [
        {
          "output_type": "execute_result",
          "data": {
            "text/plain": [
              "torch.Size([10, 3, 28, 28])"
            ]
          },
          "metadata": {},
          "execution_count": 18
        }
      ],
      "source": [
        "# 데이터의 재구조화도 하지만, 데이터의 위치도 변경이 된다.\n",
        "\n",
        "x = torch.randn(10, 28, 28, 3)  # 4차원 텐서 생성: (10, 28, 28, 3)\n",
        "y = x.permute(0, 3, 1, 2)  # 차원의 순서를 (10, 3, 28, 28)로 재배열\n",
        "y.shape  # y의 차원은 (10, 3, 28, 28)"
      ]
    },
    {
      "cell_type": "code",
      "source": [
        "a = torch.tensor([1, 2, 3, 4, 5, 6]).reshape(2, 3)\n",
        "a, a.shape"
      ],
      "metadata": {
        "colab": {
          "base_uri": "https://localhost:8080/"
        },
        "id": "Ou4iT_wZwG3g",
        "outputId": "41b2478f-5721-4e3b-9cd4-c6ff078ce7f0"
      },
      "id": "Ou4iT_wZwG3g",
      "execution_count": 18,
      "outputs": [
        {
          "output_type": "execute_result",
          "data": {
            "text/plain": [
              "(tensor([[1, 2, 3],\n",
              "         [4, 5, 6]]),\n",
              " torch.Size([2, 3]))"
            ]
          },
          "metadata": {},
          "execution_count": 18
        }
      ]
    },
    {
      "cell_type": "code",
      "source": [],
      "metadata": {
        "id": "cN6IfYBhwTMH"
      },
      "id": "cN6IfYBhwTMH",
      "execution_count": null,
      "outputs": []
    },
    {
      "cell_type": "code",
      "source": [
        " b = a.reshape(3, 2)\n",
        " b, b.shape"
      ],
      "metadata": {
        "colab": {
          "base_uri": "https://localhost:8080/"
        },
        "id": "1hRo1rZawUNW",
        "outputId": "73b71d24-c20e-4dba-bf1f-f96368403322"
      },
      "id": "1hRo1rZawUNW",
      "execution_count": 19,
      "outputs": [
        {
          "output_type": "execute_result",
          "data": {
            "text/plain": [
              "(tensor([[1, 2],\n",
              "         [3, 4],\n",
              "         [5, 6]]),\n",
              " torch.Size([3, 2]))"
            ]
          },
          "metadata": {},
          "execution_count": 19
        }
      ]
    },
    {
      "cell_type": "code",
      "source": [
        "# 전치를 할 수 있다.\n",
        "\n",
        "c = a.permute(1, 0)\n",
        "c, c.shape"
      ],
      "metadata": {
        "colab": {
          "base_uri": "https://localhost:8080/"
        },
        "id": "ZXeAuGpiwfOu",
        "outputId": "dbd96d37-9403-4391-e7ba-ca66d6d56006"
      },
      "id": "ZXeAuGpiwfOu",
      "execution_count": 20,
      "outputs": [
        {
          "output_type": "execute_result",
          "data": {
            "text/plain": [
              "(tensor([[1, 4],\n",
              "         [2, 5],\n",
              "         [3, 6]]),\n",
              " torch.Size([3, 2]))"
            ]
          },
          "metadata": {},
          "execution_count": 20
        }
      ]
    },
    {
      "cell_type": "markdown",
      "id": "cda3afe3",
      "metadata": {
        "id": "cda3afe3"
      },
      "source": [
        "## 02-008 1D 텐서에서 요소 선택"
      ]
    },
    {
      "cell_type": "code",
      "execution_count": null,
      "id": "9b8d3b0e",
      "metadata": {
        "colab": {
          "base_uri": "https://localhost:8080/"
        },
        "id": "9b8d3b0e",
        "outputId": "a18cd514-046f-47ad-f545-22a6f2509088"
      },
      "outputs": [
        {
          "output_type": "stream",
          "name": "stdout",
          "text": [
            "tensor(10)\n",
            "tensor(40)\n"
          ]
        }
      ],
      "source": [
        "# 1D 텐서 생성\n",
        "tensor_1d = torch.tensor([10, 20, 30, 40])\n",
        "\n",
        "# 첫 번째 요소 선택 (Python 인덱스는 0부터 시작)\n",
        "print(tensor_1d[0]) # 출력: tensor(10)\n",
        "\n",
        "# 마지막 요소 선택\n",
        "print(tensor_1d[-1]) # 출력: tensor(40)"
      ]
    },
    {
      "cell_type": "markdown",
      "id": "633ce2af",
      "metadata": {
        "id": "633ce2af"
      },
      "source": [
        "## 02-009 2D 텐서에서 특정 요소 선택"
      ]
    },
    {
      "cell_type": "code",
      "execution_count": null,
      "id": "5133c8c0",
      "metadata": {
        "colab": {
          "base_uri": "https://localhost:8080/"
        },
        "id": "5133c8c0",
        "outputId": "57f09da7-0038-4f85-8e7a-b14e05cdd39b"
      },
      "outputs": [
        {
          "output_type": "stream",
          "name": "stdout",
          "text": [
            "tensor(2)\n",
            "tensor(9)\n"
          ]
        }
      ],
      "source": [
        "# 2D 텐서 생성\n",
        "tensor_2d = torch.tensor([[1, 2, 3], [4, 5, 6], [7, 8, 9]])\n",
        "\n",
        "# 첫 번째 행, 두 번째 열 요소 선택\n",
        "print(tensor_2d[0, 1]) # 출력: tensor(2)\n",
        "\n",
        "\n",
        "# 마지막 행, 마지막 열 요소 선택\n",
        "print(tensor_2d[-1, -1])# 출력: tensor(9)"
      ]
    },
    {
      "cell_type": "markdown",
      "id": "ae8f685d",
      "metadata": {
        "id": "ae8f685d"
      },
      "source": [
        "## 02-010 1D 텐서에서 슬라이싱으로 요소 선택"
      ]
    },
    {
      "cell_type": "code",
      "execution_count": null,
      "id": "f92f4c7a",
      "metadata": {
        "colab": {
          "base_uri": "https://localhost:8080/"
        },
        "id": "f92f4c7a",
        "outputId": "68bed1e8-df3c-4ca8-ceb4-220e0ea3cf30"
      },
      "outputs": [
        {
          "output_type": "execute_result",
          "data": {
            "text/plain": [
              "tensor([10, 20, 30, 40])"
            ]
          },
          "metadata": {},
          "execution_count": 21
        }
      ],
      "source": [
        "# 1D 텐서 생성\n",
        "tensor_1d = torch.tensor([10, 20, 30, 40, 50])\n",
        "\n",
        "# 인덱스 대신 스라이스를 전달하여 조회\n",
        "# * 슬라이스의 사용 방법\n",
        "# slice = (start : stop : step=1)\n",
        "# tensor[ start : stop : step ]\n",
        "# - step 은 default 1로 생략 가능하다.\n",
        "# - stat는 인덱스 0부터 시작하는 것의 의미로 생략 가능하다.\n",
        "# - stop은 인덱스 마지막까지의 의미로 생략이 가능하다.\n",
        "# - stop으로 실제 인덱스 보다 큰 인덱스를 써도 끝까지 지정되나, 끝을 지정하려면 비워두는게 낫다.\n",
        "# - : 는 전체를 의미한다.\n",
        "\n",
        "\n",
        "# 처음부터 인덱스 3까지의 요소 선택\n",
        "tensor_1d[:4]  # 출력: tensor([10, 20, 30, 40])"
      ]
    },
    {
      "cell_type": "markdown",
      "id": "7b7d3fd9",
      "metadata": {
        "id": "7b7d3fd9"
      },
      "source": [
        "## 02-011 2D 텐서에서 슬라이싱으로 요소 선택"
      ]
    },
    {
      "cell_type": "code",
      "execution_count": null,
      "id": "2369451c",
      "metadata": {
        "colab": {
          "base_uri": "https://localhost:8080/"
        },
        "id": "2369451c",
        "outputId": "eb662484-d066-4319-e09e-ddce3330d611"
      },
      "outputs": [
        {
          "output_type": "stream",
          "name": "stdout",
          "text": [
            "tensor([1, 2, 3])\n",
            "tensor([1, 4, 7])\n"
          ]
        }
      ],
      "source": [
        "# 2D 텐서 슬라이싱\n",
        "tensor_2d = torch.tensor([[1, 2, 3], [4, 5, 6], [7, 8, 9]])\n",
        "\n",
        "# 첫 번째 행 선택\n",
        "print(tensor_2d[0, :])  # 출력: tensor([1, 2, 3])\n",
        "\n",
        "# 첫 번째 열 선택 - 차원이 깍여져 나간다.\n",
        "print(tensor_2d[:, 0])  # 출력: tensor([1, 4, 7])"
      ]
    },
    {
      "cell_type": "markdown",
      "id": "33f6a157",
      "metadata": {
        "id": "33f6a157"
      },
      "source": [
        "## 02-012 1D 텐서에서 특정 요소 수정"
      ]
    },
    {
      "cell_type": "code",
      "execution_count": null,
      "id": "75430ea1",
      "metadata": {
        "colab": {
          "base_uri": "https://localhost:8080/"
        },
        "id": "75430ea1",
        "outputId": "5993a0d7-8853-4a7c-be98-9c18de9834fc"
      },
      "outputs": [
        {
          "output_type": "stream",
          "name": "stdout",
          "text": [
            "tensor([100,  20,  30,  40,  50])\n",
            "tensor([100, 200, 300, 400,  50])\n"
          ]
        }
      ],
      "source": [
        "# 1D 텐서 생성\n",
        "tensor = torch.tensor([10, 20, 30, 40, 50])\n",
        "\n",
        "# 인덱스 0 위치의 요소 수정\n",
        "tensor[0] = 100\n",
        "print(tensor)  # 출력: tensor([100,  20,  30,  40,  50])\n",
        "\n",
        "\n",
        "# 인덱스 1부터 3까지의 요소 수정\n",
        "tensor[1:4] = torch.tensor([200, 300, 400])\n",
        "print(tensor)  # 출력: tensor([100, 200, 300, 400,  50])"
      ]
    },
    {
      "cell_type": "markdown",
      "id": "15cfd829",
      "metadata": {
        "id": "15cfd829"
      },
      "source": [
        "## 02-013 2D 텐서에서 행의 값 수정"
      ]
    },
    {
      "cell_type": "code",
      "execution_count": null,
      "id": "019f0312",
      "metadata": {
        "colab": {
          "base_uri": "https://localhost:8080/"
        },
        "id": "019f0312",
        "outputId": "04b4d268-bc0e-41e1-f559-b8256f3718dc"
      },
      "outputs": [
        {
          "output_type": "stream",
          "name": "stdout",
          "text": [
            "tensor([[0, 0, 0],\n",
            "        [4, 5, 6],\n",
            "        [7, 8, 9]])\n"
          ]
        }
      ],
      "source": [
        "# 2D 텐서 생성\n",
        "tensor_2d = torch.tensor([[1, 2, 3], [4, 5, 6], [7, 8, 9]])\n",
        "\n",
        "# 첫 번째 행을 모두 0으로 수정\n",
        "tensor_2d[0, :] = 0\n",
        "print(tensor_2d)\n",
        "# 출력: tensor([[0, 0, 0],\n",
        "#               [4, 5, 6],\n",
        "#               [7, 8, 9]])"
      ]
    },
    {
      "cell_type": "code",
      "source": [],
      "metadata": {
        "id": "zkWudJuay840"
      },
      "id": "zkWudJuay840",
      "execution_count": null,
      "outputs": []
    },
    {
      "cell_type": "markdown",
      "id": "e7275851",
      "metadata": {
        "id": "e7275851"
      },
      "source": [
        "## 02-014 요소별 덧셈"
      ]
    },
    {
      "cell_type": "code",
      "execution_count": null,
      "id": "6caabde3",
      "metadata": {
        "colab": {
          "base_uri": "https://localhost:8080/"
        },
        "id": "6caabde3",
        "outputId": "3feb3b31-db70-4678-f041-b0a2ca9b7054"
      },
      "outputs": [
        {
          "output_type": "execute_result",
          "data": {
            "text/plain": [
              "tensor([5, 7, 9])"
            ]
          },
          "metadata": {},
          "execution_count": 25
        }
      ],
      "source": [
        "# Tensor 생성\n",
        "x = torch.tensor([1, 2, 3])\n",
        "y = torch.tensor([4, 5, 6])\n",
        "\n",
        "# 요소별 덧셈\n",
        "add_result = x + y  # 또는 torch.add(x, y)\n",
        "add_result  # 출력: tensor([5, 7, 9])"
      ]
    },
    {
      "cell_type": "markdown",
      "id": "af2ec1c4",
      "metadata": {
        "id": "af2ec1c4"
      },
      "source": [
        "## 02-015 브로드캐스팅을 통한 요소별 덧셈"
      ]
    },
    {
      "cell_type": "code",
      "execution_count": 21,
      "id": "f76fceb8",
      "metadata": {
        "colab": {
          "base_uri": "https://localhost:8080/"
        },
        "id": "f76fceb8",
        "outputId": "e2b0a309-4fe8-438d-9cd3-75e7234b9dbe"
      },
      "outputs": [
        {
          "output_type": "execute_result",
          "data": {
            "text/plain": [
              "tensor([[2, 4, 6],\n",
              "        [5, 7, 9]])"
            ]
          },
          "metadata": {},
          "execution_count": 21
        }
      ],
      "source": [
        "# Tensor 생성\n",
        "# y는 1 x 3 이지만, 확장을 시켜서 [[1, 2, 3], [1, 2, 3]] 확장(브로드 캐스팅) 시켜서 덧셈이 된다.\n",
        "x = torch.tensor([[1, 2, 3], [4, 5, 6]])\n",
        "y = torch.tensor([1, 2, 3])\n",
        "\n",
        "# 브로드캐스팅을 통한 요소별 덧셈\n",
        "result = x + y\n",
        "result\n",
        "# 출력: tensor([[2, 4, 6],\n",
        "#               [5, 7, 9]])"
      ]
    },
    {
      "cell_type": "markdown",
      "id": "9423ab79",
      "metadata": {
        "id": "9423ab79"
      },
      "source": [
        "## 02-016 텐서에서 최대값 구하기"
      ]
    },
    {
      "cell_type": "code",
      "execution_count": 25,
      "id": "bfa81d77",
      "metadata": {
        "colab": {
          "base_uri": "https://localhost:8080/"
        },
        "id": "bfa81d77",
        "outputId": "c16be03d-54c1-4c03-9e7a-33a432cb5ed6"
      },
      "outputs": [
        {
          "output_type": "stream",
          "name": "stdout",
          "text": [
            "tensor(9)\n",
            "torch.return_types.max(\n",
            "values=tensor([7, 8, 9]),\n",
            "indices=tensor([0, 1, 2]))\n",
            "tensor([7, 8, 6])\n"
          ]
        }
      ],
      "source": [
        "# Tensor 생성\n",
        "x = torch.tensor([[7, 1, 3],[2, 8, 6],[4, 5, 9]])\n",
        "# tensor([[7, 1, 3],\n",
        "#         [2, 8, 6],\n",
        "#         [4, 5, 9]])\n",
        "\n",
        "# 모든 요소 중 최대값\n",
        "print(torch.max(x))  # 출력: tensor(9)\n",
        "\n",
        "# 특정 차원에서 최대값과 인덱스\n",
        "print(torch.max(x, dim=1))  # 출력 : torch.return_types.max(values=tensor([7, 8, 9]), indices=tensor([0, 1, 2]))\n",
        "\n",
        "# 두 Tensor간 원소별 최대 값 반환\n",
        "print(torch.max(x[0], x[1]))  # 출력 : tensor([7, 8, 6])"
      ]
    },
    {
      "cell_type": "code",
      "source": [
        "# 값 조회\n",
        "print(torch.max(x, dim=1).values)\n",
        "print(torch.max(x, dim=1)[0])"
      ],
      "metadata": {
        "id": "KT_K4JK74Nep",
        "colab": {
          "base_uri": "https://localhost:8080/"
        },
        "outputId": "2cb133cb-0e2f-43f3-db9a-b00378e8b841"
      },
      "id": "KT_K4JK74Nep",
      "execution_count": 26,
      "outputs": [
        {
          "output_type": "stream",
          "name": "stdout",
          "text": [
            "tensor([7, 8, 9])\n",
            "tensor([7, 8, 9])\n"
          ]
        }
      ]
    },
    {
      "cell_type": "code",
      "source": [
        "# 인덱스 조회\n",
        "print(torch.max(x, dim=1).indices)\n",
        "print(torch.max(x, dim=1)[1])"
      ],
      "metadata": {
        "id": "UDsIw7sm4Onp",
        "colab": {
          "base_uri": "https://localhost:8080/"
        },
        "outputId": "7a12cd15-a3fa-4e3d-bccb-80578390c136"
      },
      "id": "UDsIw7sm4Onp",
      "execution_count": 27,
      "outputs": [
        {
          "output_type": "stream",
          "name": "stdout",
          "text": [
            "tensor([0, 1, 2])\n",
            "tensor([0, 1, 2])\n"
          ]
        }
      ]
    },
    {
      "cell_type": "markdown",
      "id": "07581065",
      "metadata": {
        "id": "07581065"
      },
      "source": [
        "## 02-017  텐서에서 합계값 구하기"
      ]
    },
    {
      "cell_type": "code",
      "execution_count": 22,
      "id": "c1ce6c1f",
      "metadata": {
        "colab": {
          "base_uri": "https://localhost:8080/"
        },
        "id": "c1ce6c1f",
        "outputId": "70373253-7660-4edb-e846-144232efc78c"
      },
      "outputs": [
        {
          "output_type": "stream",
          "name": "stdout",
          "text": [
            "tensor(45)\n",
            "tensor([11, 16, 18])\n",
            "tensor([13, 14, 18])\n"
          ]
        }
      ],
      "source": [
        "# Tensor 생성\n",
        "x = torch.tensor([[7, 1, 3],[2, 8, 6],[4, 5, 9]])\n",
        "# tensor([[7, 1, 3],\n",
        "#         [2, 8, 6],\n",
        "#         [4, 5, 9]])\n",
        "\n",
        "# 모든 요소 합\n",
        "print(torch.sum(x))  # 출력: tensor(45)\n",
        "\n",
        "# 특정 차원 별 합\n",
        "print(torch.sum(x, dim=1))  # 출력 : tensor([11, 16, 18]) # 행방향 합\n",
        "\n",
        "print(torch.sum(x, dim=0))  # 출력 : tensor([11, 16, 18]) # 열방향 합\n"
      ]
    },
    {
      "cell_type": "markdown",
      "id": "c06ec169",
      "metadata": {
        "id": "c06ec169"
      },
      "source": [
        "## 연습문제-02-001 1차원 텐서 생성"
      ]
    },
    {
      "cell_type": "code",
      "execution_count": 44,
      "id": "b7929006",
      "metadata": {
        "id": "b7929006",
        "scrolled": true,
        "colab": {
          "base_uri": "https://localhost:8080/"
        },
        "outputId": "b02557e2-d1ff-4141-9101-601e1963c600"
      },
      "outputs": [
        {
          "output_type": "execute_result",
          "data": {
            "text/plain": [
              "tensor([0, 1, 2, 3, 4, 5, 6, 7, 8, 9])"
            ]
          },
          "metadata": {},
          "execution_count": 44
        }
      ],
      "source": [
        "# 1차원 텐서 tensor_1d을 0부터 9까지의 정수로 생성\n",
        "#tensor_1d = torch.tensor(list(range(10)))\n",
        "# or\n",
        "tensor_1d = torch.arange(10)\n",
        "\n",
        "tensor_1d  # 생성된 텐서를 출력"
      ]
    },
    {
      "cell_type": "markdown",
      "id": "8d76e327",
      "metadata": {
        "id": "8d76e327"
      },
      "source": [
        "## 연습문제-02-002 텐서 속성 확인"
      ]
    },
    {
      "cell_type": "code",
      "execution_count": 33,
      "id": "5ca77035",
      "metadata": {
        "id": "5ca77035",
        "colab": {
          "base_uri": "https://localhost:8080/"
        },
        "outputId": "f60c12d4-540c-45f5-8a1b-8aa62edc045e"
      },
      "outputs": [
        {
          "output_type": "stream",
          "name": "stdout",
          "text": [
            "torch.int64\n",
            "cpu\n",
            "torch.Size([10])\n"
          ]
        }
      ],
      "source": [
        "# 1차원 텐서 tensor_1d의 데이터 타입과 할당된 장치, 형태를 확인합니다.\n",
        "#  dtype, device, shape\n",
        "print(tensor_1d.dtype)\n",
        "print(tensor_1d.device)\n",
        "print(tensor_1d.shape)\n"
      ]
    },
    {
      "cell_type": "markdown",
      "id": "58f8353e",
      "metadata": {
        "id": "58f8353e"
      },
      "source": [
        "## 연습문제-02-003 텐서의 크기 변경"
      ]
    },
    {
      "cell_type": "code",
      "execution_count": 34,
      "id": "d0a68e0a",
      "metadata": {
        "id": "d0a68e0a",
        "colab": {
          "base_uri": "https://localhost:8080/"
        },
        "outputId": "6f233348-2497-44f4-e574-ee84b0dde07f"
      },
      "outputs": [
        {
          "output_type": "execute_result",
          "data": {
            "text/plain": [
              "tensor([[0, 1, 2, 3, 4],\n",
              "        [5, 6, 7, 8, 9]])"
            ]
          },
          "metadata": {},
          "execution_count": 34
        }
      ],
      "source": [
        "# 1차원 텐서 tensor_1d의 크기를 2x5로 변경\n",
        "tensor_2x5 = tensor_1d.reshape(2, 5);  # 1차원 텐서를 2x5 텐서로 변경\n",
        "tensor_2x5"
      ]
    },
    {
      "cell_type": "markdown",
      "id": "7d6cbcf5",
      "metadata": {
        "id": "7d6cbcf5"
      },
      "source": [
        "## 연습문제-02-004 텐서에서 최대값과 위치 찾기"
      ]
    },
    {
      "cell_type": "code",
      "execution_count": 45,
      "id": "ebcb6e6e",
      "metadata": {
        "id": "ebcb6e6e",
        "outputId": "4e5a70d6-ec6c-48bd-bdad-a71e9ad63a5d",
        "colab": {
          "base_uri": "https://localhost:8080/"
        }
      },
      "outputs": [
        {
          "output_type": "stream",
          "name": "stdout",
          "text": [
            "tensor(9)\n",
            "torch.return_types.max(\n",
            "values=tensor([4, 9]),\n",
            "indices=tensor([4, 4]))\n",
            "tensor([5, 6, 7, 8, 9])\n"
          ]
        }
      ],
      "source": [
        "# 모든 요소 중 최대값\n",
        "print(torch.max(tensor_2x5))  # 출력: tensor(9)\n",
        "\n",
        "# 특정 차원에서 최대값과 인덱스\n",
        "print(torch.max(tensor_2x5, dim=1) )  # 출력 : torch.return_types.max(values=tensor([4, 9]), indices=tensor([4, 4]))\n",
        "\n",
        "# 두 Tensor간 원소별 최대 값 반환\n",
        "print(torch.max(tensor_2x5[0], tensor_2x5[1]))  # 출력 : tensor([5, 6, 7, 8, 9])"
      ]
    },
    {
      "cell_type": "markdown",
      "id": "a6a7a06f",
      "metadata": {
        "id": "a6a7a06f"
      },
      "source": [
        "---"
      ]
    },
    {
      "cell_type": "markdown",
      "id": "77cd770e",
      "metadata": {
        "id": "77cd770e"
      },
      "source": [
        "# 03. 인공지능"
      ]
    },
    {
      "cell_type": "markdown",
      "id": "44497160",
      "metadata": {
        "id": "44497160"
      },
      "source": [
        "## 03-001 모듈 불러오기"
      ]
    },
    {
      "cell_type": "code",
      "execution_count": null,
      "id": "486cd89d",
      "metadata": {
        "id": "486cd89d"
      },
      "outputs": [],
      "source": [
        "%%capture\n",
        "!pip install JAEN -qU"
      ]
    },
    {
      "cell_type": "code",
      "execution_count": null,
      "id": "14274cac",
      "metadata": {
        "id": "14274cac"
      },
      "outputs": [],
      "source": [
        "# 모듈 설정\n",
        "import torch\n",
        "from JAEN.utils import plot_activation_function"
      ]
    },
    {
      "cell_type": "markdown",
      "id": "9167ac0b",
      "metadata": {
        "id": "9167ac0b"
      },
      "source": [
        "## 03-002 시그모이드 활성화 함수 구현 및 시각화"
      ]
    },
    {
      "cell_type": "code",
      "execution_count": null,
      "id": "5fddd9b6",
      "metadata": {
        "colab": {
          "base_uri": "https://localhost:8080/",
          "height": 719
        },
        "id": "5fddd9b6",
        "outputId": "0b5b5677-c476-4332-c9a0-5f0d341e8b63"
      },
      "outputs": [
        {
          "output_type": "display_data",
          "data": {
            "text/plain": [
              "<Figure size 600x400 with 1 Axes>"
            ],
            "image/png": "[encoded data removed]"
          },
          "metadata": {}
        },
        {
          "output_type": "display_data",
          "data": {
            "text/plain": [
              "<Figure size 600x400 with 1 Axes>"
            ],
            "image/png": "[encoded data removed]"
          },
          "metadata": {}
        }
      ],
      "source": [
        "def sigmoid(x):\n",
        "    return 1 / (1 + torch.exp(-x))\n",
        "\n",
        "plot_activation_function(sigmoid)\n",
        "plot_activation_function(torch.sigmoid)"
      ]
    },
    {
      "cell_type": "markdown",
      "id": "2792caa0",
      "metadata": {
        "id": "2792caa0"
      },
      "source": [
        "## 03-003 Tanh 활성화 함수 구현 및 시각화"
      ]
    },
    {
      "cell_type": "code",
      "execution_count": null,
      "id": "06be52dc",
      "metadata": {
        "colab": {
          "base_uri": "https://localhost:8080/",
          "height": 719
        },
        "id": "06be52dc",
        "outputId": "3d88d056-89c1-4e5c-818e-29cf55a40c25"
      },
      "outputs": [
        {
          "output_type": "display_data",
          "data": {
            "text/plain": [
              "<Figure size 600x400 with 1 Axes>"
            ],
            "image/png": "[encoded data removed]"
          },
          "metadata": {}
        },
        {
          "output_type": "display_data",
          "data": {
            "text/plain": [
              "<Figure size 600x400 with 1 Axes>"
            ],
            "image/png": "[encoded data removed]"
          },
          "metadata": {}
        }
      ],
      "source": [
        "def tanh(x):\n",
        "    return (torch.exp(x) - torch.exp(-x)) / (torch.exp(x) + torch.exp(-x))\n",
        "\n",
        "plot_activation_function(tanh)\n",
        "plot_activation_function(torch.tanh)"
      ]
    },
    {
      "cell_type": "markdown",
      "id": "d3dda23e",
      "metadata": {
        "id": "d3dda23e"
      },
      "source": [
        "## 03-004 ReLU 활성화 함수 구현 및 시각화"
      ]
    },
    {
      "cell_type": "code",
      "execution_count": null,
      "id": "6bf865f3",
      "metadata": {
        "colab": {
          "base_uri": "https://localhost:8080/",
          "height": 719
        },
        "id": "6bf865f3",
        "outputId": "3993cba7-2f6c-4f74-bc14-d895cabeed88"
      },
      "outputs": [
        {
          "output_type": "display_data",
          "data": {
            "text/plain": [
              "<Figure size 600x400 with 1 Axes>"
            ],
            "image/png": "[encoded data removed]"
          },
          "metadata": {}
        },
        {
          "output_type": "display_data",
          "data": {
            "text/plain": [
              "<Figure size 600x400 with 1 Axes>"
            ],
            "image/png": "[encoded data removed]"
          },
          "metadata": {}
        }
      ],
      "source": [
        "def relu(x):\n",
        "    return torch.max(torch.tensor(0.0), x)\n",
        "\n",
        "plot_activation_function(relu)\n",
        "plot_activation_function(torch.relu)"
      ]
    },
    {
      "cell_type": "markdown",
      "id": "30c0c12b",
      "metadata": {
        "id": "30c0c12b"
      },
      "source": [
        "## 03-005 Leaky ReLU 활성화 함수 구현 및 시각화"
      ]
    },
    {
      "cell_type": "code",
      "execution_count": null,
      "id": "00c37fad",
      "metadata": {
        "colab": {
          "base_uri": "https://localhost:8080/",
          "height": 719
        },
        "id": "00c37fad",
        "outputId": "c3f1cfb8-5d52-4bfa-ccca-5e42e1a4afb4"
      },
      "outputs": [
        {
          "output_type": "display_data",
          "data": {
            "text/plain": [
              "<Figure size 600x400 with 1 Axes>"
            ],
            "image/png": "[encoded data removed]"
          },
          "metadata": {}
        },
        {
          "output_type": "display_data",
          "data": {
            "text/plain": [
              "<Figure size 600x400 with 1 Axes>"
            ],
            "image/png": "[encoded data removed]"
          },
          "metadata": {}
        }
      ],
      "source": [
        "from functools import partial\n",
        "\n",
        "def leaky_relu(x, alpha=0.01):\n",
        "    return torch.max(x, alpha * x)\n",
        "\n",
        "alpha = 0.1\n",
        "\n",
        "plot_activation_function(partial(leaky_relu, alpha=alpha))\n",
        "plot_activation_function(partial(torch.nn.functional.leaky_relu, negative_slope=alpha))"
      ]
    },
    {
      "cell_type": "markdown",
      "id": "c096a575",
      "metadata": {
        "id": "c096a575"
      },
      "source": [
        "## 03-006 ELU 활성화 함수 구현 및 시각화"
      ]
    },
    {
      "cell_type": "code",
      "execution_count": null,
      "id": "1edf01db",
      "metadata": {
        "colab": {
          "base_uri": "https://localhost:8080/",
          "height": 719
        },
        "id": "1edf01db",
        "outputId": "0088b058-2262-431f-b67f-d0bbc9784fe1"
      },
      "outputs": [
        {
          "output_type": "display_data",
          "data": {
            "text/plain": [
              "<Figure size 600x400 with 1 Axes>"
            ],
            "image/png": "[encoded data removed]"
          },
          "metadata": {}
        },
        {
          "output_type": "display_data",
          "data": {
            "text/plain": [
              "<Figure size 600x400 with 1 Axes>"
            ],
            "image/png": "[encoded data removed]"
          },
          "metadata": {}
        }
      ],
      "source": [
        "from functools import partial\n",
        "\n",
        "def elu(x, alpha=1.0):\n",
        "    return torch.where(x > 0, x, alpha * (torch.exp(x) - 1))\n",
        "\n",
        "alpha = 1\n",
        "\n",
        "plot_activation_function(partial(elu, alpha=alpha))\n",
        "plot_activation_function(partial(torch.nn.functional.elu, alpha=alpha))"
      ]
    },
    {
      "cell_type": "markdown",
      "id": "026fc906",
      "metadata": {
        "id": "026fc906"
      },
      "source": [
        "## 03-007 requires_grad=True로 설정된 텐서 생성"
      ]
    },
    {
      "cell_type": "code",
      "execution_count": null,
      "id": "b3cbd33e",
      "metadata": {
        "colab": {
          "base_uri": "https://localhost:8080/"
        },
        "id": "b3cbd33e",
        "outputId": "ae3d96b9-e49a-4628-ba8e-578a51133452"
      },
      "outputs": [
        {
          "output_type": "execute_result",
          "data": {
            "text/plain": [
              "tensor([2., 3.], requires_grad=True)"
            ]
          },
          "metadata": {},
          "execution_count": 39
        }
      ],
      "source": [
        "# requires_grad=True로 설정된 텐서 생성\n",
        "x = torch.tensor([2.0, 3.0], requires_grad=True)\n",
        "x"
      ]
    },
    {
      "cell_type": "markdown",
      "id": "6e44a858",
      "metadata": {
        "id": "6e44a858"
      },
      "source": [
        "## 03-008 텐서의 연산 및 역전파 수행"
      ]
    },
    {
      "cell_type": "code",
      "execution_count": null,
      "id": "9d153c6c",
      "metadata": {
        "id": "9d153c6c"
      },
      "outputs": [],
      "source": [
        "# 텐서의 연산\n",
        "y = x ** 2  # y = [4, 9]\n",
        "z = y.sum()  # z = 13\n",
        "\n",
        "# 역전파 수행\n",
        "z.backward()"
      ]
    },
    {
      "cell_type": "markdown",
      "id": "13743e17",
      "metadata": {
        "id": "13743e17"
      },
      "source": [
        "## 03-009 텐서의 기울기(gradient) 계산"
      ]
    },
    {
      "cell_type": "code",
      "execution_count": null,
      "id": "74a3843d",
      "metadata": {
        "colab": {
          "base_uri": "https://localhost:8080/"
        },
        "id": "74a3843d",
        "outputId": "6d9fbc49-3d27-49be-d98d-073dc4dbc0bf"
      },
      "outputs": [
        {
          "output_type": "execute_result",
          "data": {
            "text/plain": [
              "tensor([4., 6.])"
            ]
          },
          "metadata": {},
          "execution_count": 41
        }
      ],
      "source": [
        "# x에 대한 z의 그래디언트 (z가 x에 대해 어떻게 변화하는지를 계산, 편미분 수행)\n",
        "x.grad  # 출력: tensor([4., 6.])\n",
        "\n",
        "# z = x1^2 + x2^2\n",
        "# dz/dx1 = 2 * x1 = 2 * 2 = 4\n",
        "# dz/dx2 = 2 * x2 = 2 * 3 = 6"
      ]
    },
    {
      "cell_type": "code",
      "source": [
        "# 반복 실행\n",
        "y = x ** 2\n",
        "z = y.sum()\n",
        "z.backward()\n",
        "x.grad # 누적되는 미분 값"
      ],
      "metadata": {
        "id": "fCJEQ6rR4Wr-",
        "colab": {
          "base_uri": "https://localhost:8080/"
        },
        "outputId": "edf082b2-d1e0-4bc8-fec8-c3f9fba61ed1"
      },
      "id": "fCJEQ6rR4Wr-",
      "execution_count": null,
      "outputs": [
        {
          "output_type": "execute_result",
          "data": {
            "text/plain": [
              "tensor([ 8., 12.])"
            ]
          },
          "metadata": {},
          "execution_count": 42
        }
      ]
    },
    {
      "cell_type": "markdown",
      "id": "a0f33a2c",
      "metadata": {
        "id": "a0f33a2c"
      },
      "source": [
        "## 03-010 DataLoader와 Dataset 모듈 임포트"
      ]
    },
    {
      "cell_type": "code",
      "execution_count": null,
      "id": "ee2d3d24",
      "metadata": {
        "id": "ee2d3d24"
      },
      "outputs": [],
      "source": [
        "import torch\n",
        "from torch.utils.data import DataLoader, Dataset"
      ]
    },
    {
      "cell_type": "markdown",
      "id": "c6e58fb1",
      "metadata": {
        "id": "c6e58fb1"
      },
      "source": [
        "## 03-011 커스텀 데이터셋 클래스 구현"
      ]
    },
    {
      "cell_type": "code",
      "execution_count": null,
      "id": "03b6b22d",
      "metadata": {
        "id": "03b6b22d"
      },
      "outputs": [],
      "source": [
        "class CustomDataset(Dataset):\n",
        "    def __init__(self, data, labels):\n",
        "        self.data = data\n",
        "        self.labels = labels\n",
        "\n",
        "    def __len__(self):\n",
        "        return len(self.data)\n",
        "\n",
        "    def __getitem__(self, idx):\n",
        "        x = self.data[idx]\n",
        "        y = self.labels[idx]\n",
        "        return x, y"
      ]
    },
    {
      "cell_type": "markdown",
      "id": "3afef532",
      "metadata": {
        "id": "3afef532"
      },
      "source": [
        "## 03-012 커스텀 데이터셋과 DataLoader 생성"
      ]
    },
    {
      "cell_type": "code",
      "execution_count": null,
      "id": "cafe5b85",
      "metadata": {
        "id": "cafe5b85"
      },
      "outputs": [],
      "source": [
        "# 시드 고정\n",
        "torch.manual_seed(0)\n",
        "\n",
        "# 예시 데이터\n",
        "data = torch.randn(100, 3)  # 100개의 샘플, 각 샘플은 3차원 벡터\n",
        "labels = torch.randint(0, 2, (100,))  # 이진 분류를 위한 100개의 레이블\n",
        "\n",
        "# 데이터셋 및 DataLoader 생성\n",
        "dataset = CustomDataset(data, labels)\n",
        "dataloader = DataLoader(dataset, batch_size=32, shuffle=False, drop_last=False)"
      ]
    },
    {
      "cell_type": "markdown",
      "id": "2c8ded2a",
      "metadata": {
        "id": "2c8ded2a"
      },
      "source": [
        "## 03-013 DataLoader에서 배치 조회"
      ]
    },
    {
      "cell_type": "code",
      "execution_count": null,
      "id": "1ccce4e9",
      "metadata": {
        "colab": {
          "base_uri": "https://localhost:8080/"
        },
        "id": "1ccce4e9",
        "outputId": "7cf64b30-a34d-4763-879d-b0178312a9ba"
      },
      "outputs": [
        {
          "output_type": "stream",
          "name": "stdout",
          "text": [
            "torch.Size([32, 3]) torch.Size([32])\n",
            "torch.Size([32, 3]) torch.Size([32])\n",
            "torch.Size([32, 3]) torch.Size([32])\n",
            "torch.Size([4, 3]) torch.Size([4])\n"
          ]
        }
      ],
      "source": [
        "# 데이터 로더를 반복문을 이용하여 배치 단위로 로드\n",
        "for x, y in dataloader:\n",
        "    print(x.shape, y.shape)"
      ]
    },
    {
      "cell_type": "markdown",
      "id": "cc522b27",
      "metadata": {
        "id": "cc522b27"
      },
      "source": [
        "## 03-014 DataLoader에서 마지막 배치 조회"
      ]
    },
    {
      "cell_type": "code",
      "execution_count": null,
      "id": "32013660",
      "metadata": {
        "colab": {
          "base_uri": "https://localhost:8080/"
        },
        "id": "32013660",
        "outputId": "91613523-a848-4068-9eee-3f9cea950137"
      },
      "outputs": [
        {
          "output_type": "execute_result",
          "data": {
            "text/plain": [
              "(tensor([[-0.6232, -0.2162, -0.4887],\n",
              "         [ 0.7870, -0.7328,  0.5143],\n",
              "         [ 0.3976,  0.6435, -1.1980],\n",
              "         [ 0.4784, -1.2295, -1.3700]]),\n",
              " tensor([1, 0, 0, 1]))"
            ]
          },
          "metadata": {},
          "execution_count": 56
        }
      ],
      "source": [
        "# 마지막 배치 조회\n",
        "x, y"
      ]
    },
    {
      "cell_type": "markdown",
      "id": "5d3ffb12",
      "metadata": {
        "id": "5d3ffb12"
      },
      "source": [
        "## 03-015 DataLoader에서 변경된 배치 크기로 마지막 배치 조회"
      ]
    },
    {
      "cell_type": "code",
      "execution_count": null,
      "id": "060fe649",
      "metadata": {
        "colab": {
          "base_uri": "https://localhost:8080/"
        },
        "id": "060fe649",
        "outputId": "43619eef-9fc1-404d-954d-5170a5303498"
      },
      "outputs": [
        {
          "output_type": "stream",
          "name": "stdout",
          "text": [
            "torch.Size([64, 3]) torch.Size([64])\n",
            "torch.Size([36, 3]) torch.Size([36])\n"
          ]
        },
        {
          "output_type": "execute_result",
          "data": {
            "text/plain": [
              "(tensor([[-0.6232, -0.2162, -0.4887],\n",
              "         [ 0.7870, -0.7328,  0.5143],\n",
              "         [ 0.3976,  0.6435, -1.1980],\n",
              "         [ 0.4784, -1.2295, -1.3700]]),\n",
              " tensor([1, 0, 0, 1]))"
            ]
          },
          "metadata": {},
          "execution_count": 57
        }
      ],
      "source": [
        "dataloader = DataLoader(dataset, batch_size=64, shuffle=False, drop_last=False)\n",
        "for x, y in dataloader:\n",
        "    print(x.shape, y.shape)\n",
        "\n",
        "x[-4:], y[-4:] # 마지막 미니 배치의 마지막 4개 샘플 조회"
      ]
    },
    {
      "cell_type": "markdown",
      "id": "191fb1ce",
      "metadata": {
        "id": "191fb1ce"
      },
      "source": [
        "## 03-016 셔플된 DataLoader에서 마지막 배치 조회"
      ]
    },
    {
      "cell_type": "code",
      "execution_count": null,
      "id": "9eb974fe",
      "metadata": {
        "colab": {
          "base_uri": "https://localhost:8080/"
        },
        "id": "9eb974fe",
        "outputId": "738637a7-8aea-41cc-c05f-0ed14d51a626"
      },
      "outputs": [
        {
          "output_type": "stream",
          "name": "stdout",
          "text": [
            "torch.Size([64, 3]) torch.Size([64])\n",
            "torch.Size([36, 3]) torch.Size([36])\n"
          ]
        },
        {
          "output_type": "execute_result",
          "data": {
            "text/plain": [
              "(tensor([[ 1.6953,  2.0655, -0.2340],\n",
              "         [-0.7043,  0.3147,  0.1574],\n",
              "         [ 1.6459, -1.3602,  0.3446],\n",
              "         [ 0.9234,  1.3873, -0.8834]]),\n",
              " tensor([1, 1, 1, 1]))"
            ]
          },
          "metadata": {},
          "execution_count": 58
        }
      ],
      "source": [
        "dataloader = DataLoader(dataset, batch_size=64, shuffle=True, drop_last=False)\n",
        "for x, y in dataloader:\n",
        "    print(x.shape, y.shape)\n",
        "x[-4:], y[-4:] # 마지막 미니 배치의 마지막 4개 샘플 조회 > 값 변경 확인"
      ]
    },
    {
      "cell_type": "code",
      "execution_count": null,
      "id": "66aa9fa2",
      "metadata": {
        "id": "66aa9fa2",
        "outputId": "1c6dc922-a1ca-420f-b14d-d9b74c51f4ff",
        "colab": {
          "base_uri": "https://localhost:8080/"
        }
      },
      "outputs": [
        {
          "output_type": "stream",
          "name": "stdout",
          "text": [
            "torch.Size([64, 3]) torch.Size([64])\n",
            "torch.Size([36, 3]) torch.Size([36])\n"
          ]
        },
        {
          "output_type": "execute_result",
          "data": {
            "text/plain": [
              "(tensor([[-0.8707,  0.1447,  1.9029],\n",
              "         [ 0.4784, -1.2295, -1.3700],\n",
              "         [ 0.5651,  0.2877, -0.0334],\n",
              "         [-0.4987,  0.7611,  0.6183]]),\n",
              " tensor([0, 1, 1, 0]))"
            ]
          },
          "metadata": {},
          "execution_count": 59
        }
      ],
      "source": [
        "for x, y in dataloader: # dataloader가 사용되는 시점에서 셔플이 적용됨\n",
        "    print(x.shape, y.shape)\n",
        "x[-4:], y[-4:] # 마지막 미니 배치의 마지막 4개 샘플 조회 > 값 변경 확인"
      ]
    },
    {
      "cell_type": "markdown",
      "id": "18b82ae0",
      "metadata": {
        "id": "18b82ae0"
      },
      "source": [
        "## 03-017 마지막 배치를 버리는 DataLoader에서 마지막 배치 조회"
      ]
    },
    {
      "cell_type": "code",
      "execution_count": null,
      "id": "513c2187",
      "metadata": {
        "colab": {
          "base_uri": "https://localhost:8080/"
        },
        "id": "513c2187",
        "outputId": "7f24525a-4853-44f3-8b2d-97a87c1572e5"
      },
      "outputs": [
        {
          "output_type": "stream",
          "name": "stdout",
          "text": [
            "torch.Size([64, 3]) torch.Size([64])\n"
          ]
        }
      ],
      "source": [
        "dataloader = DataLoader(dataset, batch_size=64, shuffle=True, drop_last=True)\n",
        "for x, y in dataloader:\n",
        "    print(x.shape, y.shape)"
      ]
    },
    {
      "cell_type": "markdown",
      "id": "6430f480",
      "metadata": {
        "id": "6430f480"
      },
      "source": [
        "## 연습문제-03-001 커스텀 데이터셋과 DataLoader 생성"
      ]
    },
    {
      "cell_type": "code",
      "execution_count": null,
      "id": "e3cce9b0",
      "metadata": {
        "id": "e3cce9b0"
      },
      "outputs": [],
      "source": [
        "torch.manual_seed(1024)\n",
        "\n",
        "# 새로운 랜덤 데이터 생성\n",
        "data = torch.randn(150, 4)  # 150개의 샘플, 각 샘플은 4차원 벡터\n",
        "labels = torch.randint(0, 3, (150,))  # 3개의 클래스로 분류되는 150개의 레이블\n",
        "\n",
        "# 커스텀 데이터셋과 DataLoader 생성\n",
        "# 커스텀 데이터셋 클래스는 03-011 재활용\n",
        "dataset =\n",
        "\n",
        "# 미니 배치 크기는 5\n",
        "dataloader ="
      ]
    },
    {
      "cell_type": "markdown",
      "id": "80083330",
      "metadata": {
        "id": "80083330"
      },
      "source": [
        "## 연습문제-03-002 DataLoader에서 배치 조회"
      ]
    },
    {
      "cell_type": "code",
      "execution_count": null,
      "id": "1a84f9a3",
      "metadata": {
        "id": "1a84f9a3"
      },
      "outputs": [],
      "source": [
        "# DataLoader에서 모든 배치를 리스트로 변환\n",
        "\n",
        "\n",
        "# 첫 번째 배치 조회\n"
      ]
    },
    {
      "cell_type": "markdown",
      "id": "0a286c54",
      "metadata": {
        "id": "0a286c54"
      },
      "source": [
        "## 연습문제-03-003 DataLoader에서 마지막 배치 조회 (새로운 배치 크기)"
      ]
    },
    {
      "cell_type": "code",
      "execution_count": null,
      "id": "57d86325",
      "metadata": {
        "id": "57d86325"
      },
      "outputs": [],
      "source": [
        "# DataLoader에서 배치 크기를 7로 설정\n",
        "\n",
        "\n",
        "# DataLoader에서 마지막 배치 조회\n"
      ]
    },
    {
      "cell_type": "markdown",
      "id": "2a64291e",
      "metadata": {
        "id": "2a64291e"
      },
      "source": [
        "## 연습문제-03-004 셔플된 DataLoader에서 마지막 배치 조회"
      ]
    },
    {
      "cell_type": "code",
      "execution_count": null,
      "id": "cf094a3a",
      "metadata": {
        "id": "cf094a3a"
      },
      "outputs": [],
      "source": [
        "# DataLoader에서 shuffle=True로 설정하여 셔플된 데이터 로드\n",
        "\n",
        "\n",
        "# 셔플된 DataLoader에서 마지막 배치 조회\n"
      ]
    },
    {
      "cell_type": "markdown",
      "id": "5f36334e",
      "metadata": {
        "id": "5f36334e"
      },
      "source": [
        "## 연습문제-03-005 drop_last가 설정된 DataLoader에서 마지막 배치 조회"
      ]
    },
    {
      "cell_type": "code",
      "execution_count": null,
      "id": "19943cf6",
      "metadata": {
        "id": "19943cf6"
      },
      "outputs": [],
      "source": [
        "# DataLoader에서 batch_size=7, shuffle=True, drop_last=True로 설정하여 셔플된 데이터 로드\n",
        "\n",
        "\n",
        "# 셔플된 DataLoader에서 마지막 배치 조회\n"
      ]
    }
  ],
  "metadata": {
    "colab": {
      "provenance": [],
      "include_colab_link": true
    },
    "kernelspec": {
      "display_name": "ai-essential",
      "language": "python",
      "name": "python3"
    },
    "language_info": {
      "codemirror_mode": {
        "name": "ipython",
        "version": 3
      },
      "file_extension": ".py",
      "mimetype": "text/x-python",
      "name": "python",
      "nbconvert_exporter": "python",
      "pygments_lexer": "ipython3",
      "version": "3.10.16"
    }
  },
  "nbformat": 4,
  "nbformat_minor": 5
}