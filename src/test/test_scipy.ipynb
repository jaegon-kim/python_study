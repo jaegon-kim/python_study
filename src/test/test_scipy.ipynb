{
 "cells": [
  {
   "cell_type": "code",
   "execution_count": 11,
   "metadata": {},
   "outputs": [
    {
     "data": {
      "text/plain": [
       "'1.11.4'"
      ]
     },
     "execution_count": 11,
     "metadata": {},
     "output_type": "execute_result"
    }
   ],
   "source": [
    "import numpy as np\n",
    "import scipy\n",
    "scipy.__version__"
   ]
  },
  {
   "cell_type": "code",
   "execution_count": 12,
   "metadata": {},
   "outputs": [
    {
     "data": {
      "text/plain": [
       "TtestResult(statistic=0.08914198948826818, pvalue=0.9289780015297346, df=1998.0)"
      ]
     },
     "execution_count": 12,
     "metadata": {},
     "output_type": "execute_result"
    }
   ],
   "source": [
    "from scipy.stats import ttest_ind\n",
    "a = np.random.normal(0, 1, 1000)\n",
    "b = np.random.normal(0, 0.5, 1000)\n",
    "c = np.random.normal(0.1, 1, 1000)\n",
    "ttest_ind(a, b)"
   ]
  },
  {
   "cell_type": "code",
   "execution_count": 13,
   "metadata": {},
   "outputs": [
    {
     "data": {
      "text/plain": [
       "TtestResult(statistic=-1.5739604007623826, pvalue=0.1156549274492913, df=1998.0)"
      ]
     },
     "execution_count": 13,
     "metadata": {},
     "output_type": "execute_result"
    }
   ],
   "source": [
    "ttest_ind(a, c)"
   ]
  },
  {
   "cell_type": "markdown",
   "metadata": {},
   "source": [
    "ttest_ind는 데이터 집합 두개를 받고, 두 데이터 집합의 평균이 같은지 판정한다. (두 데이터 집합이 동일한 과정으로 생성되었음을 얼마나 강하게 믿을 수 있을지)\n",
    "통계학에서는 이를 t-test라고 한다. t-test의 결과는 p-value(만일 두 데이터 집합이 동일한 생성 과정으로 만들어 졌다면 그 평균들이 다르게 측정되었을 확률)\n",
    "p-value가 0.98이 나왔다면, 두 데이터 집합이 같은 과정에서 생성되었다고 할 때, 평균이 다를 확률이 98%라는 것을 의미함. \n",
    "p-value가 0.05 보다 작으면 통계적으로 유의미 하다고 함. "
   ]
  },
  {
   "cell_type": "code",
   "execution_count": 14,
   "metadata": {},
   "outputs": [
    {
     "data": {
      "text/plain": [
       "TtestResult(statistic=0.0, pvalue=1.0, df=1998.0)"
      ]
     },
     "execution_count": 14,
     "metadata": {},
     "output_type": "execute_result"
    }
   ],
   "source": [
    "ttest_ind(a, a)"
   ]
  }
 ],
 "metadata": {
  "kernelspec": {
   "display_name": "python311",
   "language": "python",
   "name": "python3"
  },
  "language_info": {
   "codemirror_mode": {
    "name": "ipython",
    "version": 3
   },
   "file_extension": ".py",
   "mimetype": "text/x-python",
   "name": "python",
   "nbconvert_exporter": "python",
   "pygments_lexer": "ipython3",
   "version": "3.11.7"
  }
 },
 "nbformat": 4,
 "nbformat_minor": 2
}
