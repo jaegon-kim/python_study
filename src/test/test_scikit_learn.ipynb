{
 "cells": [
  {
   "cell_type": "markdown",
   "metadata": {},
   "source": []
  },
  {
   "cell_type": "code",
   "execution_count": 6,
   "metadata": {},
   "outputs": [],
   "source": [
    "import numpy as np\n",
    "from sklearn.datasets import load_digits\n",
    "from sklearn.neural_network import MLPClassifier\n",
    "\n",
    "d = load_digits()\n",
    "digits = d[\"data\"]\n",
    "labels = d[\"target\"]"
   ]
  },
  {
   "cell_type": "code",
   "execution_count": 12,
   "metadata": {},
   "outputs": [
    {
     "data": {
      "text/plain": [
       "((1797, 64), (1797,))"
      ]
     },
     "execution_count": 12,
     "metadata": {},
     "output_type": "execute_result"
    }
   ],
   "source": [
    "digits.shape, labels.shape"
   ]
  },
  {
   "cell_type": "code",
   "execution_count": 13,
   "metadata": {},
   "outputs": [
    {
     "data": {
      "text/plain": [
       "array([0, 1, 2, ..., 8, 9, 8])"
      ]
     },
     "execution_count": 13,
     "metadata": {},
     "output_type": "execute_result"
    }
   ],
   "source": [
    "labels"
   ]
  },
  {
   "cell_type": "code",
   "execution_count": 7,
   "metadata": {},
   "outputs": [
    {
     "name": "stdout",
     "output_type": "stream",
     "text": [
      "score:  0.97\n",
      "errors:\n",
      "  actual:  [9 8 3 9 6 5]\n",
      "  predicted:  [8 1 2 7 1 6]\n"
     ]
    }
   ],
   "source": [
    "N = 200\n",
    "idx = np.argsort(np.random.random(len(labels)))\n",
    "x_test, y_test = digits[idx[:N]], labels[idx[:N]]\n",
    "x_train, y_train = digits[idx[N:]], labels[idx[N:]]\n",
    "\n",
    "clf = MLPClassifier(hidden_layer_sizes=(128,))\n",
    "clf.fit(x_train, y_train)\n",
    "\n",
    "score = clf.score(x_test, y_test)\n",
    "pred = clf.predict(x_test)\n",
    "err = np.where(y_test != pred)[0]\n",
    "\n",
    "print(\"score: \", score)\n",
    "print(\"errors:\")\n",
    "print(\"  actual: \", y_test[err])\n",
    "print(\"  predicted: \", pred[err])\n"
   ]
  }
 ],
 "metadata": {
  "kernelspec": {
   "display_name": "python311",
   "language": "python",
   "name": "python3"
  },
  "language_info": {
   "codemirror_mode": {
    "name": "ipython",
    "version": 3
   },
   "file_extension": ".py",
   "mimetype": "text/x-python",
   "name": "python",
   "nbconvert_exporter": "python",
   "pygments_lexer": "ipython3",
   "version": "3.11.7"
  }
 },
 "nbformat": 4,
 "nbformat_minor": 2
}
